{
 "cells": [
  {
   "cell_type": "markdown",
   "metadata": {},
   "source": [
    "<a href=\"https://colab.research.google.com/github/dewdotninja/exams/blob/master/final01211433_IUP_2021_soln.ipynb\" target=\"_parent\"><img src=\"https://colab.research.google.com/assets/colab-badge.svg\" alt=\"Open In Colab\"/></a>"
   ]
  },
  {
   "cell_type": "markdown",
   "metadata": {},
   "source": [
    "<p align=\"left\">\n",
    "<img src=\"https://raw.githubusercontent.com/dewdotninja/exams/main/feng_heading_en.png\" width=400 alt=\"Feng heading\"/>\n",
    "</p>\n",
    "\n",
    "#### Department of Mechanical Engineering\n",
    "\n",
    "### Final Exam, Second Semester, Academic Year 2021\n",
    "\n",
    "<br>**01211433  Vision and Control of Industrial Robots (International Undergraduate Program)**\n",
    "<br>Tuesday December 14, 2021 : 1 - 5 PM\n",
    "<br>This exam is administered online via Google classroom only.\n",
    "\n",
    "Type student name - surname and ID in the cell below.\n"
   ]
  },
  {
   "cell_type": "code",
   "execution_count": null,
   "metadata": {},
   "outputs": [],
   "source": [
    "# Mr. Cockroach Descentant 6010506456"
   ]
  },
  {
   "cell_type": "markdown",
   "metadata": {},
   "source": [
    "**Important :** Type or copy the following statement to the cell below.\n",
    "\n",
    "*I vow that I do this exam solely by myself.*"
   ]
  },
  {
   "cell_type": "code",
   "execution_count": null,
   "metadata": {},
   "outputs": [],
   "source": [
    "# I vow that I do this exam solely by myself."
   ]
  },
  {
   "cell_type": "markdown",
   "metadata": {},
   "source": [
    "### Instructions\n",
    "\n",
    "1. This exam is administered online via Google classroom only in Jupyter and Pluto notebook formats. Choose only one. For Jupyter notebook, you can use Colab environment or install Jupyter notebook on your local machine. For Pluto notebook, print your work to .PDF format before submitting. \n",
    "\n",
    "2. Do your work solely on this notebook. You can add as many cells as you want. Formatting is not necessary as long as your texts/equations are understandable and answer the question clearly.\n",
    "\n",
    "3. Open books, notes and online resources.\n",
    "\n",
    "4. Explain clearly. Show details of your computation to receive full credits. For any problem that requires programming, your program should execute without error and give correct results.\n",
    "\n",
    "5. Do not change any problem. A problem that is altered in any way from the original will result in zero score for that problem.\n",
    "\n",
    "6. Some parameters in the problem set may be a function of your student ID. You must make sure to substitute the right value for such parameters. Failure to do so may result in heavy penalty for that problem.\n",
    "\n",
    "7. Do this exam solely by yourself without any help from any person. Be warned that an answer that is incorrect and has suspicious similarity with that of another exam taker may receive no partial credit for that problem.\n",
    "\n",
    "8. Exam problems typically range from basic to advanced. Work on simple problems before moving to challenging ones. \n",
    "\n",
    "9. **Important :** Students must submit your notebook promptly, in Google classroom only, when the exam period expires. Resubmission is acceptable only within the exam period. Anyone who submits/resubmits later than 10 minutes after the exam period, as indicated in the recorded history of Google classroom, will get -1 point penalty per minute, starting from -10. Anyone sumbitting his/her exam more than 30-minutes late may be considered cheating and may get zero score for the whole midterm.\n",
    "\n"
   ]
  },
  {
   "cell_type": "markdown",
   "metadata": {},
   "source": [
    "***\n",
    "\n",
    "* **Assoc. Prof. Peerayuth Charnsethikul**    ---    Head of Examination Committee\n",
    "* **Asst. Prof. Prapot Kunthong**  ---     Examination Committee\n",
    "* **Dr. Varodom Toochinda**   ---    Examination Committee\n",
    "\n"
   ]
  },
  {
   "cell_type": "markdown",
   "metadata": {},
   "source": [
    "#### Further explantion about exam problem that may depend on the last 3 digits of your student ID\n",
    "\n",
    "-------sid_x sid_y sid_z (other digits are disregarded)\n",
    "\n",
    "In case any digit in the last 3 are 0, it must be replaced by 5.\n",
    "\n",
    "**Note :** to avoid conflict with other variables in the notebook such as z variable, name your\n",
    "student ID variables, say, sid_x, sid_y, sid_z instead of just x,y,z\n",
    "#### Examples\n",
    "    \n",
    "Student A's ID - 6010555853 results in sid_x = 8, sid_y = 5, sid_z = 3\n",
    "\n",
    "Student B 's ID - 6010546104 results in sid_x = 1, sid_y = 5, sid_z = 4\n",
    "\n",
    "Student C 's ID - 6310055032 results in sid_x = 5, sid_y = 3, sid_z = 2\n",
    "    \n",
    "These valuess are used for all the problems in the exam where sid_x,sid_y, sid_z appear. In this \n",
    "sense, the results from each student should be different even computed using the same methods.\n",
    "\n",
    "Operations that may be applied to the variables.\n",
    "\n",
    "$+$ addition\n",
    "\n",
    " $-$  subtraction\n",
    "\n",
    " $*$  multiplication \n",
    "\n",
    " $/$ division\n",
    "\n",
    "$**$ raise to the power (For example, x**z means $x^z$)\n",
    "\n",
    "including math opertions such as exp(sid_x), sin(sid_z*t)\n",
    "\n",
    "Conditional statement may be used, such as\n",
    "if sid_x<5 do task A, otherwise do task B\n",
    "\n",
    "*Example:* Let R1 = 1000(sid_x) $\\Omega$, C1 = 10(sid_y) $\\mu F$\n",
    "\n",
    "\n",
    "* Student A (sid_x=8, sid_y=5) does this problem with R1 = 8000 $\\Omega$, C1 = 50 $\\mu$F\n",
    "* Student B (sid_x=1, sid_y=5) does this problem with R1 = 1000 $\\Omega$, C1 = 50 $\\mu$F\n",
    "* Student C (sid_x=5, sid_y=3) does this problem with R1 = 5000 $\\Omega$, C1 = 30 $\\mu$F\n",
    "\n",
    "If any exam problem is not clear enough, write in a cell how you interpret it. If several students \n",
    "get confused on the same problem, the grader may decide to give full credit to all.\n",
    "\n"
   ]
  },
  {
   "cell_type": "markdown",
   "metadata": {},
   "source": [
    "    \n",
    "***\n",
    "### List of exam problems (total 100 points)\n",
    "\n",
    "| Problem# | Score |\n",
    "| --- | --- |\n",
    "| 1 | (30 points) |\n",
    "| 2 | (20 points) |\n",
    "| 3 | (20 points) |\n",
    "| 4 | (20 points) |\n",
    "| 5 | (10 points) |"
   ]
  },
  {
   "cell_type": "code",
   "execution_count": null,
   "metadata": {},
   "outputs": [],
   "source": [
    "# You need to install these libraries in the Colab environment\n",
    "!pip install slycot\n",
    "!pip install control"
   ]
  },
  {
   "cell_type": "code",
   "execution_count": 2,
   "metadata": {},
   "outputs": [],
   "source": [
    "# import libraries you want to use\n",
    "import numpy as np\n",
    "import matplotlib.pyplot as plt\n",
    "import control as ctl"
   ]
  },
  {
   "cell_type": "code",
   "execution_count": 3,
   "metadata": {},
   "outputs": [],
   "source": [
    "#Assume student ID 6010506456\n",
    "sid_x = 4\n",
    "sid_y = 5\n",
    "sid_z = 6"
   ]
  },
  {
   "cell_type": "markdown",
   "metadata": {},
   "source": [
    "### P1 (30 points)\n",
    "\n",
    "One device commonly used in industrial machines with rotary motion, such as robotic joints, is called a Harmonic Drive from a group of companies Harmonic Drive LLC. motor Hereafter, for the convenience of writing, it is abbreviated as the HDM system.\n",
    "\n",
    "Figure 1 shows the structure of the HDM mechanism consisting of three parts: a circular spline, a flexspline, and an elliptical wave generator. The wave generator is connected to the shaft of a motor that rotates at high speed. A round ring has teeth inside. Between the two are separated by an elastic ring with teeth on the outside.\n",
    "\n",
    "<p align=\"center\">\n",
    "<img src=\"https://drive.google.com/uc?id=1PtcGtTJ2iv81nLHz5Gb5mNnGeM_d5i4c\" width=300 alt=\"Figure 1\"/>\n",
    "</p>\n",
    "<div align=\"center\"><b>Figure 1 HDM structure (https://www.harmonicdrive.net/)</b></div>\n",
    "\n",
    "When drawing a schematic diagram of the HDM device connected to the DC motor, it will be shown in Figure 2. Left side is the motor's electrical system. and on the right is the mechanical system of the harmonic drive, represented by a soft shaft thru-axle gearbox with a hardness of k.\n",
    "\n",
    "<p align=\"center\">\n",
    "<img src=\"https://drive.google.com/uc?id=1OP3LsMAgsHQ5uYdmVLQFHQLq55J-kYd7\" width=550 alt=\"Figure 2\"/>\n",
    "</p>\n",
    "<div align=\"center\"><b>Figure 2 HDM block diagram </b></div>\n",
    "\n",
    "The HDM schematic diagram in Figure 2 can be casted by block diagram in Figure 3\n",
    "\n",
    "![\"fig3\"](https://drive.google.com/uc?id=1gXLjabAlSx-H9bFRi1A1IidoUkuptfWE)\n",
    "\n",
    "Figure 3 HDM block diagram \n",
    "\n",
    "For the exam problems that follow, we want to separate load angle and motor angle outputs from \n",
    "the plant. After some manipulation, the HDM can be represented by a single-input two-output \n",
    "plant in Figure 4\n",
    "\n",
    "![\"fig4\"](https://drive.google.com/uc?id=1n7yWfkUJgqUhKHb0zBoM38BZuQm6t4YC)\n",
    "\n",
    "Figure 4 reduced HDM block diagram \n",
    "\n",
    "where $P_1(s)$ is defined as\n",
    "\n",
    "$$\n",
    "P_1(s) = \\frac{k_mk}{a_5s^5+a_4s^4+a_3s^3+a_2s^2+a_1s} \\tag{1}\n",
    "$$\n",
    "\n",
    "with coefficients\n",
    "\n",
    "$$\n",
    "\\begin{matrix}\n",
    "a_5 \\;\\;\\\\\n",
    "a_4 \\;\\;\\\\\n",
    "a_3 \\;\\;\\\\\n",
    "a_2 \\;\\;\\\\\n",
    "a_1 \\;\\;\n",
    "\\end{matrix}  \n",
    "\\begin{matrix} \\begin{split}\n",
    "=& \\;\\; LJ_mJ_l \\\\\n",
    "=& \\;\\;RJ_mJ_l + L(J_mB_l + J_lB_m) \\\\\n",
    "=& \\;\\;L(J_mk+B_mB_l + J_lk)+R(J_mB_l + J_lB_m)+rk_mk_bJ_l \\\\\n",
    "=& \\;\\;Lk(B_m+B_l)+R(J_mk+B_mB_l + J_lk)+rk_mk_bB_l \\\\\n",
    "=& \\;\\;k(Lk+R(B_m+B_l)-kL+rk_mk_b)\n",
    "\\end{split}\n",
    "\\end{matrix}\n",
    "$$\n",
    "\n",
    "and $P_2(s)$ defined as\n",
    "$$\n",
    "P_2(s) = \\frac{rP_l(s)}{k} \\tag{2}\n",
    "$$\n",
    "with\n",
    "\n",
    "$$\n",
    "P_l(s) = J_ls^2 + B_ls + k\n",
    "$$\n",
    "\n",
    "**Note :** Parameter values in this exam does not correspond to any real device. Some\n",
    "dynamics are pronounced intentionally to make control tasks challenging.\n",
    "\n",
    "**P1.1** (5 points)\n",
    "\n",
    "assign parameter values (with ```sid_x, sid_y, sid_z``` from your student ID)\n",
    "\n",
    "<code>\n",
    "km = (sid_y+sid_z)*100  # torque constant\n",
    "kb = 1  # back EMF constant\n",
    "k = 1000 # torsional stiffness of harmonic drive\n",
    "r = sid_x   # gear ratio\n",
    "R = 1  # armature resistance\n",
    "L = 0.1 # armature inductance\n",
    "Jm = (sid_x+sid_y)  #  motor inertia\n",
    "Bm = 0.01*sid_y  # motor shaft friction\n",
    "Jl = (sid_x+sid_z)  # load inertia\n",
    "Bl = 0.01*sid_z  # load friction\n",
    "</code>\n",
    "\n",
    "Write code to create a plant transfer functions $P_1(s)$ and $P_2(s)$ as in (1),(2).\n"
   ]
  },
  {
   "cell_type": "markdown",
   "metadata": {},
   "source": [
    "### Solution"
   ]
  },
  {
   "cell_type": "code",
   "execution_count": 4,
   "metadata": {},
   "outputs": [],
   "source": [
    "km = (sid_y+sid_z)*100  # torque constant\n",
    "kb = 1  # back EMF constant\n",
    "k = 1000 # torsional stiffness of harmonic drive\n",
    "r = sid_x   # gear ratio\n",
    "R = 1  # armature resistance\n",
    "L = 0.1 # armature inductance\n",
    "Jm = (sid_x+sid_y)  #  motor inertia\n",
    "Bm = 0.01*sid_y  # motor shaft friction\n",
    "Jl = (sid_x+sid_z)  # load inertia\n",
    "Bl = 0.01*sid_z  # load friction\n",
    "\n",
    "# create coefficients\n",
    "a5 = L*Jm*Jl\n",
    "a4 = R*Jm*Jl + L*(Jm*Bl+Jl*Bm)\n",
    "a3 = L*(Jm*k+Bm*Bl + Jl*k)+R*(Jm*Bl + Jl*Bm)+r*km*kb*Jl\n",
    "a2 = L*k*(Bm+Bl) + R*(Jm*k+Bm*Bl+Jl*k) + r*km*kb*Bl\n",
    "a1 = k*(L*k+R*(Bm+Bl)-k*L+r*km*kb)\n",
    "\n",
    "s = ctl.tf(\"s\")\n",
    "P_1 = km*k/(a5*s**5+a4*s**4+a3*s**3+a2*s**2+a1*s)\n",
    "P_l = Jl*s**2+Bl*s+k\n",
    "P_2 = (r/k)*P_l"
   ]
  },
  {
   "cell_type": "code",
   "execution_count": 5,
   "metadata": {},
   "outputs": [
    {
     "data": {
      "text/latex": [
       "$$\\frac{1.1 \\times 10^{6}}{9 s^5 + 90.1 s^4 + 4.59 \\times 10^{4} s^3 + 1.928 \\times 10^{4} s^2 + 4.4 \\times 10^{6} s}$$"
      ],
      "text/plain": [
       "TransferFunction(array([1100000]), array([9.00000000e+00, 9.01040000e+01, 4.59010403e+04, 1.92750030e+04,\n",
       "       4.40011000e+06, 0.00000000e+00]))"
      ]
     },
     "execution_count": 5,
     "metadata": {},
     "output_type": "execute_result"
    }
   ],
   "source": [
    "P_1"
   ]
  },
  {
   "cell_type": "code",
   "execution_count": 6,
   "metadata": {},
   "outputs": [
    {
     "data": {
      "text/latex": [
       "$$\\frac{0.04 s^2 + 0.00024 s + 4}{1}$$"
      ],
      "text/plain": [
       "TransferFunction(array([4.0e-02, 2.4e-04, 4.0e+00]), array([1]))"
      ]
     },
     "execution_count": 6,
     "metadata": {},
     "output_type": "execute_result"
    }
   ],
   "source": [
    "P_2"
   ]
  },
  {
   "cell_type": "markdown",
   "metadata": {},
   "source": [
    "**P1.2** (5 points)\n",
    "\n",
    "From Figure 4, let's call the transfer function from input to motor angle output $P_m(s)=P_1(s)P_2(s)$. Compare Bode plots of $P_1(s)$ and $P_m(s)$ in the frequeny range 0.01 - 1000 rad/s\n"
   ]
  },
  {
   "cell_type": "markdown",
   "metadata": {},
   "source": [
    "### Solution"
   ]
  },
  {
   "cell_type": "code",
   "execution_count": 5,
   "metadata": {},
   "outputs": [
    {
     "data": {
      "image/png": "[encoded data removed]",
      "text/plain": [
       "<Figure size 432x288 with 2 Axes>"
      ]
     },
     "metadata": {
      "needs_background": "light"
     },
     "output_type": "display_data"
    }
   ],
   "source": [
    "P_m = P_1*P_2 # t.f. from input to motor angle\n",
    "_,_,_ = ctl.bode_plot([P_1, P_m],dB=True, omega_limits=(0.01,1000))"
   ]
  },
  {
   "cell_type": "markdown",
   "metadata": {},
   "source": [
    "**P1.3** (15 points)\n",
    "\n",
    "Assuming that it is more convenient to use motor angle as feedback, we want to implement a PID control of the HDM as shown in Figure 5, and compare the continuous and discrete-time response. Note that in this diagram, $\\theta_l$ is the performance output (the one to plot the step response), and $\\theta_m$ is used solely for feedback with DC compensation gain $1/r$.\n",
    "\n",
    "![\"fig5\"](https://drive.google.com/uc?id=1G_mKyOaxzVwgQ8NqvhmES0vaTM4bf1du)\n",
    "\n",
    "Figure 5 PID feedback from motor angle\n",
    "\n",
    "It is problematic to discretize this HDM plant using c2d() function because $P_2(s)$ is improper, so we want to do it manually by applying bilinear transformation\n",
    "\n",
    "$$\n",
    "s = \\frac{2(z-1)}{T(z+1)}\n",
    "$$\n",
    "\n",
    "With sampling period $T$. This results in $P_1(z)$ and $P_2(z)$ as follows.\n",
    "\n",
    "$$\n",
    "P_1(z) = \\frac{k_mk(b_{15}z^5+b_{14}z^4+b_{13}z^3+b_{12}z^2+b_{11}z+b_{10})}{a_{15}z^5+a_{14}z^4+a_{13}z^3+a_{12}z^2+a_{11}z+a_{10}} \\tag{3}\n",
    "$$\n",
    "\n",
    "$$\n",
    "P_2(z) = \\frac{r(b_{22}z^2+b_{21}z+b_{20})}{k(a_{22}z^2+a_{21}z+a_{20})} \\tag{4}\n",
    "$$\n",
    "\n",
    "with coefficients\n",
    "\n",
    "$$\n",
    "\\begin{matrix}\n",
    "a_{15} \\;\\;\\\\\n",
    "a_{14} \\;\\;\\\\\n",
    "a_{13} \\;\\;\\\\\n",
    "a_{12} \\;\\;\\\\\n",
    "a_{11} \\;\\;\\\\\n",
    "a_{10} \\;\\;\n",
    "\\end{matrix}  \n",
    "\\begin{matrix} \\begin{split}\n",
    "=& \\;\\;32a_5+16Ta_4+8T^2a_3+4T^3a_2+2T^4a_1 \\\\\n",
    "=& \\;\\;-160a_5-48Ta_4-8T^2a_3+4T^3a_2+6T^4a_1 \\\\\n",
    "=& \\;\\;320a_5+32Ta_4-16T^2a_3 - 8T^3a_2+4T^4a_1 \\\\\n",
    "=& \\;\\;-320a_5+32Ta_4+16T^2a_3 -8T^3a_2-4T^4a_1 \\\\\n",
    "=& \\;\\;160a_5-48Ta_4+8T^2a_3 +4T^3a_2-6T^4a_1 \\\\\n",
    "=& \\;\\;-32a_5+16Ta_4-8T^2a_3 +4T^3a_2-2T^4a_1 \\\\\n",
    "\\end{split}\n",
    "\\end{matrix}\n",
    "$$\n",
    "\n",
    "$$\n",
    "\\begin{matrix}\n",
    "b_{15} \\;\\;\\\\\n",
    "b_{14} \\;\\;\\\\\n",
    "b_{13} \\;\\;\\\\\n",
    "b_{12} \\;\\;\\\\\n",
    "b_{11} \\;\\; \\\\\n",
    "b_{10} \\;\\;\n",
    "\\end{matrix}  \n",
    "\\begin{matrix} \\begin{split}\n",
    "=& \\;\\; T^5 \\\\\n",
    "=& \\;\\;5T^5 \\\\\n",
    "=& \\;\\;10T^5 \\\\\n",
    "=& \\;\\;10T^5 \\\\\n",
    "=& \\;\\;5T^5 \\\\\n",
    "=& \\;\\;T^5\n",
    "\\end{split}\n",
    "\\end{matrix}\n",
    "$$\n",
    "\n",
    "$$\n",
    "\\begin{matrix}\n",
    "a_{22} \\;\\;\\\\\n",
    "a_{21} \\;\\; \\\\\n",
    "a_{20} \\;\\;\n",
    "\\end{matrix}  \n",
    "\\begin{matrix} \\begin{split}\n",
    "=& \\;\\;T^2 \\\\\n",
    "=& \\;\\;2T^2 \\\\\n",
    "=& \\;\\;T^2\n",
    "\\end{split}\n",
    "\\end{matrix}\n",
    "$$\n",
    "\n",
    "$$\n",
    "\\begin{matrix}\n",
    "b_{22} \\;\\;\\\\\n",
    "b_{21} \\;\\; \\\\\n",
    "b_{20} \\;\\;\n",
    "\\end{matrix}  \n",
    "\\begin{matrix} \\begin{split}\n",
    "=& \\;\\;4J_l +2B_lT +kT^2\\\\\n",
    "=& \\;\\;2kT^2-8J_l \\\\\n",
    "=& \\;\\;4J_l - 2B_lT+kT^2\n",
    "\\end{split}\n",
    "\\end{matrix}\n",
    "$$\n",
    "\n",
    "It is more convenient to write 2 functions to create the discrete-time plants $P1$ and $P2$. \n",
    "Here is some guideline. Complete the functions.\n",
    "\n",
    "<code>\n",
    "def create_discrete_P1(T):\n",
    "\ta_15 = 32*a5+16*T*a4+8*T**2*a3+4*T**3*a2+2*T**4*a1\n",
    "\ta_14 = ?\n",
    "\ta_13 = ?\n",
    "\ta_12 = ?\n",
    "\ta_11 = ?\n",
    "\ta_10 = ?\n",
    "\tb_15 = T**5\n",
    "\tb_14 = ?\n",
    "\tb_13 = ?\n",
    "\tb_12 = ?\n",
    "\tb_11 = ?\n",
    "\tb_10 = ?\n",
    "\tz = ctl.tf(\"z\")\n",
    "\tP1_d = ?\n",
    "\treturn P1_d\n",
    "</code>\n",
    "<code>\n",
    "def create_discrete_P2(T):\n",
    "\ta_22 = T**2\n",
    "\ta_21 = ?\n",
    "\ta_20 = ?\n",
    "\tb_22 = 4*Jl+2*Bl*T+k*T**2\n",
    "\tb_21 = ?\n",
    "\tb_20 = ?\n",
    "\tz = ctl.tf(\"z\")\n",
    "\tP2_d = ? # r is removed from the numerator in (4) to scale the feedback path properly\n",
    "\treturn P2_d\n",
    "</code>\n",
    "\n",
    "Here is the code skeleton from **Module 7: Continuous to Discrete Conversion Methods**. \n",
    "The PID controllers are provided in continuous form as well as the discrete-time version form \n",
    "3 approximation methods. You must form the closed-loop system correctly by connecting the 4 PIDs\n",
    "with the continuous and discrete HDM plants above. \n",
    "\n",
    "Beware that\n",
    "* the outputs for performance assessment and feedback are different.\n",
    "* the feedback path must be scaled by $1/r$; i.e., remove $r$ in the numerator of $P_2(z)$ in (40.\n",
    "\n",
    "<code>\n",
    "def pid_compare(kp, ki, kd, N, T, tvec):\n",
    "    s = ctl.tf('s')\n",
    "    z = ctl.tf('z')\n",
    "    # continuous-time PID\n",
    "    C_c = kp + ki/s + s*N*kd/(s+N)\n",
    "    L_c = ?\n",
    "    P_2s = ? # P_2 scaled by r\n",
    "    sys_c = ctl.feedback(?,?)\n",
    "    #print(sys)\n",
    "    Tv, y_c = ctl.step_response(sys_c, tvec) # step response of continuous time\n",
    "    #P1_d and P2_d are the discrete-time plants created by the functions above\n",
    "    P1_d = create_discrete_P1(T)\n",
    "    P2_d = create_discrete_P2(T)\n",
    "    # forward difference method\n",
    "    C_fd = kp + ki*T/(z-1) + kd*N*(z-1)/(z-1+N*T)\n",
    "    L_fd = C_fd*?\n",
    "    sys_fd = ctl.feedback(?,?)\n",
    "    Tv, y_fd = ctl.step_response(sys_fd, tvec)\n",
    "    # backward difference method    \n",
    "    C_bd = kp + ki*T*z/(z-1) + kd*N*(z-1)/((1+N*T)*z-1)\n",
    "    L_bd = C_bd*?\n",
    "    sys_bd = ctl.feedback(?,?)\n",
    "    Tv, y_bd = ctl.step_response(sys_bd, tvec)\n",
    "    # bilinear transformation difference method    \n",
    "    C_bt = kp + ki*T*(z+1)/(2*(z-1)) + kd*N*(z-1)/((1+0.5*N*T)*z+0.5*N*T -1)\n",
    "    L_bt = C_bt*?\n",
    "    sys_bt = ctl.feedback(?,?)\n",
    "    Tv, y_bt = ctl.step_response(sys_bt, tvec)\n",
    "    rvec = np.ones(tvec.shape)\n",
    "    plt.figure()\n",
    "    plt.plot(Tv,rvec,'b',Tv,y_c,'r-', Tv, y_fd,'b-',Tv, y_bd,'g-',Tv, y_bt,'m-')\n",
    "    plt.grid('True')\n",
    "    plt.xlabel('time (sec)')\n",
    "    plt.ylabel('output')\n",
    "    plt.legend(['step ref.','y (continuous)','y (forward difference)', \n",
    "                'y (backward difference)', 'y (bilinear transform)'])\n",
    "    plt.show()\n",
    "    return y_c, y_fd, y_bd, y_bt\n",
    "</code>\n",
    "                                                                                               \n",
    "Adjust PID parameters to achieve stable step responses with zero steady-state error for all \n",
    "of the continuous and 3 discretization methods. It is okay for this exam problem to achieve poor \n",
    "performance with lightly-damped mode oscillation and long settling time.  \n",
    "                                                                                               \n",
    "### Solution\n"
   ]
  },
  {
   "cell_type": "code",
   "execution_count": 17,
   "metadata": {},
   "outputs": [],
   "source": [
    "def create_discrete_P1(T):\n",
    "\ta_15 = 32*a5+16*T*a4+8*T**2*a3+4*T**3*a2+2*T**4*a1\n",
    "\ta_14 = -160*a5-48*T*a4-8*T**2*a3+4*T**3*a2+6*T**4*a1\n",
    "\ta_13 = 320*a5+32*T*a4-16*T**2*a3-8*T**3*a2+4*T**4*a1\n",
    "\ta_12 = -320*a5+32*T*a4+16*T**2*a3-8*T**3*a2-4*T**4*a1\n",
    "\ta_11 = 160*a5-48*T*a4+8*T**2*a3+4*T**3*a2-6*T**4*a1\n",
    "\ta_10 = -32*a5+16*T*a4-8*T**2*a3+4*T**3*a2-2*T**4*a1\n",
    "\n",
    "\tb_15 = T**5\n",
    "\tb_14 = 5*T**5\n",
    "\tb_13 = 10*T**5\n",
    "\tb_12 = 10*T**5\n",
    "\tb_11 = 5*T**5\n",
    "\tb_10 = T**5\n",
    "\n",
    "\tz = ctl.tf(\"z\")\n",
    "\tP1_d = km*k*(b_15*z**5+b_14*z**4+b_13*z**3+b_12*z**2+b_11*z+b_10)/(a_15*z**5+a_14*z**4+a_13*z**3+a_12*z**2+a_11*z+a_10)\t\n",
    "\treturn P1_d    "
   ]
  },
  {
   "cell_type": "code",
   "execution_count": 18,
   "metadata": {},
   "outputs": [],
   "source": [
    "def create_discrete_P2(T):\n",
    "\ta_22 = T**2\n",
    "\ta_21 = 2*T**2\n",
    "\ta_20 = T**2\n",
    "\n",
    "\tb_22 = 4*Jl+2*Bl*T+k*T**2\n",
    "\tb_21 = 2*k*T**2 - 8*Jl\n",
    "\tb_20 = 4*Jl - 2*Bl*T +k*T**2\n",
    "\n",
    "\tz = ctl.tf(\"z\")\n",
    "\n",
    "\tP2_d = (b_22*z**2+b_21*z+b_20)/(k*(a_22*z**2+a_21*z+a_20)) # r is removed from the numerator in (4) to scale the feedback path properly\n",
    "\treturn P2_d"
   ]
  },
  {
   "cell_type": "code",
   "execution_count": 19,
   "metadata": {},
   "outputs": [],
   "source": [
    "def pid_compare(kp, ki, kd, N, T, tvec):\n",
    "    s = ctl.tf('s')\n",
    "    z = ctl.tf('z')\n",
    "\n",
    "    # continuous-time PID\n",
    "    C_c = kp + ki/s + s*N*kd/(s+N)\n",
    "    L_c = C_c*P_1\n",
    "    P_2s = P_2/r # P_2 scaled by r\n",
    "    sys_c = ctl.feedback(L_c, P_2s)\n",
    "    #print(sys)\n",
    "    Tv, y_c = ctl.step_response(sys_c, tvec) # step response of continuous time\n",
    "\n",
    "    #P1_d and P2_d are the discrete-time plants created by the functions above\n",
    "    P1_d = create_discrete_P1(T)\n",
    "    P2_d = create_discrete_P2(T)\n",
    "\n",
    "    # forward difference method\n",
    "    C_fd = kp + ki*T/(z-1) + kd*N*(z-1)/(z-1+N*T)\n",
    "    L_fd = C_fd*P1_d\n",
    "    sys_fd = ctl.feedback(L_fd,P2_d)\n",
    "    Tv, y_fd = ctl.step_response(sys_fd, tvec)\n",
    "    \n",
    "    # backward difference method    \n",
    "    C_bd = kp + ki*T*z/(z-1) + kd*N*(z-1)/((1+N*T)*z-1)\n",
    "    L_bd = C_bd*P1_d\n",
    "    sys_bd = ctl.feedback(L_bd,P2_d)\n",
    "    Tv, y_bd = ctl.step_response(sys_bd, tvec)\n",
    "    # bilinear transformation difference method    \n",
    "    C_bt = kp + ki*T*(z+1)/(2*(z-1)) + kd*N*(z-1)/((1+0.5*N*T)*z+0.5*N*T -1)\n",
    "    L_bt = C_bt*P1_d\n",
    "    sys_bt = ctl.feedback(L_bt,P2_d)\n",
    "    Tv, y_bt = ctl.step_response(sys_bt, tvec)\n",
    "    rvec = np.ones(tvec.shape)\n",
    "    plt.figure()\n",
    "    plt.plot(Tv,rvec,'b',Tv,y_c,'r-', Tv, y_fd,'b-',Tv, y_bd,'g-',Tv, y_bt,'m-')\n",
    "    plt.grid('True')\n",
    "    plt.xlabel('time (sec)')\n",
    "    plt.ylabel('output')\n",
    "    plt.legend(['step ref.','y (continuous)','y (forward difference)', \n",
    "                'y (backward difference)', 'y (bilinear transform)'])\n",
    "    plt.show()\n",
    "    return y_c, y_fd, y_bd, y_bt"
   ]
  },
  {
   "cell_type": "code",
   "execution_count": 20,
   "metadata": {},
   "outputs": [
    {
     "data": {
      "image/png": "[encoded data removed]",
      "text/plain": [
       "<Figure size 432x288 with 1 Axes>"
      ]
     },
     "metadata": {
      "needs_background": "light"
     },
     "output_type": "display_data"
    }
   ],
   "source": [
    "# Perform the simulation with some given parameters and time vector\n",
    "kp = 6.5\n",
    "ki = 0.0\n",
    "kd = 0.6\n",
    "T = 0.01\n",
    "N = 130\n",
    "tvec = np.arange(0,50, T)\n",
    "_,_,_,_ = pid_compare(kp, ki, kd, N, T, tvec)"
   ]
  },
  {
   "cell_type": "markdown",
   "metadata": {},
   "source": [
    "**P1.4** (5 points)\n",
    "\n",
    "From the simulation in P1.3, find a parameter set that results in unstable step-response only for the forward difference case, while the continuous-time and the other two methods remain stable.\n",
    "\n",
    "### Solution"
   ]
  },
  {
   "cell_type": "markdown",
   "metadata": {},
   "source": [
    "Simply adjust $N$ and $T$ as shown below."
   ]
  },
  {
   "cell_type": "code",
   "execution_count": 24,
   "metadata": {},
   "outputs": [
    {
     "data": {
      "image/png": "[encoded data removed]",
      "text/plain": [
       "<Figure size 432x288 with 1 Axes>"
      ]
     },
     "metadata": {
      "needs_background": "light"
     },
     "output_type": "display_data"
    }
   ],
   "source": [
    "kp = 6.5\n",
    "ki = 0.0\n",
    "kd = 0.6\n",
    "T_unstable = 0.02\n",
    "N_unstable = 140\n",
    "tvec = np.arange(0,3, T)\n",
    "_,_,_,_ = pid_compare(kp, ki, kd, N_unstable, T_unstable, tvec)"
   ]
  },
  {
   "cell_type": "markdown",
   "metadata": {},
   "source": [
    "***\n",
    "### P2 (20 points)\n",
    "\n",
    "For this problem, we want to apply least-square system identification method to the *closed-loop* \n",
    "plant in Figure 5, using PID controller and gains that you achieved from P1. To be precise, the \n",
    "plant to be identified is the closed-loop transfer function from $\\theta_d$ to $\\theta_l$; \n",
    "i.e., T_c in the pid_compare() function above. Since the LSID is discrete in nature, you \n",
    "can work directly in the discrete-time domain by picking discrete-time $P_1(z)$ and $P_2(z)$\n",
    "and one of the discrete PID controller from pid_compare(), preferrably the bilinear transform\n",
    "C_bt. \n",
    "\n",
    "**P2.1 (5 points)** \n",
    "For the first part of this problem, create a function get_cltf() to form a closed-loop \n",
    "system from $\\theta_d$ to $\\theta_l$, either in continuous or discrete time. The example \n",
    "below uses your functions from P1. Make sure that you implement them correctly.\n",
    "\n",
    "<code>\n",
    "def get_cltf(T):\n",
    "\t# This example returns closed-loop discrete transfer function. \n",
    "\t#P1_d and P2_d are the discrete-time plants created by the functions above \n",
    "\tz = ctl.tf(\"z\")\n",
    "\tP1_d = create_discrete_P1(T)\n",
    "\tP2_d = create_discrete_P2(T)\n",
    "\t# use stable PID parameters from P1.3\n",
    "\tk_p = ?\n",
    "\tk_i = ?\n",
    "\tk_d = ?\n",
    "\tN_d = ?    \n",
    "    # PID controller- bilinear transformation difference method    \n",
    "\tC_bt = k_p + k_i*T*(z+1)/(2*(z-1)) + k_d*N_d*(z-1)/((1+0.5*N_d*T)*z+0.5*N_d*T -1)\n",
    "\t# loop transfer function\n",
    "\tL_bt = C_bt*?\n",
    "\t# closed-loop transfer function \n",
    "\tT_bt = ctl.feedback(?,?)\t\n",
    "\treturn T_bt\n",
    "</code>\n",
    "\n",
    "Check that the resulting closed-loop transfer function is stable. \n",
    "\n",
    "#### Solution\n"
   ]
  },
  {
   "cell_type": "code",
   "execution_count": 63,
   "metadata": {},
   "outputs": [],
   "source": [
    "def get_cltf(T):\n",
    "\t# This example returns closed-loop discrete transfer function. \n",
    "\t#P1_d and P2_d are the discrete-time plants created by the functions above \n",
    "\tz = ctl.tf(\"z\")\n",
    "\tP1_d = create_discrete_P1(T)\n",
    "\tP2_d = create_discrete_P2(T)\n",
    "\t# use stable PID parameters from P1.3\n",
    "\tk_p = 6.5\n",
    "\tk_i = 0\n",
    "\tk_d = 0.6\n",
    "\tN_d = 130    \n",
    "    # PID controller- bilinear transformation difference method    \n",
    "\tC_bilt = k_p + k_i*T*(z+1)/(2*(z-1)) + k_d*N_d*(z-1)/((1+0.5*N_d*T)*z+0.5*N_d*T -1)\n",
    "    # loop transfer function\n",
    "\tL_bilt = C_bilt*P1_d\n",
    "\t# closed-loop transfer function \n",
    "\tT_bilt = ctl.feedback(L_bilt,P2_d)\n",
    "\treturn T_bilt"
   ]
  },
  {
   "cell_type": "code",
   "execution_count": 64,
   "metadata": {},
   "outputs": [
    {
     "data": {
      "image/png": "[encoded data removed]",
      "text/plain": [
       "<Figure size 432x288 with 1 Axes>"
      ]
     },
     "metadata": {
      "needs_background": "light"
     },
     "output_type": "display_data"
    }
   ],
   "source": [
    "# check closed-loop stability. All poles should lie inside unit circle\n",
    "Td = get_cltf(0.01) # sampling time = 0.01 sec\n",
    "poles,zeros = ctl.pzmap(Td,grid=True)"
   ]
  },
  {
   "cell_type": "code",
   "execution_count": 52,
   "metadata": {},
   "outputs": [],
   "source": [
    "# Closed-loop system is stable. "
   ]
  },
  {
   "cell_type": "markdown",
   "metadata": {},
   "source": [
    "**P2.2** (5 points)\n",
    "\n",
    "Use the code from Least Square System Identification notebook provided on course github. \n",
    "You will need a PRBS_generator() function \n",
    "\n",
    "<code>\n",
    "def PRBS_generator(amplitude=1000,N=8091):\n",
    "\tbvec = np.array([0, 1, 1, 0, 0, 0, 1, 1, 0, 0, 1, 0, 1])\n",
    "\tu_out = np.zeros(N)\n",
    "\tfor i in range(N):\n",
    "\t\tfeedin = bvec[0] ^ (bvec[2]^(bvec[3]^ bvec[12]))\n",
    "\t\tfor j in range(12,1,-1):  #13:-1:2\n",
    "\t\t\tbvec[j] = bvec[j-1]\n",
    "\t\tbvec[1] = feedin\n",
    "\t\tu_out[i] = amplitude*(2*bvec[12] - 1)\n",
    "\treturn u_out\n",
    "</code>\n",
    "\n",
    "Simulate the response from PRBS input with magnitude $1000*y$. Assume that the sensor used \n",
    "has random error in the range of $\\pm 5*x$ percents. You must add this as measurement noise \n",
    "to the output. Some code guideline is provided below.\n",
    "\n",
    "<code>\n",
    "noise_level = ?\n",
    "Ts = 0.01\n",
    "t_sim = np.arange(0,5,Ts)\n",
    "num_samples = t_sim.shape[0]\n",
    "T_cl = ?\n",
    "u_data = PRBS_generator(?,num_samples) # generate PRBS with spedified amplitude\n",
    "t_data, y_data = ctl.forced_response(T_cl, t_sim, u_data)\n",
    "ym_data = y_data + ? # add noise to output\n",
    "fig, (ax1, ax2) = plt.subplots(2, figsize=(8,8))\n",
    "ax1.plot(t_data,u_data,'r-')\n",
    "ax1.grid(True)\n",
    "ax1.set_ylabel('u(t)')\n",
    "ax1.legend([\"PRBS input\"])\n",
    "ax2.plot(t_data,ym_data,'m-')\n",
    "ax2.grid(True)\n",
    "ax2.set_ylabel('y(t)')\n",
    "ax2.set_xlabel('time (sec)')\n",
    "ax1.legend([\"Plant output\"])\n",
    "plt.show() \n",
    "</code>\n",
    "\n",
    "#### Solution"
   ]
  },
  {
   "cell_type": "code",
   "execution_count": 65,
   "metadata": {},
   "outputs": [],
   "source": [
    "def PRBS_generator(amplitude=1000,N=8091):\n",
    "\tbvec = np.array([0, 1, 1, 0, 0, 0, 1, 1, 0, 0, 1, 0, 1])\n",
    "\tu_out = np.zeros(N)\n",
    "\tfor i in range(N):\n",
    "\t\tfeedin = bvec[0] ^ (bvec[2]^(bvec[3]^ bvec[12]))\n",
    "\t\tfor j in range(12,1,-1):  #13:-1:2\n",
    "\t\t\tbvec[j] = bvec[j-1]\n",
    "\t\tbvec[1] = feedin\n",
    "\t\tu_out[i] = amplitude*(2*bvec[12] - 1)\n",
    "\treturn u_out\n"
   ]
  },
  {
   "cell_type": "code",
   "execution_count": 67,
   "metadata": {},
   "outputs": [
    {
     "data": {
      "image/png": "[encoded data removed]",
      "text/plain": [
       "<Figure size 576x576 with 2 Axes>"
      ]
     },
     "metadata": {
      "needs_background": "light"
     },
     "output_type": "display_data"
    }
   ],
   "source": [
    "noise_level = 0.05*sid_x\n",
    "Ts = 0.01\n",
    "t_sim = np.arange(0,5,Ts)\n",
    "num_samples = t_sim.shape[0]\n",
    "T_cl = get_cltf(Ts)\n",
    "u_data = PRBS_generator(sid_y*1000,num_samples) # generate PRBS with spedified amplitude\n",
    "t_data, y_data = ctl.forced_response(T_cl, t_sim, u_data)\n",
    "ym_data = y_data + 2*noise_level*(np.random.rand(num_samples)-0.5) # add noise to output\n",
    "fig, (ax1, ax2) = plt.subplots(2, figsize=(8,8))\n",
    "ax1.plot(t_data,u_data,'r-')\n",
    "ax1.grid(True)\n",
    "ax1.set_ylabel('u(t)')\n",
    "ax1.legend([\"PRBS input\"])\n",
    "\n",
    "ax2.plot(t_data,ym_data,'m-')\n",
    "ax2.grid(True)\n",
    "ax2.set_ylabel('y(t)')\n",
    "ax2.set_xlabel('time (sec)')\n",
    "ax1.legend([\"Plant output\"])\n",
    "\n",
    "plt.show()    "
   ]
  },
  {
   "cell_type": "markdown",
   "metadata": {},
   "source": [
    "**P2.3** (5 points)\n",
    "\n",
    "Use sufficient data points (>100) to estimate discrete-time model of this closed-loop system \n",
    "by least-square identification method. The resulting model is in the form\n",
    "\n",
    "$$\n",
    "P(z) = \\frac{b_1z^{m-1} + b_2z^{m-2} + \\ldots + b_{m-1}z+b_m}{z^m + a_1z^{m-1}+\\ldots+a_{m-1}z+a_m} \n",
    "$$\n",
    "\n",
    "where the model order $m$ is selected as the maximum of ```sid_x,sid_y,sid_z```. Then, \n",
    "if $m<4$, choose $m = 4$ so that the model order is not too low.\n",
    "\n",
    "**Important :** Be careful to select the right value for $m$ to receive credit for this problem.\n",
    "\n",
    "**Examples :**\n",
    "\n",
    "<code>\n",
    "sid_x = 1, sid_y = 2, sid_z = 3 : max = 3 < 4 --> m = 4\n",
    "sid_x = 2, sid_y = 5, sid_z = 1 : max = 5 --> m = 5\n",
    "sid_x = 8, sid_y = 1, sid_z = 4 : max = 8 --> m = 8\n",
    "</code>\n",
    "\n",
    "#### Solution"
   ]
  },
  {
   "cell_type": "code",
   "execution_count": 68,
   "metadata": {},
   "outputs": [],
   "source": [
    "# find total number of data points to use all of them\n",
    "data_pts = ym_data.shape[0]"
   ]
  },
  {
   "cell_type": "code",
   "execution_count": 69,
   "metadata": {},
   "outputs": [
    {
     "data": {
      "text/plain": [
       "6"
      ]
     },
     "execution_count": 69,
     "metadata": {},
     "output_type": "execute_result"
    }
   ],
   "source": [
    "# find model order and verify that m>=4\n",
    "m = max(sid_x,sid_y,sid_z)\n",
    "m"
   ]
  },
  {
   "cell_type": "code",
   "execution_count": 70,
   "metadata": {},
   "outputs": [],
   "source": [
    "# create vector Y and matrix X\n",
    "Y = ym_data[m:data_pts]\n",
    "X = np.zeros((data_pts-m,2*m))\n",
    "for j in range(data_pts - m):\n",
    "    \tX[j,:] = np.array([  -y_data[j+5], -y_data[j+4], -y_data[j+3], -y_data[j+2], -y_data[j+1], -y_data[j],  u_data[j+5], u_data[j+4], u_data[j+3], u_data[j+2], u_data[j+1], u_data[j]])"
   ]
  },
  {
   "cell_type": "code",
   "execution_count": 71,
   "metadata": {},
   "outputs": [
    {
     "data": {
      "text/plain": [
       "array([-4.58792296e+00,  8.91220311e+00, -9.31126247e+00,  5.36083252e+00,\n",
       "       -1.49241154e+00,  1.18619107e-01,  6.82285804e-05,  9.87845442e-05,\n",
       "        2.26516583e-05, -6.55994084e-05, -6.54811642e-05, -1.77293369e-05])"
      ]
     },
     "execution_count": 71,
     "metadata": {},
     "output_type": "execute_result"
    }
   ],
   "source": [
    "# Compute model coefficients from LSID algorithm\n",
    "theta_LS = np.linalg.pinv(X)@Y\n",
    "theta_LS"
   ]
  },
  {
   "cell_type": "code",
   "execution_count": 72,
   "metadata": {},
   "outputs": [],
   "source": [
    "# Extract coefficeints from theta_LS\n",
    "a_n = theta_LS[:6]\n",
    "b_n = theta_LS[6:12]"
   ]
  },
  {
   "cell_type": "code",
   "execution_count": 73,
   "metadata": {},
   "outputs": [
    {
     "data": {
      "text/latex": [
       "$$\\frac{6.823 \\times 10^{-5} z^5 + 9.878 \\times 10^{-5} z^4 + 2.265 \\times 10^{-5} z^3 - 6.56 \\times 10^{-5} z^2 - 6.548 \\times 10^{-5} z - 1.773 \\times 10^{-5}}{z^6 - 4.588 z^5 + 8.912 z^4 - 9.311 z^3 + 5.361 z^2 - 1.492 z + 0.1186}$$"
      ],
      "text/plain": [
       "TransferFunction(array([ 6.82285804e-05,  9.87845442e-05,  2.26516583e-05, -6.55994084e-05,\n",
       "       -6.54811642e-05, -1.77293369e-05]), array([ 1.        , -4.58792296,  8.91220311, -9.31126247,  5.36083252,\n",
       "       -1.49241154,  0.11861911]), True)"
      ]
     },
     "execution_count": 73,
     "metadata": {},
     "output_type": "execute_result"
    }
   ],
   "source": [
    "# that yields the resulting discrete-time model\n",
    "z = ctl.tf(\"z\")\n",
    "numz = b_n[0]*z**5 + b_n[1]*z**4 + b_n[2]*z**3 + b_n[3]*z**2 + b_n[4]*z + b_n[5]\n",
    "denz = z**6 + a_n[0]*z**5 + a_n[1]*z**4 + a_n[2]*z**3 + a_n[3]*z**2 + a_n[4]*z + a_n[5]\n",
    "Tz_lsid = numz/denz\n",
    "Tz_lsid"
   ]
  },
  {
   "cell_type": "markdown",
   "metadata": {},
   "source": [
    "**P2.4** (5 points)\n",
    "\n",
    "Copmare the Bode plot of the real plant and LSID model. \n",
    "\n",
    "#### Solution"
   ]
  },
  {
   "cell_type": "code",
   "execution_count": 78,
   "metadata": {},
   "outputs": [],
   "source": [
    "# Since Python Control Library does not compare discrete-time Bode plot well, we choose to convert \n",
    "# to continuous time \n",
    "fz = -(s*Ts+2)\n",
    "gz = (s*Ts-2)\n",
    "\n",
    "nj=5\n",
    "nums_id = b_n[nj]*gz**(nj+1)\n",
    "dens_id = fz**(nj+1) + a_n[nj]*gz**(nj+1)\n",
    "\n",
    "for j in range(nj):\n",
    "    nums_id = nums_id + b_n[j]*(fz**(nj-j))*(gz**(j+1))\n",
    "    dens_id = dens_id + a_n[j]*(fz**(nj-j))*(gz**(j+1))\n"
   ]
  },
  {
   "cell_type": "code",
   "execution_count": 79,
   "metadata": {},
   "outputs": [
    {
     "data": {
      "text/latex": [
       "$$\\frac{-9.943 \\times 10^{-18} s^6 - 1.994 \\times 10^{-14} s^5 - 9.796 \\times 10^{-12} s^4 - 2.424 \\times 10^{-9} s^3 - 5.653 \\times 10^{-7} s^2 + 0.0003104 s + 0.002615}{3.078 \\times 10^{-11} s^6 + 4.955 \\times 10^{-9} s^5 + 1.99 \\times 10^{-7} s^4 + 2.738 \\times 10^{-5} s^3 + 6.139 \\times 10^{-5} s^2 + 0.002874 s + 0.003698}$$"
      ],
      "text/plain": [
       "TransferFunction(array([-9.94327567e-18, -1.99390103e-14, -9.79629182e-12, -2.42359258e-09,\n",
       "       -5.65348932e-07,  3.10394530e-04,  2.61471190e-03]), array([3.07832517e-11, 4.95461444e-09, 1.98965442e-07, 2.73770841e-05,\n",
       "       6.13854421e-05, 2.87387828e-03, 3.69768374e-03]))"
      ]
     },
     "execution_count": 79,
     "metadata": {},
     "output_type": "execute_result"
    }
   ],
   "source": [
    "T_id = nums_id/dens_id\n",
    "T_id"
   ]
  },
  {
   "cell_type": "code",
   "execution_count": 80,
   "metadata": {},
   "outputs": [],
   "source": [
    "# Form closed-loop continous time using the same PID parameters as in get_cltf()\n",
    "k_p = 6.5\n",
    "k_i = 0\n",
    "k_d = 0.6\n",
    "N_d = 130 \n",
    "C_c = kp + ki/s + s*N*kd/(s+N)\n",
    "L_c = C_c*P_1\n",
    "P_2s = P_2/r # P_2 scaled by r\n",
    "T_c = ctl.feedback(L_c, P_2s)\n"
   ]
  },
  {
   "cell_type": "code",
   "execution_count": 81,
   "metadata": {},
   "outputs": [
    {
     "data": {
      "image/png": "[encoded data removed]",
      "text/plain": [
       "<Figure size 432x288 with 2 Axes>"
      ]
     },
     "metadata": {
      "needs_background": "light"
     },
     "output_type": "display_data"
    }
   ],
   "source": [
    "_,_,_ = ctl.bode_plot([T_c, T_id],dB=True, omega_limits=(0.01,1000))"
   ]
  },
  {
   "cell_type": "markdown",
   "metadata": {},
   "source": [
    "***\n",
    "### P3 (20 points)\n",
    "\n",
    "**P3.1** (5 points)\n",
    "\n",
    "Consider a nonlinear system\n",
    "\n",
    "$$\n",
    "\\dot{x} = ax + bx^5 \\tag{5}\n",
    "$$\n",
    "where $a =$ ```sid_x - sid_y``` and  $b =$ ```sid_y - sid_z```. The origin 0 is an equilibrium \n",
    "point of this system. Determine stablility from the linearization of this system around the \n",
    "origin.\n",
    "\n",
    "#### Solution"
   ]
  },
  {
   "cell_type": "code",
   "execution_count": 83,
   "metadata": {},
   "outputs": [
    {
     "data": {
      "text/plain": [
       "-1"
      ]
     },
     "execution_count": 83,
     "metadata": {},
     "output_type": "execute_result"
    }
   ],
   "source": [
    "a = sid_x - sid_y\n",
    "a"
   ]
  },
  {
   "cell_type": "markdown",
   "metadata": {},
   "source": [
    "Note that $b$ value is irrelevant for this problem.\n",
    "\n",
    "The linearization of this system around the origin is\n",
    "$$\n",
    "\\dot{x} = ax \n",
    "$$\n",
    "From Lyapunov's linearization method, this system is\n",
    "\n",
    "* asymptotically stable when $a<0$\n",
    "* unstable when $a>0$\n",
    "* undetermined when $a = 0$\n",
    "\n",
    "Hence, for $a = -1$, the nonlinear system (5) is asymptotially stable."
   ]
  },
  {
   "cell_type": "markdown",
   "metadata": {},
   "source": [
    "**P3.2** (5 points)\n",
    "\n",
    "Is it true that, in considering quadratic functions of the form $x^TMx$ for any square matrix \n",
    "$M$, we can always assume, without loss of generality, that $M$ is symmetric? Show or explain \n",
    "the reason that supports your answer. \n",
    "\n",
    "#### Your answer:"
   ]
  },
  {
   "cell_type": "markdown",
   "metadata": {},
   "source": [
    "True. The underlining fact is that any square matrix $M$ can be presented as a sum of symmetric\n",
    "and skew-symmetric matrix. One can see it from the following decomposition.\n",
    "\n",
    "$$\n",
    "M = \\frac{M+M^T}{2} + \\frac{M-M^T}{2} \\tag{6}\n",
    "$$\n",
    "\n",
    "The first term is symmetric and the second term is skew-symmetric. Then, using the fact that a \n",
    "quadratic function associated with any skew-symmetric matrix is  zero, we can always assume a \n",
    "symmetric matrix $M$ in a quadratic function $x^TMx$.\n"
   ]
  },
  {
   "cell_type": "markdown",
   "metadata": {},
   "source": [
    "**P3.3** (5 points)\n",
    "\n",
    "Given a linear time-invariant system of the form $\\dot{x} = Ax$, use a quadratic Lyapunov \n",
    "function candidate $V = x^TPx$ with symmetric positive definite matrix $P$ to derive the\n",
    "so-called *Lyapunov equation* for LTI system.\n",
    "\n",
    "$$\n",
    "A^TP+PA = -Q \\tag{7}\n",
    "$$\n",
    "\n",
    "#### Solution"
   ]
  },
  {
   "cell_type": "markdown",
   "metadata": {},
   "source": [
    "Differentiating $V$ along the system trajectory yields\n",
    "\n",
    "$$\n",
    "\\dot{V} = \\dot{x}^TPx + x^TP\\dot{x} \n",
    "$$\n",
    "\n",
    "Substitute $\\dot{x} = Ax$\n",
    "\n",
    "$$\n",
    "\\dot{V} = x^TA^TPx + x^TPAx = x^T(A^TP+PA)x = -x^TQx \n",
    "$$\n",
    "\n",
    "where we define the Lyapunov equation\n",
    "\n",
    "$$\n",
    "A^TP+PA = -Q\n",
    "$$\n",
    "\n",
    "For a positive definite matrix $Q$, we have $\\dot{V} < 0$. Hence, the LTI sytem is asymptotically \n",
    "stble. Note that this condition is only sufficient."
   ]
  },
  {
   "cell_type": "markdown",
   "metadata": {},
   "source": [
    "**P3.4** (5 points)\n",
    "\n",
    "Use the Lyapunov equation for LTI system from **P3.3** to determine stablity of $\\dot{x} = Ax$ \n",
    "where\n",
    "\n",
    "$$\n",
    "A = \\begin{bmatrix}\n",
    "0 & b \\\\\n",
    "c & d \n",
    "\\end{bmatrix}\n",
    "$$\n",
    "\n",
    "with $b$ = (```sid_x``` - ```sid_y```), $c$ = (```sid_y``` - ```sid_z```), $d$ = (```sid_x``` - ```sid_z```).\n",
    "\n",
    "**Hint :** Pick a positive definite matrix $Q$ and use Lyapunov equation to solve for $P$. \n",
    "Then check whether $P$ is ___ \n",
    "\n",
    "### Solution"
   ]
  },
  {
   "cell_type": "markdown",
   "metadata": {},
   "source": [
    "Use Theorem 3.6 of [1] : A necessary and sufficient condition for an LTI system $\\dot{x} = Ax$ \n",
    "    to be stable is that, for any symmetric positive definite $Q$, the unique matrix $P$, \n",
    "    solution of the Lyapunov equation, be symmetric positive definite."
   ]
  },
  {
   "cell_type": "code",
   "execution_count": 85,
   "metadata": {},
   "outputs": [
    {
     "data": {
      "text/plain": [
       "array([[ 0, -1],\n",
       "       [-1, -2]])"
      ]
     },
     "execution_count": 85,
     "metadata": {},
     "output_type": "execute_result"
    }
   ],
   "source": [
    "b = sid_x - sid_y\n",
    "c = sid_y - sid_z\n",
    "d = sid_x - sid_z\n",
    "A = np.array([[0, b],[c, d]])\n",
    "A"
   ]
  },
  {
   "cell_type": "markdown",
   "metadata": {},
   "source": [
    "Let us take $Q = I$ and denote $P$ by\n",
    "\n",
    "$$\n",
    "P = \\begin{bmatrix}\n",
    "p_{11} & p_{12} \\\\\n",
    "p_{12} & p_{22}\n",
    "\\end{bmatrix}\n",
    "$$\n",
    "\n",
    "where, due to the symmetry of $P$, $p_{21} = p_{12}$. Then the Lyapunov equation is\n",
    "\n",
    "$$\n",
    "\\begin{bmatrix}\n",
    "0 & -1 \\\\\n",
    "-1 & -2\n",
    "\\end{bmatrix}\n",
    "\\begin{bmatrix}\n",
    "p_{11} & p_{12} \\\\\n",
    "p_{12} & p_{22}\n",
    "\\end{bmatrix} +\n",
    "\\begin{bmatrix}\n",
    "p_{11} & p_{12} \\\\\n",
    "p_{12} & p_{22}\n",
    "\\end{bmatrix}\n",
    "\\begin{bmatrix}\n",
    "0 & -1 \\\\\n",
    "-1 & -2\n",
    "\\end{bmatrix} =\n",
    "\\begin{bmatrix}\n",
    "-1 & 0 \\\\\n",
    "0 & -1\n",
    "\\end{bmatrix} \\tag{8}\n",
    "$$\n",
    "\n",
    "Solving (8) yields \n",
    "\n",
    "$$\n",
    "P = \\begin{bmatrix}\n",
    "-1 & 1/2 \\\\\n",
    "1/2 & 0\n",
    "\\end{bmatrix}\n",
    "$$"
   ]
  },
  {
   "cell_type": "markdown",
   "metadata": {},
   "source": [
    "Since $P$ is not positive definite, we conclude that the LTI system is not stable. Actually,\n",
    "this can be verified from the eivenvalues of $A$."
   ]
  },
  {
   "cell_type": "code",
   "execution_count": 86,
   "metadata": {},
   "outputs": [
    {
     "data": {
      "text/plain": [
       "(array([ 0.41421356, -2.41421356]),\n",
       " array([[ 0.92387953,  0.38268343],\n",
       "        [-0.38268343,  0.92387953]]))"
      ]
     },
     "execution_count": 86,
     "metadata": {},
     "output_type": "execute_result"
    }
   ],
   "source": [
    "np.linalg.eig(A)"
   ]
  },
  {
   "cell_type": "markdown",
   "metadata": {},
   "source": [
    "**Credit :** Problems in **P3** are adapted from the book \n",
    "1. J.-J. E. Slotine and W. Li. Applied Nonlinear Control. Prentice Hall. 1991."
   ]
  },
  {
   "cell_type": "markdown",
   "metadata": {},
   "source": [
    "***\n",
    "### P4 (20 points)\n",
    "\n",
    "**P4.1** (10 points)\n",
    "From the pinhole model in Figure 6, let $P$ be a point on earth with coordinate \n",
    "```(sid_x,sid_y,sid_z)``` w.r.t the camera coordinate, and $p$ the projection of $P$ \n",
    "onto the image plane with coordinate $(u,v,\\lambda)$. Given $\\lambda = 0.3$, \n",
    "compute the image plane coordinates $(u,v)$. \n",
    "\n",
    "![\"fig6\"](https://drive.google.com/uc?id=17N5kl6yAcLZ7ltLh69yo2k5k7Ru6HfWI)\n",
    "\n",
    "Figure 6 pinhole model of a cemera\n",
    "\n",
    "### Solution"
   ]
  },
  {
   "cell_type": "markdown",
   "metadata": {},
   "source": [
    "From figure 6, for some $k>0$, we have\n",
    "\n",
    "$$\n",
    "k\\begin{bmatrix}\n",
    "x \\\\\n",
    "y \\\\\n",
    "z \n",
    "\\end{bmatrix} =\n",
    "\\begin{bmatrix}\n",
    "u \\\\\n",
    "v \\\\\n",
    "\\lambda\n",
    "\\end{bmatrix}\n",
    "$$\n",
    "\n",
    "which gives\n",
    "\n",
    "$$\n",
    "\\begin{matrix}\n",
    "k = \\frac{\\lambda}{z} \\\\\n",
    "u = \\lambda \\frac{x}{z} \\\\\n",
    "v = \\lambda \\frac{y}{z}\n",
    "\\end{matrix}\n",
    "$$\n",
    "Substitute $x$ = ```sid_x```, $y$ = ```sid_y```, $z$ = ```sid_z```, and $\\lambda = 0.5$ yields"
   ]
  },
  {
   "cell_type": "code",
   "execution_count": 87,
   "metadata": {},
   "outputs": [
    {
     "name": "stdout",
     "output_type": "stream",
     "text": [
      "u = 0.19999999999999998, v = 0.25\n"
     ]
    }
   ],
   "source": [
    "λ = 0.3\n",
    "u = λ*sid_x/sid_z\n",
    "v = λ*sid_y/sid_z\n",
    "print(\"u = {}, v = {}\".format(u,v))"
   ]
  },
  {
   "cell_type": "markdown",
   "metadata": {},
   "source": [
    "**P4.2** (10 points)\n",
    "\n",
    "In a normal operaion of robot vision, the camera could assume a pose $^0T_C$ w.r.t the world \n",
    "frame as shown in Figure 7. \n",
    "\n",
    "![\"fig6\"](https://drive.google.com/uc?id=1eHATkZMI3_42kJ7lleXnR-Oj6LRZTuFP)\n",
    "\n",
    "Figure 7 camera frame compared to world frame\n",
    "\n",
    "Let $^0P$ = ```(sid_x,sid_y,sid_z)```. $^0T_C$ can be described by a composition of 0.6 \n",
    "translation along the $y$ axis, followed by $\\pi/4$ rotation about the $x$ axis, . \n",
    "Compute $^CP$.\n",
    "\n",
    "### Solution"
   ]
  },
  {
   "cell_type": "markdown",
   "metadata": {},
   "source": [
    "From the given composition,\n",
    "$^0T_C = T_1T_2$ where $T_1 = T_{trans_y,0.6}$ and $T_2 = T_{rot_x,\\pi/2}$"
   ]
  },
  {
   "cell_type": "code",
   "execution_count": 90,
   "metadata": {},
   "outputs": [
    {
     "data": {
      "text/plain": [
       "array([[ 1.        ,  0.        ,  0.        ,  0.        ],\n",
       "       [ 0.        ,  0.70710678, -0.70710678,  0.6       ],\n",
       "       [ 0.        ,  0.70710678,  0.70710678,  0.        ],\n",
       "       [ 0.        ,  0.        ,  0.        ,  1.        ]])"
      ]
     },
     "execution_count": 90,
     "metadata": {},
     "output_type": "execute_result"
    }
   ],
   "source": [
    "T1 = np.array([[1, 0, 0, 0],[0, 1, 0, 0.6],[0, 0, 1, 0],[ 0, 0, 0, 1]])\n",
    "T2 = np.array([[1, 0, 0, 0],[0, np.cos(np.pi/4), -np.sin(np.pi/4), 0],[0, np.sin(np.pi/4), np.cos(np.pi/4), 0],[0, 0, 0, 1]])\n",
    "T_cam = T1@T2\n",
    "T_cam"
   ]
  },
  {
   "cell_type": "markdown",
   "metadata": {},
   "source": [
    "Then, $^CP$ can be computed from $^CP = (^CT_0)(^0P) = (^0T_C)^{-1}(^0P)$"
   ]
  },
  {
   "cell_type": "code",
   "execution_count": 92,
   "metadata": {},
   "outputs": [
    {
     "data": {
      "text/plain": [
       "array([4.        , 7.35391052, 1.13137085])"
      ]
     },
     "execution_count": 92,
     "metadata": {},
     "output_type": "execute_result"
    }
   ],
   "source": [
    "P_0 = np.array([sid_x,sid_y,sid_z,1]).T\n",
    "P_c = np.linalg.inv(T_cam)@P_0\n",
    "P_c = P_c[0:3]\n",
    "P_c"
   ]
  },
  {
   "cell_type": "markdown",
   "metadata": {},
   "source": [
    "***\n",
    "### P5 (10 points)\n",
    "\n",
    "**P5.1** (5 points)\n",
    "\n",
    "A softmax function $\\sigma: \\mathbf{R}^K \\rightarrow [0,1]^K$ is defined as\n",
    "\n",
    "$$\n",
    "\\sigma (X)_i = \\frac{e^{x_i}}{\\sum_{j=1}^Ke^{x_j}}, \\;\\; i=1,\\ldots,K, \\;\\; X = (x_1,\\ldots,x_K) \\in \\mathbf{R}^K \n",
    "$$\n",
    "\n",
    "Write a simple softmax function (or use some package) for $K = 3$ to compute an output when \n",
    "$X$ = ```(sid_x,sid_y,sid_z)```. Explain what this function does to your 3 student ID digits. \n",
    "\n",
    "### Solution"
   ]
  },
  {
   "cell_type": "code",
   "execution_count": 98,
   "metadata": {},
   "outputs": [],
   "source": [
    "def softmax(X):\n",
    "    return np.exp(X)/(np.sum(np.exp(X)))"
   ]
  },
  {
   "cell_type": "code",
   "execution_count": 99,
   "metadata": {},
   "outputs": [
    {
     "data": {
      "text/plain": [
       "array([0.09003057, 0.24472847, 0.66524096])"
      ]
     },
     "execution_count": 99,
     "metadata": {},
     "output_type": "execute_result"
    }
   ],
   "source": [
    "sid_X = np.array([sid_x, sid_y, sid_z])\n",
    "softmax_out = softmax(sid_X)\n",
    "softmax_out"
   ]
  },
  {
   "cell_type": "markdown",
   "metadata": {},
   "source": [
    "**Explanation :** a softmax function is often used as activation function for multi-classification \n",
    "    problem. It scales numbers/logits into probability. For the student ID digits, the output \n",
    "    shows the probability that each digit is maximum. In this case, sid_z is most likely to be \n",
    "    the chosen outcome. All output elements sum to 1. "
   ]
  },
  {
   "cell_type": "markdown",
   "metadata": {},
   "source": [
    "**p5.2** (5 points)\n",
    "\n",
    "Explain overfitting in deep learning, and suggest a way to avoid it.\n",
    "\n",
    "**Your answer :**"
   ]
  },
  {
   "cell_type": "markdown",
   "metadata": {},
   "source": [
    "Overfitting occurs when you achieve a good fit of your model on the training data, while it does not generalize well on new, unseen data. Some solutions are :\n",
    "1. Get more training data\n",
    "2. Measure training and testing losses. Stop training when the testing loss increases.\n",
    "3. Use dropout layer(s) in the model.\n",
    "4. Perform regularization in the model."
   ]
  },
  {
   "cell_type": "code",
   "execution_count": null,
   "metadata": {},
   "outputs": [],
   "source": []
  },
  {
   "cell_type": "markdown",
   "metadata": {},
   "source": [
    "***\n",
    "**Last update :** Dec 5, 2021"
   ]
  }
 ],
 "metadata": {
  "kernelspec": {
   "display_name": "Python 3.8 (controlenv)",
   "language": "python",
   "name": "controlenv"
  },
  "language_info": {
   "codemirror_mode": {
    "name": "ipython",
    "version": 3
   },
   "file_extension": ".py",
   "mimetype": "text/x-python",
   "name": "python",
   "nbconvert_exporter": "python",
   "pygments_lexer": "ipython3",
   "version": "3.8.5"
  }
 },
 "nbformat": 4,
 "nbformat_minor": 4
}
