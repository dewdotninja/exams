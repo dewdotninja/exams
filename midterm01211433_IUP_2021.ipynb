{
 "cells": [
  {
   "cell_type": "markdown",
   "metadata": {},
   "source": [
    "<a href=\"https://colab.research.google.com/github/dewdotninja/exams/blob/master/midterm01211433_IUP_2021.ipynb\" target=\"_parent\"><img src=\"https://colab.research.google.com/assets/colab-badge.svg\" alt=\"Open In Colab\"/></a>"
   ]
  },
  {
   "cell_type": "markdown",
   "metadata": {},
   "source": [
    "<p align=\"left\">\n",
    "<img src=\"https://raw.githubusercontent.com/dewdotninja/exams/main/feng_heading_en.png\" width=400 alt=\"Feng heading\"/>\n",
    "</p>\n",
    "\n",
    "#### Department of Mechanical Engineering\n",
    "\n",
    "### Midterm Exam, Second Semester, Academic Year 2021\n",
    "\n",
    "<br>**01211433  Vision and Control of Industrial Robots (International Undergraduate Program)**\n",
    "<br>Thursday October 7, 2021 : 1 - 4 PM\n",
    "<br>This exam is administered online via Google classroom only.\n",
    "\n",
    "Type student name - surname and ID in the cell below.\n"
   ]
  },
  {
   "cell_type": "code",
   "execution_count": null,
   "metadata": {},
   "outputs": [],
   "source": []
  },
  {
   "cell_type": "markdown",
   "metadata": {},
   "source": [
    "**Important :** Type or copy the following statement to the cell below.\n",
    "\n",
    "*I vow that I do this exam solely by myself.*"
   ]
  },
  {
   "cell_type": "code",
   "execution_count": null,
   "metadata": {},
   "outputs": [],
   "source": []
  },
  {
   "cell_type": "markdown",
   "metadata": {},
   "source": [
    "### Instructions\n",
    "\n",
    "1. This exam is administered online via Google classroom only in Jupyter and Pluto notebook formats. Choose only one. For Jupyter notebook, you can use Colab environment or install Jupyter notebook on your local machine. For Pluto notebook, print your work to .PDF format before submitting. \n",
    "\n",
    "2. Do your work solely on this notebook. You can add as many cells as you want. Formatting is not necessary as long as your texts/equations are understandable and answer the question clearly.\n",
    "\n",
    "3. Open books, notes and online resources.\n",
    "\n",
    "4. Explain clearly. Show details of your computation to receive full credits. For any problem that requires programming, your program should execute without error and give correct results.\n",
    "\n",
    "5. Do not change any problem. A problem that is altered in any way from the original will result in zero score for that problem.\n",
    "\n",
    "6. Some parameters in the problem set may be a function of your student ID. You must make sure to substitute the right value for such parameters. Failure to do so may result in heavy penalty for that problem.\n",
    "\n",
    "7. Do this exam solely by yourself without any help from any person. Be warned that an answer that is incorrect and has suspicious similarity with that of another exam taker may receive no partial credit for that problem.\n",
    "\n",
    "8. Exam problems typically range from basic to advanced. Work on simple problems before moving to challenging ones. \n",
    "\n",
    "9. **Important :** Students must submit your notebook promptly, in Google classroom only, when the 3-hour exam period expires. Resubmission is acceptable only within the exam period. Anyone who submits/resubmits later than 10 minutes after the exam period, as indicated in the recorded history of Google classroom, will get -1 point penalty per minute, starting from -10. Anyone sumbitting his/her exam more than 30-minutes late may be considered cheating and may get zero score for the whole midterm.\n",
    "\n"
   ]
  },
  {
   "cell_type": "markdown",
   "metadata": {},
   "source": [
    "***\n",
    "\n",
    "* **Assoc. Prof. Peerayuth Charnsethikul**    ---    Head of Examination Committee\n",
    "* **Asst. Prof. Prapot Kunthong**  ---     Examination Committee\n",
    "* **Dr. Varodom Toochinda**   ---    Examination Committee\n",
    "\n"
   ]
  },
  {
   "cell_type": "markdown",
   "metadata": {},
   "source": [
    "#### Further explantion about exam problem that may depend on the last 3 digits of your student ID\n",
    "\n",
    "-------xyz (other digits are disregarded)\n",
    "\n",
    "In case any digit in the last 3 are 0, it must be replaced by 5.\n",
    "\n",
    "#### Examples\n",
    "    \n",
    "Student A's ID - 6010555853 results in x = 8, y = 5, z = 3\n",
    "\n",
    "Student B 's ID - 6010546104 results in x = 1, y = 5, z = 4\n",
    "\n",
    "Student C 's ID - 6310055032 results in x = 5, y = 3, z = 2\n",
    "    \n",
    "These valuess are used for all the problems in the exam where x,y,and/or z appear. In this \n",
    "sense, the results from each student should be different even computed using the same methods.\n",
    "\n",
    "Operations that may be applied to the variables.\n",
    "\n",
    "$+$ addition\n",
    "\n",
    " $-$  subtraction\n",
    "\n",
    " $*$  multiplication \n",
    "\n",
    " $/$ division\n",
    "\n",
    "$**$ raise to the power (For example, x**z means $x^z$)\n",
    "\n",
    "including math opertions such as $\\exp(x)$, $\\sin(z*t)$\n",
    "\n",
    "If a variable is embedded in some digit of a value without any operation symbol, \n",
    "just replace that digit. \n",
    "<br>For example,  z=8 y = 3 $\\Rightarrow$ 12z7 = 1287, 4.3y5 = 4.335\n",
    "\n",
    "Conditional statement may be used, such as\n",
    "if x<5 do task A, otherwise do task B\n",
    "\n",
    "<em>Example: </em> Let $R1 = 1000*x \\,\\Omega, C1 = 10*y \\,\\mu F$\n",
    "\n",
    "<ul>\n",
    "<li />Student A (x=8, y=5) does this problem with R1 = 8000 $\\Omega$, C1 = 50 $\\mu$F\n",
    "<li />Student B (x=1, y=5) does this problem with R1 = 1000 $\\Omega$, C1 = 50 $\\mu$F\n",
    "<li />Student C (x=5, y=3) does this problem with R1 = 5000 $\\Omega$, C1 = 30 $\\mu$F\n",
    "</ul>\n",
    "\n",
    "If any exam problem is not clear enough, write in a cell how you interpret it. If several \n",
    "students get confused on that problem, the grader may decide to give full credit to all.\n",
    "\n"
   ]
  },
  {
   "cell_type": "markdown",
   "metadata": {},
   "source": [
    "***\n",
    "### List of exam problems (total 100 points)\n",
    "\n",
    "| Problem# | Score |\n",
    "| --- | --- |\n",
    "| 1 | (20 points) |\n",
    "| 2 | (20 points) |\n",
    "| 3 | (15 points) |\n",
    "| 4 | (25 points) |\n",
    "| 5 | (20 points) |"
   ]
  },
  {
   "cell_type": "code",
   "execution_count": null,
   "metadata": {},
   "outputs": [],
   "source": [
    "# You need to install these libraries in the Colab environment\n",
    "!pip install slycot\n",
    "!pip install control"
   ]
  },
  {
   "cell_type": "code",
   "execution_count": 1,
   "metadata": {},
   "outputs": [],
   "source": [
    "# import libraries you want to use\n",
    "import numpy as np\n",
    "import matplotlib.pyplot as plt\n",
    "import control as ctl"
   ]
  },
  {
   "cell_type": "markdown",
   "metadata": {},
   "source": [
    "### P1 ( points)\n",
    "\n",
    "Figure 1 is a block diagram example of servomotor connected to a robot joint. \n",
    "The diagram consists of both linear and nonlinear elements. A resonance block is also added to\n",
    "the mechanical subsystem. To compute a transfer function for this system, first this block diagram\n",
    "has to be “linearized” by removing all the saturation blocks. Then standard block reduction \n",
    "techniques can be applied. \n",
    "\n",
    "<p align=\"center\">\n",
    "<img src=\"https://drive.google.com/uc?id=1P1DYlMxDpw_nwrj0LIG8GqNT8e_dj5wa\" width=600 alt=\"Figure 1\"/>\n",
    "</p>\n",
    "<div align=\"center\"><b>Figure 1 block diagram of servomotor connected to a robot joint</b></div>\n",
    "\n",
    "\n",
    "Let us consider the whole system as 2 transfer functions connected in series. The first transfer \n",
    "function $P_{xv}$  contains servo amp and motor blocks (upper part in Figure 1), and the second \n",
    "$P_{\\theta x}$  represents mechanical subsystem. It can be derived that [1] \n",
    "\n",
    "$$\n",
    "P_{xv} = \\frac{k_{a1}k_{a2}k_{m1}k_{m2}}{\\tau s + 1 + k_{a2}k_{m1}} \\tag{1}\n",
    "$$\n",
    "\n",
    "$$\n",
    "P_{\\theta x} = \\frac{(\\tau s+1+k_{a2}k_{m1})^2((1-J_m\\omega_n^2)s^2+2\\zeta\\omega_ns+\\omega_n^2)}{s((J_ms+B_m)(\\tau s+1+k_{a2}k_{m1})^2+(\\tau s+1)k_{m1}k_{m2}k_e)(s^2+2\\zeta\\omega_ns+\\omega_n^2)} \\tag{2}\n",
    "$$\n",
    "\n",
    "Multiply them to get the overall transfer function  \n",
    "\n",
    "$$\n",
    "P_{\\theta v} = \\frac{k_{a1}k_{a2}k_{m1}k_{m2}(\\tau s+1+k_{a2}k_{m1})((1-J_m\\omega_n^2)s^2+2\\zeta\\omega_ns+\\omega_n^2)}{s((J_ms+B_m)(\\tau s+1+k_{a2}k_{m1})^2+(\\tau s+1)k_{m1}k_{m2}k_e)(s^2+2\\zeta\\omega_ns+\\omega_n^2)} \\tag{3}\n",
    "$$\n",
    "\n"
   ]
  },
  {
   "cell_type": "markdown",
   "metadata": {},
   "source": [
    "**P1.1** Assign parameter values as follows (with x, y, z from your student ID) to create a plant transfer \n",
    "function $P_{\\theta v}$ as in (3) (5 points)\n",
    "\n",
    "**Important :** check carefully to make sure that you get the plant (3) correctly before proceeding with the notebook. Some problems below may depend on this plant.\n"
   ]
  },
  {
   "cell_type": "markdown",
   "metadata": {},
   "source": [
    "```python\n",
    "# Parameter assignments. Do not change anything in this cell!\n",
    "ka1=0.5\n",
    "ka2=1000*(y+x)\n",
    "km1=0.1471\n",
    "km2=0.26\n",
    "ke=0.2\n",
    "Jm=0.002\n",
    "Bm=0.001\n",
    "kr=1\n",
    "tau=0.004*y\n",
    "omega_n = 10*np.pi*x\n",
    "zeta = 0.2\n",
    "```"
   ]
  },
  {
   "cell_type": "markdown",
   "metadata": {},
   "source": [
    "#### Solution"
   ]
  },
  {
   "cell_type": "code",
   "execution_count": null,
   "metadata": {},
   "outputs": [],
   "source": []
  },
  {
   "cell_type": "code",
   "execution_count": null,
   "metadata": {},
   "outputs": [],
   "source": []
  },
  {
   "cell_type": "markdown",
   "metadata": {},
   "source": [
    "**P1.2** Compute poles and zeros of the transfer function from  **P1.1**, show their values and plot them on complex plane.\n",
    "(3 points) Which one(s) of the zeros is/are minimum-phase, if any? (2 points)\n",
    "\n",
    "#### Solution"
   ]
  },
  {
   "cell_type": "code",
   "execution_count": null,
   "metadata": {},
   "outputs": [],
   "source": []
  },
  {
   "cell_type": "code",
   "execution_count": null,
   "metadata": {},
   "outputs": [],
   "source": []
  },
  {
   "cell_type": "markdown",
   "metadata": {},
   "source": [
    "**P 1.3** Show Bode plot of the plant from **P1.1** with magnitude in dB and phase in degrees, in frequency range 0.001 - 1000 rad/s. What are the gain and phase margins of this plant? (5 point) \n",
    "\n",
    "**Note :** You must explicitly answer gain margin = ?, phase margin = ?. Don't just show an output from a function.\n",
    "\n",
    "#### Solution"
   ]
  },
  {
   "cell_type": "code",
   "execution_count": null,
   "metadata": {},
   "outputs": [],
   "source": []
  },
  {
   "cell_type": "code",
   "execution_count": null,
   "metadata": {},
   "outputs": [],
   "source": []
  },
  {
   "cell_type": "markdown",
   "metadata": {},
   "source": [
    "**P1.4** From the feedback block diagram in Figure 3, use the plant from **P 1.1** and a proportional control $C(s) = K $. Find some value of $K$ that yields closed-loop stability. Construct a transfer function mapping $d_i(s)$ to $y(s)$.Find magnitude of $y(s)$ when $d_i(s) = sin(10t)$. \n",
    "(5 points)\n",
    "\n",
    "![\"fig 3\"](https://drive.google.com/uc?id=1CLNYYhbhGOpVaJULHdX13xoEv_AO2wyR)\n",
    "\n",
    "Figure 3 general block diagram of feedback system\n",
    "\n",
    "#### Solution"
   ]
  },
  {
   "cell_type": "code",
   "execution_count": null,
   "metadata": {},
   "outputs": [],
   "source": []
  },
  {
   "cell_type": "code",
   "execution_count": null,
   "metadata": {},
   "outputs": [],
   "source": []
  },
  {
   "cell_type": "code",
   "execution_count": null,
   "metadata": {},
   "outputs": [],
   "source": []
  },
  {
   "cell_type": "markdown",
   "metadata": {},
   "source": [
    "***\n",
    "#### P2 (20 points)\n",
    "\n",
    "Apply loopshaping control design for the HDM plant from $P1.1$ with the following specifications \n",
    "\n",
    "1. zero steady-state tracking error\n",
    "\n",
    "2. Output disturbance is attenuated as least $0.0z$ for frequency below $0.y$ rad/s\n",
    "\n",
    "3. From the Bode plot, we observe a pair of lightly-damped poles in high frequency region. System bandwidth must be limited to at least 1 decade below the lightly-damped frequency mode. For instance, suppose that the lightly-damped mode frequency is 17 rad/s, the loop bandwidth (roughly the frequency where $|L(j\\omega)|$ crosses the 0 dB line) must not exceed 1.7 rad/s. So, for this problem the high frequency criterion is not specified as noise attenuation, but instead a bandwidth limitation.\n",
    "\n",
    "4. Closed-loop stable, with phase margin of at least 30 degrees.\n",
    "\n",
    "**Hint :** First-order lead-lag controller in the form\n",
    "$$\n",
    "C(s) = K\\frac{(s+z)}{(s+p)}\n",
    "$$\n",
    "should work.\n",
    "\n",
    "\n",
    "**Remarks :**\n",
    "\n",
    "* Lightly-damped mode frequency $\\omega_d = \\omega_n\\sqrt{1-\\zeta^2}$ can be found from the (absolute value of) imaginery part of the corresponding pair of lightly-damped poles.\n",
    "* If you don't know how to specify high frequency criteria, just make the high frequency region starting from the lighly-damped mode frequency, and some small noise attenuation, say, -1 dB. The requirement here is bandwidth limitation. \n",
    "\n",
    "For your convenience, lshape() and plot_response() are provided in the following cell."
   ]
  },
  {
   "cell_type": "code",
   "execution_count": 12,
   "metadata": {},
   "outputs": [],
   "source": [
    "def lshape(C,P, lf, lfb, hf, hfb, pm ):\n",
    "    assert lf > 0   # avoid bad values\n",
    "    assert lfb > 0\n",
    "    assert hf > lf\n",
    "    assert hfb < 0\n",
    "    assert 0 < pm < 90\n",
    "    L = C*P # form loop transfer function\n",
    "    # create a suitable range of frequency from lf, hf\n",
    "    lf_log10 = np.log10(lf)\n",
    "    w_start = np.floor(lf_log10)-1\n",
    "    hf_log10 = np.log10(hf)\n",
    "    w_end = np.ceil(hf_log10)+1\n",
    "    w = np.logspace(w_start,w_end, 1000)\n",
    "    \n",
    "    # frequency response of L\n",
    "    Lmag, Lph, om = ctl.freqresp(L, w)\n",
    "    Lmag_db = np.squeeze(20*np.log10(Lmag))\n",
    "    Lph_deg = np.squeeze(np.degrees(Lph))\n",
    "    \n",
    "    # create bound vectors\n",
    "    lf_mask = np.where(om<lf, lfb, 0)\n",
    "    hf_mask = np.where(om<hf, 0, hfb)\n",
    "    lf_bnd = lf_mask*np.ones(om.shape)\n",
    "    hf_bnd = hf_mask*np.ones(om.shape)\n",
    "    \n",
    "    # check whether violation occurs\n",
    "    lf_idxv = np.where(om>lf)\n",
    "    lf_idx = lf_idxv[0][0]   # find index of low-freq region\n",
    "    hf_idxv = np.where(om<hf)\n",
    "    hf_idx = hf_idxv[0][-1]  # find index of high-freq region\n",
    "    lfmag = Lmag_db[:lf_idx]\n",
    "    hfmag = Lmag_db[hf_idx:]\n",
    "    if min(lfmag)<lfb:\n",
    "        lf_legend = \"LF bound (violated)\"\n",
    "    else:\n",
    "        lf_legend = \"LF bound\"\n",
    "    if max(hfmag)>hfb:\n",
    "        hf_legend = \"HF bound (violated)\"\n",
    "    else:\n",
    "        hf_legend = \"HF bound\"    \n",
    "    \n",
    "    # desired phase margin vectors\n",
    "    pmvec = (pm-180)*np.ones(om.shape)\n",
    "    \n",
    "    # compute gain/phase margins\n",
    "    g_margin, ph_margin, wgm, wpm = ctl.margin(L)\n",
    "    ph_at_crossover = (ph_margin-180)\n",
    "    # Loopshaping plot\n",
    "    fig, (ax1, ax2) = plt.subplots(2, figsize=(8,8))\n",
    "    fig.suptitle('$L(j\\omega)$ v.s. bounds')\n",
    "    ax1.semilogx(om, Lmag_db,'k-', om, lf_bnd, 'm-.', om, hf_bnd,'b-.')\n",
    "    ax1.legend([\"$|L(j\\omega)|$\",lf_legend,hf_legend],loc=\"lower left\")\n",
    "    ax1.grid(True)\n",
    "    ax1.set_ylabel('magnitude (dB)')\n",
    "    \n",
    "    ax2.semilogx(om, Lph_deg,'k-',om, pmvec,'b-', wpm, ph_at_crossover,'r*')\n",
    "    if ph_margin > pm:\n",
    "        pmtext = \"phase margin = \" + str(round(ph_margin)) + \" degrees\"\n",
    "    else:\n",
    "        pmtext = \"phase margin = \" + str(round(ph_margin)) + \" degrees (violated)\"\n",
    "        \n",
    "    ax2.text(wpm,ph_at_crossover,pmtext)\n",
    "    \n",
    "    dpmtext = \"Desired PM (\" + str(pm) + \" degrees)\"\n",
    "    ax2.set_xlabel('frequency (rad/s)')\n",
    "    ax2.set_ylabel('phase (deg)')\n",
    "    ax2.legend([\"$\\measuredangle L(j\\omega)$\",dpmtext],loc=\"lower left\")\n",
    "    ax2.grid(True)    \n",
    "    \n",
    "    # plot magnitude of S and T v.s bounds\n",
    "    S = 1/(1+L)\n",
    "    T = L/(1+L)\n",
    "    \n",
    "    # frequency responses of S and T\n",
    "    Smag, Sph, om = ctl.freqresp(S, w)\n",
    "    Tmag, Tph, om = ctl.freqresp(T, w)\n",
    "    \n",
    "    Smag_db = np.squeeze(20*np.log10(Smag))\n",
    "    Tmag_db = np.squeeze(20*np.log10(Tmag))\n",
    "   \n",
    "    # check whether violation occurs\n",
    "    lf_idxv = np.where(om>lf)\n",
    "    lf_idx = lf_idxv[0][0]   # find index of low-freq region\n",
    "    hf_idxv = np.where(om<hf)\n",
    "    hf_idx = hf_idxv[0][-1]  # find index of high-freq region\n",
    "    lfSmag = Smag_db[:lf_idx]\n",
    "    hfTmag = Tmag_db[hf_idx:]\n",
    "    if max(lfSmag)>-lfb:\n",
    "        lf_legend = \"LF bound (violated)\"\n",
    "    else:\n",
    "        lf_legend = \"LF bound\"\n",
    "    if max(hfTmag)>hfb:\n",
    "        hf_legend = \"HF bound (violated)\"\n",
    "    else:\n",
    "        hf_legend = \"HF bound\"    \n",
    "        \n",
    "    # create data vector for stability bound in mid freq region\n",
    "    \n",
    "    om_mid = om[lf_idx:hf_idx]\n",
    "    pm_r = np.radians(pm)\n",
    "    x = np.sin(0.5*(np.pi - pm_r))/(np.sin(pm_r)) \n",
    "    x = 20*np.log10(x)\n",
    "    bnds_mid = x*np.ones(om_mid.shape)\n",
    "    \n",
    "    ST_peak = max(max(Smag_db),max(Tmag_db))\n",
    "    if ST_peak > x:\n",
    "        mf_legend = \"Stability bound (violated)\"\n",
    "    else:\n",
    "        mf_legend = \"Stability bound\"\n",
    "    \n",
    "    plt.figure(figsize=(8,4))\n",
    "    plt.semilogx(om,Smag_db,'k-',om,Tmag_db,'g-',om,-lf_bnd,'m-.',om,hf_bnd,'b-.',om_mid,bnds_mid,'r-.')\n",
    "    plt.xlabel('frequency (rad/s)')\n",
    "    plt.ylabel('magnitude (dB)')\n",
    "    plt.legend([\"$|S(j\\omega)|$\",\"$|T(j\\omega)|$\",lf_legend,hf_legend, mf_legend])\n",
    "    plt.grid(True)\n",
    "    plt.title('$|S(j\\omega)|$ and $|T(j\\omega)|$ v.s. bounds')\n",
    "    plt.show()\n"
   ]
  },
  {
   "cell_type": "code",
   "execution_count": 13,
   "metadata": {},
   "outputs": [],
   "source": [
    "def plot_response(sys,u,t,title):\n",
    "    tout, y = ctl.forced_response(sys,t, u)\n",
    "    truncated_idx = 150  # get rid of transient\n",
    "    tout = tout[truncated_idx:]\n",
    "    u = u[truncated_idx:]\n",
    "    y = y[truncated_idx:]\n",
    "    fig, (ax1, ax2) = plt.subplots(2, figsize=(8,8))\n",
    "    fig.suptitle(title)\n",
    "    ax1.plot(tout,u,'b-')\n",
    "    ax1.grid(True)\n",
    "    ax1.set_ylabel('input')\n",
    "    \n",
    "    ax2.plot(tout,y,'r-')\n",
    "    ax2.grid(True)\n",
    "    ax2.set_ylabel('output')\n",
    "    ax2.set_xlabel('time (sec)')\n",
    "\n",
    "    plt.show()    "
   ]
  },
  {
   "cell_type": "markdown",
   "metadata": {},
   "source": [
    "#### Grade rubric for P2\n",
    "\n",
    "1. Obtain $C(s)$ and show that the Bode plot of $L(s)$ satisfies all criteria. Minor violations at frequeny boundaries may be tolerated. Bandwidth of $L(s)$ should not exceen the tolerance of 0.15 of the first lightly-damped frequency (10 points)\n",
    "2. Show step response that verifies closed-loop stablity and zero steady-state tracking error. (5 points)\n",
    "3. Disturbance response from $d_o(s)$ meets the specification, with tolerance of 5% exceeding the attenuation criteria. (5 points)\n",
    "\n",
    "#### Solution"
   ]
  },
  {
   "cell_type": "code",
   "execution_count": null,
   "metadata": {},
   "outputs": [],
   "source": []
  },
  {
   "cell_type": "code",
   "execution_count": null,
   "metadata": {},
   "outputs": [],
   "source": []
  },
  {
   "cell_type": "code",
   "execution_count": null,
   "metadata": {},
   "outputs": [],
   "source": []
  },
  {
   "cell_type": "markdown",
   "metadata": {},
   "source": [
    "***\n",
    "#### P3 (15 points)\n",
    "\n",
    "**P3.1 (10 points)**\n",
    "\n",
    "Create the following 3-segment trajectory using cubic polynomial method\n",
    "\n",
    "**Segment 1 :** Start time 0 sec, end time x sec, start position -y radians, end position x radians, start velocity 0 rad/s, end velocity x+z rad/s.\n",
    "\n",
    "**Segment 2 :** Start time x sec, end time x+y sec, start position x radians, end position -3 radians, start velocity x+z rad/s, end velocity y+z rad/s.\n",
    "\n",
    "**Segment 4 :** Start time x+y sec, end time x+y+z sec, start position -3 radians, end position x+z radians, start velocity y+z rad/s, end velocity 0 rad/s.\n",
    "\n",
    "Plot the position, velocity, and acceleration versus time (as in HW#1) \n",
    "\n",
    "cpoly() and polyval() functions are provided below"
   ]
  },
  {
   "cell_type": "code",
   "execution_count": 21,
   "metadata": {},
   "outputs": [],
   "source": [
    "# define cubic polynomial functgion\n",
    "def cpoly(q0,qf,t,qd0=0, qdf=0):\n",
    "    tf = max(t)\n",
    "    X = np.array([[0.,0.,0.,1.],[tf**3,tf**2,tf,1],[0.,0.,1.,0.],[3*tf**2,2*tf,1.,0.]])\n",
    "    b = np.array([q0,qf,qd0,qdf]).T\n",
    "    \n",
    "    coeffs = np.linalg.inv(X)@b\n",
    "    # coefficients of derivatives\n",
    "    coeffs_d = coeffs[0:3]*np.arange(3,0,-1)\n",
    "    coeffs_dd = coeffs_d[0:2]*np.arange(2,0,-1)\n",
    "    q = polyval(coeffs,t)\n",
    "    q_d = polyval(coeffs_d,t)\n",
    "    q_dd = polyval(coeffs_dd,t)\n",
    "    return q,q_d,q_dd\n",
    "\n",
    "# helper function to evaluate polynomial\n",
    "def polyval(P,X):\n",
    "    Y = 0*X\n",
    "    n = len(P)\n",
    "    for i in range(n):\n",
    "        Y = Y +P[i]*X**(n-i-1)\n",
    "    return Y"
   ]
  },
  {
   "cell_type": "markdown",
   "metadata": {},
   "source": [
    "#### Solution"
   ]
  },
  {
   "cell_type": "code",
   "execution_count": null,
   "metadata": {},
   "outputs": [],
   "source": []
  },
  {
   "cell_type": "code",
   "execution_count": null,
   "metadata": {},
   "outputs": [],
   "source": []
  },
  {
   "cell_type": "markdown",
   "metadata": {},
   "source": [
    "**P3.2 (5 points)**\n",
    "\n",
    "From the trajectory vector in **P 3.1**, find all time values when the position curve crosses zero. \n",
    "\n",
    "**Note :** You must write code to find from the trajectory vectors, not guessing or reading from the graph.\n",
    "    \n",
    "#### Solution"
   ]
  },
  {
   "cell_type": "code",
   "execution_count": null,
   "metadata": {},
   "outputs": [],
   "source": []
  },
  {
   "cell_type": "code",
   "execution_count": null,
   "metadata": {},
   "outputs": [],
   "source": []
  },
  {
   "cell_type": "markdown",
   "metadata": {},
   "source": [
    "***\n",
    "#### P 4 (25 points)\n",
    "\n",
    "**P 4.1 (15 points)**\n",
    "\n",
    "Design a state feedback control for HDM plant from P1 in steps below.\n",
    "(Code from module 5 of Control Engineering Basics is helpful). Grade rubric is\n",
    "\n",
    "1. Convert the HDM transfer function to state-space representation (5 point).\n",
    "2. Specify stable closed-loop polses with qualitative performance suitable for a robot (not too much oscillation, not too slow, use your judgement). Place the closed-loop poles at the chosen locations. Form the state-space closed-loop system and check whether the poles are at the desired locations. Simulate step response. (10 points)\n",
    "\n",
    "#### Solution"
   ]
  },
  {
   "cell_type": "code",
   "execution_count": null,
   "metadata": {},
   "outputs": [],
   "source": []
  },
  {
   "cell_type": "code",
   "execution_count": null,
   "metadata": {},
   "outputs": [],
   "source": []
  },
  {
   "cell_type": "code",
   "execution_count": null,
   "metadata": {},
   "outputs": [],
   "source": []
  },
  {
   "cell_type": "markdown",
   "metadata": {},
   "source": [
    "**Guideline :** For descriptive questions, answer in your own word precisely using clear English. Do not copy and paste texts from somewhere with some hope that the answer might be embedded in the content. That usually results in zero score. "
   ]
  },
  {
   "cell_type": "markdown",
   "metadata": {},
   "source": [
    "**P4.2** For a simple robot joint plant\n",
    "$$\n",
    "P(s) = \\frac{1}{s(Js+B)}\n",
    "$$\n",
    "If you want to improve tracking performance by using feedforward control, what transfer function \n",
    "you should use in the feedforward block? Explain how to implement that transfer function. (5 points)\n",
    "\n",
    "**Your answer :**"
   ]
  },
  {
   "cell_type": "code",
   "execution_count": null,
   "metadata": {},
   "outputs": [],
   "source": []
  },
  {
   "cell_type": "markdown",
   "metadata": {},
   "source": [
    "**P4.3** Explain how integrator windup occurs in a PID feedback, and suggest 2 methods for antiwindup implementation. (5 points) \n",
    "\n",
    "**Your answer :**"
   ]
  },
  {
   "cell_type": "code",
   "execution_count": null,
   "metadata": {},
   "outputs": [],
   "source": []
  },
  {
   "cell_type": "markdown",
   "metadata": {},
   "source": [
    "***\n",
    "#### P 5 (20 points) \n",
    "\n",
    "Figure 4 shows cascaded PID structure to improve closed-loop performance. \n",
    "\n",
    "<p align=\"center\">\n",
    "<img src=\"https://drive.google.com/uc?id=1qmxLcJAnwcU83V2zm_ilGCq9PwZGVtEw\" width=700 alt=\"Figure 4\"/>\n",
    "</p>\n",
    "<div align=\"center\"><b>Figure 4 cascaded PID control</b></div>\n",
    "\n",
    "\n",
    "For this problem, use a simple robot joint driven by DC motor with resonance that has the following transfer function\n",
    "\n",
    "$$\n",
    "P(s) = \\frac{1}{(Js^2+Bs)(s^2+2\\zeta\\omega_ns+\\omega_n^2)}\n",
    "$$\n",
    "\n",
    "with parameters $J = (y+z)$, $B = 0.0z$, $\\zeta = 0.2$, and $\\omega_n = 10\\pi x$. \n",
    "\n",
    "Extract the integrator from $P(s)$, and use it in the outer loop as shown in Figure 4. The rest of the plant transfer function is in the inner-loop. For both loops, use the following PID equation \n",
    "\n",
    "$$\n",
    "C(s) = K_p + \\frac{K_i}{s} + K_ds\n",
    "$$\n",
    "\n",
    "Suppose that PWM outputs are used for both PID controllers, so we need to add a low-pass filter (LPF) transfer function at the output of each controller to average the PWM pulse as shown in Figure 4. Pick 1000 rad/s for the cutoff frequency for both LPFs.\n",
    "\n",
    "**Hint :** See Module 1 of Control Engineering Basics on how to construct an LPF transfer function with a chosen cutoff frequency. Module 4 is also helpful. \n",
    "\n",
    "**Grade rubric**\n",
    "\n",
    "1. Simulate stable step response of closed-loop system in Figure 4 (10 points)\n",
    "2. Suppose we want to cast the specifications from P2 so that loopshaping procedure can be performed (with adjustable PID parameters instead of zeros/pole). Determine the resulting transfer function $C(s)$ and $P(s)$ used as arguments for lshape(). Adjust PID parameters to conform to all specifications from P2.  (10 points). \n",
    "\n",
    "#### Solution\n"
   ]
  },
  {
   "cell_type": "code",
   "execution_count": null,
   "metadata": {},
   "outputs": [],
   "source": []
  },
  {
   "cell_type": "code",
   "execution_count": null,
   "metadata": {},
   "outputs": [],
   "source": []
  },
  {
   "cell_type": "code",
   "execution_count": null,
   "metadata": {},
   "outputs": [],
   "source": []
  },
  {
   "cell_type": "markdown",
   "metadata": {},
   "source": [
    "***\n",
    "#### Reference \n",
    "1. Toochinda V. Robot Analysis and Control with Scilab and RTSX. Mushin Dynamics. 2014."
   ]
  },
  {
   "cell_type": "markdown",
   "metadata": {},
   "source": [
    "***\n",
    "Last update : Sep 26, 2021"
   ]
  }
 ],
 "metadata": {
  "kernelspec": {
   "display_name": "Python 3.8 (controlenv)",
   "language": "python",
   "name": "controlenv"
  },
  "language_info": {
   "codemirror_mode": {
    "name": "ipython",
    "version": 3
   },
   "file_extension": ".py",
   "mimetype": "text/x-python",
   "name": "python",
   "nbconvert_exporter": "python",
   "pygments_lexer": "ipython3",
   "version": "3.8.5"
  }
 },
 "nbformat": 4,
 "nbformat_minor": 4
}
