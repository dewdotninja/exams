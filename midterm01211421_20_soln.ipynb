{
 "cells": [
  {
   "cell_type": "markdown",
   "metadata": {},
   "source": [
    "<a href=\"https://colab.research.google.com/github/dewdotninja/exams/blob/master/midterm01211421_20_soln.ipynb\" target=\"_parent\"><img src=\"https://colab.research.google.com/assets/colab-badge.svg\" alt=\"Open In Colab\"/></a>"
   ]
  },
  {
   "cell_type": "markdown",
   "metadata": {},
   "source": [
    "<p align=\"left\">\n",
    "<img src=\"https://raw.githubusercontent.com/dewdotninja/exams/main/feng_heading.png\" width=400 alt=\"Feng heading\"/>\n",
    "</p>\n",
    "\n",
    "#### ข้อสอบกลางภาค ประจำภาคปลาย ปีการศึกษา 2563\n",
    "<br>สาขาวิศวกรรมไฟฟ้าเครื่องกลการผลิต\n",
    "<br>วิชา 01211421 Embedded systems for industrial control หมู่เรียน 1, 250\n",
    "<br>วันอาทิตย์ที่ 24 มกราคม 2564 16.00 - 19.00 ทางออนไลน์\n",
    "\n",
    "ให้นิสิตพิมพ์ ชื่อ นามสกุล รหัสนิสิต หมู่เรียน ในเซลด้านล่างนี้ "
   ]
  },
  {
   "cell_type": "code",
   "execution_count": null,
   "metadata": {},
   "outputs": [],
   "source": [
    "นายเฉลย ข้อสอบ รหัส 6010506258 "
   ]
  },
  {
   "cell_type": "markdown",
   "metadata": {},
   "source": [
    "### คำสั่ง\n",
    "\n",
    "1. ข้อสอบมี  ข้อ ให้ทำในไฟล์ notebook นี้ทั้งหมด โดยสามารถเพิ่มเซลได้ตามต้องการ \n",
    "2. เป็นแบบเปิดตำรา ใช้หนังสือหรือข้อมูลออนไลน์ได้ไม่จำกัด\n",
    "3. อธิบายและแสดงการคำนวณให้ชัดเจน สำหรับโจทย์ที่ต้องเขียนโปรแกรมแก้ปัญหา โปรแกรมต้องประมวลผลได้โดยไม่มีข้อผิดพลาดและให้คำตอบถูกต้องจึงได้คะแนนเต็ม\n",
    "4. ห้ามแก้ไขโจทย์โดยเด็ดขาด ผู้ที่แก้โจทย์จะได้คะแนนข้อนั้นเป็นศูนย์\n",
    "5. พารามิเตอร์ในโจทย์บางข้อขึ้นกับตัวเลข 3 หลักสุดท้ายของรหัสนิสิตของผู้ทำข้อสอบ ซึ่งจะต้องแทนค่าอย่างถูกต้องเท่านั้น (ดูคำอธิบายเพิ่มเติมด้านล่าง) \n",
    "6. สำหรับข้อที่โจทย์ให้เขียนโปรแกรม ถ้าจะใช้ซอฟต์แวร์อื่น อนุญาตเฉพาะ Scilab หรือ MATLAB เท่านั้น และจะต้องนำโค้ดที่สมบูรณ์มาใส่ในเซลเพื่อผู้ตรวจ\n",
    "สามารถตรวจสอบได้โดยง่าย <b>พร้อม capture ภาพที่แสดงคำตอบหรือกราฟมาวางโดยใช้ img tag โดยภาพอยู่ในลิงก์ URL สาธารณะ </b> ทั้งนี้เนื่องจาก\n",
    "เป็นกรรมวิธีที่ยุ่งยากและเสียเวลาขอแนะนำให้เขียนโค้ดทั้งหมดโดยใช้ภาษา Python บน Jupyter notebook\n"
   ]
  },
  {
   "cell_type": "markdown",
   "metadata": {},
   "source": [
    "<div align=\"center\">\n",
    "<b>รศ.ดร.พีรยุทธ์ ชาญเศรษฐิกุล</b>\t\t\tประธานกรรมการอำนวยการสอบ\n",
    "<br><b>ผศ.ดร.ประพจน์ ขุนทอง</b>\t\t\t\tกรรมการออกข้อสอบ\n",
    "<br><b>ดร.วโรดม ตู้จินดา</b>\t\t\t\t\tกรรมการออกข้อสอบ\n",
    "</div>\n"
   ]
  },
  {
   "cell_type": "markdown",
   "metadata": {},
   "source": [
    "***\n",
    "### สำหรับอาจารย์ผู้สอน\n",
    "\n",
    "| โจทย์ข้อสอบ | คะแนน |\n",
    "| --- | --- |\n",
    "| [1 (15 คะแนน)](#p1) |  |\n",
    "| [2 (15 คะแนน)](#p2) |  |\n",
    "| [3 (20 คะแนน)](#p3) |  |\n",
    "| [4 (20 คะแนน)](#p4) |  |\n",
    "| [5 (15 คะแนน)](#p5) |  |\n",
    "| [6 (15 คะแนน)](#p6) |  |"
   ]
  },
  {
   "cell_type": "markdown",
   "metadata": {},
   "source": [
    "### อธิบายเพิ่มเติมเกี่ยวกับค่าในโจทย์ข้อสอบ ที่ขึ้นกับตัวเลข 3 ตัวสุดท้ายของรหัสนิสิต คือ\n",
    "\n",
    "-------xyz  (ไม่สนใจเลขหลักอื่น )\n",
    "\n",
    "ถ้าตัวเลขตัวใดใน 3 หลักสุดท้ายเป็น 0 ให้แทนด้วยเลข 1 \n",
    "\n",
    "ตัวอย่างรหัสนิสิต\n",
    "\n",
    "นิสิต A : 6010552893  ได้ค่า x = 8, y = 9, z = 3\n",
    "\n",
    "นิสิต B : 6010502977  ได้ค่า x = 9, y = 7, z = 7\n",
    "\n",
    "นิสิต C : 6010503001 ได้ค่า x = 1, y = 1, z = 1\n",
    "\n",
    "ใช้ค่านี้กับโจทย์ทุกข้อในข้อสอบ\n",
    "\n",
    "เครื่องหมายที่ใช้ดำเนินการกับค่าตัวแปร\n",
    "\n",
    " $+$ บวก\n",
    "\n",
    " $-$  ลบ\n",
    "\n",
    " $*$  คูณ \n",
    "\n",
    " $/$ หาร\n",
    "\n",
    "$**$ ยกกำลัง\n",
    "\n",
    "รวมถึงฟังก์ชันทางคณิตศาสตร์ เช่น $\\exp(x)$, $\\sin(z*t)$\n",
    "\n",
    "หากตัวแปรฝังอยู่ในหลักหนึ่งของตัวเลข ให้แทนหลักนั้นด้วยค่าตัวแปรเลย เช่น x=8 y = 3, 12x7 = 1287, 4.3y5 = 4.335\n",
    "\n",
    "โจทย์อาจจำหนดเงื่อนไขขึ้นกับ x, y, z เช่น ถ้า x<5 ทำเงื่อนไข A นอกนั้นทำเงื่อนไข B \n",
    "\n",
    "ตัวอย่างโจทย์บอกว่า กำหนดให้ $R1 = 1000*x \\,\\Omega, C1 = 10*y \\,\\mu F$\n",
    "\n",
    "นิสิต A ทำโจทย์ด้วยค่า R1 = 8000 $\\Omega$, C1 = 90 $\\mu$F\n",
    "\n",
    "นิสิต B ทำโจทย์ด้วยค่า R1 = 9000 $\\Omega$, C1 = 70 $\\mu$F\n",
    "\n",
    "นิสิต C ทำโจทย์ด้วยค่า R1 = 1000 $\\Omega$, C1 = 10 $\\mu$F\n",
    "\n",
    "ถ้ามีตรงส่วนใดที่ไม่ชัดเจนในข้อสอบ ให้เขียนอธิบายว่าเข้าใจโจทย์อย่างไร หากผู้ตรวจเห็นว่าโจทย์เป็นเหตุทำให้เข้าใจผิดได้ จะให้คะแนนในส่วนนั้น"
   ]
  },
  {
   "cell_type": "code",
   "execution_count": null,
   "metadata": {},
   "outputs": [],
   "source": [
    "#หากใช้ Colab ทำข้อสอบ ต้องติดตั้งไลบรารีเพิ่ม\n",
    "!pip install slycot\n",
    "!pip install control"
   ]
  },
  {
   "cell_type": "code",
   "execution_count": 1,
   "metadata": {},
   "outputs": [],
   "source": [
    "# นำเข้าไลบรารีที่ต้องการใช้ (สามารถนำเข้าในเซลอื่นๆได้ตามต้องการ)\n",
    "import numpy as np\n",
    "import matplotlib.pyplot as plt\n",
    "import control as ctl"
   ]
  },
  {
   "cell_type": "markdown",
   "metadata": {},
   "source": [
    "### หมายเหตุ\n",
    "\n",
    "### <em>ในเฉลยนี้จะสมมุติว่าทำโดยนิสิตที่มีรหัส 6010506258 ถอดรหัสได้ x = 2, y = 5, z = 8 </em>"
   ]
  },
  {
   "cell_type": "markdown",
   "metadata": {},
   "source": [
    "***\n",
    "<a id=\"p1\"></a>\n",
    "P1. <b>(15 คะแนน)</b> รูปที่ 1 แสดงการต่อบัสร่วมระหว่าง MCU A ใช้ไฟเลี้ยง 5 โวลต์ และ MCU B ใช้ไฟเลี้ยง 3.3 โวลต์ โดยมี $R_L$ เป็นโหลดและ $R_A$, $R_B$ คือ\n",
    "ตัวต้านทาน pull-up ภายใน โดยข้อกำหนดทางไฟฟ้า อินพุตของ MCU B ไม่สามารถทนแรงดันที่สูงกว่าไฟเลี้ยง + 0.2  คือ 3.5 โวลต์ได้\n",
    "<p align=\"center\">\n",
    "<img src=\"https://drive.google.com/uc?id=1NZlcpxCjzBfSo3gksXRDrsyp51PL3Ffl\" width=500 alt=\"Figure 1\"/>\n",
    "</p>\n",
    "<div align=\"center\"><b>รูปที่ 1 บัสร่วมระหว่าง MCU ที่ใช้ไฟเลี้ยงต่างกัน</b></div>\n",
    "\n",
    "กำหนดให้ $R_A = R_B = 10*y \\,K\\Omega$ และ $R_L = 500*z \\,K\\Omega$ ให้วิเคราะห์วงจรดังนี้\n",
    "1. ในกรณีที่ไม่ต่อ $R_X$ แรงดัน $V_L$ บนบัสมีค่าเท่าไร? <b>(5 คะแนน)</b>\n",
    "2. หากพบว่าแรงดันในข้อ 1. มากกว่า 3.5 โวลต์ จะต้องใช้ตัวต้านทาน pull-up ภายนอกคือ $R_X$ ขั้นแรกเลือก $V_{CC}$ ระหว่าง 2 ตัวเลือกคือ 3.3 \n",
    "โวลต์ หรือ 5 โวลต์ <b>(5 คะแนน)</b>\n",
    "3. จาก $V_{CC}$ ที่เลือกในข้อ 2 ให้พล็อตกราฟแสดงความสัมพันธ์ของค่า $R_X$ กับค่า $V_L$ และจากกราฟพิจารณาค่าของ $R_X$ ที่ทำให้ได้ $V_X$\n",
    "น้อยกว่า 3.5 โวลต์ <b>(5 คะแนน)</b>\n",
    "\n",
    "#### คำตอบ"
   ]
  },
  {
   "cell_type": "code",
   "execution_count": 2,
   "metadata": {},
   "outputs": [
    {
     "name": "stdout",
     "output_type": "stream",
     "text": [
      "เมื่อไม่ต่อ R_X แรงดัน V_L เท่ากับ 4.124223602484472โวลต์\n"
     ]
    }
   ],
   "source": [
    "# 1. กรณีไม่ต่อ R_X คำนวณหา V_L\n",
    "R_A = 50000  # R_A = 10000*y , y = 5\n",
    "R_B = 50000  # R_B = R_A\n",
    "R_L = 4000000  # R_l = 500000*z , z = 8\n",
    "# ใช้วิธีการ superposition\n",
    "# V_L จากแหล่งจ่าย 5 โวลต์\n",
    "RL_parallel_RB = R_L*R_B/(R_L+R_B)\n",
    "V_L_5V = 5*RL_parallel_RB/(RL_parallel_RB+R_A) # voltage divider \n",
    "\n",
    "# V_L จากแหล่งจ่าย 3.3 โวลต์\n",
    "RL_parallel_RA = R_L*R_A/(R_L+R_A)\n",
    "V_L_3V3 = (3.3)*RL_parallel_RA/(RL_parallel_RA+R_B)\n",
    "\n",
    "# V_L รวม\n",
    "V_L = V_L_5V + V_L_3V3\n",
    "print(\"เมื่อไม่ต่อ R_X แรงดัน V_L เท่ากับ \"+str(V_L)+\"โวลต์\") "
   ]
  },
  {
   "cell_type": "code",
   "execution_count": 3,
   "metadata": {},
   "outputs": [],
   "source": [
    "# 2. เลิอกแรงดัน Vcc เท่ากับ 3.3 โวลต์\n",
    "Vcc = 3.3"
   ]
  },
  {
   "cell_type": "code",
   "execution_count": 8,
   "metadata": {
    "scrolled": true
   },
   "outputs": [
    {
     "data": {
      "image/png": "[encoded data removed]",
      "text/plain": [
       "<Figure size 432x288 with 1 Axes>"
      ]
     },
     "metadata": {
      "needs_background": "light"
     },
     "output_type": "display_data"
    }
   ],
   "source": [
    "# 3. จาก  𝑉𝐶𝐶  ที่เลือกในข้อ 2 ให้พล็อตกราฟแสดงความสัมพันธ์ของค่า  𝑅𝑋  กับค่า  𝑉𝐿  และจากกราฟเลือกค่าของ  𝑅𝑋  \n",
    "# ที่ทำให้ได้  𝑉𝑋  เท่ากับ 3.3 โวลต์ \n",
    "# จากโจทย์นี้สามารถใช้การคำนวณในข้อ 1 โดยแทน R_B ด้วย R_B//R_X และกำนหด R_X เป็นเวกเตอร์ที่แปรค่าในช่วง (อาจต้องรันหลายครั้ง\n",
    "# เพื่อเลือกช่วงที่เหมาะสม) โค้ดเป็นดังนี้\n",
    "R_X = np.arange(1000,10000)  # default step size = 1\n",
    "RB_p_RX = R_B*R_X/(R_B+R_X)  # R_B//R_X เป็นเวกเตอร์\n",
    "\n",
    "# ใช้วิธีการ superposition\n",
    "# V_L จากแหล่งจ่าย 5 โวลต์\n",
    "RL_p_RB_p_RX = R_L*RB_p_RX/(R_L+RB_p_RX)\n",
    "V_L_5V = 5*RL_p_RB_p_RX/(RL_p_RB_p_RX+R_A) # voltage divider \n",
    "\n",
    "# V_L จากแหล่งจ่าย 3.3 โวลต์\n",
    "RL_p_RA = R_L*R_A/(R_L+R_A)\n",
    "V_L_3V3 = (3.3)*RL_p_RA/(RL_p_RA + RB_p_RX)\n",
    "\n",
    "# V_L รวม\n",
    "V_L = V_L_5V + V_L_3V3\n",
    "\n",
    "plt.figure()\n",
    "plt.plot(R_X,V_L,'r-')\n",
    "plt.xlabel('$R_X (\\Omega)$')\n",
    "plt.ylabel('$V_L$ (Volts)')\n",
    "plt.grid(True)\n",
    "plt.title('Relationships between $R_X$ and $V_L$')\n",
    "plt.show()"
   ]
  },
  {
   "cell_type": "code",
   "execution_count": null,
   "metadata": {},
   "outputs": [],
   "source": [
    "# จากกราฟสรุปได้ว่าต่าสูงสุดของ R_X ที่ทำให้ได้ V_X น้อยกว่า 3.5 โวลต์ คือ 8000 โอห์ม"
   ]
  },
  {
   "cell_type": "code",
   "execution_count": 5,
   "metadata": {},
   "outputs": [
    {
     "data": {
      "image/png": "[encoded data removed]",
      "text/plain": [
       "<Figure size 432x288 with 1 Axes>"
      ]
     },
     "metadata": {
      "needs_background": "light"
     },
     "output_type": "display_data"
    }
   ],
   "source": [
    "# การโปรแกรมอีกแบบหนึ่งที่ยากกว่า เขียนเป็นฟังก์ชันเพื่อรองรับการเลือก Vcc 3.3 V หรือ 5 V \n",
    "# (ซึ่งใช้ตรวจสอบได้ว่าหากตัวเลือกหลังคือ Vcc = 5 จะทำให้เกิดปัญหา)\n",
    "\n",
    "def P1_3(Vcc, R_X):\n",
    "    \n",
    "    # ใช้วิธีการ superposition\n",
    "    # V_L จากแหล่งจ่าย 5 โวลต์\n",
    "    RL_p_RB_p_RX = 1/((1/R_L)+(1/R_B)+(1/R_X))\n",
    "    V_L_5V = 5*RL_p_RB_p_RX/(RL_p_RB_p_RX+R_A) # voltage divider \n",
    "\n",
    "    # V_L จากแหล่งจ่าย 3.3 โวลต์\n",
    "    RL_p_RA_p_RX = 1/((1/R_L)+(1/R_A)+(1/R_X))\n",
    "    V_L_3V3 = (3.3)*RL_p_RA_p_RX/(RL_p_RA_p_RX+R_B)\n",
    "\n",
    "    # V_L จากแหล่งจ่าย Vcc\n",
    "    RL_p_RA_p_RB = 1/((1/R_L)+(1/R_A)+(1/R_B))\n",
    "    V_L_Vcc = Vcc*RL_p_RA_p_RB/(RL_p_RA_p_RB+R_X)\n",
    "\n",
    "    # V_L รวม\n",
    "    V_L = V_L_5V + V_L_3V3 + V_L_Vcc\n",
    "\n",
    "    plt.figure()\n",
    "    plt.plot(R_X,V_L,'r-')\n",
    "    plt.xlabel('$R_X (\\Omega)$')\n",
    "    plt.ylabel('$V_L$ (Volts)')\n",
    "    plt.grid(True)\n",
    "    plt.title('Relationships between $R_X$ and $V_L$')\n",
    "    plt.show()\n",
    "    \n",
    "Vcc = 3.3 # 3.3 หรือ 5 โวลต์\n",
    "R_X = np.arange(1000,10000)  # default step size = 1 ปรับช่วงตามต้องการ\n",
    "P1_3(Vcc, R_X) # เรียกฟังก์ชัน"
   ]
  },
  {
   "cell_type": "code",
   "execution_count": 11,
   "metadata": {
    "scrolled": true
   },
   "outputs": [
    {
     "data": {
      "image/png": "[encoded data removed]",
      "text/plain": [
       "<Figure size 432x288 with 1 Axes>"
      ]
     },
     "metadata": {
      "needs_background": "light"
     },
     "output_type": "display_data"
    }
   ],
   "source": [
    "# ทดสอบผลจากการใช้ Vcc = 5\n",
    "\n",
    "Vcc = 5 # 3.3 หรือ 5 โวลต์\n",
    "R_X = np.arange(1000,500000,1000)  # ปรับช่วงตามต้องการ\n",
    "P1_3(Vcc, R_X) # เรียกฟังก์ชัน"
   ]
  },
  {
   "cell_type": "code",
   "execution_count": null,
   "metadata": {},
   "outputs": [],
   "source": [
    "# ซึ่งสอดคล้องกับความจริงคือ เมื่อ R_X เข้าสู่อนันต์ แรงดัน V_L จะเข้าสู่ค่า 4.1 โวลต์ ที่ได้ในคำตอบข้อ 1 ตือไม่ต่อ R_X นั่นเอง\n",
    "# ดังนั้นการใช้ Vcc = 5 โวลต์ ไม่สามารถทำให้ V_L ลดลงสู่ค่า 3.5 โวลต์ได้"
   ]
  },
  {
   "cell_type": "markdown",
   "metadata": {},
   "source": [
    "***\n",
    "<a id=\"p2\"></a>\n",
    "P2. <b>(15 คะแนน)</b> ใช้วิธีการเส้นโหลดหรือวิธีเชิงเลขก็ได้ เพื่อหากระแสที่ไหลผ่านลูปและแรงดันตกคร่อมตัวต้านทาน $V_R$\n",
    "<p align=\"center\">\n",
    "<img src=\"https://drive.google.com/uc?id=1sTkEtsFQZed2GOiFPK2wgw1q8qfzjXIh\" width=250 alt=\"Figure 2\"/>\n",
    "</p>\n",
    "<div align=\"center\"><b>รูปที่ 2 วงจรไดโอดกับตัวต้านทาน</b></div>\n",
    "\n",
    "กำหนดค่าต่างๆ ดังนี้ $V_B = (5 + z)$ volts, $R_L = (10*y) \\,\\,\\Omega$.\n",
    "\n",
    "<br>ความสัมพันธ์ของกระแสและแรงดันที่ตัวไดโอด\n",
    "\n",
    "$$i_D = I_{SAT}\\Bigg(exp\\Bigg(\\frac{v_D}{kT/q}\\Bigg)-1\\Bigg)$$\n",
    "\n",
    "ที่อุณหภูมิห้อง $I_{SAT} = 10^{-12} A, \\frac{kT}{q} = 0.0259\\; V$\n",
    "\n",
    "#### คำตอบ"
   ]
  },
  {
   "cell_type": "code",
   "execution_count": 2,
   "metadata": {},
   "outputs": [],
   "source": [
    "#แม้โจทย์ข้อนี้จะดูเหมือนกลับกันกับข้อการบ้าน HW1 แต่จะเห็นว่าหากเราทราบกระแสและแรงดันที่ไหลผ่านไดโอด ค่ากระแสก็จะเป็นคำตอบเดียวกัน i_R = i_D \n",
    "# ส่วนค่าแรงดัน V_R = V_B - V_D ดังนั้นจะเลือกใช้วิธีการเส้นโหลดหรือวิธีเชิงเลขก็ได้ในการหากระแสและแรงดันที่ไดโอด ในที่นี้จะเลือกวิธีการเชิงเลข\n",
    "y = 5\n",
    "z = 8 #จากรหัสนิสิต\n",
    "V_B = 5+z\n",
    "R_L = 10*y\n",
    "I_sat = 1e-12\n",
    "kt_q = 0.0259\n",
    "\n",
    "# initialization\n",
    "v_D1 = V_B/2\n",
    "v_D2 = V_B\n",
    "i_D1 = 1\n",
    "i_D2 = 2"
   ]
  },
  {
   "cell_type": "code",
   "execution_count": 3,
   "metadata": {},
   "outputs": [
    {
     "name": "stdout",
     "output_type": "stream",
     "text": [
      "id = 0.2464127185607388\n",
      "vd = 0.6793642339361162\n"
     ]
    }
   ],
   "source": [
    "while abs(i_D1 - i_D2)>1e-6:\n",
    "    i_D1 = (V_B - v_D1)/R_L\n",
    "    i_D2 = I_sat*(np.exp(v_D1/kt_q)-1)\n",
    "    if i_D1 > i_D2:\n",
    "        v_D1 = v_D1 + 0.5*(v_D2 - v_D1)\n",
    "    elif i_D2> i_D1:\n",
    "        v_D2 = v_D1\n",
    "        v_D1 = 0.5*v_D1\n",
    "    \n",
    "print(\"id = {}\".format(i_D1))\n",
    "print(\"vd = {}\".format(v_D2))"
   ]
  },
  {
   "cell_type": "code",
   "execution_count": 5,
   "metadata": {},
   "outputs": [
    {
     "name": "stdout",
     "output_type": "stream",
     "text": [
      "i = 0.2464127185607388 amp\n",
      "V_R = 12.320635766063884 volts\n"
     ]
    }
   ],
   "source": [
    "# ดังนั้นคำตอบคือ i = 0.25 amp  และ V_R = V_B - vd\n",
    "print(\"i = {} amp\".format(i_D1))\n",
    "print(\"V_R = {} volts\".format(V_B - v_D2))\n"
   ]
  },
  {
   "cell_type": "markdown",
   "metadata": {},
   "source": [
    "***\n",
    "<a id=\"p3\"></a>\n",
    "P3. <b>(20 คะแนน)</b> เราสามารถใช้วงจร wheatstone bridge เพื่อแปลงแรงกดบน stain guage เป็นแรงดันไฟฟ้าได้ แต่แรงดันที่ได้จะมีขนาดเล็กไม่เหมาะสมกับการนำไปเข้าขา A/D\n",
    "ของ MCU ทั่วไป รูปที่ 3 แสดงการต่อ wheatstone bridge ร่วมกับวงจร level shifter เพื่อปรับแรงดันจากเซนเซอร์ให้แกว่งอยู่ในช่วง 0 - 3.3 โวลต์\n",
    "<p align=\"center\">\n",
    "<img src=\"https://drive.google.com/uc?id=13ZdIA3wXjD_CToeBNkrKHDZg9P6t7n20\" width=750 alt=\"Figure 3\"/>\n",
    "</p>\n",
    "<div align=\"center\"><b>รูปที่ 3 การใช้งาน wheatstone bridge ร่วมกับวงจร level shifter</b></div>\n",
    "<ol>\n",
    "<li /> กำหนด $V_S = y$ โวลต์ $R_W = (100*x) \\,\\,\\Omega$ และ $R_X$ แปรผันในช่วง $R_W \\pm (10*z)\\, \\%$ จงออกแบบวงจร level shifter ที่แปลงแรงกัน $V_{ab}$ เป็นแรงดัน\n",
    "ที่แกว่งอยู่ในช่วง 0 - 3.3 โวลต์ (หากตัวต้านทานตัวใดไม่ต้องใช้ สามารตัดทิ้งไปได้) <b>(10 คะแนน)</b>\n",
    "<li /> พล็อตกราฟเพื่อแสดงว่าวงจร level shifter ที่ออกแบบทำงานได้ตามวัตถุประสงค์ โดยป้อนอินพุตเป็น sine wave \n",
    "ที่แทนการเปลี่ยนแปลงค่าความต้านทานของ $R_X$ ในช่วง $R_W \\pm (10*z)\\, \\%$ จะต้องได้เอาต์พุตของออปแอมป์แกว่งในช่วง 0 - 3.3 โวลต์ <b>(10 คะแนน)</b>\n",
    "</ol>\n",
    "\n",
    "#### คำตอบ"
   ]
  },
  {
   "cell_type": "code",
   "execution_count": 8,
   "metadata": {},
   "outputs": [
    {
     "name": "stdout",
     "output_type": "stream",
     "text": [
      "ค่าของ V_ab อยู่ระหว่าง -0.7142857142857144 ถึง 1.6666666666666667 โวลต์\n",
      "โดยมีค่ากลางอยู่ที่ 0.47619047619047616 โวลต์\n"
     ]
    }
   ],
   "source": [
    "# เริ่มจากการคำนวณหาค่าต่ำสุดและสูงสุดของ Vab \n",
    "x = 2 # จากรหัสนิสิต\n",
    "y = 5\n",
    "z = 8\n",
    "V_S = y\n",
    "V_a = V_S/2  # คงที่เนื่องจาก R_W มีค่าคงที่\n",
    "R_W = 100*x\n",
    "R_X_min = (1-0.1*z)*R_W\n",
    "R_X_max = (1+0.1*z)*R_W\n",
    "V_b_min = V_S*R_X_min/(R_W+R_X_min)  # voltage divider equation\n",
    "V_b_max = V_S*R_X_max/(R_W+R_X_max)\n",
    "V_ab_min = V_a - V_b_max\n",
    "V_ab_max = V_a - V_b_min\n",
    "print(\"ค่าของ V_ab อยู่ระหว่าง {} ถึง {} โวลต์\".format(V_ab_min,V_ab_max))\n",
    "print(\"โดยมีค่ากลางอยู่ที่ {} โวลต์\".format((V_ab_min+V_ab_max)/2))\n"
   ]
  },
  {
   "cell_type": "markdown",
   "metadata": {},
   "source": [
    "จากค่าที่ได้นำมาสร้างตารางความสัมพันธ์ระหว่าง $V_{in}$ และ $V_{out}$ เพื่อออกแบบวงจร level shifter\n",
    "\n",
    "| อินพุต | เอาต์พุต |\n",
    "| --- | --- |\n",
    "| -0.7 | 0 |\n",
    "| 0.48 | 1.65 |\n",
    "| 1.67 | 3.3 |\n",
    "\n",
    "สังเกตว่าย่านของอินพุตมีขนาดเล็กกว่าย่านของเอาต์พุต คือ 3.3 โวลต์"
   ]
  },
  {
   "cell_type": "code",
   "execution_count": 10,
   "metadata": {},
   "outputs": [
    {
     "name": "stdout",
     "output_type": "stream",
     "text": [
      "ย่านของอินพุต = 2.3809523809523814 โวลต์\n"
     ]
    }
   ],
   "source": [
    "print(\"ย่านของอินพุต = {} โวลต์\".format(V_ab_max - V_ab_min))"
   ]
  },
  {
   "cell_type": "markdown",
   "metadata": {},
   "source": [
    "ดังนั้นจึงไม่ต้องการวงจรแบ่งแรงดันสำหรับลดทอนสัญญาณ สามารถตัดวงจร $R_3, R_4$ ทิ้งไปได้ สมการของวงจร level shifter เหลือเพียง\n",
    "\n",
    "$$\n",
    "V_{out} = (1+K)V_{in} - KV_B\n",
    "$$\n",
    "<div align=\"right\">(1)</div>\n",
    "\n",
    "โดยนิยาม \n",
    "$$\n",
    "K = \\frac{R_2}{R_1}\n",
    "$$\n",
    "<div align=\"right\">(2)</div>\n",
    "\n",
    "จะเห็นว่าเป็นสมการ 2 ตัวแปร แก้สมการได้โดยป้อนค่าความสัมพันธ์อินพุต-เอาต์พุตจากตาราง จากแถวที่ 1 ได้ว่า\n",
    "$$\n",
    "0 = (1+K)(-0.7) - KV_B \\\\\n",
    "V_B = -\\frac{(0.7+0.7K)}{K}\n",
    "$$\n",
    "<div align=\"right\">(3)</div>\n",
    "\n",
    "จากแถวที่ 2 ของตาราง\n",
    "$$\n",
    "1.65 = (1+K)0.48 - KV_B \n",
    "$$\n",
    "\n",
    "แทนค่า $V_B$ จาก (3) และจัดรูปเพื่อหาค่า K จะได้\n",
    "$$\n",
    "K = 0.4\n",
    "$$\n",
    "\n",
    "ดังนั้น $R_2 = 0.4R_1$ แทนค่า $K$ ใน (3) ได้ $V_B = -2.45$ โวลต์\n",
    "\n",
    "2. พล็อตกราฟเพื่อแสดงว่าวงจร level shifter ที่ออกแบบทำงานได้ตามวัตถุประสงค์ โดยป้อนอินพุตเป็น sine wave \n",
    "ที่แทนการเปลี่ยนแปลงค่าความต้านทานของ $R_X$ ในช่วง $R_W \\pm (10*z)\\, \\%$ จะต้องได้เอาต์พุตของออปแอมป์แกว่งในช่วง 0 - 3.3 โวลต์ <b>\n",
    "\n"
   ]
  },
  {
   "cell_type": "code",
   "execution_count": 16,
   "metadata": {},
   "outputs": [
    {
     "name": "stdout",
     "output_type": "stream",
     "text": [
      "ค่าการแปรผันความต้านทาน R_X \n",
      "ค่าเฉลี่ย = 200\n",
      "ค่าต่ำสุด = 39.99999999999999\n",
      "ค่าสูงสุด = 360.0\n"
     ]
    }
   ],
   "source": [
    "# แสดงค่าการแปรผันของความต้านทาน R_X\n",
    "print(\"ค่าการแปรผันความต้านทาน R_X \")\n",
    "print(\"ค่าเฉลี่ย = {}\".format(R_W))\n",
    "print(\"ค่าต่ำสุด = {}\".format(R_X_min))\n",
    "print(\"ค่าสูงสุด = {}\".format(R_X_max))"
   ]
  },
  {
   "cell_type": "code",
   "execution_count": 15,
   "metadata": {
    "scrolled": true
   },
   "outputs": [
    {
     "data": {
      "image/png": "[encoded data removed]",
      "text/plain": [
       "<Figure size 432x288 with 2 Axes>"
      ]
     },
     "metadata": {
      "needs_background": "light"
     },
     "output_type": "display_data"
    }
   ],
   "source": [
    "# กำหนดค่าจากการออกแบบ level shifter\n",
    "K = 0.4\n",
    "# ตัวอย่างการเลือกค่า R1, R2 แต่ในการคำนวณด้านล่างจะใช้ค่า K กับ V_B เท่านั้น\n",
    "R1 = 10000 \n",
    "R2 = K*R1\n",
    "V_B = -2.45\n",
    "\n",
    "# สร้างเวกเตอร์การเปลี่ยนแปลงความต้านทานของ R_X เป็นรูปคลื่นไซน์\n",
    "tvec = np.arange(0,1,0.01) # เวกเตอร์เวลา\n",
    "om = 10  # ความถี่รูปคลื่นไซน์ (rad/s)\n",
    "# ค่าความต้านทานจะแกว่งอยู่ระหว่างค่าเฉลี่ยคือ R_W โดยมีขนาดการแกว่งคือ 0.1*z*R_W \n",
    "R_X_vec = R_W + (0.1*z*R_W)*np.sin(om*tvec)\n",
    "# แรงดัน V_ab ที่เป็นเวกเตอร์\n",
    "V_ab_vec = V_a - V_S*R_X_vec/(R_W+R_X_vec) \n",
    "# แรงดันที่เอาต์พุตของออปแอมป์ V_out \n",
    "Vout_vec = (1+K)*V_ab_vec - K*V_B\n",
    "\n",
    "# พล็อตความสัมพันธ์ R_X vs. V_out\n",
    "fig, (ax1, ax2) = plt.subplots(2)\n",
    "fig.suptitle('Problem 3 : Level shifter')\n",
    "ax1.plot(tvec,R_X_vec,'b-')\n",
    "ax1.grid(True)\n",
    "ax1.set_ylabel('$R_{X}(t)\\,\\Omega$')\n",
    "ax2.plot(tvec,Vout_vec,'r-')\n",
    "ax2.set_xlabel('time (s)')\n",
    "ax2.set_ylabel('$V_{out}(t)$')\n",
    "ax2.grid(True)\n"
   ]
  },
  {
   "cell_type": "code",
   "execution_count": 17,
   "metadata": {},
   "outputs": [
    {
     "name": "stdout",
     "output_type": "stream",
     "text": [
      "ค่าต่ำสุดของ R_X = 40.012278789743874\n",
      "ค่าสูงสุดของ R_X = 359.93177648664084\n",
      "ค่าต่ำสุดของ V_out = -0.01969539363443884\n",
      "ค่าสูงสุดของ V_out = 3.313034905795096\n"
     ]
    }
   ],
   "source": [
    "# หาค่าต่ำสุดและสูงสุดของกราฟเพื่อตรวจสอบความถูกต้อง\n",
    "print(\"ค่าต่ำสุดของ R_X = {}\".format(min(R_X_vec)))\n",
    "print(\"ค่าสูงสุดของ R_X = {}\".format(max(R_X_vec)))\n",
    "print(\"ค่าต่ำสุดของ V_out = {}\".format(min(Vout_vec)))\n",
    "print(\"ค่าสูงสุดของ V_out = {}\".format(max(Vout_vec)))"
   ]
  },
  {
   "cell_type": "code",
   "execution_count": null,
   "metadata": {},
   "outputs": [],
   "source": []
  },
  {
   "cell_type": "markdown",
   "metadata": {},
   "source": [
    "***\n",
    "<a id=\"p4\"></a>\n",
    "P.4 <b>(20 คะแนน)</b>ออกแบบ passive Low-Pass Filter (LPF) โดยใช้วงจร RC ในรูปที่ 4\n",
    "<p align=\"center\">\n",
    "<img src=\"https://drive.google.com/uc?id=1mW_6IREpdA-AWzwoKimafdWf-RYNm9Iq\" alt=\"Figure 4\"/>\n",
    "</p>\n",
    "<div align=\"center\"><b>รูปที่ 4 วงจร RC-LPF</b></div>\n",
    "\n",
    "<ol>\n",
    "<li />เลือกค่า R และ C เพื่อให้ได้ความถี่คัทออฟเท่ากับ $z$ Hz <b>(5 คะแนน)</b>\n",
    "<li />พล็อตแผนภาพโบเดเพื่อแสดงว่าความถี่คัทออฟได้ตามที่โจทย์กำหนด <b>(5 คะแนน)</b>\n",
    "<li />จำลองการทำงานของ LPFโดยกำหนดความถี่ของสัญญาณหลักรูปคลื่นไซน์ (ที่ LPF ยอมให้ผ่าน) เท่ากับ $0.1*z$ Hz และความถี่สัญญาณรบกวนรูปคลื่นไซน์\n",
    "เท่ากับ $10*z$ Hz พล็อตรูปสัญญาณอินพุตและเอาต์พุตของ LPF เปรียบเทียบกันจะเห็นการลดทอนสัญญาณรบกวนโดย LPF (ดูตัวอย่างรูปได้จาก Figure X.2 ด้านล่าง \n",
    "ของโมดูล <a href=\"https://github.com/dewdotninja/control_python/blob/main/ceb_m1.ipynb\">ceb_m1.ipynb</a>) <b>(10 คะแนน)</b>\n",
    "</ol>\n",
    "\n",
    "#### คำตอบ\n"
   ]
  },
  {
   "cell_type": "code",
   "execution_count": 4,
   "metadata": {},
   "outputs": [
    {
     "name": "stdout",
     "output_type": "stream",
     "text": [
      "ความถี่คัทออฟ = 50.26548245743669 rad/s\n"
     ]
    }
   ],
   "source": [
    "# define cutoff crequency\n",
    "f_o = 8 # จากรหัสนิสิต z = 8\n",
    "w_o = 2*np.pi*f_o\n",
    "print(\"ความถี่คัทออฟ = {} rad/s\".format(w_o))\n",
    "RC = 1/w_o"
   ]
  },
  {
   "cell_type": "code",
   "execution_count": 5,
   "metadata": {},
   "outputs": [
    {
     "name": "stdout",
     "output_type": "stream",
     "text": [
      "เลือก C = 0.1 uF ได้ค่าความต้านทาน R = 198943.6788648692\n"
     ]
    }
   ],
   "source": [
    "# 1. เลือกค่าอุปกรณ์ตัวหนึ่ง เช่น C = 0.1 uF คำนวณหาค่า R\n",
    "C = 0.1e-6\n",
    "R = RC/C\n",
    "print(\"เลือก C = 0.1 uF ได้ค่าความต้านทาน R = {}\".format(R))"
   ]
  },
  {
   "cell_type": "code",
   "execution_count": 6,
   "metadata": {},
   "outputs": [
    {
     "data": {
      "image/png": "[encoded data removed]",
      "text/plain": [
       "<Figure size 432x288 with 2 Axes>"
      ]
     },
     "metadata": {
      "needs_background": "light"
     },
     "output_type": "display_data"
    }
   ],
   "source": [
    "#2. พล็อตแผนภาพโบเดเพื่อแสดงว่าความถี่คัทออฟได้ตามที่โจทย์กำหนด\n",
    "num = 1\n",
    "den = [RC, 1]\n",
    "H = ctl.tf(num,den)\n",
    "mag, ph, om = ctl.bode_plot(H, dB = True,omega_limits=[1,100])"
   ]
  },
  {
   "cell_type": "markdown",
   "metadata": {},
   "source": [
    "จะเห็นว่าขนาดมีค่า -3 dB ที่ความถี่ประมาณ 50 rad/s ตามที่โจทย์กำหนด"
   ]
  },
  {
   "cell_type": "code",
   "execution_count": 9,
   "metadata": {},
   "outputs": [
    {
     "data": {
      "image/png": "[encoded data removed]",
      "text/plain": [
       "<Figure size 432x288 with 1 Axes>"
      ]
     },
     "metadata": {
      "needs_background": "light"
     },
     "output_type": "display_data"
    },
    {
     "data": {
      "image/png": "[encoded data removed]",
      "text/plain": [
       "<Figure size 432x288 with 1 Axes>"
      ]
     },
     "metadata": {
      "needs_background": "light"
     },
     "output_type": "display_data"
    }
   ],
   "source": [
    "#จำลองการทำงานของ LPFโดยกำหนดความถี่ของสัญญาณหลักรูปคลื่นไซน์ (ที่ LPF ยอมให้ผ่าน) เท่ากับ  0.1∗𝑧  Hz และความถี่สัญญาณรบกวนรูปคลื่นไซน์ \n",
    "# เท่ากับ  10∗𝑧  Hz \n",
    "\n",
    "z = 8 # จากรหัสนิสิต\n",
    "wb = 2*np.pi*0.1*z  # ความถี่สัญญาณหลัก\n",
    "wn = 2*np.pi*10*z   # ความถี่สัญญาณรบกวน\n",
    "tvec = np.arange(0,2,0.001) # ปรับย่านให้เหมาะสมกับโจทย์\n",
    "uvec = np.sin(wb*tvec) + 0.3*np.sin(wn*tvec)  # input is base signal plus noise\n",
    "t, yvec, x = ctl.forced_response(H, tvec, uvec)\n",
    "plt.figure()\n",
    "plt.plot(tvec,uvec,'r-')\n",
    "plt.grid('True')\n",
    "plt.xlabel('time (sec)')\n",
    "plt.ylabel('u(t)')\n",
    "plt.title('Input')\n",
    "plt.figure()\n",
    "plt.plot(t, yvec,'b-')\n",
    "plt.xlabel('time (sec)')\n",
    "plt.ylabel('y(t)')\n",
    "plt.title('Output')\n",
    "plt.grid('True')"
   ]
  },
  {
   "cell_type": "code",
   "execution_count": null,
   "metadata": {},
   "outputs": [],
   "source": []
  },
  {
   "cell_type": "markdown",
   "metadata": {},
   "source": [
    "***\n",
    "<a id=\"p5\"></a>\n",
    "P5. <b>(15 คะแนน)</b> จำลองผลตอบสนองขึ้นบันใด (step response) ของระบบป้อนกลับ PID ในรูปที่ 5\n",
    "<p align=\"center\">\n",
    "<img src=\"https://drive.google.com/uc?id=1RuV0fXW4lkJQiRx5PxPX1P7t7U8gZMz5\" width=600 alt=\"Figure 5\"/>\n",
    "</p>\n",
    "<div align=\"center\"><b>รูปที่ 5 ระบบป้อนกลับ PID</b></div>\n",
    "\n",
    "โดยกำหนด \n",
    "$$\n",
    "P(s) = \\frac{y}{(s+x)^3}\n",
    "$$\n",
    "\n",
    "ใช้สมการ PID \n",
    "$$\n",
    "C(s) = K_p + \\frac{K_i}{s} + K_ds\n",
    "$$\n",
    "\n",
    "<ol>\n",
    "<li />ปรับค่าพารามิเตอร์ PID ให้ระบบเสถียรและพล็อตผลตอบสนองขั้นบันไดที่ดีสุดเท่าที่ทำได้ ในคำตอบต้องแสดงค่า $K_p, K_i, K_d$ ที่ใช้ <b>(10 คะแนน)</b>\n",
    "<li />จากพล็อตของผลตอบสนองขั้นบันใด ให้หาค่าต่อไปนี้ <b>(5 คะแนน)</b>\n",
    "<ul>\n",
    "<li />ช่วงเวลาขาขึ้น (rise time) $t_r$\n",
    "<li />เปอร์เซนต์การพุ่งเกิน (% overshoot) $M_p$\n",
    "<li />ช่วงเวลาการเข้าสู่สถานะนิ่ง (settling time) $t_s$ \n",
    "</ul>\n",
    "<b>hint: </b>ดู Figure 2 ของ <a href=\"https://github.com/dewdotninja/control_python/blob/main/ceb_m2.ipynb\">module 2</a> สำหรับนิยามค่าเหล่านี้ \n",
    "</ol>\n",
    "\n",
    "สำหรับ PID simulation code สามารถใช้โค้ดจาก example 1 ของ \n",
    "<a href=\"https://github.com/dewdotninja/control_python/blob/main/ceb_m4.ipynb\">module 4</a> โดยเปลี่ยน $P(s)$ ให้ตรงกับที่โจทย์กำหนด\n",
    "\n",
    "#### คำตอบ"
   ]
  },
  {
   "cell_type": "code",
   "execution_count": 28,
   "metadata": {},
   "outputs": [
    {
     "data": {
      "text/latex": [
       "$$\\frac{5}{s^3 + 6 s^2 + 12 s + 8}$$"
      ],
      "text/plain": [
       "TransferFunction(array([5]), array([ 1,  6, 12,  8]))"
      ]
     },
     "execution_count": 28,
     "metadata": {},
     "output_type": "execute_result"
    }
   ],
   "source": [
    "# สร้างพลานต์จากพารามิเตอร์ในรหัสนิสิต\n",
    "x = 2\n",
    "y = 5\n",
    "pnum = y\n",
    "pden = [1, x]\n",
    "pden2 = np.convolve(pden, pden)  # (s+x)^2\n",
    "pden3 = np.convolve(pden2, pden)  # (s+x)^3\n",
    "P = ctl.tf(pnum,pden3)\n",
    "P"
   ]
  },
  {
   "cell_type": "code",
   "execution_count": 47,
   "metadata": {},
   "outputs": [],
   "source": [
    "# สร้างตัวควบคุม PID เป็นฟังก์ชันเพื่อสะดวกในการเรียกใช้ซ้ำในข้อ P.6\n",
    "# PID controller function\n",
    "def pid(Kp, Ki, Kd, P, tvec):\n",
    "    cnum = [Kd, Kp, Ki] \n",
    "    cden = [0, 1, 0]\n",
    "    C = ctl.tf(cnum,cden)\n",
    "\n",
    "    \n",
    "    r = np.ones(tvec.shape)\n",
    "    L = C*P\n",
    "    sys = ctl.feedback(L)\n",
    "    #print(sys)\n",
    "    T, y = ctl.step_response(sys, tvec)\n",
    "\n",
    "    plt.figure()\n",
    "    plt.plot(T,r,'b',T,y,'r-')\n",
    "    plt.grid('True')\n",
    "    plt.xlabel('time (sec)')\n",
    "    plt.ylabel('output')\n",
    "    \n",
    "    plt.legend(['step ref.','y'])\n",
    "    plt.show()\n",
    "    return T,y,r"
   ]
  },
  {
   "cell_type": "code",
   "execution_count": 48,
   "metadata": {},
   "outputs": [
    {
     "data": {
      "image/png": "[encoded data removed]",
      "text/plain": [
       "<Figure size 432x288 with 1 Axes>"
      ]
     },
     "metadata": {
      "needs_background": "light"
     },
     "output_type": "display_data"
    }
   ],
   "source": [
    "# เลือกค่า Kp, Ki, Kd จนกระทั่งได้ผลตอบสนองที่ดี\n",
    "Kp = 7\n",
    "Ki = 4\n",
    "Kd = 2\n",
    "tvec = np.arange(0,5,0.01)\n",
    "T,y1,r =pid(Kp, Ki, Kd, P, tvec)"
   ]
  },
  {
   "cell_type": "code",
   "execution_count": null,
   "metadata": {},
   "outputs": [],
   "source": [
    "# จากพารามิเตอร์ Kp = 7, Ki = 4, Kd = 2 อ่านค่าโดยประมาณจากกราฟผลตอบสนองขั้นบันไดดังนี้\n",
    "tr = 0.7 # วินาที\n",
    "Mp = 18 # เปอร์เซนต์\n",
    "ts = 2.8 # วินาที"
   ]
  },
  {
   "cell_type": "code",
   "execution_count": null,
   "metadata": {},
   "outputs": [],
   "source": []
  },
  {
   "cell_type": "markdown",
   "metadata": {},
   "source": [
    "***\n",
    "<a id=\"p6\"></a>\n",
    "P6. <b>(15 คะแนน)</b> ต่อเนื่องจากโจทย์ข้อ P5 ในกรณีที่ต้องการปรับแต่งตัวควบคุม PID โดยวิธีการทางความถี่ของ Zieler Nichols แต่ไม่ต้องการให้ระบบเสียเสภียรภาพ สามารถใช้\n",
    "วิธีการที่เรียกว่า automatic tuning โดยใช้รีเลย์ต่อแทนตัวควบคุมในระบบป้อนกลับดังในรูปที่ 6 ซึ่งสามารถศึกษาได้จาก \n",
    "<a href=\"https://github.com/dewdotninja/control_python/blob/main/autotuning.ipynb\">automatic tuning notebook </a> นี้\n",
    "<p align=\"center\">\n",
    "<img src=\"https://drive.google.com/uc?id=1kjQYk9mjzkWV7YNa5MyysGT8AzVCp21o\" width=600 alt=\"Figure 6\"/>\n",
    "</p>\n",
    "<div align=\"center\"><b>รูปที่ 6 การทำให้ระบบออสซิลเลทโดยต่อรีเลย์ในระบบป้อนกลับ</b></div>\n",
    "\n",
    "<p />ใน notebook ที่อ้างอิงนี้ยังได้ให้โค้ดที่สามารถคัดลอกมาแล้วทำมาแก้ไขให้ข้อมูล $P(s)$ ตรงกับโจทย์ของเรา \n",
    "<ol>\n",
    "<li />ใช้โค้ดจาก <a href=\"https://github.com/dewdotninja/control_python/blob/main/autotuning.ipynb\">automatic tuning notebook </a>\n",
    "ตามลิงก์ที่ให้ นำมาแปะในเซลด้านล่าง แก้ไขโค้ดส่วน $P(s)$ ให้ตรงกับโจทย์ของเรา แล้วรันเซลเพื่อจำลอง\n",
    "การออสซิลเลทของระบบป้อนกลับรีเลย์ <b>(5 คะแนน)</b>\n",
    "<li />จากเอาต์พุตที่ได้ คำนวณหาค่า $K_u$ และวัดค่าคาบเวลาการออสซิลเลท $T_u$ <b>(5 คะแนน)</b>\n",
    "<li />นำค่าที่ได้ไปปรับแต่งค่าพารามิเตอร์ PID โดยวิธีการ Ziegler Nicholes (ดูจากตาราง 2 ของ \n",
    "<a href=\"https://github.com/dewdotninja/control_python/blob/main/ceb_m4.ipynb\">module 4</a>) <b>(3 ขั้นตอนหลังรวมกัน 5 คะแนน)</b>\n",
    "<li />คัดลอกโค้ดจากข้อ P5 มาจำลองผลตอบสนองขั้นบันไดจากพารามิเตอร์ PID ที่ผ่านการปรับแต่ง\n",
    "<li />วิจารณ์ผลตอบสนองเปรียบเทียบกับผลในข้อ P.5 (ค่า $t_r, M_p, t_s$ ตัวใดดีกว่าเดิมหรือแย่กว่าเดิม ให้เหตุผล)\n",
    "</ol>\n",
    "\n",
    "#### คำตอบ"
   ]
  },
  {
   "cell_type": "code",
   "execution_count": 40,
   "metadata": {},
   "outputs": [
    {
     "name": "stdout",
     "output_type": "stream",
     "text": [
      "Discrete-time plant\n",
      "\n",
      "6.066e-07 z^3 + 1.82e-06 z^2 + 1.82e-06 z + 6.066e-07\n",
      "-----------------------------------------------------\n",
      "         z^3 - 2.941 z^2 + 2.882 z - 0.9418\n",
      "\n",
      "dt = 0.01\n",
      "\n"
     ]
    },
    {
     "data": {
      "image/png": "[encoded data removed]",
      "text/plain": [
       "<Figure size 432x288 with 1 Axes>"
      ]
     },
     "metadata": {
      "needs_background": "light"
     },
     "output_type": "display_data"
    },
    {
     "data": {
      "image/png": "[encoded data removed]",
      "text/plain": [
       "<Figure size 432x288 with 1 Axes>"
      ]
     },
     "metadata": {
      "needs_background": "light"
     },
     "output_type": "display_data"
    }
   ],
   "source": [
    "# นำโค้ดจาก  automatic tuning notebook ตามลิงก์ที่ให้ นำมาแปะในเซลด้านล่าง แก้ไขโค้ดส่วน  𝑃(𝑠)  ให้ตรงกับโจทย์ของเรา \n",
    "# แล้วรันเซลเพื่อจำลอง การออสซิลเลทของระบบป้อนกลับรีเลย์\n",
    "\n",
    "# เนื่องจากพลานต์ในโจทย์นี้อยู่ใน P แล้ว\n",
    "\n",
    "Ts = 0.01\n",
    "d = 10\n",
    "\n",
    "Pd = ctl.sample_system(P, Ts, method='tustin')\n",
    "print(\"Discrete-time plant\")\n",
    "print(Pd)\n",
    "Pdnum, Pdden = ctl.tfdata(Pd)\n",
    "#print(Pdnum)\n",
    "#print(Pdden)\n",
    "pdnum = np.squeeze(np.array(Pdnum))\n",
    "pdden = np.squeeze(np.array(Pdden))\n",
    "tvec = np.arange(0,15,Ts)  # change time scale to suit\n",
    "yvec = np.zeros(tvec.shape)\n",
    "uvec = np.zeros(tvec.shape)\n",
    "numorder = len(pdnum)  # 4 for this example\n",
    "denorder = len(pdden)  # 4\n",
    "y_prev = np.zeros((denorder,1)) \n",
    "u_prev = np.zeros((numorder,1))\n",
    "i = 0\n",
    "# perform discrete-time simulation \n",
    "for i in range(len(tvec)):\n",
    "\n",
    "    for k in range(numorder-1):\n",
    "        u_prev[k] = u_prev[k+1]\n",
    "    for k in range(denorder-1):\n",
    "        y_prev[k] = y_prev[k+1]\n",
    "        \n",
    "    if y_prev[denorder-1]>0:  # relay feedback\n",
    "        uvec[i] = -d\n",
    "    else:\n",
    "        uvec[i] = d\n",
    "    u_prev[numorder-1] = uvec[i]        \n",
    "    yvec[i] = pdnum[0]*uvec[i]\n",
    "    for k in range(denorder-1):\n",
    "        yvec[i] = yvec[i]+pdnum[k+1]*u_prev[numorder-2-k] - pdden[k+1]*y_prev[denorder-2-k]\n",
    "        #print(pdnum[k+1])\n",
    "        #print(pdden[k+1])\n",
    "        #print()\n",
    "    y_prev[denorder-1] = yvec[i]\n",
    "    \n",
    "# plot the result\n",
    "plt.figure()\n",
    "plt.plot(tvec,uvec,'r-')\n",
    "plt.grid('True')\n",
    "plt.xlabel('time (sec)')\n",
    "plt.ylabel('u(t)')\n",
    "plt.title(\"Relay output\")\n",
    "\n",
    "plt.figure()\n",
    "plt.plot(tvec, yvec,'b-')\n",
    "plt.grid('True')\n",
    "plt.xlabel('time (sec)')\n",
    "plt.ylabel('y(t)')\n",
    "\n",
    "plt.title(\"Plant output\")\n",
    "\n",
    "plt.show()\n"
   ]
  },
  {
   "cell_type": "markdown",
   "metadata": {},
   "source": [
    "จากเอาต์พุตวัดค่า $T_u$ ได้ประมาณ 1.8 ขนาดการแกว่งของเอาต์พุต $a = 1.1$ ดังนั้น $K_u$ คำนวณได้เท่ากับ"
   ]
  },
  {
   "cell_type": "code",
   "execution_count": 43,
   "metadata": {},
   "outputs": [
    {
     "data": {
      "text/plain": [
       "11.574904952137842"
      ]
     },
     "execution_count": 43,
     "metadata": {},
     "output_type": "execute_result"
    }
   ],
   "source": [
    "Tu = 1.8\n",
    "# d = 10 จากนิยามด้านบน\n",
    "a = 1.1\n",
    "Ku = 4*d/(np.pi*a)\n",
    "Ku"
   ]
  },
  {
   "cell_type": "code",
   "execution_count": 49,
   "metadata": {},
   "outputs": [
    {
     "data": {
      "image/png": "[encoded data removed]",
      "text/plain": [
       "<Figure size 432x288 with 1 Axes>"
      ]
     },
     "metadata": {
      "needs_background": "light"
     },
     "output_type": "display_data"
    }
   ],
   "source": [
    "# ปรับพารามิเตอร์ PID ตามวิธีของ ZNFD และพล็อตผลตอบสนองขั้นบันได\n",
    "Kp = 0.6*Ku\n",
    "Ki = 1.2*Ku/Tu\n",
    "Kd = 0.075*Ku*Tu\n",
    "tvec = np.arange(0,5,0.01)\n",
    "T,y2,r = pid(Kp, Ki, Kd, P, tvec)"
   ]
  },
  {
   "cell_type": "code",
   "execution_count": 51,
   "metadata": {},
   "outputs": [
    {
     "data": {
      "image/png": "[encoded data removed]",
      "text/plain": [
       "<Figure size 432x288 with 1 Axes>"
      ]
     },
     "metadata": {
      "needs_background": "light"
     },
     "output_type": "display_data"
    }
   ],
   "source": [
    "# เปรียบเทียบกับข้อ P.5 ที่ผลตอบสนองเก็บอยู่ในเวกเตอร์ y1\n",
    "plt.figure()\n",
    "plt.plot(T,r,'b-',T,y1,'g-',T,y2,'r-')\n",
    "plt.grid('True')\n",
    "plt.xlabel('time (sec)')\n",
    "plt.ylabel('output')\n",
    "plt.legend(['Ref.cmd','P.5 (trial)','P.6 (tuned)'])\n",
    "plt.title(\"Step response comparison\")\n",
    "\n",
    "plt.show()"
   ]
  },
  {
   "cell_type": "markdown",
   "metadata": {},
   "source": [
    "จากผลการเปรียบเทียบจะเห็นได้ว่าพารามิเตอร์ PID จากการปรับแต่งโดยวิธีลองผิดลองถูกกลับให้ผลตอบสนองดีกว่าค่า PID จากการปรับแต่ง PID อัตโนมัติ ซึ่ง\n",
    "เป็นตัวบอกว่าการปรับแต่งโดยอัตโนมัติไม่ได้ให้ค่าพารามิเตอร์ที่ดีที่สุด แต่จะเป็นค่าเริ่มต้นที่ทำให้ผู้ใช้สามารถปรับแต่งละเอียดเพิ่มเติมได้ต่อไป โดยทั่วไปผลจากวิธี \n",
    "ZNFD จะให้การพุ่งเกินที่ค่อนข้างสูงและผลตอบสนองแกว่งมาก \n",
    "\n",
    "ทั้งนี้ผู้ทำข้อสอบอาจได้การเปรียบเทียบที่แตกต่างกัน โดยเฉพาะหากไม่มีประสบการณ์ในการปรับ PID ผลตอบสนองที่ได้จากข้อ P.5 อาจด้อยกว่าวิธี auto-tuning"
   ]
  },
  {
   "cell_type": "markdown",
   "metadata": {},
   "source": [
    "***\n",
    "<div align=\"right\">Last update : 24 มกราคม 2564</div>"
   ]
  }
 ],
 "metadata": {
  "kernelspec": {
   "display_name": "Python 3.7 (controlenv)",
   "language": "python",
   "name": "controlennv"
  },
  "language_info": {
   "codemirror_mode": {
    "name": "ipython",
    "version": 3
   },
   "file_extension": ".py",
   "mimetype": "text/x-python",
   "name": "python",
   "nbconvert_exporter": "python",
   "pygments_lexer": "ipython3",
   "version": "3.7.9"
  }
 },
 "nbformat": 4,
 "nbformat_minor": 4
}
