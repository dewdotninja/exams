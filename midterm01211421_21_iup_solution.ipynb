{
 "cells": [
  {
   "cell_type": "markdown",
   "metadata": {},
   "source": [
    "<a href=\"https://colab.research.google.com/github/dewdotninja/exams/blob/master/midterm01211421_21_iup_solution.ipynb\" target=\"_parent\"><img src=\"https://colab.research.google.com/assets/colab-badge.svg\" alt=\"Open In Colab\"/></a>"
   ]
  },
  {
   "cell_type": "markdown",
   "metadata": {},
   "source": [
    "<p align=\"left\">\n",
    "<img src=\"https://raw.githubusercontent.com/dewdotninja/exams/main/feng_heading_en.png\" width=400 alt=\"Feng heading\"/>\n",
    "</p>\n",
    "\n",
    "#### Midterm Exam, Second Semester, Academic Year 2021\n",
    "<br>01211421 Embedded Systems for Industrial Control\n",
    "<br>Wednesday March 2, 2022 09.00 - 12.00\n",
    "<br>This exam is administered online via Google classroom only.\n",
    "\n",
    "Type student name - surname and ID in the cell below.\n"
   ]
  },
  {
   "cell_type": "code",
   "execution_count": null,
   "metadata": {},
   "outputs": [],
   "source": [
    "Midterm Solution 6010546104"
   ]
  },
  {
   "cell_type": "markdown",
   "metadata": {},
   "source": [
    "### Instructions\n",
    "\n",
    "1. You can use Colab environment or install Jupyter notebook on your local machine. \n",
    "Type your work solely on this notebook. You can add as many cells as you want. \n",
    "Formatting is not necessary as long as your texts/equations are understandable and \n",
    "answer the question clearly.\n",
    "2. Open books, notes and online resources.\n",
    "3. Explain clearly. Show details of your computation to receive full credits. For any problem \n",
    "that requires programming, your program should execute without error and give the correct \n",
    "result.\n",
    "4. Do not change any problem. \n",
    "5. Some parameters in the problem set may be a function of your student ID. You must make sure \n",
    "to substitute the right value for such parameters.\n",
    "6. In case you are totally hopeless with Python, the only other softwares that are allowed are MATLAB \n",
    "and Scilab. Students must provide complete MATLAB/Scilab scripts and also capture the \n",
    "output/graph images to the notebook by using the image tag with image files in a public URL.\n",
    "If some relevant information is missing, you may receive only partial credit. Since this is a \n",
    "time-consuming process and may be problematic, doing all your work with Python in Jupyter notebook\n",
    "is strongly recommended.\n",
    "7. The difficulty of each problem is indicated by level (1 = basic, 2 = intermediate, 3 = advanced). Normally, you\n",
    "should attempt to start with easy ones.\n",
    "8. <b>Important : </b>Students must submit your notebook promptly, in Google classroom only,\n",
    "when the 3-hour exam period expires. Resubmission is acceptable only within the exam period. \n",
    "<br><em>Anyone who submits/resubmits later than 10 minutes after the exam period, as indicated in the \n",
    "recorded history of Google classroom, may be considered cheating and may fail this exam.</em>\n",
    "\n"
   ]
  },
  {
   "cell_type": "markdown",
   "metadata": {},
   "source": [
    "***\n",
    "<div align=\"left\">\n",
    "<b>Assoc. Prof. Peerayuth Charnsethikul</b>  &emsp;      Head of Examination Committee\n",
    "<br><b>Asst. Prof. Prapot Kunthong</b>  &emsp;     Examination Committee\n",
    "<br><b>Dr. Varodom Toochinda</b>    &emsp;    Examination Committee\n",
    "</div>\n"
   ]
  },
  {
   "cell_type": "markdown",
   "metadata": {},
   "source": [
    "#### Further explantion about exam problem that may depend on the last 3 digits of your student ID\n",
    "\n",
    "-------xyz (other digits are disregarded)\n",
    "\n",
    "In case any digit in the last 3 are 0, it must be replaced by 5.\n",
    "\n",
    "#### Examples\n",
    "    \n",
    "Student A's ID - 6010555853 results in x = 8, y = 5, z = 3\n",
    "\n",
    "Student B 's ID - 6010546104 results in x = 1, y = 5, z = 4\n",
    "\n",
    "Student C 's ID - 6310055032 results in x = 5, y = 3, z = 2\n",
    "    \n",
    "These valuess are used for all the problems in the exam where x,y,and/or z appear. In this \n",
    "sense, the results from each student should be different even computed using the same methods.\n",
    "\n",
    "Operations that may be applied to the variables.\n",
    "\n",
    "$+$ addition\n",
    "\n",
    " $-$  subtraction\n",
    "\n",
    " $*$  multiplication \n",
    "\n",
    " $/$ division\n",
    "\n",
    "$**$ raise to the power (For example, x**z means $x^z$)\n",
    "\n",
    "including math opertions such as $\\exp(x)$, $\\sin(z*t)$\n",
    "\n",
    "If a variable is embedded in some digit of a value without any operation symbol, \n",
    "just replace that digit. \n",
    "<br>For example,  z=8 y = 3 $\\Rightarrow$ 12z7 = 1287, 4.3y5 = 4.335\n",
    "\n",
    "Conditional statement may be used, such as\n",
    "if x<5 do task A, otherwise do task B\n",
    "\n",
    "<em>Example: </em> Let $R1 = 1000*x \\,\\Omega, C1 = 10*y \\,\\mu F$\n",
    "\n",
    "<ul>\n",
    "<li />Student A (x=8, y=5) does this problem with R1 = 8000 $\\Omega$, C1 = 50 $\\mu$F\n",
    "<li />Student B (x=1, y=5) does this problem with R1 = 1000 $\\Omega$, C1 = 50 $\\mu$F\n",
    "<li />Student C (x=5, y=3) does this problem with R1 = 5000 $\\Omega$, C1 = 30 $\\mu$F\n",
    "</ul>\n",
    "\n",
    "If any exam problem is not clear enough, write in a cell how you interpret it. If several \n",
    "students get confused on that problem, the grader may decide to give full credit to all.\n",
    "\n"
   ]
  },
  {
   "cell_type": "code",
   "execution_count": null,
   "metadata": {},
   "outputs": [],
   "source": [
    "# You need to install these libraries in the Colab environment\n",
    "!pip install slycot\n",
    "!pip install control"
   ]
  },
  {
   "cell_type": "code",
   "execution_count": 1,
   "metadata": {},
   "outputs": [],
   "source": [
    "# import libraries you want to use\n",
    "import numpy as np\n",
    "import matplotlib.pyplot as plt\n",
    "import control as ctl"
   ]
  },
  {
   "cell_type": "code",
   "execution_count": 16,
   "metadata": {},
   "outputs": [],
   "source": [
    "# This solution assumes that the student ID is 6010546104\n",
    "# you may use these 3 variables for the rest of the notebook, but make sure that\n",
    "# you don't reassign any of them to some other value by mistake.\n",
    "x = 1\n",
    "y = 5 # 0 replaced by 5\n",
    "z = 4"
   ]
  },
  {
   "cell_type": "markdown",
   "metadata": {},
   "source": [
    "***\n",
    "### List of exam problems (100 points)\n",
    "\n",
    "* [P1. (10 points)(level 1)](#p1)\n",
    "* [P2. (10 points)(level 2)](#p2)\n",
    "* [P3. (10 points)(level 1)](#p3)\n",
    "* [P4. (15 points)(level 3)](#p4)\n",
    "* [P5. (20 points)(level 1)](#p5)\n",
    "* [P6. (15 points)(level 1)](#p6)\n",
    "* [P7. (20 points)(level 2)](#p7)"
   ]
  },
  {
   "cell_type": "markdown",
   "metadata": {},
   "source": [
    "***\n",
    "<a id=\"p1\"></a>\n",
    "#### P1. (10 points)(level 1)\n",
    "<br>Choose values of $R_S$ and $R_L$ to reduce the voltage from $V_S = z*10$ volts to $V_L = y$ volts. \n",
    "<p align=\"center\">\n",
    "<img src=\"https://raw.githubusercontent.com/dewdotninja/exams/main/example_prob.png\" width=200 alt=\"Figure 1\"/>\n",
    "</p>\n",
    "<div align=\"center\"><b>Figure 1 voltage divider circuit</b></div>\n"
   ]
  },
  {
   "cell_type": "code",
   "execution_count": 3,
   "metadata": {},
   "outputs": [
    {
     "name": "stdout",
     "output_type": "stream",
     "text": [
      "Vs = 40 Volts\n",
      "Vl = 5 Volts\n",
      "Choosing Rs = 1000 Ohms yields Rl = 7000.0 Ohms\n"
     ]
    }
   ],
   "source": [
    "Vs = 10*z\n",
    "Vl = y\n",
    "# optional\n",
    "print(\"Vs = {} Volts\".format(Vs))\n",
    "print(\"Vl = {} Volts\".format(Vl))\n",
    "# from voltage divider formula \n",
    "#Vl = Vs*Rs/(Rs+Rl)\n",
    "# Vl*Rs + Vl*Rl = Vs*Rs\n",
    "# Rl = (Vs*Rs - Vl*Rs)/Vl\n",
    "# So ,choose Rs and solve for Rl\n",
    "Rs = 1000 \n",
    "Rl = (Vs*Rs - Vl*Rs)/Vl\n",
    "print(\"Choosing Rs = {} Ohms yields Rl = {} Ohms\".format(Rs, Rl))"
   ]
  },
  {
   "cell_type": "markdown",
   "metadata": {},
   "source": [
    "<a id=\"p2\"></a>\n",
    "#### P2. (10 points)(level 2)\n",
    "Figure 2 shows two MCUs with different supply voltages share a common input. Let the internal pull-up resistor for\n",
    "MCU A equal $1000*y \\,\\Omega$, and MCU B equal $1000*z \\,\\Omega$\n",
    "<p align=\"center\">\n",
    "<img src=\"https://drive.google.com/uc?id=1LOk7DQItga8zAJYe-9cfVRJlyGLuxmTd\" width=550 alt=\"Figure 2\"/>\n",
    "</p>\n",
    "<div align=\"center\"><b>Figure 2 Two MCUs share a common input</b></div>\n",
    "<ol>\n",
    "<li />First assume no external pull-up resistor $R_X$. With SW1 open, compute the voltage $V_L$. (5 points) \n",
    "<li />Suppose that the maximum input voltage MCU B can tolerate is 3.5 volts. Depending on the values of your $R_A, R_B$, \n",
    "ths voltage $V_L$ may or may not exceed this limit. If it does not, you get 5 points for free for this subproblem. But,\n",
    "if it exeeds 3.5 volts, choose $V_{CC}$ from either +5 or +3.3 volts to be used as pull-up voltage for $R_X$ and then \n",
    "compute $R_X$ to achieve $V_L = 3.5$ volts. (5 points)\n",
    "</ol>"
   ]
  },
  {
   "cell_type": "code",
   "execution_count": 7,
   "metadata": {},
   "outputs": [],
   "source": [
    "# Resistor values from your ID\n",
    "Ra = 1000*y\n",
    "Rb = 1000*z"
   ]
  },
  {
   "cell_type": "code",
   "execution_count": 9,
   "metadata": {},
   "outputs": [
    {
     "name": "stdout",
     "output_type": "stream",
     "text": [
      "Vl = 4.055555555555555Volts\n"
     ]
    }
   ],
   "source": [
    "# 1. First assume no external pull-up resistor 𝑅x. With SW1 open, compute the voltage  𝑉l\n",
    "# Note from KVL  5 = i*Ra + i*Rb + 3.3\n",
    "# so first we need to find i\n",
    "i = (5-3.3)/(Ra + Rb)\n",
    "# then, \n",
    "Vl = i*Rb + 3.3\n",
    "print(\"Vl = \"+str(Vl)+\"Volts\")\n"
   ]
  },
  {
   "cell_type": "code",
   "execution_count": 10,
   "metadata": {},
   "outputs": [],
   "source": [
    "# 2. Since Vl> 3.5 volts, we must use external pullup\n",
    "# select Vcc = 3.3 volts (selecting Vcc = 5 volts will increage Vl!)\n",
    "Vcc = 3.3\n"
   ]
  },
  {
   "cell_type": "code",
   "execution_count": 12,
   "metadata": {
    "scrolled": true
   },
   "outputs": [
    {
     "data": {
      "image/png": "[encoded data removed]",
      "text/plain": [
       "<Figure size 432x288 with 1 Axes>"
      ]
     },
     "metadata": {
      "needs_background": "light"
     },
     "output_type": "display_data"
    }
   ],
   "source": [
    "# 3. There is more than one way to do this part. For example, I can plot Vl v.s. Rx and choose the value that \n",
    "# gives Vl = 3.5\n",
    "Rx = np.arange(500,1000) # create Rx as a vector \n",
    "# compute Vl the same way as before, with Rb replace by Rx in parallel with Rb\n",
    "Rx_p_Rb = Rx*Rb/(Rx+Rb)\n",
    "i = (5-3.3)/(Ra+Rx_p_Rb)\n",
    "Vl = i*Rx_p_Rb + 3.3\n",
    "plt.figure()\n",
    "plt.plot(Rx,Vl,'r-')\n",
    "plt.xlabel(\"$R_X (\\Omega)$\")\n",
    "plt.ylabel(\"$V_L (Vols)\")\n",
    "plt.grid(True)\n",
    "plt.show()"
   ]
  },
  {
   "cell_type": "code",
   "execution_count": null,
   "metadata": {},
   "outputs": [],
   "source": [
    "# From the plot, choose Rx = 800 Ohms"
   ]
  },
  {
   "cell_type": "markdown",
   "metadata": {},
   "source": [
    "<a id=\"p3\"></a>\n",
    "#### P3. (10 points)(level 1)\n",
    "Explain what the C program below does.\n",
    "\n",
    "\n"
   ]
  },
  {
   "cell_type": "code",
   "execution_count": null,
   "metadata": {},
   "outputs": [],
   "source": [
    "#define INTERVAL1 1000\n",
    "#define INTERVAL2 100\n",
    "#define LED1 D5\n",
    "#define LED2 D6\n",
    "\n",
    "int ledState = LOW;\n",
    "unsigned long previousMillis1 = 0, previousMillis2 = 0;\n",
    "\n",
    "void setup() {\n",
    "  pinMode(LED1, OUTPUT);\n",
    "  pinMode(LED2, OUTPUT);\n",
    "}\n",
    "\n",
    "void loop() {\n",
    "  unsigned long currentMillis = millis();\n",
    "  \n",
    "  if(currentMillis - previousMillis1 > INTERVAL1) {\n",
    "    previousMillis1 = currentMillis;  \n",
    "     \n",
    "    if (ledState == LOW)\n",
    "      ledState = HIGH;\n",
    "    else\n",
    "      ledState = LOW;\n",
    "      \n",
    "    digitalWrite(LED1, ledState);\n",
    "  }\n",
    "  if(currentMillis - previousMillis2 > INTERVAL2) {\n",
    "    previousMillis2 = currentMillis;  \n",
    "\n",
    "    digitalWrite(LED2, !digitalRead(LED2);\n",
    "  }  \n",
    "}\n"
   ]
  },
  {
   "cell_type": "code",
   "execution_count": null,
   "metadata": {},
   "outputs": [],
   "source": [
    "#This Arduino program controls blinking rate of 2 LEDs \"independently\" at 1 and 10 Hz, by using time information \n",
    "#from the internal MCU clock. The millis() function reads the current time and compare to the previous values. When\n",
    "# the difference exceeds the specified period (INTERVAL1 or INTERVAL2), the state of LED1 or LED2 is toggled.\n",
    "\n",
    "# This task is not possible with delay(), because millis() does not block loop execution."
   ]
  },
  {
   "cell_type": "markdown",
   "metadata": {},
   "source": [
    "<a id=\"p4\"></a>\n",
    "#### P4. (15 points)(level 3)\n",
    "We can simulate a linear system with electrical circuit. For example, a system with transfer function\n",
    "$$\n",
    "P(s) = \\frac{100*x}{(s+y)(s+z)}\n",
    "$$\n",
    "can be simulated using two-stage op-amps with R,C components as in Figure 4.\n",
    "\n",
    "<p align=\"center\">\n",
    "<img src=\"https://drive.google.com/uc?id=1mmsuzap4jjn7EFDFQI-kiYzrFZoC8xTC\" width=650 \n",
    "alt=\"Figure 4\"/>\n",
    "</p>\n",
    "<div align=\"center\"><b>Figure 4 Two-stage active LPF</b></div>\n",
    "\n",
    "<ol>\n",
    "<li />Choose value of all resistors and capacitors to yield the transfer function $P(s)$ above.\n",
    "(10 point)\n",
    "<li />Plot Bode frequency response of $P(s)$. (5 points)"
   ]
  },
  {
   "cell_type": "markdown",
   "metadata": {},
   "source": [
    "#### Solution\n",
    "\n",
    "This problem can be tackled by first realizing that the transfer function for a 1-stage active LPF is\n",
    "$$\n",
    "H(s) = \\frac{A}{R_FC_Fs + 1}\n",
    "$$\n",
    "where \n",
    "$$\n",
    "A = -\\frac{R_F}{R_S}\n",
    "$$\n",
    "\n",
    "Hence, with $x = 1, y = 5, z = 4$ it is more convenient to write $P(s)$ as\n",
    "$$\n",
    "P(s) = \\frac{5}{(0.2s+1)(0.25s+1)}\n",
    "$$"
   ]
  },
  {
   "cell_type": "markdown",
   "metadata": {},
   "source": [
    "One set of component values to yield this $P(s)$ is\n",
    "$$\n",
    "R_{S1} = 100K \\Omega, R_{F1} = 200K \\Omega, C_{F1} = 1 \\mu F \n",
    "$$\n",
    "\n",
    "$$\n",
    "R_{S2} = 83333 \\Omega, R_{F2} = 250K \\Omega, C_{F2} = 1 \\mu F \n",
    "$$"
   ]
  },
  {
   "cell_type": "code",
   "execution_count": null,
   "metadata": {},
   "outputs": [],
   "source": []
  },
  {
   "cell_type": "code",
   "execution_count": 21,
   "metadata": {},
   "outputs": [
    {
     "data": {
      "image/png": "[encoded data removed]",
      "text/plain": [
       "<Figure size 432x288 with 2 Axes>"
      ]
     },
     "metadata": {
      "needs_background": "light"
     },
     "output_type": "display_data"
    }
   ],
   "source": [
    "# construct P(s) and use ctl.bode_plot()\n",
    "s = ctl.tf('s')\n",
    "P = 100*x/((s+y)*(s+z))\n",
    "mag, ph, om = ctl.bode_plot(P, dB = True,omega_limits=[0.01,100])"
   ]
  },
  {
   "cell_type": "markdown",
   "metadata": {},
   "source": [
    "<a id=\"p5\"></a>\n",
    "#### P5. (20 points)(level 1)\n",
    "5a) Why MQTT protocol is preferred for real-time IoT communication, in contrast to, say, http? (3 points)"
   ]
  },
  {
   "cell_type": "code",
   "execution_count": null,
   "metadata": {},
   "outputs": [],
   "source": [
    "MQTT is a light-weight protocol; i.e., it does not require much overhead for transmission. "
   ]
  },
  {
   "cell_type": "markdown",
   "metadata": {},
   "source": [
    "5b) Explain what setup() and loop() functions do in an Arduino program. (3 points)"
   ]
  },
  {
   "cell_type": "code",
   "execution_count": null,
   "metadata": {},
   "outputs": [],
   "source": [
    "setup() contains instructions that need to be executed only once at the beginning, such as initialization for sensors,\n",
    "serial communication, WiFi connection etc.\n",
    "In contrast, code in loop() runs iteratively after setup() finishes, and it is repeated forever as long as power is\n",
    "supplied to MCU. So we would implement tasks such as sensor monitoring, display, PID control, waiting user interaction\n",
    "or external events."
   ]
  },
  {
   "cell_type": "markdown",
   "metadata": {},
   "source": [
    "5c) Explain how to use wildcard # to subscribe to a topic. (4 points)"
   ]
  },
  {
   "cell_type": "code",
   "execution_count": null,
   "metadata": {},
   "outputs": [],
   "source": [
    "The symbol # in part of a topic represents every word and all section of words within / after that position. \n",
    "If Subscribe topic / # is equivalent to subscribe all.\n"
   ]
  },
  {
   "cell_type": "markdown",
   "metadata": {},
   "source": [
    "5d) List 2 advantages of ESP8266 module over Arduino UNO. (4 points)"
   ]
  },
  {
   "cell_type": "code",
   "execution_count": null,
   "metadata": {},
   "outputs": [],
   "source": [
    "# 2 of the following \n",
    "1. ESP8266 is a 32-bit MCU while UNO is 8-bit\n",
    "2. ESP8266 has more flash memory and RAM.\n",
    "3. WiFi module is available on ESP8266.\n",
    "4. ESP8266 uses higher clock speed.\n"
   ]
  },
  {
   "cell_type": "markdown",
   "metadata": {},
   "source": [
    "5e) ESP8266 can output only a PWM signal in place of true analog signal. How can you convert it to a \n",
    "continuous signal (say, a sine wave) for audio application? (4 points)"
   ]
  },
  {
   "cell_type": "code",
   "execution_count": null,
   "metadata": {},
   "outputs": [],
   "source": [
    "We can feed a PWM output from ESP8266 to an LPF to achieve a continuous signal "
   ]
  },
  {
   "cell_type": "markdown",
   "metadata": {},
   "source": [
    "5f) Which product can provide true multitasking capability, ESP8266 or ESP32? Why? (3 points)"
   ]
  },
  {
   "cell_type": "code",
   "execution_count": null,
   "metadata": {},
   "outputs": [],
   "source": [
    "True multitasking application is possible with ESP32 due to its 2-core processing structure."
   ]
  },
  {
   "cell_type": "markdown",
   "metadata": {},
   "source": [
    "<a id=\"p6\"></a>\n",
    "#### P6. (15 points)(level 1)\n",
    "\n",
    "<ol>\n",
    "<li />Design a passive LPF with cutoff frequency = $z$ Hz using RC circuit as in Figure 6. (5 points)\n",
    "<li />Plot frequency response (Bode plot) to verify the cutoff frequency. (5 points)\n",
    "<li />Perform time-domain simulation with signal frequency $0.5*z$ Hz plus noise frequency = $5*z$ Hz. The output \n",
    "must be a cleaner signal than the input, with noise attenuated. (5 points)\n",
    "</ol>\n",
    "<p align=\"center\">\n",
    "<img src=\"https://drive.google.com/uc?id=1mW_6IREpdA-AWzwoKimafdWf-RYNm9Iq\" alt=\"Figure 2.1\"/>\n",
    "</p>\n",
    "<div align=\"center\"><b>Figure 6 a passive LPF using RC circuit</b></div>"
   ]
  },
  {
   "cell_type": "code",
   "execution_count": 4,
   "metadata": {},
   "outputs": [
    {
     "name": "stdout",
     "output_type": "stream",
     "text": [
      "Cutoff frequency = 25.132741228718345 rad/s\n"
     ]
    }
   ],
   "source": [
    "#1. Design a passive LPF with cutoff frequency =  𝑧  Hz using RC circuit as in Figure 6. \n",
    "# define cutoff frequency \n",
    "f_o = z \n",
    "w_o = 2*np.pi*f_o\n",
    "print(\"Cutoff frequency = {} rad/s\".format(w_o))"
   ]
  },
  {
   "cell_type": "code",
   "execution_count": 6,
   "metadata": {},
   "outputs": [
    {
     "name": "stdout",
     "output_type": "stream",
     "text": [
      "Selecting C = 1 uF yields R = 39788.735772973836\n"
     ]
    }
   ],
   "source": [
    "RC = 1/w_o\n",
    "# Choose one component and find the other . Ex. let C = 1 uF\n",
    "C = 1e-6\n",
    "R = RC/C\n",
    "print(\"Selecting C = 1 uF yields R = {}\".format(R))"
   ]
  },
  {
   "cell_type": "code",
   "execution_count": 7,
   "metadata": {},
   "outputs": [
    {
     "data": {
      "image/png": "[encoded data removed]",
      "text/plain": [
       "<Figure size 432x288 with 2 Axes>"
      ]
     },
     "metadata": {
      "needs_background": "light"
     },
     "output_type": "display_data"
    }
   ],
   "source": [
    "#2. Plot frequency response (Bode plot) to verify the cutoff frequency.\n",
    "num = 1\n",
    "den = [RC, 1]\n",
    "H = ctl.tf(num,den)\n",
    "mag, ph, om = ctl.bode_plot(H, dB = True,omega_limits=[1,100])"
   ]
  },
  {
   "cell_type": "code",
   "execution_count": 15,
   "metadata": {},
   "outputs": [
    {
     "data": {
      "image/png": "[encoded data removed]",
      "text/plain": [
       "<Figure size 432x288 with 1 Axes>"
      ]
     },
     "metadata": {
      "needs_background": "light"
     },
     "output_type": "display_data"
    },
    {
     "data": {
      "image/png": "[encoded data removed]",
      "text/plain": [
       "<Figure size 432x288 with 1 Axes>"
      ]
     },
     "metadata": {
      "needs_background": "light"
     },
     "output_type": "display_data"
    }
   ],
   "source": [
    "#3. Perform time-domain simulation with signal frequency  0.5∗𝑧  Hz plus noise frequency =  5∗𝑧  Hz. The output \n",
    "# must be a cleaner signal than the input, with noise attenuated. \n",
    "wb = 2*np.pi*0.5*z  # base signal frequency\n",
    "wn = 2*np.pi*5*z   # noise frequency\n",
    "tvec = np.arange(0,2,0.001) # adjust to suit the plot\n",
    "uvec = np.sin(wb*tvec) + 0.3*np.sin(wn*tvec)  # input is base signal plus noise\n",
    "t, yvec, xvec = ctl.forced_response(H, tvec, uvec)\n",
    "plt.figure()\n",
    "plt.plot(tvec,uvec,'r-')\n",
    "plt.grid('True')\n",
    "plt.xlabel('time (sec)')\n",
    "plt.ylabel('u(t)')\n",
    "plt.title('Input')\n",
    "plt.figure()\n",
    "plt.plot(t, yvec,'b-')\n",
    "plt.xlabel('time (sec)')\n",
    "plt.ylabel('y(t)')\n",
    "plt.title('Output')\n",
    "plt.grid('True')"
   ]
  },
  {
   "cell_type": "markdown",
   "metadata": {},
   "source": [
    "<a id=\"p7\"></a>\n",
    "#### P7. (20 points)(level 2)\n",
    "\n",
    "<p align=\"center\">\n",
    "<img src=\"https://drive.google.com/uc?id=1ri4tU7T_pV8G18XHX-rCkYQwMWdFZUf-\" width=700 alt=\"Figure 7\"/>\n",
    "</p>\n",
    "</p>\n",
    "<div align=\"center\"><b>Figure 7 level shifter circuit</b></div>\n",
    "<ol>\n",
    "<li />Design a level shifter circuit that accepts sensor signal in the range of $\\pm z$ volts and convert to range \n",
    "$0 - 3$ volts at output. (10 points)\n",
    "<li />Verify the design by generating a $\\pm z$ volts sinusoid wave input. The output should swing within \n",
    "$0 - 3$ volts. Plot both input and output waveforms.\n",
    "</ol>"
   ]
  },
  {
   "cell_type": "markdown",
   "metadata": {},
   "source": [
    "#### Solution"
   ]
  },
  {
   "cell_type": "code",
   "execution_count": 9,
   "metadata": {},
   "outputs": [
    {
     "name": "stdout",
     "output_type": "stream",
     "text": [
      "Input = +/- 4 volts\n"
     ]
    }
   ],
   "source": [
    "print(\"Input = +/- {} volts\".format(z))"
   ]
  },
  {
   "cell_type": "markdown",
   "metadata": {},
   "source": [
    "The output of level shifter is dictated by the following equation\n",
    "$$\n",
    "V_{out} = \\Big(\\frac{R_4}{R_3+R_4}\\Big)\\Big(1+\\frac{R_2}{R_1}\\Big)V_{in} - \\Big(\\frac{R_2}{R_1}\\Big)V_B\n",
    "$$\n",
    "<div align=\"right\">(1)</div>\n",
    "with mapping\n",
    "\n",
    "\n",
    "| Input | Output |\n",
    "| --- | --- |\n",
    "| 4 V | 3 V |\n",
    "| 0 V | 1.5 V |\n",
    "| -4 V | 0 V |\n",
    "\n",
    "When $V_{in} = 0$, We\n",
    "want to create the 1.5 V DC bias that the AC command signal will ride on. This can be done by\n",
    "selecting \n",
    "$$\n",
    "R1 = R2 \n",
    "$$\n",
    "and \n",
    "$$\n",
    "V_B = -1.5 \n",
    "$$\n",
    "Now, we want to make the AC output part of the op-amp\n",
    "swing within $\\pm 1.5$ V range. Observe that with $V_B = 0, R1 = R2$ yields the non-inverting \n",
    "gain of 2. So the signal at non-inverting pin must equal $\\pm 0.75$ V. Using the voltage divider \n",
    "formula, we have\n",
    "\n",
    "$$\n",
    "\\frac{R_4}{R_3 + R_4}(4) = 0.75\n",
    "$$\n",
    "\n",
    "Hence,\n",
    "\n",
    "$$\n",
    "R_3 = 4.33R_4\n",
    "$$\n",
    "\n"
   ]
  },
  {
   "cell_type": "code",
   "execution_count": 12,
   "metadata": {},
   "outputs": [
    {
     "data": {
      "image/png": "[encoded data removed]",
      "text/plain": [
       "<Figure size 432x288 with 2 Axes>"
      ]
     },
     "metadata": {
      "needs_background": "light"
     },
     "output_type": "display_data"
    }
   ],
   "source": [
    "# Verify the design\n",
    "Vb = -1.5\n",
    "R1 = 10000;\n",
    "R2 = 10000;\n",
    "R4 = 10000;\n",
    "R3 = 4.33*R4;\n",
    "\n",
    "tvec = np.arange(0,1,0.01)\n",
    "om = 10\n",
    "Vin = z*np.sin(om*tvec)\n",
    "Vout = (R4/(R3+R4))*(1+R2/R1)*Vin - (R2/R1)*Vb\n",
    "\n",
    "fig, (ax1, ax2) = plt.subplots(2)\n",
    "fig.suptitle('Level shifter example')\n",
    "ax1.plot(tvec,Vin,'b-')\n",
    "ax1.grid(True)\n",
    "ax1.set_ylabel('$V_{in}(t)$')\n",
    "ax2.plot(tvec,Vout,'r-')\n",
    "ax2.set_xlabel('time (s)')\n",
    "ax2.set_ylabel('$V_{out}(t)$')\n",
    "ax2.grid(True)\n"
   ]
  },
  {
   "cell_type": "code",
   "execution_count": null,
   "metadata": {},
   "outputs": [],
   "source": []
  },
  {
   "cell_type": "markdown",
   "metadata": {},
   "source": [
    "<div align=right>Revision A : Feb 26,2021</div>"
   ]
  }
 ],
 "metadata": {
  "kernelspec": {
   "display_name": "Python 3.7 (controlenv)",
   "language": "python",
   "name": "controlenv"
  },
  "language_info": {
   "codemirror_mode": {
    "name": "ipython",
    "version": 3
   },
   "file_extension": ".py",
   "mimetype": "text/x-python",
   "name": "python",
   "nbconvert_exporter": "python",
   "pygments_lexer": "ipython3",
   "version": "3.7.9"
  }
 },
 "nbformat": 4,
 "nbformat_minor": 4
}
