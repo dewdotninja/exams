{
 "cells": [
  {
   "cell_type": "markdown",
   "metadata": {},
   "source": [
    "<a href=\"https://colab.research.google.com/github/dewdotninja/exams/blob/master/final01208583_21.ipynb\" target=\"_parent\"><img src=\"https://colab.research.google.com/assets/colab-badge.svg\" alt=\"Open In Colab\"/></a>"
   ]
  },
  {
   "cell_type": "markdown",
   "metadata": {},
   "source": [
    "<p align=\"left\">\n",
    "<img src=\"https://raw.githubusercontent.com/dewdotninja/exams/main/feng_heading.png\" width=400 alt=\"Feng heading\"/>\n",
    "</p>\n",
    "\n",
    "#### ข้อสอบปลายภาคออนไลน์ 2564\n",
    "<br>ภาควิชาวิศวกรรมเครื่องกล \n",
    "<br>วิชา 01208583 Robotics \n",
    "<br>วันอาทิตย์ที่ 9 พฤษภาคม 2564 13.00-16.00 ทางออนไลน์\n",
    "\n",
    "ให้นิสิตพิมพ์ ชื่อ นามสกุล รหัสนิสิต หมู่เรียน ในเซลด้านล่างนี้ "
   ]
  },
  {
   "cell_type": "code",
   "execution_count": null,
   "metadata": {},
   "outputs": [],
   "source": []
  },
  {
   "cell_type": "markdown",
   "metadata": {},
   "source": [
    "### คำสั่ง\n",
    "\n",
    "1. ให้ทำข้อสอบในไฟล์ notebook นี้ทั้งหมด โดยสามารถเพิ่มเซลได้ตามต้องการ \n",
    "2. เป็นแบบเปิดตำรา ใช้หนังสือหรือข้อมูลออนไลน์ได้ไม่จำกัด\n",
    "3. อธิบายและแสดงการคำนวณให้ชัดเจน สำหรับโจทย์ที่ต้องเขียนโปรแกรมแก้ปัญหา โปรแกรมต้องประมวลผลได้โดยไม่มีข้อผิดพลาดและให้คำตอบถูกต้องจึงได้คะแนนเต็ม\n",
    "4. ห้ามแก้ไขโจทย์โดยเด็ดขาด ผู้ที่แก้โจทย์จะได้คะแนนข้อนั้นเป็นศูนย์\n",
    "5. พารามิเตอร์ในโจทย์บางข้อขึ้นกับตัวเลข 3 หลักสุดท้ายของรหัสนิสิตของผู้ทำข้อสอบ ซึ่งจะต้องแทนค่าอย่างถูกต้องเท่านั้น (ดูคำอธิบายเพิ่มเติมด้านล่าง) \n",
    "6. สำหรับข้อที่โจทย์ให้เขียนโปรแกรม ถ้าจะใช้ซอฟต์แวร์อื่น อนุญาตเฉพาะ Scilab หรือ MATLAB เท่านั้น และจะต้องนำโค้ดที่สมบูรณ์มาใส่ในเซลเพื่อผู้ตรวจ\n",
    "สามารถตรวจสอบได้โดยง่าย <b>พร้อม capture ภาพที่แสดงคำตอบหรือกราฟมาวางโดยใช้ img tag โดยภาพอยู่ในลิงก์ URL สาธารณะ </b> ทั้งนี้เนื่องจาก\n",
    "เป็นกรรมวิธีที่ยุ่งยากและเสียเวลาขอแนะนำให้เขียนโค้ดทั้งหมดโดยใช้ภาษา Python บน Jupyter notebook\n"
   ]
  },
  {
   "cell_type": "markdown",
   "metadata": {},
   "source": [
    "<div align=\"center\">\n",
    "<b>รศ.ดร.พีรยุทธ์ ชาญเศรษฐิกุล</b>\t\t\tประธานกรรมการอำนวยการสอบ\n",
    "<br><b>ผศ.ดร.ประพจน์ ขุนทอง</b>\t\t\t\tกรรมการออกข้อสอบ\n",
    "<br><b>ดร.วโรดม ตู้จินดา</b>\t\t\t\t\tกรรมการออกข้อสอบ\n",
    "</div>\n"
   ]
  },
  {
   "cell_type": "markdown",
   "metadata": {},
   "source": [
    "***\n",
    "### คะแนนของโจทย์ข้อสอบแต่ละข้อ (รวม 100 คะแนน)\n",
    "\n",
    "| โจทย์ข้อสอบ | คะแนน |\n",
    "| --- | --- |\n",
    "| [1 ](#p1) | (15 คะแนน) |\n",
    "| [2 ](#p2) | (20 คะแนน) |\n",
    "| [3 ](#p3) | (30 คะแนน) |\n",
    "| [4 ](#p4) | (20 คะแนน) |\n",
    "| [5 ](#p5) | (15 คะแนน) |\n"
   ]
  },
  {
   "cell_type": "markdown",
   "metadata": {},
   "source": [
    "### อธิบายเพิ่มเติมเกี่ยวกับค่าในโจทย์ข้อสอบ ที่ขึ้นกับตัวเลข 3 ตัวสุดท้ายของรหัสนิสิต คือ\n",
    "\n",
    "-------xyz  (ไม่สนใจเลขหลักอื่น )\n",
    "\n",
    "ถ้าตัวเลขตัวใดใน 3 หลักสุดท้ายเป็น 0 ให้แทนด้วยเลข 5 \n",
    "\n",
    "ตัวอย่างรหัสนิสิต\n",
    "\n",
    "นิสิต A : 6010552893  ได้ค่า x = 8, y = 9, z = 3\n",
    "\n",
    "นิสิต B : 6010502977  ได้ค่า x = 9, y = 7, z = 7\n",
    "\n",
    "นิสิต C : 6010503001 ได้ค่า x = 5, y = 5, z = 1\n",
    "\n",
    "ใช้ค่านี้กับโจทย์ทุกข้อในข้อสอบ\n",
    "\n",
    "เครื่องหมายที่ใช้ดำเนินการกับค่าตัวแปร\n",
    "\n",
    " $+$ บวก\n",
    "\n",
    " $-$  ลบ\n",
    "\n",
    " $*$  คูณ \n",
    "\n",
    " $/$ หาร\n",
    "\n",
    "$**$ ยกกำลัง\n",
    "\n",
    "รวมถึงฟังก์ชันทางคณิตศาสตร์ เช่น $\\exp(x)$, $\\sin(z*t)$\n",
    "\n",
    "หากตัวแปรฝังอยู่ในหลักหนึ่งของตัวเลข ให้แทนหลักนั้นด้วยค่าตัวแปรเลย เช่น x=8 y = 3, 12x7 = 1287, 4.3y5 = 4.335\n",
    "\n",
    "โจทย์อาจจำหนดเงื่อนไขขึ้นกับ x, y, z เช่น ถ้า x<5 ทำเงื่อนไข A นอกนั้นทำเงื่อนไข B \n",
    "\n",
    "ตัวอย่างโจทย์บอกว่า กำหนดให้ $R1 = 1000*x \\,\\Omega, C1 = 10*y \\,\\mu F$\n",
    "\n",
    "นิสิต A ทำโจทย์ด้วยค่า R1 = 8000 $\\Omega$, C1 = 90 $\\mu$F\n",
    "\n",
    "นิสิต B ทำโจทย์ด้วยค่า R1 = 9000 $\\Omega$, C1 = 70 $\\mu$F\n",
    "\n",
    "นิสิต C ทำโจทย์ด้วยค่า R1 = 1000 $\\Omega$, C1 = 10 $\\mu$F\n",
    "\n",
    "ถ้ามีตรงส่วนใดที่ไม่ชัดเจนในข้อสอบ ให้เขียนอธิบายว่าเข้าใจโจทย์อย่างไร หากผู้ตรวจเห็นว่าโจทย์เป็นเหตุทำให้เข้าใจผิดได้ จะให้คะแนนในส่วนนั้น"
   ]
  },
  {
   "cell_type": "code",
   "execution_count": null,
   "metadata": {},
   "outputs": [],
   "source": [
    "#หากใช้ Colab ทำข้อสอบ ต้องติดตั้งไลบรารีเพิ่ม\n",
    "!pip install slycot\n",
    "!pip install control"
   ]
  },
  {
   "cell_type": "code",
   "execution_count": 1,
   "metadata": {},
   "outputs": [],
   "source": [
    "# นำเข้าไลบรารีที่ต้องการใช้ (สามารถนำเข้าในเซลอื่นๆได้ตามต้องการ)\n",
    "import numpy as np\n",
    "import matplotlib.pyplot as plt\n",
    "import control as ctl"
   ]
  },
  {
   "cell_type": "markdown",
   "metadata": {},
   "source": [
    "***\n",
    "<a id=\"p1\"></a>\n",
    "#### P1 (15 คะแนน) \n",
    "\n",
    "กำเนิดแนววิถีดังแสดงในรูปที่ 1 โดยวิธี cubic polynomial \n",
    "\n",
    "<b>Hint : </b>ใช้โค้ดจาก HW1 เปลี่ยนฟังก์ชัน qpoly() เป็น cpoly() โดยศึกษาจาก cpoly.sci ในเครื่องมือ RTSX บน Scilab \n",
    "\n",
    "<p align=\"center\">\n",
    "<img src=\"https://drive.google.com/uc?id=1iRrPU8tFWpN6aD7mY9YkuPRzkxEVKJ5t\" width=550 alt=\"Figure 1\"/>\n",
    "</p>\n",
    "<div align=\"center\"><b>รูปที่ 1 แนววิถี 3 ส่วนย่อยสำหรับโจทย์ข้อ P1</b></div>"
   ]
  },
  {
   "cell_type": "code",
   "execution_count": null,
   "metadata": {},
   "outputs": [],
   "source": []
  },
  {
   "cell_type": "code",
   "execution_count": null,
   "metadata": {},
   "outputs": [],
   "source": []
  },
  {
   "cell_type": "code",
   "execution_count": null,
   "metadata": {},
   "outputs": [],
   "source": []
  },
  {
   "cell_type": "markdown",
   "metadata": {},
   "source": [
    "***\n",
    "<a id=\"p2\"></a>\n",
    "#### P2 (20 คะแนน)\n",
    "\n",
    "ออกแบบตัวควบคุมสำหรับข้อต่อหุ่นยนต์ขับเคลื่อนโดยดีซีมอเตอร์ มีฟังก์ชันถ่ายโอนเท่ากับ\n",
    "\n",
    "\\begin{equation} \n",
    "P(s) = \\frac{1}{zs^2 + 0.01s}\n",
    "\\end{equation}\n",
    "\n",
    "โดยมีข้อกำหนดที่ต้องการดังนี้\n",
    "<ol>\n",
    "<li> ค่าผิดพลาดในสถานะนิ่งเป็นศูนย์ </li>\n",
    "<li> การรบกวนในย่านความถี่ต่ำถูกลดทอนลง $0.00y$ หรือน้อยกว่า ในย่านความถี่ต่ำกว่า 0.1 rad/s </li>\n",
    "<li> สัญญาณรบกวนในย่านความถี่สูงถูกลดทอนลง $0.0z$ หรือน้อยกว่า ในย่านความถี่สูงกว่า 80 rad/s </li>\n",
    "<li> ระบบป้อนกลับเสถียร โดยมีค่าความเผื่อเฟสอย่างน้อย 30 องศา</li>\n",
    "</ol>\n",
    "\n",
    "ใช้โค้ดจากการบ้าน HW2 เกณฑ์การให้คะแนนคือ\n",
    "<ul>\n",
    "<li />ผลตอบสนองความถี่ของ $L(s)$ ได้ตามข้อกำหนด (10 คะแนน)\n",
    "<li />จำลองการทำงาน (tracking, disturbance & noise attenuation) ให้เห็นว่าได้ตามข้อกำหนด (10 คะแนน)\n",
    "</ul>"
   ]
  },
  {
   "cell_type": "code",
   "execution_count": null,
   "metadata": {},
   "outputs": [],
   "source": []
  },
  {
   "cell_type": "code",
   "execution_count": null,
   "metadata": {},
   "outputs": [],
   "source": []
  },
  {
   "cell_type": "code",
   "execution_count": null,
   "metadata": {},
   "outputs": [],
   "source": []
  },
  {
   "cell_type": "markdown",
   "metadata": {},
   "source": [
    "***\n",
    "<a id=\"p3\"></a>\n",
    "#### P3 (30 คะแนน)\n",
    "\n",
    "3a) จากรูปจงแสดงให้เห็นว่า เมื่อกราฟของ $L(j\\omega)$ อยู่ในวงกลม (พื้นที่แรเงา) จะสัมพันธ์กับ $|S(j\\omega)| \\gt 1$ (10 คะแนน)\n",
    "\n",
    "<b>Hint : </b>เริ่มต้นจากนิยามของ $S(s)$ \n",
    "<p align=\"center\">\n",
    "<img src=\"https://drive.google.com/uc?id=1FQokr7qFAbr5gWJWSn3mQRRQKKG7a0Y2\" width=350 alt=\"Figure 3a\"/>\n",
    "</p>\n",
    "<div align=\"center\"><b>รูปที่ 3a) ความสัมพันธ์ระหว่าง $L(j\\omega)$ และ $S(j\\omega)$</b></div>\n"
   ]
  },
  {
   "cell_type": "code",
   "execution_count": null,
   "metadata": {},
   "outputs": [],
   "source": []
  },
  {
   "cell_type": "markdown",
   "metadata": {},
   "source": [
    "3b) อธิบายว่าทำไมตัวควบคุมป้อนกลับสัดส่วนเพียงอย่างเดียว (proportional control) จึงใช้งานได้ไม่ดีสำหรับการควบคุมข้อต่อหุ่นยนต์ (5 คะแนน)"
   ]
  },
  {
   "cell_type": "code",
   "execution_count": null,
   "metadata": {},
   "outputs": [],
   "source": []
  },
  {
   "cell_type": "markdown",
   "metadata": {},
   "source": [
    "3c) อธิบายผลกระทบจากการอิ่มตัว (saturation) ในระบบป้อนกลับที่ใช้ตัวควบคุม PID และวิธีการแก้ไข (5 คะแนน)"
   ]
  },
  {
   "cell_type": "code",
   "execution_count": null,
   "metadata": {},
   "outputs": [],
   "source": []
  },
  {
   "cell_type": "markdown",
   "metadata": {},
   "source": [
    "3d) จากพลานต์และตัวควบคุมที่ออกแบบได้ในข้อ 2) สร้างตัวควบคุมป้อนข้างหน้า (feedforward control)ดังแสดงในรูป 3d.1) โดยสมมุติว่าสามารถประมาณค่าของพารามิเตอร์ \n",
    "$J$ และ $B$ ของพลานต์ได้โดยมีค่าผิดพลาดไม่เกิน 10% \n",
    "\n",
    "<p align=\"center\">\n",
    "<img src=\"https://drive.google.com/uc?id=10ylI-hNRPkNaH6DnH4WPcKOboJfeIlX1\" width=550 alt=\"Figure 3d\"/>\n",
    "</p>\n",
    "<div align=\"center\"><b>รูปที่ 3d.1) แผนภาพของการใช้ตัวควบคุมป้อนกลับร่วมกับตัวควบคุมป้อนข้างหน้า</b></div>\n",
    "\n",
    "จำลองผลการตามรอยโดยใช้แนววิถีที่กำเนิดจากข้อ P1 โดยเปรียบเทียบระหว่างผลตอบสนองที่มี\n",
    "การใช้ตัวป้อนข้างหน้าซึ่งจะแสดงให้เห็นการปรับปรุงสมรรถนะการตามรอยดังในรูปที่ 3d.2)\n",
    "\n",
    "(10 คะแนน)\n",
    "\n",
    "<p align=\"center\">\n",
    "<img src=\"https://drive.google.com/uc?id=12Uq8xi-GFkeO1md54IERUqzzs_KypNyX\" width=550 alt=\"Figure 3d\"/>\n",
    "</p>\n",
    "<div align=\"center\"><b>รูปที่ 3d.2) เปรียบเทียบผลตอบสนองที่แสดงการปรับปรุงสมรรถนะการตามรอยเมื่อใช้ตัวควบคุมป้อนข้างหน้า</b></div>\n",
    "\n"
   ]
  },
  {
   "cell_type": "code",
   "execution_count": null,
   "metadata": {},
   "outputs": [],
   "source": []
  },
  {
   "cell_type": "code",
   "execution_count": null,
   "metadata": {},
   "outputs": [],
   "source": []
  },
  {
   "cell_type": "code",
   "execution_count": null,
   "metadata": {},
   "outputs": [],
   "source": []
  },
  {
   "cell_type": "markdown",
   "metadata": {},
   "source": [
    "***\n",
    "<a id=\"p4\"></a>\n",
    "#### P4 (20 คะแนน)\n",
    "\n",
    "จากพลานต์ข้อต่อหุ่นยนต์ในข้อ P2 \n",
    "\n",
    "\\begin{equation} \n",
    "P(s) = \\frac{1}{zs^2 + 0.01s}\n",
    "\\end{equation}\n",
    "\n",
    "ออกแบบตัวควบคุมป้อนกลับสเตตและตัวอินทิกรัล (state feedback + integrator control) ให้ได้ตามข้อกำหนดดังนี้\n",
    "1. การพุ่งเกิน < 15%\n",
    "2. ช่วงเวลาขาขึ้น (rise time) < 0.2 วินาที\n",
    "\n",
    "จำลองผลตอบสนองขั้นบันไดให้เห็นว่าได้ตามข้อกำหนด (หรือใกล้เคียงที่สุดพร้อมอธิบายเหตุผลหากทำไม่ได้)\n",
    "\n",
    "<b>Hint : </b> ใช้โค้ดจาก module 5 ใน <a href=\"https://github.com/dewdotninja/control_python\">control_python</a> github\n"
   ]
  },
  {
   "cell_type": "code",
   "execution_count": null,
   "metadata": {},
   "outputs": [],
   "source": []
  },
  {
   "cell_type": "code",
   "execution_count": null,
   "metadata": {},
   "outputs": [],
   "source": []
  },
  {
   "cell_type": "code",
   "execution_count": null,
   "metadata": {},
   "outputs": [],
   "source": []
  },
  {
   "cell_type": "markdown",
   "metadata": {},
   "source": [
    "<a id=\"p5\"></a>\n",
    "#### P5. (15 คะแนน)\n",
    "\n",
    "จากฟังก์ชันถ่ายโอนของตัวควบคุม PID\n",
    "$$\n",
    "C(s) = k_p + \\frac{k_i}{s} + \\frac{Nk_ds}{s+N}\n",
    "$$\n",
    "\n",
    "แปลงตัวควบคุมนี้ให้เป็นแบบดีสครีตและเป็นอัลกอริทึมในรูปสมการผลต่าง จำลองผลตอบสนองขั้นบันไดของระบบป้อนกลับโดยใช้พลานต์จากข้อ P2\n",
    "\n",
    "\\begin{equation} \n",
    "P(s) = \\frac{1}{zs^2 + 0.01s}\n",
    "\\end{equation}\n",
    "\n",
    "ปรับค่าของ kp, ki,kd ให้ระบบป้อนกลับเสถียรและได้ผลการตามรอยที่มีค่าแตกต่างสถานะนิ่ง (steady state error) เป็นศูนย์ และเวลาเข้าสู่สถานะนิ่ง \n",
    "(settling time) ไม่เกิน 1 วินาที (หากไม่ได้ให้ใกล้เคียงที่สุด)\n",
    "\n",
    "<b>Hint : </b> เซลด้านล่างแสดงโค้ดบางส่วน เติมโค้ดให้สมบูรณ์"
   ]
  },
  {
   "cell_type": "code",
   "execution_count": null,
   "metadata": {},
   "outputs": [],
   "source": [
    "z = # your code here\n",
    "s = ctl.tf('s')\n",
    "pnum = 1\n",
    "pden = z*s**2+0.1*s\n",
    "P = ctl.tf(pnum/pden)\n",
    "\n",
    "Ts = 0.01\n",
    "\n",
    "Pd = ctl.sample_system(P, Ts, method='tustin') # convert to discrete-time\n",
    "print(\"Discrete-time plant\")\n",
    "print(Pd)\n",
    "Pdnum, Pdden = ctl.tfdata(Pd)  # extract numerator and denominator of Pd\n",
    "#print(Pdnum)\n",
    "#print(Pdden)\n",
    "\n",
    "# --- code for discrete-time simulation of the plant ---\n",
    "pdnum = np.squeeze(np.array(Pdnum))\n",
    "pdden = np.squeeze(np.array(Pdden))\n",
    "\n",
    "tvec = np.arange(0,15,Ts)  # change time scale to suit\n",
    "yvec = np.zeros(tvec.shape)\n",
    "uvec = np.zeros(tvec.shape)\n",
    "rvec = np.ones(tvec.shape) # step command vector\n",
    "numorder = len(pdnum)  # 4 for this example\n",
    "denorder = len(pdden)  # 4\n",
    "y_prev = np.zeros((denorder,1)) \n",
    "u_prev = np.zeros((numorder,1))\n",
    "# -------------------------------------------------\n",
    "\n",
    "# ----define PID control variables -------\n",
    "\n",
    "e1 = 0   # past error input\n",
    "e0 = 0   # current error input\n",
    "ui1 = 0   # past integral-term output \n",
    "ui0 = 0   # current integral-term output\n",
    "up = 0    # proportional term output\n",
    "ud1 = 0  # past derivative-term output\n",
    "ud0 = 0  # current derivative-term output\n",
    "\n",
    "# you must adjust kp, ki,kd to give stable step response with desired tracking performance\n",
    "kp = 5   # proportional gain. \n",
    "ki = 0   # integral gain\n",
    "kd = 0   # derivative gain\n",
    "\n",
    "N = 20  # you may change this if desired\n",
    "# ------------------------\n",
    "\n",
    "i = 0\n",
    "# perform discrete-time simulation \n",
    "for i in range(len(tvec)):\n",
    "\n",
    "    for k in range(numorder-1):\n",
    "        u_prev[k] = u_prev[k+1]\n",
    "    for k in range(denorder-1):\n",
    "        y_prev[k] = y_prev[k+1]\n",
    "        \n",
    "\n",
    "#  ----- put your PID controller simulation here -----\n",
    "    e1 = e0    # keep previous loop error\n",
    "    ui1 = ui0   # keep previous loop integral output\n",
    "    ud1 = ud0.  # keep previous looop derivative output\n",
    "    e0 = rvec[i] - y_prev[denorder-1] # compute new error\n",
    "    up =   # proportional-term output\n",
    "    ui0 =  # integral-term output \n",
    "    ud0 =  # derivative-term output\n",
    "    uvec[i] = up + ui0 + ud0\n",
    "# -------------------------------------------------------    \n",
    "        \n",
    "    u_prev[numorder-1] = uvec[i]        \n",
    "    yvec[i] = pdnum[0]*uvec[i]\n",
    "    for k in range(denorder-1):\n",
    "        yvec[i] = yvec[i]+pdnum[k+1]*u_prev[numorder-2-k] - pdden[k+1]*y_prev[denorder-2-k]\n",
    "        #print(pdnum[k+1])\n",
    "        #print(pdden[k+1])\n",
    "        #print()\n",
    "    y_prev[denorder-1] = yvec[i]\n",
    "    \n",
    "# plot the result\n",
    "\n",
    "plt.figure()\n",
    "plt.plot(tvec, rvec,'m-',tvec, yvec,'b-')\n",
    "plt.grid('True')\n",
    "plt.xlabel('time (sec)')\n",
    "plt.ylabel('y(k)')\n",
    "plt.legend([\"Ref. cmd\",\"Plant output\"])\n",
    "\n",
    "plt.title(\"Step response\")\n",
    "\n",
    "plt.figure()\n",
    "plt.plot(tvec,uvec,'r-')\n",
    "plt.grid('True')\n",
    "plt.xlabel('time (sec)')\n",
    "plt.ylabel('u(k)')\n",
    "plt.title(\"controller output\")\n",
    "\n",
    "\n",
    "\n",
    "plt.show()"
   ]
  },
  {
   "cell_type": "code",
   "execution_count": null,
   "metadata": {},
   "outputs": [],
   "source": []
  },
  {
   "cell_type": "code",
   "execution_count": null,
   "metadata": {},
   "outputs": [],
   "source": []
  },
  {
   "cell_type": "markdown",
   "metadata": {},
   "source": [
    "***\n",
    "<div align=\"right\">Last update : 9 พฤษภาคม 2564</div>"
   ]
  }
 ],
 "metadata": {
  "kernelspec": {
   "display_name": "Python 3.8 (controlenv)",
   "language": "python",
   "name": "controlenv"
  },
  "language_info": {
   "codemirror_mode": {
    "name": "ipython",
    "version": 3
   },
   "file_extension": ".py",
   "mimetype": "text/x-python",
   "name": "python",
   "nbconvert_exporter": "python",
   "pygments_lexer": "ipython3",
   "version": "3.8.5"
  }
 },
 "nbformat": 4,
 "nbformat_minor": 4
}
