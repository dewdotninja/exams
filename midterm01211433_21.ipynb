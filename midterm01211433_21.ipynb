{
 "cells": [
  {
   "cell_type": "markdown",
   "metadata": {},
   "source": [
    "<a href=\"https://colab.research.google.com/github/dewdotninja/exams/blob/master/midterm01211433_21.ipynb\" target=\"_parent\"><img src=\"https://colab.research.google.com/assets/colab-badge.svg\" alt=\"Open In Colab\"/></a>"
   ]
  },
  {
   "cell_type": "markdown",
   "metadata": {},
   "source": [
    "<p align=\"left\">\n",
    "<img src=\"https://raw.githubusercontent.com/dewdotninja/exams/main/feng_heading.png\" width=400 alt=\"Feng heading\"/>\n",
    "</p>\n",
    "\n",
    "#### ข้อสอบกลางภาคออนไลน์ 2564\n",
    "<br>ภาควิชาวิศวกรรมเครื่องกล \n",
    "<br>วิชา 01211433 Vision and Control of Industrial Robots \n",
    "<br>วันเสาร์ที่ 21 สิงหาคม 2564 16.00-19.00 ทางออนไลน์\n",
    "\n",
    "ให้นิสิตพิมพ์ ชื่อ นามสกุล รหัสนิสิต หมู่เรียน ในเซลด้านล่างนี้ "
   ]
  },
  {
   "cell_type": "code",
   "execution_count": null,
   "metadata": {},
   "outputs": [],
   "source": []
  },
  {
   "cell_type": "markdown",
   "metadata": {},
   "source": [
    "พิมพ์หรือคัดลอกข้อความต่อไปนี้ลงในเซลด้านล่าง (สำคัญ!)\n",
    "<br>\"ข้าพเจ้าขอให้คำสัตย์ว่าได้ทำข้อสอบนี้ด้วยตัวเองโดยไม่ได้รับความช่วยเหลือจากผู้ใด\""
   ]
  },
  {
   "cell_type": "code",
   "execution_count": null,
   "metadata": {},
   "outputs": [],
   "source": []
  },
  {
   "cell_type": "markdown",
   "metadata": {},
   "source": [
    "### คำสั่ง\n",
    "\n",
    "1. ข้อสอบจะถูกแจกเป็นลิงก์บน Google classroom เท่านั้น มีให้เลือกเป็นแบบ Jupyter notebook \n",
    "(Python) หรือ Pluto notebook (Julia) ให้เลือกทำและส่งไฟล์เพียงชนิดเดียวเท่านั้น \n",
    "(หากส่งมาทั้งสองชนิดผู้ตรวจจะเลือกแบบสุ่ม) โดยทำข้อสอบในไฟล์ notebook ที่ได้รับทั้งหมด \n",
    "สามารถเพิ่มเซลได้ตามต้องการ \n",
    "2. ข้อสอบเป็นแบบเปิดตำรา ใช้คอมพิวเตอร์ หนังสือหรือข้อมูลออนไลน์ได้ไม่จำกัด\n",
    "3. อธิบายและแสดงการคำนวณให้ชัดเจน สำหรับโจทย์ที่ต้องเขียนโปรแกรมแก้ปัญหา โปรแกรมต้อง\n",
    "ประมวลผลได้โดยไม่มีข้อผิดพลาดและให้คำตอบถูกต้องจึงได้คะแนนเต็ม\n",
    "4. ห้ามแก้ไขโจทย์โดยเด็ดขาด ผู้ที่แก้โจทย์จะได้คะแนนข้อนั้นเป็นศูนย์\n",
    "5. พารามิเตอร์ในโจทย์บางข้อขึ้นกับตัวเลข 3 หลักสุดท้ายของรหัสนิสิตของผู้ทำข้อสอบ \n",
    "ซึ่งจะต้องแทนค่าอย่างถูกต้องเท่านั้นจึงจะได้คะแนน (ดูคำอธิบายเพิ่มเติมด้านล่าง) \n",
    "6. ทำข้อสอบด้วยตนเอง ห้ามปรึกษาหรือขอความช่วยเหลือจากบุคคลอื่นในทุกกรณ๊ ข้อย่อยใดที่คำตอบผิด\n",
    "และมีข้อความหรือค่าคำตอบเหมือนกันมากกว่าหนึ่งคนจะได้คะแนนข้อย่อยนั้นเป็นศูนย์\n",
    "7. เวลาทำข้อสอบ 3 ชั่วโมง เมื่อหมดเวลาจะต้องส่งข้อสอบทุกคน การส่งซ้ำจะนับเวลาที่ส่งครั้งสุดท้าย \n",
    "ซึ่งบันทึกโดย Google classroom ผู้ที่ส่งหลังหมดเวลา 10 นาทีจะถูกหัก -1 คะแนนต่อนาที เริ่มจาก -10 คะแนน \n",
    "ผู้ที่ส่งหลัง 30 นาทีอาจถูกปฏิเสธข้อสอบและได้คะแนนสอบครั้งนี้เป็นศูนย์\n"
   ]
  },
  {
   "cell_type": "markdown",
   "metadata": {},
   "source": [
    "<div align=\"center\">\n",
    "<b>รศ.ดร.พีรยุทธ์ ชาญเศรษฐิกุล</b>\t\t\tประธานกรรมการอำนวยการสอบ\n",
    "<br><b>ผศ.ดร.ประพจน์ ขุนทอง</b>\t\t\t\tกรรมการออกข้อสอบ\n",
    "<br><b>ดร.วโรดม ตู้จินดา</b>\t\t\t\t\tกรรมการออกข้อสอบ\n",
    "</div>\n"
   ]
  },
  {
   "cell_type": "markdown",
   "metadata": {},
   "source": [
    "    \n",
    "***\n",
    "### คะแนนของโจทย์ข้อสอบแต่ละข้อ (รวม 100 คะแนน)\n",
    "\n",
    "| โจทย์ข้อสอบ | คะแนน |\n",
    "| --- | --- |\n",
    "| [1 ](#p1) | (20 คะแนน) |\n",
    "| [2 ](#p2) | (20 คะแนน) |\n",
    "| [3 ](#p3) | (15 คะแนน) |\n",
    "| [4 ](#p4) | (25 คะแนน) |\n",
    "| [5 ](#p5) | (20 คะแนน)+(Bonus 5 คะแนน) |\n"
   ]
  },
  {
   "cell_type": "markdown",
   "metadata": {},
   "source": [
    "### อธิบายเพิ่มเติมเกี่ยวกับค่าในโจทย์ข้อสอบ ที่ขึ้นกับตัวเลข 3 ตัวสุดท้ายของรหัสนิสิต คือ\n",
    "\n",
    "-------xyz  (ไม่สนใจเลขหลักอื่น )\n",
    "\n",
    "ถ้าตัวเลขตัวใดใน 3 หลักสุดท้ายเป็น 0 ให้แทนด้วยเลข 5 \n",
    "\n",
    "ตัวอย่างรหัสนิสิต\n",
    "\n",
    "นิสิต A : 6010552893  ได้ค่า x = 8, y = 9, z = 3\n",
    "\n",
    "นิสิต B : 6010502977  ได้ค่า x = 9, y = 7, z = 7\n",
    "\n",
    "นิสิต C : 6010503001 ได้ค่า x = 5, y = 5, z = 1\n",
    "\n",
    "ใช้ค่านี้กับโจทย์ทุกข้อในข้อสอบ\n",
    "\n",
    "เครื่องหมายที่ใช้ดำเนินการกับค่าตัวแปร\n",
    "\n",
    " $+$ บวก\n",
    "\n",
    " $-$  ลบ\n",
    "\n",
    " $*$  คูณ \n",
    "\n",
    " $/$ หาร\n",
    "\n",
    "$**$, $^$ ยกกำลัง\n",
    "\n",
    "รวมถึงฟังก์ชันทางคณิตศาสตร์ เช่น $\\exp(x)$, $\\sin(z*t)$\n",
    "\n",
    "หากตัวแปรฝังอยู่ในหลักหนึ่งของตัวเลข ให้แทนหลักนั้นด้วยค่าตัวแปรเลย เช่น y = 8 z = 3, 12y7 = 1287, 4.3z5 = 4.335\n",
    "\n",
    "โจทย์อาจจำหนดเงื่อนไขขึ้นกับ x, y, z เช่น ถ้า x<5 ทำเงื่อนไข A นอกนั้นทำเงื่อนไข B \n",
    "\n",
    "ตัวอย่างโจทย์บอกว่า กำหนดให้ $R1 = 1000*x \\,\\Omega, C1 = 10*y \\,\\mu F$\n",
    "\n",
    "นิสิต A ทำโจทย์ด้วยค่า R1 = 8000 $\\Omega$, C1 = 90 $\\mu$F\n",
    "\n",
    "นิสิต B ทำโจทย์ด้วยค่า R1 = 9000 $\\Omega$, C1 = 70 $\\mu$F\n",
    "\n",
    "นิสิต C ทำโจทย์ด้วยค่า R1 = 1000 $\\Omega$, C1 = 10 $\\mu$F\n",
    "\n",
    "ถ้ามีตรงส่วนใดที่ไม่ชัดเจนในข้อสอบ ให้เขียนอธิบายว่าเข้าใจโจทย์อย่างไร หากผู้ตรวจเห็นว่าโจทย์เป็นเหตุทำให้เข้าใจผิดได้ จะให้คะแนนในส่วนนั้น"
   ]
  },
  {
   "cell_type": "code",
   "execution_count": null,
   "metadata": {},
   "outputs": [],
   "source": [
    "#หากใช้ Colab ทำข้อสอบ ต้องติดตั้งไลบรารีเพิ่ม\n",
    "!pip install slycot\n",
    "!pip install control"
   ]
  },
  {
   "cell_type": "code",
   "execution_count": 1,
   "metadata": {},
   "outputs": [],
   "source": [
    "# นำเข้าไลบรารีที่ต้องการใช้ (สามารถนำเข้าในเซลอื่นๆได้ตามต้องการ)\n",
    "import numpy as np\n",
    "import matplotlib.pyplot as plt\n",
    "import control as ctl"
   ]
  },
  {
   "cell_type": "markdown",
   "metadata": {},
   "source": [
    "***\n",
    "<a id=\"p1\"></a>\n",
    "#### P1 (20 คะแนน)\n",
    "\n",
    "อุปกรณ์ชนิดหนึ่งที่นิยมใช้ในเครื่องจักรอุตสากรรมที่มีการเคลื่อนที่แบบหมุนเช่นข้อต่อหุ่นยนต์ เรียกว่า ตัวขับฮาร์มอนิก \n",
    "(Harmonic Drive) จากบริษัทในกลุ่ม Harmonic Drive LLC โดยใช้ต่อร่วมกับเพลาของมอเตอร์ \n",
    "ต่อไปเพื่อความสะดวกในการเขียนจะเรียกโดยย่อว่าระบบ HDM \n",
    "\n",
    "รูปที่ 1 แสดงโครงสร้างของกลไก HDM ประกอบด้วย 3 ส่วนคือ แหวนกลม (circular spline) แหวนยืดหยุ่น \n",
    "(flexspline) และตัวกำเนิดคลื่น (wave generator) รูปวงรี โดยตัวกำเนิดคลื่นจะเชื่อมต่อกับเพลาของมอเตอร์\n",
    "ซึ่งหมุนด้วยความเร็วสูง แหวนกลมจะมีฟันอยู่ด้านใน ระหว่างทั้งสองจะคั่นด้วยแหวนยืดหยุ่นที่มีฟันอยู่ด้านนอก \n",
    "เมื่อตัวกำเนิดคลื่นหมุนจะทำให้แหวนยืดหยุ่นแปรรูปและทำให้ฟันไปขบกับฟันของแหวนกลม ดังนั้น \n",
    "เพลาด้านเอาต์พุตของ HDM จะหมุนด้วยความเร็วต่ำกว่าความเร็วเพลามอเตอร์ โดยอัตราทดจะขึ้นกับความแตกต่างระหว่าง\n",
    "จำนวนฟันของแหวนยืดหยุ่นกับแหวนกลม\n",
    "\n",
    "<p align=\"center\">\n",
    "<img src=\"https://drive.google.com/uc?id=1PtcGtTJ2iv81nLHz5Gb5mNnGeM_d5i4c\" width=300 alt=\"Figure 1\"/>\n",
    "</p>\n",
    "<div align=\"center\"><b>รูปที่ 1 โครงสร้างของ HDM (https://www.harmonicdrive.net/)</b></div>\n",
    "\n",
    "เมื่อเขียนแผนภาพของอุปกรณ์ HDM ต่อกับดีซีมอเตอร์จะได้เป็นดังรูปที่ 2 โดยด้านซ้ายเป็นระบบไฟฟ้าเชิงกลของมอเตอร์ และด้านขวาคือระบบเชิงกลของตัวขับฮาร์มอนิกซึ่งแทนโดยระบบเกียร์ผ่านเพลาอ่อนตัวที่มีค่าความแข็งเท่ากับ k \n",
    "\n",
    "<p align=\"center\">\n",
    "<img src=\"https://drive.google.com/uc?id=1OP3LsMAgsHQ5uYdmVLQFHQLq55J-kYd7\" width=550 alt=\"Figure 2\"/>\n",
    "</p>\n",
    "<div align=\"center\"><b>รูปที่ 2 แผนภาพของระบบ HDM</b></div>\n",
    "\n",
    "เมื่อนิยาม \n",
    "$$\n",
    "p_l(s) = J_ls^2 + B_ls + k \\tag{1}\n",
    "$$\n",
    "$$\n",
    "p_m(s) = J_ms^2 + B_ms + k \\tag{2}\n",
    "$$\n",
    "\n",
    "สามารถแสดงได้ว่าฟังก์ชันถ่ายโอนรวมของ HDM เขียนได้เป็นดังนี้\n",
    "$$\n",
    "P(s) = \\frac{\\theta_l(s)}{V(s)} = \\frac{k_mk}{p_m(s)p_l(s)(Ls+R)-k^2(Ls+R)+rk_mk_bsp_l(s)} \\tag{3}\n",
    "$$\n",
    "\n",
    "เมื่อกำหนดค่าพารามิตอร์ (แทนค่า x,y,z จากรหัสนิสิตของตนเอง)\n",
    "<code>\n",
    "\tkm = (y+z)*100  # torque constant\n",
    "\tkb = 1  # back EMF constant\n",
    "\tk = 1000 # torsional stiffness of harmonic drive\n",
    "\tr = x   # gear ratio\n",
    "\tR = 1  # armature resistance\n",
    "\tL = 0.1 # armature inductance\n",
    "\tJm = (x+y)  #  motor inertia\n",
    "\tBm = 0.0y  # motor shaft friction\n",
    "\tJl = (x+z)  # load inertia\n",
    "\tBl = 0.0z  # load friction\n",
    "</code>\n",
    "\n",
    "<b>P1.1</b> สร้างฟังก์ชันถ่ายโอนของพลานต์ข้อต่อหุ่นยนต์ขับเคลื่อนโดย HDM ตามสมการ (3) (5 คะแนน)\n"
   ]
  },
  {
   "cell_type": "code",
   "execution_count": null,
   "metadata": {},
   "outputs": [],
   "source": []
  },
  {
   "cell_type": "markdown",
   "metadata": {},
   "source": [
    "<b>P1.2</b> พล็อตโพลของฟังก์ชันถ่ายโอนจากข้อ <b>P1.1</b> บนระนาบเชิงซ้อน (5 คะแนน)"
   ]
  },
  {
   "cell_type": "code",
   "execution_count": null,
   "metadata": {},
   "outputs": [],
   "source": []
  },
  {
   "cell_type": "markdown",
   "metadata": {},
   "source": [
    "<b>P 1.3</b> พล็อตแผนภาพโบเด (Bode plot) ที่แสดงขนาดและเฟสของพลานต์ในย่านความถี่ 0.01 - 1000 rad/s และใช้คำสั่งเพื่อคำนวณค่าขอบ\n",
    "ของอัตราขยายและเฟส (gain and phase margin) *ระบุในคำตอบให้ชัดเจนว่าได้ค่า gain margin และ phase margin เท่าไร* (5 คะแนน)"
   ]
  },
  {
   "cell_type": "code",
   "execution_count": null,
   "metadata": {},
   "outputs": [],
   "source": []
  },
  {
   "cell_type": "markdown",
   "metadata": {},
   "source": [
    "<b>P1.4</b> จากรูปแผนภาพบล็อกของระบบป้อนกลับในรูปที่ 3 โดยใช้พลานต์จากข้อ <b>P1.1</b> และตัวควบคุมแบบสัดส่วน (proportional control) \n",
    "$C(s) = K$ โดยมีค่าอัตราขยาย $K = (x+y)$ ใช้คำสั่งเพื่อสร้างฟังก์ชันถ่ายโอนที่บรรยายผลตอบสนองของ $y(s)$ ที่มีต่ออินพุต $d_i(s)$ \n",
    "ถ้าหากระบบป้อนกลับเสถียร คำนวณหาขนาดของ $y(s)$ เมื่อ $d_i(s) = sin(0.1t)$ หากระบบป้อนกลับไม่เสถียรให้ตอบว่าไม่เสถียร  (5 คะแนน)\n",
    "\n",
    "<p align=\"center\">\n",
    "<img src=\"https://drive.google.com/uc?id=1CLNYYhbhGOpVaJULHdX13xoEv_AO2wyR\" width=550 alt=\"Figure 3\"/>\n",
    "</p>\n",
    "<div align=\"center\"><b>รูปที่ 3 แผนภาพบล็อกของระบบควบคุมป้อนกลับ</b></div>\n",
    "\n",
    "\n"
   ]
  },
  {
   "cell_type": "code",
   "execution_count": null,
   "metadata": {},
   "outputs": [],
   "source": []
  },
  {
   "cell_type": "code",
   "execution_count": null,
   "metadata": {},
   "outputs": [],
   "source": []
  },
  {
   "cell_type": "markdown",
   "metadata": {},
   "source": [
    "***\n",
    "<a id=\"p2\"></a>\n",
    "#### P2 (20 คะแนน)\n",
    "ต้องการออกแบบตัวควบคุมสำหรับพลานต์ HDM จากโจทย์ข้อ P1 โดยมีข้อกำหนดการออกแบบดังนี้\n",
    "\n",
    "1. ค่าแตกต่างการตามรอยในช่วงสถานะนิ่งเป็นศูนย์\n",
    "\n",
    "2. ผลตอบสนองต่อการรบกวนที่เอาต์พุต $d_o(s)$ ในย่านความถี่ต่ำกว่า $0.x$ rad/s ถูกลดทอนเหลือน้อยกว่า $0.0y$ \n",
    "\n",
    "3. จากแผนภาพโบเดจะเห็นว่ามีค่ายอดจากโหมดหน่วงน้อยของพลานต์อยู่ในย่านความถี่สูง (ที่ขนาดของ $P(s)$จะเป็นยอดแหลม) พิจารณาค่ายอดแรกที่มีความถี่ต่ำกว่าอีกยอดหนึ่ง\n",
    "เป็นเกณฑ์ ต้องการจำกัดแบนด์วิดท์ระบบป้อนกลับเพื่อลดผลจากโหมดหน่วงน้อยนี้ โดยแบนด์วิดท์ (ประมาณได้จากความถี่ที่ขนาดของ $L(j\\omega)$ ตัดเส้น 0 dB )\n",
    "จะต้องน้อยกว่าความถี่ของค่ายอดแรกอย่างน้อย 1 decade เช่นความถี่ของค่ายอดเท่ากับ 17 rad/s แบนด์วิดท์ของระบบจะต้องน้อยกว่า 1.7 rad/s ดังนั้นจาก\n",
    "โจทย์ข้อนี้จะเห็นว่าเงื่อนไขด้านความถี่สูงไม่ได้กำหนดเป็นอัตราการลดทอนของสัญญาณรบกวนจากการวัด แต่เป็นการจำกัดแบนด์วิดท์แทน\n",
    "\n",
    "4. ระบบวงปิดเสถียร โดยมีค่าขอบเฟสอย่างน้อย 30 องศา\n",
    "\n",
    "<b>หมายเหตุ :</b> \n",
    "* ความถี่ที่เกิดค่ายอดของโหมดหน่วงน้อย $\\omega_d = \\omega_n\\sqrt{1-\\zeta^2}$ จะเท่ากับค่าสัมบูรณ์ในแกนจินตภาพของโพลคู่ที่ทำให้เกิดโหมดหน่วงน้อยนั้น\n",
    "* หากไม่รู้จะกำหนดขอบเขตสำหรับข้อ 3 อย่างไร อาจเริ่มต้นโดยให้ย่านความถี่สูง\n",
    "เริ่มจากความถี่ที่เกิดค่ายอดโหมดหน่วงน้อยยอดแรก และอัตราการลดทอนสัญญาณรบกวนน้อยๆ เช่น -1 dB \n",
    "ในการออกแบบนี้การล่วงล้ำขอบเขตในย่านความถี่สูงไม่ผิดข้อกำหนด \n",
    "แต่ที่สำคัญคือแบนด์วิดท์ต้องได้ตามที่โจทย์ต้องการ\n",
    "\n",
    "เซลด้านล่างนี้คือฟังก์ชัน lshape() เพื่อช่วยในการออกแบบตัวควบคุม\n"
   ]
  },
  {
   "cell_type": "code",
   "execution_count": 15,
   "metadata": {},
   "outputs": [],
   "source": [
    "def lshape(C,P, lf, lfb, hf, hfb, pm ):\n",
    "    assert lf > 0   # avoid bad values\n",
    "    assert lfb > 0\n",
    "    assert hf > lf\n",
    "    assert hfb < 0\n",
    "    assert 0 < pm < 90\n",
    "    L = C*P # form loop transfer function\n",
    "    # create a suitable range of frequency from lf, hf\n",
    "    lf_log10 = np.log10(lf)\n",
    "    w_start = np.floor(lf_log10)-1\n",
    "    hf_log10 = np.log10(hf)\n",
    "    w_end = np.ceil(hf_log10)+1\n",
    "    w = np.logspace(w_start,w_end, 1000)\n",
    "    \n",
    "    # frequency response of L\n",
    "    Lmag, Lph, om = ctl.freqresp(L, w)\n",
    "    Lmag_db = np.squeeze(20*np.log10(Lmag))\n",
    "    Lph_deg = np.squeeze(np.degrees(Lph))\n",
    "    \n",
    "    # create bound vectors\n",
    "    lf_mask = np.where(om<lf, lfb, 0)\n",
    "    hf_mask = np.where(om<hf, 0, hfb)\n",
    "    lf_bnd = lf_mask*np.ones(om.shape)\n",
    "    hf_bnd = hf_mask*np.ones(om.shape)\n",
    "    \n",
    "    # check whether violation occurs\n",
    "    lf_idxv = np.where(om>lf)\n",
    "    lf_idx = lf_idxv[0][0]   # find index of low-freq region\n",
    "    hf_idxv = np.where(om<hf)\n",
    "    hf_idx = hf_idxv[0][-1]  # find index of high-freq region\n",
    "    lfmag = Lmag_db[:lf_idx]\n",
    "    hfmag = Lmag_db[hf_idx:]\n",
    "    if min(lfmag)<lfb:\n",
    "        lf_legend = \"LF bound (violated)\"\n",
    "    else:\n",
    "        lf_legend = \"LF bound\"\n",
    "    if max(hfmag)>hfb:\n",
    "        hf_legend = \"HF bound (violated)\"\n",
    "    else:\n",
    "        hf_legend = \"HF bound\"    \n",
    "    \n",
    "    # desired phase margin vectors\n",
    "    pmvec = (pm-180)*np.ones(om.shape)\n",
    "    \n",
    "    # compute gain/phase margins\n",
    "    g_margin, ph_margin, wgm, wpm = ctl.margin(L)\n",
    "    ph_at_crossover = (ph_margin-180)\n",
    "    # Loopshaping plot\n",
    "    fig, (ax1, ax2) = plt.subplots(2, figsize=(8,8))\n",
    "    fig.suptitle('$L(j\\omega)$ v.s. bounds')\n",
    "    ax1.semilogx(om, Lmag_db,'k-', om, lf_bnd, 'm-.', om, hf_bnd,'b-.')\n",
    "    ax1.legend([\"$|L(j\\omega)|$\",lf_legend,hf_legend],loc=\"lower left\")\n",
    "    ax1.grid(True)\n",
    "    ax1.set_ylabel('magnitude (dB)')\n",
    "    \n",
    "    ax2.semilogx(om, Lph_deg,'k-',om, pmvec,'b-', wpm, ph_at_crossover,'r*')\n",
    "    if ph_margin > pm:\n",
    "        pmtext = \"phase margin = \" + str(round(ph_margin)) + \" degrees\"\n",
    "    else:\n",
    "        pmtext = \"phase margin = \" + str(round(ph_margin)) + \" degrees (violated)\"\n",
    "        \n",
    "    ax2.text(wpm,ph_at_crossover,pmtext)\n",
    "    \n",
    "    dpmtext = \"Desired PM (\" + str(pm) + \" degrees)\"\n",
    "    ax2.set_xlabel('frequency (rad/s)')\n",
    "    ax2.set_ylabel('phase (deg)')\n",
    "    ax2.legend([\"$\\measuredangle L(j\\omega)$\",dpmtext],loc=\"lower left\")\n",
    "    ax2.grid(True)    \n",
    "    \n",
    "    # plot magnitude of S and T v.s bounds\n",
    "    S = 1/(1+L)\n",
    "    T = L/(1+L)\n",
    "    \n",
    "    # frequency responses of S and T\n",
    "    Smag, Sph, om = ctl.freqresp(S, w)\n",
    "    Tmag, Tph, om = ctl.freqresp(T, w)\n",
    "    \n",
    "    Smag_db = np.squeeze(20*np.log10(Smag))\n",
    "    Tmag_db = np.squeeze(20*np.log10(Tmag))\n",
    "   \n",
    "    # check whether violation occurs\n",
    "    lf_idxv = np.where(om>lf)\n",
    "    lf_idx = lf_idxv[0][0]   # find index of low-freq region\n",
    "    hf_idxv = np.where(om<hf)\n",
    "    hf_idx = hf_idxv[0][-1]  # find index of high-freq region\n",
    "    lfSmag = Smag_db[:lf_idx]\n",
    "    hfTmag = Tmag_db[hf_idx:]\n",
    "    if max(lfSmag)>-lfb:\n",
    "        lf_legend = \"LF bound (violated)\"\n",
    "    else:\n",
    "        lf_legend = \"LF bound\"\n",
    "    if max(hfTmag)>hfb:\n",
    "        hf_legend = \"HF bound (violated)\"\n",
    "    else:\n",
    "        hf_legend = \"HF bound\"    \n",
    "        \n",
    "    # create data vector for stability bound in mid freq region\n",
    "    \n",
    "    om_mid = om[lf_idx:hf_idx]\n",
    "    pm_r = np.radians(pm)\n",
    "    x = np.sin(0.5*(np.pi - pm_r))/(np.sin(pm_r)) \n",
    "    x = 20*np.log10(x)\n",
    "    bnds_mid = x*np.ones(om_mid.shape)\n",
    "    \n",
    "    ST_peak = max(max(Smag_db),max(Tmag_db))\n",
    "    if ST_peak > x:\n",
    "        mf_legend = \"Stability bound (violated)\"\n",
    "    else:\n",
    "        mf_legend = \"Stability bound\"\n",
    "    \n",
    "    plt.figure(figsize=(8,4))\n",
    "    plt.semilogx(om,Smag_db,'k-',om,Tmag_db,'g-',om,-lf_bnd,'m-.',om,hf_bnd,'b-.',om_mid,bnds_mid,'r-.')\n",
    "    plt.xlabel('frequency (rad/s)')\n",
    "    plt.ylabel('magnitude (dB)')\n",
    "    plt.legend([\"$|S(j\\omega)|$\",\"$|T(j\\omega)|$\",lf_legend,hf_legend, mf_legend])\n",
    "    plt.grid(True)\n",
    "    plt.title('$|S(j\\omega)|$ and $|T(j\\omega)|$ v.s. bounds')\n",
    "    plt.show()\n"
   ]
  },
  {
   "cell_type": "code",
   "execution_count": null,
   "metadata": {},
   "outputs": [],
   "source": []
  },
  {
   "cell_type": "code",
   "execution_count": null,
   "metadata": {},
   "outputs": [],
   "source": []
  },
  {
   "cell_type": "markdown",
   "metadata": {},
   "source": [
    "เกณฑ์การให้คะแนนสำหรับข้อ P2\n",
    "1. แสดงตัวควบคุม $C(s)$ และผลตอบสนองความถี่ของ $L(s)$ ที่สอดคล้องตามข้อกำหนด \n",
    "ในกรณีที่ไม่สามารถออกแบบให้ได้ตามข้อกำหนดโดยสมบูรณ์ \n",
    "ให้ทำให้ได้ใกล้เคียงที่สุดโดยมีการล่วงล้ำได้เฉพาะบริเวณขอบของย่านความถี่เท่านั้น \n",
    "ส่วนแบนด์วิดท์ของ $L(s)$ มีค่ามากที่สุดไม่เกิน 0.15 ของความถี่ที่เกิดโหมดหน่วงน้อยยอดแรก \n",
    "(ที่มีความถี่ต่ำกว่าอีกยอดหนึ่ง) (10 คะแนน) \n",
    "2. ผลตอบสนองขั้นบันไดที่แสดงให้เห็นว่าระบบป้อนกลับเสถียรและค่าผิดพลาดในสถานะนิ่งเป็นศูนย์ (5 คะแนน)\n",
    "3. ผลตอบสนองต่อการรบกวน $d_o(s)$ ได้ตามข้อกำหนด โดยยอมให้มีขนาดใหญ่กว่าขอบเขตที่กำหนดการลดทอนได้ไม่เกิน 5% (5 คะแนน)"
   ]
  },
  {
   "cell_type": "markdown",
   "metadata": {},
   "source": [
    "***\n",
    "<a id=\"p3\"></a>\n",
    "#### P3 (15 คะแนน)\n",
    "\n",
    "<b>P 3.1 (10 คะแนน)</b>\n",
    "\n",
    "ต้องการสร้างแนววิถี 3 ส่วนย่อยโดยวิธี Cubic polynomial ตามข้อกำหนดดังนี้\n",
    "\n",
    "<b>ส่วนย่อยที่ 1:</b>\n",
    "เวลาเริ่มต้น 0 วินาที เวลาปลาย y วินาที\n",
    "ตำแหน่งต้น -x เรเดียน ตำแหน่งปลาย 0 เรเดียน \n",
    "ความเร็วต้น 0 เรเดียน/วินาที ความเร็วปลาย z เรเดียน/วินาที\n",
    "\n",
    "<b>ส่วนย่อยที่ 2:</b>\n",
    "เวลาเริ่มต้น y วินาที เวลาปลาย y+z วินาที\n",
    "ตำแหน่งต้น 0 เรเดียน ตำแหน่งปลาย -y เรเดียน \n",
    "ความเร็วต้น z เรเดียน/วินาที ความเร็วปลาย x เรเดียน/วินาที\n",
    "\n",
    "<b>ส่วนย่อยที่ 3:</b>\n",
    "เวลาเริ่มต้น y+z วินาที เวลาปลาย y+z+3 วินาที\n",
    "ตำแหน่งต้น -y เรเดียน ตำแหน่งปลาย x+y เรเดียน \n",
    "ความเร็วต้น x เรเดียน/วินาที ความเร็วปลาย 0 เรเดียน/วินาที\n",
    "\n",
    "พล็อตกราฟของตำแหน่ง ความเร็ว ความเร่ง เทียบกับเวลา (เหมือนใน HW1)\n"
   ]
  },
  {
   "cell_type": "markdown",
   "metadata": {},
   "source": [
    "นิยามฟังก์ชัน cpoly และ polyval ได้ดังนี้"
   ]
  },
  {
   "cell_type": "code",
   "execution_count": 28,
   "metadata": {},
   "outputs": [],
   "source": [
    "# define cubic polynomial functgion\n",
    "def cpoly(q0,qf,t,qd0=0, qdf=0):\n",
    "    tf = max(t)\n",
    "    X = np.array([[0.,0.,0.,1.],[tf**3,tf**2,tf,1],[0.,0.,1.,0.],[3*tf**2,2*tf,1.,0.]])\n",
    "    b = np.array([q0,qf,qd0,qdf]).T\n",
    "    \n",
    "    coeffs = np.linalg.inv(X)@b\n",
    "    # coefficients of derivatives\n",
    "    coeffs_d = coeffs[0:3]*np.arange(3,0,-1)\n",
    "    coeffs_dd = coeffs_d[0:2]*np.arange(2,0,-1)\n",
    "    q = polyval(coeffs,t)\n",
    "    q_d = polyval(coeffs_d,t)\n",
    "    q_dd = polyval(coeffs_dd,t)\n",
    "    return q,q_d,q_dd\n",
    "\n",
    "# helper function to evaluate polynomial\n",
    "def polyval(P,X):\n",
    "    Y = 0*X\n",
    "    n = len(P)\n",
    "    for i in range(n):\n",
    "        Y = Y +P[i]*X**(n-i-1)\n",
    "    return Y"
   ]
  },
  {
   "cell_type": "code",
   "execution_count": null,
   "metadata": {},
   "outputs": [],
   "source": []
  },
  {
   "cell_type": "markdown",
   "metadata": {},
   "source": [
    "<b>P 3.2 (5 คะแนน)</b>\n",
    "\n",
    "จากเวกเตอร์ข้อมูลที่ได้ในข้อ P 3.1 ต้องการทราบค่าของตำแหน่ง ความเร็ว และความเร่งที่เวลา $t_a = 0.4(y+z+3)$ วินาที โดยมีความแม่นยำเท่ากับจุดทศนิยม 2 ตำแหน่ง \n",
    "(ต้องค้นหาข้อมูล ณ เวลานั้นจากเวกเตอร์ ไม่ใช่การอ่านค่าจากกราฟด้วยตาเปล่า แสดงคำสั่งในการค้นหาด้วย)"
   ]
  },
  {
   "cell_type": "code",
   "execution_count": null,
   "metadata": {},
   "outputs": [],
   "source": []
  },
  {
   "cell_type": "markdown",
   "metadata": {},
   "source": [
    "***\n",
    "\n",
    "<a id=\"p4\"></a>\n",
    "#### P 4 (25 คะแนน)\n",
    "\n",
    "<b>P 4.1 (15 คะแนน)</b>\n",
    "\n",
    "ออกแบบตัวควบคุมป้อนกลับสถานะสำหรับพลานต์ HDM ในข้อ P 1 โดยทำตามขั้นตอนและตอบคำถามดังนี้\n",
    "(ดูคำสั่งที่ใช้งานจาก Module 5 ของ Control Engineering Basics)\n",
    "\n",
    "1. แปลงฟังก์ชันถ่ายโอนของพลานต์เป็นการบรรยายแบบปริภูมิสถานะ (2 คะแนน)"
   ]
  },
  {
   "cell_type": "code",
   "execution_count": null,
   "metadata": {},
   "outputs": [],
   "source": []
  },
  {
   "cell_type": "markdown",
   "metadata": {},
   "source": [
    "2. ตรวจสอบว่าพลานต์เป็นแบบควบคุมได้หรือไม่ (2 คะแนน)"
   ]
  },
  {
   "cell_type": "code",
   "execution_count": null,
   "metadata": {},
   "outputs": [],
   "source": []
  },
  {
   "cell_type": "markdown",
   "metadata": {},
   "source": [
    "3. เลือกโพลระบบวงปิดที่เสถียรและมีสมรรถนะที่เหมาะสมกับหุ่นยนต์ (โจทย์ไม่ระบุข้อกำหนด สมรรถนะโดยทั่วไปคือไม่แกว่งมากหรือไม่ช้ามากเกินไป) และวางโพลระบบวงปิดตามตำแหน่งที่เลือก บรรยายระบบวงปิดในรูปสมการสถานะและตรวจสอบว่าตำแหน่งโพลได้ตามต้องการ พล็อตผลตอบสนองขั้นบันได (9 คะแนน)"
   ]
  },
  {
   "cell_type": "code",
   "execution_count": null,
   "metadata": {},
   "outputs": [],
   "source": []
  },
  {
   "cell_type": "code",
   "execution_count": null,
   "metadata": {},
   "outputs": [],
   "source": []
  },
  {
   "cell_type": "markdown",
   "metadata": {},
   "source": [
    "4. ท่านคิดว่าตัวควบคุมป้อนกลับสถานะที่ออกแบบนี้ใช้งานได้จริงหรือไม่ อธิบายเหตุผลสนับสนุน (2 คะแนน)"
   ]
  },
  {
   "cell_type": "code",
   "execution_count": null,
   "metadata": {},
   "outputs": [],
   "source": []
  },
  {
   "cell_type": "markdown",
   "metadata": {},
   "source": [
    "<b>P 4.2 (5 คะแนน)</b>\n",
    "\n",
    "อธิบายว่าในการออกแบบตัวควบคุมแบบ loopshaping ทำไมเราถึงสามารถใช้ค่าขอบของเฟส (phase margin) เป็นตัวกำหนดความมีเสถียรภาพของระบบป้อนกลับได้"
   ]
  },
  {
   "cell_type": "code",
   "execution_count": null,
   "metadata": {},
   "outputs": [],
   "source": []
  },
  {
   "cell_type": "markdown",
   "metadata": {},
   "source": [
    "<b>P 4.3 (5 คะแนน)</b>\n",
    "\n",
    "อธิบายว่าทำไมในพลานต์ข้อต่อหุ่นยนต์ขับเคลื่อนโดยดีซีมอเตอร์ ตัวควบคุม PD สามารถทำให้ค่าผิดพลาดในสถานะนิ่งเข้าสู่ศูนย์ได้ ในกรณีใดเราถึงต้องการใช้พจน์ปริพันธ์ (integrator) สำหรับควบคุมข้อต่อหุ่นยนต์"
   ]
  },
  {
   "cell_type": "code",
   "execution_count": null,
   "metadata": {},
   "outputs": [],
   "source": []
  },
  {
   "cell_type": "markdown",
   "metadata": {},
   "source": [
    "***\n",
    "<a id=\"p5\"></a>\n",
    "#### P 5 (20 คะแนน)\n",
    "+Bonus 5 คะแนน\n",
    "\n",
    "รูปที่ 4 แสดงการซ้อนลูปตัวควบคุม PID (สำหรับข้อต่อหุ่นยนต์ที่ใช้ดีซีมอเตอร์ธรรมดา) เพื่อปรับปรุงสมรรถนะของระบบป้อนกลับ\n",
    "\n",
    "<p align=\"center\">\n",
    "<img src=\"https://drive.google.com/uc?id=1uUQjWyLEXP1XmwUTk5KpU6Tcr84k61G7\" width=550 alt=\"Figure 4\"/>\n",
    "</p>\n",
    "<div align=\"center\"><b>รูปที่ 4 การซ้อนลูปตัวควบคุม PID</b></div>\n",
    "\n",
    "ใช้พลานต์ HDM จากข้อ P1 โดยแยกส่วนพจน์ปริพันธ์ออกเพื่อใช้ในบล็อกของลูปภายนอก และที่เหลือเป็นบล็อกของลูปภายใน และใช้สมการ PID ทั้งสองลูปแบบพจน์อนุพันธ์เป็นตัวกรอง \n",
    "\n",
    "$$\n",
    "C(s) = K_p + \\frac{K_i}{s} + \\frac{NK_d}{N/s+1}\n",
    "$$\n",
    "\n",
    "เกณฑ์การให้คะแนนเป็นดังนี้\n",
    "1. จำลองผลตอบสนองขั้นบันไดของระบบวงปิดในรูปที่ 4 (15 คะแนน)\n",
    "2. พิจารณาว่าหากต้องการปรับพารามิเตอร์ของ PID ทั้งสองลูปให้ผลตอบสนองความถี่ของฟังก์ชันลูปได้ตามข้อกำหนดในข้อ P 2 จะต้องสร้างฟังก์ชันถ่ายโอน $C(s)$ และ $P(s)$ เพื่อใส่ในฟังก์ชัน lshape() อย่างไร (5 คะแนน) \n",
    "\n",
    "ทดลองปรับพารามิเตอร์ให้ได้สอดคล้องกับข้อกำหนด (ฺBonus +5 คะแนน)\n"
   ]
  },
  {
   "cell_type": "code",
   "execution_count": null,
   "metadata": {},
   "outputs": [],
   "source": []
  },
  {
   "cell_type": "code",
   "execution_count": null,
   "metadata": {},
   "outputs": [],
   "source": []
  },
  {
   "cell_type": "markdown",
   "metadata": {},
   "source": [
    "***\n",
    "<div align=\"right\">Last update : 18 สิงหาคม 2564</div>"
   ]
  }
 ],
 "metadata": {
  "kernelspec": {
   "display_name": "Python 3.7 (controlenv)",
   "language": "python",
   "name": "controlenv"
  },
  "language_info": {
   "codemirror_mode": {
    "name": "ipython",
    "version": 3
   },
   "file_extension": ".py",
   "mimetype": "text/x-python",
   "name": "python",
   "nbconvert_exporter": "python",
   "pygments_lexer": "ipython3",
   "version": "3.7.9"
  }
 },
 "nbformat": 4,
 "nbformat_minor": 4
}
