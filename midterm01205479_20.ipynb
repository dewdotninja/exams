{
 "cells": [
  {
   "cell_type": "markdown",
   "metadata": {},
   "source": [
    "<a href=\"https://colab.research.google.com/github/dewdotninja/exams/blob/master/midterm01205479_20.ipynb\" target=\"_parent\"><img src=\"https://colab.research.google.com/assets/colab-badge.svg\" alt=\"Open In Colab\"/></a>"
   ]
  },
  {
   "cell_type": "markdown",
   "metadata": {},
   "source": [
    "<p align=\"left\">\n",
    "<img src=\"https://raw.githubusercontent.com/dewdotninja/exams/main/feng_heading_en.png\" width=400 alt=\"Feng heading\"/>\n",
    "</p>\n",
    "\n",
    "#### Midterm Exam, Second Semester, Academic Year 2020\n",
    "<br>01205479 Internet of Things for Electrial Engineering\n",
    "<br>Wednesday March 3, 2021 13.00 - 16.00\n",
    "<br>This exam is administered online via Google classroom only.\n",
    "\n",
    "Type student name - surname and ID in the cell below.\n"
   ]
  },
  {
   "cell_type": "code",
   "execution_count": null,
   "metadata": {},
   "outputs": [],
   "source": []
  },
  {
   "cell_type": "markdown",
   "metadata": {},
   "source": [
    "### Instructions\n",
    "\n",
    "1. You can use Colab environment or install Jupyter notebook on your local machine. \n",
    "Type your work solely on this notebook. You can add as many cells as you want. \n",
    "Formatting is not necessary as long as your texts/equations are understandable and \n",
    "answer the question clearly.\n",
    "2. Open books, notes and online resources.\n",
    "3. Explain clearly. Show details of your computation to receive full credits. For any problem \n",
    "that requires programming, your program should executer without error and give the correct \n",
    "result.\n",
    "4. Do not change any problem. \n",
    "5. Some parameters in the problem set may be a function of your student ID. You must make sure \n",
    "to substitute the right value for such parameters.\n",
    "6. In case you are totally hopeless with Python, the only other softwares that are allowed are MATLAB \n",
    "and Scilab. Students must provide complete MATLAB/Scilab scripts and also capture the \n",
    "output/graph images to the notebook by using the image tag with image files in a public URL.\n",
    "If some relevant information is missing, you may receive only partial credit. Since this is a \n",
    "time-consuming process and may be problematic, doing all your work with Python in Jupyter notebook\n",
    "is strongly recommended.\n",
    "7. The difficulty of each problem is indicated by level (1 = basic, 2 = intermediate, 3 = advanced). Normally, you\n",
    "should attempt to start with easy ones.\n",
    "8. <b>Important : </b>Students must submit your notebook promptly, in Google classroom only,\n",
    "when the 3-hour exam period expires. Resubmission is acceptable only within the exam period. \n",
    "<br><em>Anyone who submits/resubmits later than 10 minutes after the exam period, as indicated in the \n",
    "recorded history of Google classroom, may be considered cheating and may fail this exam.</em>\n",
    "\n"
   ]
  },
  {
   "cell_type": "markdown",
   "metadata": {},
   "source": [
    "***\n",
    "<div align=\"left\">\n",
    "<b>Assoc. Prof. Peerayuth Charnsethikul</b>  &emsp;      Head of Examination Committee\n",
    "<br><b>Asst. Prof. Nithiphat Teerakawanich</b>  &emsp;     Examination Committee\n",
    "<br><b>Dr. Varodom Toochinda</b>    &emsp;    Examination Committee\n",
    "</div>\n"
   ]
  },
  {
   "cell_type": "markdown",
   "metadata": {},
   "source": [
    "#### Further explantion about exam problem that may depend on the last 3 digits of your student ID\n",
    "\n",
    "-------xyz (other digits are disregarded)\n",
    "\n",
    "In case any digit in the last 3 are 0, it must be replaced by 5.\n",
    "\n",
    "#### Examples\n",
    "    \n",
    "Student A's ID - 6010555853 results in x = 8, y = 5, z = 3\n",
    "\n",
    "Student B 's ID - 6010546104 results in x = 1, y = 5, z = 4\n",
    "\n",
    "Student C 's ID - 6310055032 results in x = 5, y = 3, z = 2\n",
    "    \n",
    "These valuess are used for all the problems in the exam where x,y,and/or z appear. In this \n",
    "sense, the results from each student should be different even computed using the same methods.\n",
    "\n",
    "Operations that may be applied to the variables.\n",
    "\n",
    "$+$ addition\n",
    "\n",
    " $-$  subtraction\n",
    "\n",
    " $*$  multiplication \n",
    "\n",
    " $/$ division\n",
    "\n",
    "$**$ raise to the power (For example, x**z means $x^z$)\n",
    "\n",
    "including math opertions such as $\\exp(x)$, $\\sin(z*t)$\n",
    "\n",
    "If a variable is embedded in some digit of a value without any operation symbol, \n",
    "just replace that digit. \n",
    "<br>For example,  z=8 y = 3 $\\Rightarrow$ 12z7 = 1287, 4.3y5 = 4.335\n",
    "\n",
    "Conditional statement may be used, such as\n",
    "if x<5 do task A, otherwise do task B\n",
    "\n",
    "<em>Example: </em> Let $R1 = 1000*x \\,\\Omega, C1 = 10*y \\,\\mu F$\n",
    "\n",
    "<ul>\n",
    "<li />Student A (x=8, y=5) does this problem with R1 = 8000 $\\Omega$, C1 = 50 $\\mu$F\n",
    "<li />Student B (x=1, y=5) does this problem with R1 = 1000 $\\Omega$, C1 = 50 $\\mu$F\n",
    "<li />Student C (x=5, y=3) does this problem with R1 = 5000 $\\Omega$, C1 = 30 $\\mu$F\n",
    "</ul>\n",
    "\n",
    "If any exam problem is not clear enough, write in a cell how you interpret it. If several \n",
    "students get confused on that problem, the grader may decide to give full credit to all.\n",
    "\n"
   ]
  },
  {
   "cell_type": "code",
   "execution_count": null,
   "metadata": {},
   "outputs": [],
   "source": [
    "# You need to install these libraries in the Colab environment\n",
    "!pip install slycot\n",
    "!pip install control"
   ]
  },
  {
   "cell_type": "code",
   "execution_count": 2,
   "metadata": {},
   "outputs": [],
   "source": [
    "# import libraries you want to use\n",
    "import numpy as np\n",
    "import matplotlib.pyplot as plt\n",
    "import control as ctl"
   ]
  },
  {
   "cell_type": "markdown",
   "metadata": {},
   "source": [
    "***\n",
    "### List of exam problems (100 points)\n",
    "\n",
    "* [P1. (10 points)(level 1)](#p1)\n",
    "* [P2. (10 points)(level 1)](#p2)\n",
    "* [P3. (10 points)(level 1)](#p3)\n",
    "* [P4. (15 points)(level 3)](#p4)\n",
    "* [P5. (20 points)(level 1)](#p5)\n",
    "* [P6. (15 points)(level 2)](#p6)\n",
    "* [P7. (10 points)(level 2)](#p7)\n",
    "* [P8. (10 points)(level 3)](#p8)"
   ]
  },
  {
   "cell_type": "markdown",
   "metadata": {},
   "source": [
    "***\n",
    "<a id=\"p1\"></a>\n",
    "#### P1. (10 points)(level 1)\n",
    "<br>An LPF can be constructed using RL circuit as shown in Figure 1. \n",
    "<p align=\"center\">\n",
    "<img src=\"https://drive.google.com/uc?id=1J5KSsS2yip9ZoyKvDxVYhalm2P7U-IWt\" width=250 alt=\"Figure 1\"/>\n",
    "</p>\n",
    "<div align=\"center\"><b>Figure 1 An LPF using RL circuit</b></div>\n",
    "<ol>\n",
    "<li />Choose values for R and L to yield $1y0$ Hz cutoff frequency (5 points)\n",
    "<br>(For example, if $y=3$, cutoff frequency = $130$ Hz.)\n",
    "<li />Verify the cutoff frequency using Bode plot  (5 points)\n",
    "</ol>"
   ]
  },
  {
   "cell_type": "code",
   "execution_count": null,
   "metadata": {},
   "outputs": [],
   "source": []
  },
  {
   "cell_type": "code",
   "execution_count": null,
   "metadata": {},
   "outputs": [],
   "source": []
  },
  {
   "cell_type": "markdown",
   "metadata": {},
   "source": [
    "<a id=\"p2\"></a>\n",
    "#### P2. (10 points)(level 1)\n",
    "Determine the frequency and duty cycle of PWM signal in Figure 2\n",
    "<p align=\"center\">\n",
    "<img src=\"https://drive.google.com/uc?id=16DPmruMrhN3M67PjsWt8FVrkbOWufp5O\" width=550 alt=\"Figure 2\"/>\n",
    "</p>\n",
    "<div align=\"center\"><b>Figure 2 PWM signal</b></div>"
   ]
  },
  {
   "cell_type": "code",
   "execution_count": null,
   "metadata": {},
   "outputs": [],
   "source": []
  },
  {
   "cell_type": "markdown",
   "metadata": {},
   "source": [
    "<a id=\"p3\"></a>\n",
    "#### P3. (10 points)(level 1)\n",
    "From figure 3, complete the Arduino program below consisting of setup() and loop() such that \n",
    "the LED turns on when SW1 is pressed, and off otherwise.  Also, message “LED ON” and “LED OFF” is \n",
    "sent to serial monitor corresponding to LED states.\n",
    "<p align=\"center\">\n",
    "<img src=\"https://drive.google.com/uc?id=1F9H918bbypbiV42-ur0yVY6JorTOaWjU\" width=350 alt=\"Figure 3\"/>\n",
    "</p>\n",
    "<div align=\"center\"><b>Figure 3 switch and LED </b></div>"
   ]
  },
  {
   "cell_type": "markdown",
   "metadata": {},
   "source": [
    "<b>Note : </b> Don't execute the cell as C programming is not supported by Colab notebook."
   ]
  },
  {
   "cell_type": "code",
   "execution_count": null,
   "metadata": {},
   "outputs": [],
   "source": [
    "// replace ___ with C code. \n",
    "setup()\n",
    "{\n",
    "    pinMode(D4,___);  \n",
    "    pinMode(D7, ___);  \n",
    "    Serial.begin(115200);\n",
    "}"
   ]
  },
  {
   "cell_type": "code",
   "execution_count": null,
   "metadata": {},
   "outputs": [],
   "source": [
    "// replace ___ with C code\n",
    "loop()\n",
    "{\n",
    "    if (digitalRead(__))  {\n",
    "        digitalWrite(__, ___);\n",
    "        ___.println(\"LED ___\");\n",
    "    } else. {\n",
    "        digitalWrite(__, ___);\n",
    "        ___.println(\"LED ___\");\n",
    "    }\n",
    "}"
   ]
  },
  {
   "cell_type": "markdown",
   "metadata": {},
   "source": [
    "<a id=\"p4\"></a>\n",
    "#### P4. (15 points)(level 3)\n",
    "We can simulate some mechanical system with electrical circuit. On the left of Figure 4 is \n",
    "a mass-spring-damper system. \n",
    "\n",
    "<p align=\"center\">\n",
    "<img src=\"https://drive.google.com/uc?id=1j2ixxWKUa1tz4t70AkSuwA3vfciW2v1T\" width=650 \n",
    "alt=\"Figure 4\"/>\n",
    "</p>\n",
    "<div align=\"center\"><b>Figure 4 Simulate a mechanical system with electric circuit</b></div>\n",
    "\n",
    "<ol>\n",
    "<li />Using R, C, and L, determine which component to replace A, B, C on the right such that \n",
    "they have the same transfer function. Also compute values of the three components and gain. \n",
    "(10 point)\n",
    "<li />Simulate an impulse response of the system using ctl.impulse_response(). (5 points)"
   ]
  },
  {
   "cell_type": "code",
   "execution_count": null,
   "metadata": {},
   "outputs": [],
   "source": []
  },
  {
   "cell_type": "code",
   "execution_count": null,
   "metadata": {},
   "outputs": [],
   "source": []
  },
  {
   "cell_type": "markdown",
   "metadata": {},
   "source": [
    "<a id=\"p5\"></a>\n",
    "#### P5. (20 points)(level 1)\n",
    "5a) What is MQTT protocol? Explain why it is a preferred method for IoT communication. (3 points)"
   ]
  },
  {
   "cell_type": "code",
   "execution_count": null,
   "metadata": {},
   "outputs": [],
   "source": []
  },
  {
   "cell_type": "markdown",
   "metadata": {},
   "source": [
    "5b) Explain an advantage of using millis() over delay() to specify a time period (3 points)"
   ]
  },
  {
   "cell_type": "code",
   "execution_count": null,
   "metadata": {},
   "outputs": [],
   "source": []
  },
  {
   "cell_type": "markdown",
   "metadata": {},
   "source": [
    "5c) Explain how to use wildcard + to subscribe to a topic. (4 points)"
   ]
  },
  {
   "cell_type": "code",
   "execution_count": null,
   "metadata": {},
   "outputs": [],
   "source": []
  },
  {
   "cell_type": "markdown",
   "metadata": {},
   "source": [
    "5d) If you want to publish humidity=50 and temperature=28 to device shadow in NETPIE2020, what topic should you use? \n",
    "Also form a string to publish in JSON format. (4 points)"
   ]
  },
  {
   "cell_type": "code",
   "execution_count": null,
   "metadata": {},
   "outputs": [],
   "source": []
  },
  {
   "cell_type": "markdown",
   "metadata": {},
   "source": [
    "5e) ESP8266 can accept analog input range 0 - 1 volt using 10-bit ADC. What is the voltage resolution? \n",
    "(minimum voltage that can be measured by the ADC pin.) (3 points)"
   ]
  },
  {
   "cell_type": "code",
   "execution_count": null,
   "metadata": {},
   "outputs": [],
   "source": []
  },
  {
   "cell_type": "markdown",
   "metadata": {},
   "source": [
    "5f) Write instructions in setup() and loop() functions to print \"Hello world\" on the Serial Monitor of Arduino IDE.\n",
    "(Only one instruction is needed in each function) (3 points)"
   ]
  },
  {
   "cell_type": "code",
   "execution_count": null,
   "metadata": {},
   "outputs": [],
   "source": [
    "setup()\n",
    "{\n",
    "    \n",
    "}\n",
    "loop()\n",
    "{\n",
    "    \n",
    "}"
   ]
  },
  {
   "cell_type": "markdown",
   "metadata": {},
   "source": [
    "<a id=\"p6\"></a>\n",
    "#### P6. (15 points)(level 2)\n",
    "\n",
    "Figure 6 shows a method to use force sensing resistor. Let $R_S = 10000*y$ Ohms. \n",
    "\n",
    "<p align=\"center\">\n",
    "<img src=\"https://drive.google.com/uc?id=1fPtZG4Q-8tUR4MA_JiQPnq4yLn56Xb00\" width=650 \n",
    "alt=\"Figure 6\"/>\n",
    "</p>\n",
    "<div align=\"center\"><b>Figure 6 converting force to voltage</b></div>\n",
    "<ol>\n",
    "<li />Use the force -resistance chart on the right to derive a straight line equation \n",
    "mapping between the force and ADC voltage. You can assume that the resistance of FSR is\n",
    "very high when force = 0 gram. (10 points)\n",
    "<li />Plot the line with x-axis = ADC voltage and y-axis = force (5 points)\n",
    "</ol>\n"
   ]
  },
  {
   "cell_type": "code",
   "execution_count": null,
   "metadata": {},
   "outputs": [],
   "source": []
  },
  {
   "cell_type": "code",
   "execution_count": null,
   "metadata": {},
   "outputs": [],
   "source": []
  },
  {
   "cell_type": "markdown",
   "metadata": {},
   "source": [
    "<a id=\"p7\"></a>\n",
    "#### P7. (10 points)(level 2)\n",
    "For the differential amp in Figure 7, let $R_1 = 1000*x$ Ohms and $R_2 = 10000*z$ Ohms. \n",
    "Use the equation provided in the figure to simulate\n",
    "the common-mode noise rejection. The simulation result must show input and output waveforms \n",
    "similar to those in Figure 7.\n",
    "\n",
    "You can use random noise or simply high frequency sinusoid. For the circuit to work, the noise \n",
    "signals for both inputs have to be in phase and the base signals 180-degree out of phase.\n",
    "<p align=\"center\">\n",
    "<img src=\"https://drive.google.com/uc?id=1NBmzKjuhu_fh8cg1kD7u_AZPYpMoDkLf\" width=650 \n",
    "alt=\"Figure 7\"/>\n",
    "</p>\n",
    "<div align=\"center\"><b>Figure 7 Differential amplifier</b></div>\n"
   ]
  },
  {
   "cell_type": "code",
   "execution_count": null,
   "metadata": {},
   "outputs": [],
   "source": []
  },
  {
   "cell_type": "code",
   "execution_count": null,
   "metadata": {},
   "outputs": [],
   "source": []
  },
  {
   "cell_type": "markdown",
   "metadata": {},
   "source": [
    "<a id=\"p8\"></a>\n",
    "#### P8. (10 points)(level 3)\n",
    "Write a Python function to solve an arbitrary level-shifter circuit in Figure 8\n",
    "\n",
    "<code>\n",
    "R1, R2, R3, R4, Vb = level_shifter_design(vi_min, vi_max, vo_min, vo_max)\n",
    "</code>\n",
    "\n",
    "<p />With a set of specified min/max of $V_{in}$ and $V_{out}$, the function must choose the resistors and $V_B$ and also \n",
    "plot the input and output ranges to verify that the design is correct. None of the resistor output should be negative. \n",
    "If R3 and R4 are not needed, R3 is set to zero and R4 to a high value such as $10 M\\Omega$.\n",
    "\n",
    "<p />Validate your design with a set of arbitrary arguments. No assumption that any of the input or output should have\n",
    "zero average.\n",
    "\n",
    "<p align=\"center\">\n",
    "<img src=\"https://drive.google.com/uc?id=1fxegfWgFB09ga8cr9FjcXIro8ilacajt\" width=450 \n",
    "alt=\"Figure 8\"/>\n",
    "</p>\n",
    "<div align=\"center\"><b>Figure 8 level shifter circuit</b></div>\n"
   ]
  },
  {
   "cell_type": "code",
   "execution_count": null,
   "metadata": {},
   "outputs": [],
   "source": []
  },
  {
   "cell_type": "code",
   "execution_count": null,
   "metadata": {},
   "outputs": [],
   "source": []
  },
  {
   "cell_type": "code",
   "execution_count": null,
   "metadata": {},
   "outputs": [],
   "source": []
  },
  {
   "cell_type": "markdown",
   "metadata": {},
   "source": [
    "<div align=right>Revision A : Feb 24,2021</div>"
   ]
  }
 ],
 "metadata": {
  "kernelspec": {
   "display_name": "Python 3.7 (controlenv)",
   "language": "python",
   "name": "controlenv"
  },
  "language_info": {
   "codemirror_mode": {
    "name": "ipython",
    "version": 3
   },
   "file_extension": ".py",
   "mimetype": "text/x-python",
   "name": "python",
   "nbconvert_exporter": "python",
   "pygments_lexer": "ipython3",
   "version": "3.7.9"
  }
 },
 "nbformat": 4,
 "nbformat_minor": 4
}
