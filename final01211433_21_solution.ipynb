{
 "cells": [
  {
   "cell_type": "markdown",
   "metadata": {},
   "source": [
    "<a href=\"https://colab.research.google.com/github/dewdotninja/exams/blob/master/final01211433_21_solution.ipynb\" target=\"_parent\"><img src=\"https://colab.research.google.com/assets/colab-badge.svg\" alt=\"Open In Colab\"/></a>"
   ]
  },
  {
   "cell_type": "markdown",
   "metadata": {},
   "source": [
    "<p align=\"left\">\n",
    "<img src=\"https://raw.githubusercontent.com/dewdotninja/exams/main/feng_heading.png\" width=400 alt=\"Feng heading\"/>\n",
    "</p>\n",
    "\n",
    "#### ข้อสอบปลายภาคออนไลน์ 2564\n",
    "<br>ภาควิชาวิศวกรรมเครื่องกล \n",
    "<br>วิชา 01211433 Vision and Control of Industrial Robots \n",
    "<br>วันอังคารที่ 2 พฤศจิกายน 2564 13.00-18.00 ทางออนไลน์\n",
    "\n",
    "ให้นิสิตพิมพ์ ชื่อ นามสกุล รหัสนิสิต หมู่เรียน ในเซลด้านล่างนี้ "
   ]
  },
  {
   "cell_type": "code",
   "execution_count": null,
   "metadata": {},
   "outputs": [],
   "source": [
    "นางสาวเออี ไอโอยู 6010506258"
   ]
  },
  {
   "cell_type": "markdown",
   "metadata": {},
   "source": [
    "พิมพ์หรือคัดลอกข้อความต่อไปนี้ลงในเซลด้านล่าง (สำคัญ!)\n",
    "<br>\"ข้าพเจ้าขอให้คำสัตย์ว่าได้ทำข้อสอบนี้ด้วยตัวเองโดยไม่ได้รับความช่วยเหลือจากผู้ใด\""
   ]
  },
  {
   "cell_type": "code",
   "execution_count": null,
   "metadata": {},
   "outputs": [],
   "source": [
    "ข้าพเจ้าขอให้คำสัตย์ว่าได้ทำข้อสอบนี้ด้วยตัวเองโดยไม่ได้รับความช่วยเหลือจากผู้ใด"
   ]
  },
  {
   "cell_type": "markdown",
   "metadata": {},
   "source": [
    "### คำสั่ง\n",
    "\n",
    "1. ข้อสอบจะถูกแจกเป็นลิงก์บน Google classroom เท่านั้น มีให้เลือกเป็นแบบ Jupyter notebook \n",
    "(Python) หรือ Pluto notebook (Julia) ให้เลือกทำและส่งไฟล์เพียงชนิดเดียวเท่านั้น \n",
    "(หากส่งมาทั้งสองชนิดผู้ตรวจจะเลือกแบบสุ่ม) โดยทำข้อสอบในไฟล์ notebook ที่ได้รับทั้งหมด \n",
    "สามารถเพิ่มเซลได้ตามต้องการ \n",
    "2. ข้อสอบเป็นแบบเปิดตำรา ใช้คอมพิวเตอร์ หนังสือหรือข้อมูลออนไลน์ได้ไม่จำกัด\n",
    "3. อธิบายและแสดงการคำนวณให้ชัดเจน สำหรับโจทย์ที่ต้องเขียนโปรแกรมแก้ปัญหา โปรแกรมต้อง\n",
    "ประมวลผลได้โดยไม่มีข้อผิดพลาดและให้คำตอบถูกต้องจึงได้คะแนนเต็ม\n",
    "4. ห้ามแก้ไขโจทย์โดยเด็ดขาด ผู้ที่แก้โจทย์จะได้คะแนนข้อนั้นเป็นศูนย์\n",
    "5. พารามิเตอร์ในโจทย์บางข้อขึ้นกับตัวเลข 3 หลักสุดท้ายของรหัสนิสิตของผู้ทำข้อสอบ \n",
    "ซึ่งจะต้องแทนค่าอย่างถูกต้องเท่านั้นจึงจะได้คะแนน (ดูคำอธิบายเพิ่มเติมด้านล่าง) \n",
    "6. ทำข้อสอบด้วยตนเอง ห้ามปรึกษาหรือขอความช่วยเหลือจากบุคคลอื่นในทุกกรณี ข้อย่อยใดที่คำตอบผิด\n",
    "และมีข้อความหรือค่าคำตอบเหมือนกันอย่างมีนัยสำคัญมากกว่าหนึ่งคนอาจจะได้คะแนนข้อย่อยนั้นเป็นศูนย์\n",
    "7. เวลาทำข้อสอบ 5 ชั่วโมง เมื่อหมดเวลาจะต้องส่งข้อสอบทุกคน การส่งซ้ำจะนับเวลาที่ส่งครั้งสุดท้าย \n",
    "ซึ่งบันทึกโดย Google classroom ผู้ที่ส่งหลังหมดเวลา 10 นาทีจะถูกหัก -1 คะแนนต่อนาที เริ่มจาก -10 คะแนน \n",
    "ผู้ที่ส่งหลัง 30 นาทีอาจถูกปฏิเสธข้อสอบและได้คะแนนสอบครั้งนี้เป็นศูนย์\n"
   ]
  },
  {
   "cell_type": "markdown",
   "metadata": {},
   "source": [
    "<div align=\"center\">\n",
    "<b>รศ.ดร.พีรยุทธ์ ชาญเศรษฐิกุล</b>\t\t\tประธานกรรมการอำนวยการสอบ\n",
    "<br><b>ผศ.ดร.ประพจน์ ขุนทอง</b>\t\t\t\tกรรมการออกข้อสอบ\n",
    "<br><b>ดร.วโรดม ตู้จินดา</b>\t\t\t\t\tกรรมการออกข้อสอบ\n",
    "</div>\n"
   ]
  },
  {
   "cell_type": "markdown",
   "metadata": {},
   "source": [
    "    \n",
    "***\n",
    "### คะแนนของโจทย์ข้อสอบแต่ละข้อ (รวม 100 คะแนน)\n",
    "\n",
    "| โจทย์ข้อสอบ | คะแนน |\n",
    "| --- | --- |\n",
    "| [1 ](#p1) | (20 คะแนน) |\n",
    "| [2 ](#p2) | (20 คะแนน) |\n",
    "| [3 ](#p3) | (15 คะแนน) |\n",
    "| [4 ](#p4) | (15 คะแนน) |\n",
    "| [5 ](#p5) | (15 คะแนน) |\n",
    "| [6 ](#p6) | (15 คะแนน) |"
   ]
  },
  {
   "cell_type": "markdown",
   "metadata": {},
   "source": [
    "### อธิบายเพิ่มเติมเกี่ยวกับค่าในโจทย์ข้อสอบ ที่ขึ้นกับตัวเลข 3 ตัวสุดท้ายของรหัสนิสิต คือ\n",
    "\n",
    "-------xyz  (ไม่สนใจเลขหลักอื่น )\n",
    "\n",
    "ถ้าตัวเลขตัวใดใน 3 หลักสุดท้ายเป็น 0 ให้แทนด้วยเลข 5 \n",
    "\n",
    "ตัวอย่างรหัสนิสิต\n",
    "\n",
    "นิสิต A : 6010552893  ได้ค่า x = 8, y = 9, z = 3\n",
    "\n",
    "นิสิต B : 6010502977  ได้ค่า x = 9, y = 7, z = 7\n",
    "\n",
    "นิสิต C : 6010503001 ได้ค่า x = 5, y = 5, z = 1\n",
    "\n",
    "ใช้ค่านี้กับโจทย์ทุกข้อในข้อสอบ\n",
    "\n",
    "เครื่องหมายที่ใช้ดำเนินการกับค่าตัวแปร\n",
    "\n",
    " $+$ บวก\n",
    "\n",
    " $-$  ลบ\n",
    "\n",
    " $*$  คูณ \n",
    "\n",
    " $/$ หาร\n",
    "\n",
    "$**$, $^$ ยกกำลัง\n",
    "\n",
    "รวมถึงฟังก์ชันทางคณิตศาสตร์ เช่น $\\exp(x)$, $\\sin(z*t)$\n",
    "\n",
    "หากตัวแปรฝังอยู่ในหลักหนึ่งของตัวเลข ให้แทนหลักนั้นด้วยค่าตัวแปรเลย เช่น y = 8 z = 3, 12y7 = 1287, 4.3z5 = 4.335\n",
    "\n",
    "โจทย์อาจจำหนดเงื่อนไขขึ้นกับ x, y, z เช่น ถ้า x<5 ทำเงื่อนไข A นอกนั้นทำเงื่อนไข B \n",
    "\n",
    "ตัวอย่างโจทย์บอกว่า กำหนดให้ $R1 = 1000*x \\,\\Omega, C1 = 10*y \\,\\mu F$\n",
    "\n",
    "นิสิต A ทำโจทย์ด้วยค่า R1 = 8000 $\\Omega$, C1 = 90 $\\mu$F\n",
    "\n",
    "นิสิต B ทำโจทย์ด้วยค่า R1 = 9000 $\\Omega$, C1 = 70 $\\mu$F\n",
    "\n",
    "นิสิต C ทำโจทย์ด้วยค่า R1 = 1000 $\\Omega$, C1 = 10 $\\mu$F\n",
    "\n",
    "ถ้ามีตรงส่วนใดที่ไม่ชัดเจนในข้อสอบ ให้เขียนอธิบายว่าเข้าใจโจทย์อย่างไร หากผู้ตรวจเห็นว่าโจทย์เป็นเหตุทำให้เข้าใจผิดได้ จะให้คะแนนในส่วนนั้น"
   ]
  },
  {
   "cell_type": "code",
   "execution_count": null,
   "metadata": {},
   "outputs": [],
   "source": [
    "#หากใช้ Colab ทำข้อสอบ ต้องติดตั้งไลบรารีเพิ่ม\n",
    "!pip install slycot\n",
    "!pip install control"
   ]
  },
  {
   "cell_type": "code",
   "execution_count": 1,
   "metadata": {},
   "outputs": [],
   "source": [
    "# นำเข้าไลบรารีที่ต้องการใช้ (สามารถนำเข้าในเซลอื่นๆได้ตามต้องการ)\n",
    "import numpy as np\n",
    "import matplotlib.pyplot as plt\n",
    "import control as ctl"
   ]
  },
  {
   "cell_type": "markdown",
   "metadata": {},
   "source": [
    "***\n",
    "##### หมายเหตุ\n",
    "\n",
    "ในเฉลยนี้จะสมมุติว่าทำโดยนิสิตที่มีรหัส 6010506258 ถอดรหัสได้ x = 2, y = 5, z = 8 \n",
    "***"
   ]
  },
  {
   "cell_type": "code",
   "execution_count": 2,
   "metadata": {},
   "outputs": [],
   "source": [
    "x = 2\n",
    "y = 5\n",
    "z = 8"
   ]
  },
  {
   "cell_type": "markdown",
   "metadata": {},
   "source": [
    "***\n",
    "<a id=\"p1\"></a>\n",
    "#### P1 (20 คะแนน)\n",
    "\n",
    "อุปกรณ์ชนิดหนึ่งที่นิยมใช้ในเครื่องจักรอุตสากรรมที่มีการเคลื่อนที่แบบหมุนเช่นข้อต่อหุ่นยนต์ เรียกว่า ตัวขับฮาร์มอนิก \n",
    "(Harmonic Drive) จากบริษัทในกลุ่ม Harmonic Drive LLC โดยใช้ต่อร่วมกับเพลาของมอเตอร์ \n",
    "ต่อไปเพื่อความสะดวกในการเขียนจะเรียกโดยย่อว่าระบบ HDM \n",
    "\n",
    "รูปที่ 1 แสดงโครงสร้างของกลไก HDM ประกอบด้วย 3 ส่วนคือ แหวนกลม (circular spline) แหวนยืดหยุ่น \n",
    "(flexspline) และตัวกำเนิดคลื่น (wave generator) รูปวงรี โดยตัวกำเนิดคลื่นจะเชื่อมต่อกับเพลาของมอเตอร์\n",
    "ซึ่งหมุนด้วยความเร็วสูง แหวนกลมจะมีฟันอยู่ด้านใน ระหว่างทั้งสองจะคั่นด้วยแหวนยืดหยุ่นที่มีฟันอยู่ด้านนอก \n",
    "เมื่อตัวกำเนิดคลื่นหมุนจะทำให้แหวนยืดหยุ่นแปรรูปและทำให้ฟันไปขบกับฟันของแหวนกลม ดังนั้น \n",
    "เพลาด้านเอาต์พุตของ HDM จะหมุนด้วยความเร็วต่ำกว่าความเร็วเพลามอเตอร์ โดยอัตราทดจะขึ้นกับความแตกต่างระหว่าง\n",
    "จำนวนฟันของแหวนยืดหยุ่นกับแหวนกลม\n",
    "\n",
    "<p align=\"center\">\n",
    "<img src=\"https://drive.google.com/uc?id=1PtcGtTJ2iv81nLHz5Gb5mNnGeM_d5i4c\" width=300 alt=\"Figure 1\"/>\n",
    "</p>\n",
    "<div align=\"center\"><b>รูปที่ 1 โครงสร้างของ HDM (https://www.harmonicdrive.net/)</b></div>\n",
    "\n",
    "เมื่อเขียนแผนภาพของอุปกรณ์ HDM ต่อกับดีซีมอเตอร์จะได้เป็นดังรูปที่ 2 โดยด้านซ้ายเป็นระบบไฟฟ้าเชิงกลของมอเตอร์ และด้านขวาคือระบบเชิงกลของตัวขับฮาร์มอนิกซึ่งแทนโดยระบบเกียร์ผ่านเพลาอ่อนตัวที่มีค่าความแข็งเท่ากับ k \n",
    "\n",
    "<p align=\"center\">\n",
    "<img src=\"https://drive.google.com/uc?id=1OP3LsMAgsHQ5uYdmVLQFHQLq55J-kYd7\" width=550 alt=\"Figure 2\"/>\n",
    "</p>\n",
    "<div align=\"center\"><b>รูปที่ 2 แผนภาพของระบบ HDM</b></div>\n",
    "\n",
    "เมื่อนิยาม \n",
    "$$\n",
    "p_l(s) = J_ls^2 + B_ls + k \\tag{1}\n",
    "$$\n",
    "$$\n",
    "p_m(s) = J_ms^2 + B_ms + k \\tag{2}\n",
    "$$\n",
    "\n",
    "สามารถแสดงได้ว่าฟังก์ชันถ่ายโอนรวมของ HDM เขียนได้เป็นดังนี้\n",
    "$$\n",
    "P(s) = \\frac{\\theta_l(s)}{V(s)} = \\frac{k_mk}{p_m(s)p_l(s)(Ls+R)-k^2(Ls+R)+rk_mk_bsp_l(s)} \\tag{3}\n",
    "$$\n",
    "\n",
    "เมื่อกำหนดค่าพารามิตอร์ (แทนค่า x,y,z จากรหัสนิสิตของตนเอง)\n",
    "<code>\n",
    "\tkm = (y+z)*100  # torque constant\n",
    "\tkb = 1  # back EMF constant\n",
    "\tk = 1000 # torsional stiffness of harmonic drive\n",
    "\tr = x   # gear ratio\n",
    "\tR = 1  # armature resistance\n",
    "\tL = 0.1 # armature inductance\n",
    "\tJm = (x+y)  #  motor inertia\n",
    "\tBm = 0.0y  # motor shaft friction\n",
    "\tJl = (x+z)  # load inertia\n",
    "\tBl = 0.0z  # load friction\n",
    "</code>\n",
    "\n",
    "<b>P1.1</b> สร้างฟังก์ชันถ่ายโอนของพลานต์ข้อต่อหุ่นยนต์ขับเคลื่อนโดย HDM ตามสมการ (3) \n",
    "และพล็อตแผนภาพโบเด (Bode plot) ที่แสดงขนาดและเฟสของพลานต์ในย่านความถี่ 0.01 - 1000 rad/s \n",
    "(5 คะแนน)\n",
    "\n",
    "### Solution"
   ]
  },
  {
   "cell_type": "code",
   "execution_count": 3,
   "metadata": {},
   "outputs": [
    {
     "data": {
      "text/latex": [
       "$$\\frac{1.3 \\times 10^{6}}{7 s^5 + 70.11 s^4 + 2.77 \\times 10^{4} s^3 + 1.722 \\times 10^{4} s^2 + 2.6 \\times 10^{6} s}$$"
      ],
      "text/plain": [
       "TransferFunction(array([1300000]), array([7.00000000e+00, 7.01060000e+01, 2.77010604e+04, 1.72210040e+04,\n",
       "       2.60013000e+06, 0.00000000e+00]))"
      ]
     },
     "execution_count": 3,
     "metadata": {},
     "output_type": "execute_result"
    }
   ],
   "source": [
    "km = (y+z)*100  # torque constant\n",
    "kb = 1  # back EMF constant\n",
    "k = 1000 # torsional stiffness of harmonic drive\n",
    "r = x   # gear ratio\n",
    "R = 1  # armature resistance\n",
    "L = 0.1 # armature inductance\n",
    "Jm = (x+y)  #  motor inertia\n",
    "Bm = 0.01*y  # motor shaft friction\n",
    "Jl = (x+z)  # load inertia\n",
    "Bl = 0.01*z  # load friction\t\n",
    "s = ctl.tf(\"s\")\n",
    "p_l = Jl*s**2 + Bl*s + k\n",
    "p_m = Jm*s**2 + Bm*s + k\n",
    "P = km*k/(p_m*p_l*(L*s+R) - (k**2)*(L*s+R) + r*km*kb*s*p_l)\n",
    "P"
   ]
  },
  {
   "cell_type": "code",
   "execution_count": 4,
   "metadata": {},
   "outputs": [
    {
     "data": {
      "image/png": "[encoded data removed]",
      "text/plain": [
       "<Figure size 432x288 with 2 Axes>"
      ]
     },
     "metadata": {
      "needs_background": "light"
     },
     "output_type": "display_data"
    }
   ],
   "source": [
    "_,_,_ = ctl.bode_plot(P,dB=True, omega_limits=(0.01,1000))"
   ]
  },
  {
   "cell_type": "markdown",
   "metadata": {},
   "source": [
    "**P1.2** แปลงฟังก์ชันถ่ายโอนจากข้อ P1.1 เป็นระบบเวลาวิยุต (discrete-time) \n",
    "โดยมีคาบเวลาการสุ่ม $Ts$ เท่ากับ 0.1 ของคาบเวลามากที่สุดที่ทำให้ไม่เกิดปัญหาการแฝง \n",
    "(aliasing problem) (5 คะแนน)\n",
    "\n",
    "### Solution"
   ]
  },
  {
   "cell_type": "markdown",
   "metadata": {},
   "source": [
    "จากแผนภาพโบเดจะได้แบนด์วิดท์ของพลานต์ประมาณ 0.5 rad/s \n",
    "ดังนั้นความถี่ในการสุ่มสัญญาณต้องมีค่าอย่างน้อย 2 เท่าหรือ 1 rad/s \n",
    "แปลงเป็นคาบเวลาเท่ากับ $2\\pi$ เลือกคาบเวลาการสุ่ม $Ts = 0.2*\\pi$"
   ]
  },
  {
   "cell_type": "code",
   "execution_count": 5,
   "metadata": {},
   "outputs": [
    {
     "data": {
      "text/latex": [
       "$$\\frac{0.3192 z^4 - 0.572 z^3 + 0.2703 z^2 - 0.01009 z + 0.000601}{z^5 - 2.787 z^4 + 2.63 z^3 - 0.8734 z^2 + 0.03308 z - 0.00185}\\quad dt = 0.6283185307179586$$"
      ],
      "text/plain": [
       "TransferFunction(array([ 0.31924358, -0.57204536,  0.27025606, -0.01009398,  0.00060097]), array([ 1.00000000e+00, -2.78746043e+00,  2.62964807e+00, -8.73421829e-01,\n",
       "        3.30839469e-02, -1.84975914e-03]), 0.6283185307179586)"
      ]
     },
     "execution_count": 5,
     "metadata": {},
     "output_type": "execute_result"
    }
   ],
   "source": [
    "Ts = 0.2*np.pi\n",
    "Pd = ctl.c2d(P,Ts)\n",
    "Pd"
   ]
  },
  {
   "cell_type": "markdown",
   "metadata": {},
   "source": [
    "**P1.3** ใช้พลานต์ระบบเวลาวิยุตจากข้อ **P1.2** และตัวควบคุมแบบสัดส่วน \n",
    "(proportional control) $C(s) = K$ โดยมีค่าอัตราขยาย $K = 0.01*(x+y)$ \n",
    "สร้างระบบป้อนกลับและพิจารณาเสถียรภาพในโดเมนเวลาวิยุต (5 คะแนน)\n",
    "\n",
    "### Solution"
   ]
  },
  {
   "cell_type": "code",
   "execution_count": 6,
   "metadata": {},
   "outputs": [
    {
     "name": "stdout",
     "output_type": "stream",
     "text": [
      "0 states have been removed from the model\n"
     ]
    },
    {
     "data": {
      "image/png": "[encoded data removed]",
      "text/plain": [
       "<Figure size 432x288 with 1 Axes>"
      ]
     },
     "metadata": {
      "needs_background": "light"
     },
     "output_type": "display_data"
    }
   ],
   "source": [
    "K = 0.01*(x+y)\n",
    "Ld = K*Pd\n",
    "Td = ctl.minreal(ctl.feedback(Ld))\n",
    "poles,zeros = ctl.pzmap(Td,grid=True)"
   ]
  },
  {
   "cell_type": "markdown",
   "metadata": {},
   "source": [
    "จากรูปจะเห็นว่าโพลทั้งหมดของ $T(s)$ อยู่ในวงกลมรัศมีหนึ่งหน่วย ดังนั้นระบบป้อนกลับเสถียร"
   ]
  },
  {
   "cell_type": "code",
   "execution_count": null,
   "metadata": {},
   "outputs": [],
   "source": []
  },
  {
   "cell_type": "markdown",
   "metadata": {},
   "source": [
    "**P1.4** จำลองผลตอบสนองขั้นบันไดของระบบป้อนกลับเวลาวิยุตในโจทย์ข้อ **P1.3** \n",
    "เปรียบเทียบกับผลตอบสนองขั้นบันไดของระบบป้อนกลับเวลาต่อเนื่อง \n",
    "ขยายเวลาการจำลองให้เห็นผลตอบสนองเข้าสู่สถานะนิ่ง (steady-state) \n",
    "หากระบบเสถียร หรือการที่เอาต์พุตมีขนาดใหญ่ขึ้น หากระบบไม่เสถียร (5 คะแนน)\n",
    "\n",
    "### Solution"
   ]
  },
  {
   "cell_type": "code",
   "execution_count": 7,
   "metadata": {},
   "outputs": [
    {
     "data": {
      "image/png": "[encoded data removed]",
      "text/plain": [
       "<Figure size 432x288 with 1 Axes>"
      ]
     },
     "metadata": {
      "needs_background": "light"
     },
     "output_type": "display_data"
    }
   ],
   "source": [
    "tvec = np.arange(0,500,Ts) \n",
    "r = np.ones(tvec.shape)\n",
    "\n",
    "# form continouous time closed-loop system \n",
    "L = K*P\n",
    "Tc = ctl.feedback(L)\n",
    "\n",
    "T, yc = ctl.step_response(Tc, tvec)\n",
    "T, yd = ctl.step_response(Td, tvec)\n",
    "\n",
    "plt.figure()\n",
    "plt.plot(T,r,'b',T,yc,'r-',T,yd,'g-')\n",
    "plt.grid('True')\n",
    "plt.xlabel('time (sec)')\n",
    "plt.ylabel('output')\n",
    "plt.title(\"Figure 6 Step response comparison. between continuous and discrete time systems\")\n",
    "plt.legend(['step ref.','y(t) (continuous)','y(t) (discrete)'])\n",
    "plt.show()"
   ]
  },
  {
   "cell_type": "markdown",
   "metadata": {},
   "source": [
    "***\n",
    "<a id=\"p2\"></a>\n",
    "### P2 (15 คะแนน)\n",
    "\n",
    "**P2.1** (10 คะแนน)\n",
    "\n",
    "ที่แสดงในเซลล์นี้คือฟังก์ชัน pid_compare() จาก **Module 7 : Continuous to Discrete Conversion Methods** \n",
    "สำหรับเปรียบเทียบผลจากการแปลงตัวควบคุม PID โดยวิธีการประมาณค่า 3 แบบ ให้ดัดแปลงฟังก์ชันนี้เพื่อใช้พลานต์ HDM จากข้อ P1 \n",
    "\n",
    "ปรับค่าพารามิเตอร์ PID เพื่อให้ได้ผลตอบสนองขั้นบันไดที่เสถียร มีช่วงเวลาขาขึ้น $t_r$ น้อยกว่า 0.2 เปอร์เซนต์การพุ่งเกินน้อยกว่า 20% \n",
    "\n",
    "<code>\n",
    "def pid_compare(kp, ki, kd, N, T, tvec):\n",
    "    s = ctl.tf('s')\n",
    "    z = ctl.tf('z')\n",
    "    # continuous-time plant\n",
    "    pnum = 1\n",
    "    pden = [10, 0.1, 0]\n",
    "    P = ctl.tf(pnum,pden)\n",
    "    # continuous-time PID\n",
    "    C_c = kp + ki/s + s*N*kd/(s+N)\n",
    "    L_c = C_c*P\n",
    "    sys_c = ctl.feedback(L_c)\n",
    "    #print(sys)\n",
    "    Tv, y_c = ctl.step_response(sys_c, tvec)\n",
    "    # discretize the plant using bilinear transformation\n",
    "    P_d = (T*(z+1)/(2*(z-1)))*(T*z+T)/((20+0.1*T)*z - 20 + 0.1*T)\n",
    "    # forward difference method\n",
    "    C_fd = kp + ki*T/(z-1) + kd*N*(z-1)/(z-1+N*T)\n",
    "    L_fd = C_fd*P_d\n",
    "    sys_fd = ctl.feedback(L_fd)\n",
    "    Tv, y_fd = ctl.step_response(sys_fd, tvec)\n",
    "    # backward difference method    \n",
    "    C_bd = kp + ki*T*z/(z-1) + kd*N*(z-1)/((1+N*T)*z-1)\n",
    "    L_bd = C_bd*P_d\n",
    "    sys_bd = ctl.feedback(L_bd)\n",
    "    Tv, y_bd = ctl.step_response(sys_bd, tvec)\n",
    "    # bilinear transformation difference method    \n",
    "    C_bt = kp + ki*T*(z+1)/(2*(z-1)) + kd*N*(z-1)/((1+0.5*N*T)*z+0.5*N*T -1)\n",
    "    L_bt = C_bt*P_d\n",
    "    sys_bt = ctl.feedback(L_bt)\n",
    "    Tv, y_bt = ctl.step_response(sys_bt, tvec)\n",
    "    r = np.ones(tvec.shape)\n",
    "    plt.figure()\n",
    "    plt.plot(Tv,r,'b',Tv,y_c,'r-', Tv, y_fd,'b-',Tv, y_bd,'g-',Tv, y_bt,'m-')\n",
    "    plt.grid('True')\n",
    "    plt.xlabel('time (sec)')\n",
    "    plt.ylabel('output')\n",
    "    plt.legend(['step ref.','y (continuous)','y (forward difference)', \n",
    "                'y (backward difference)', 'y (bilinear transform)'])\n",
    "    plt.show()\n",
    "    return y_c, y_fd, y_bd, y_bt\n",
    "</code>\n",
    "\n",
    "### Solution"
   ]
  },
  {
   "cell_type": "code",
   "execution_count": 8,
   "metadata": {},
   "outputs": [],
   "source": [
    "def pid_compare(kp, ki, kd, N, T, tvec):\n",
    "    s = ctl.tf('s')\n",
    "    z = ctl.tf('z')\n",
    "    # continuous-time plant. Must comment these lines out to use P from 1.1 \n",
    "    #pnum = 1\n",
    "    #pden = [10, 0.1, 0]\n",
    "    #P = ctl.tf(pnum,pden)\n",
    "    # continuous-time PID\n",
    "    C_c = kp + ki/s + s*N*kd/(s+N)\n",
    "    L_c = C_c*P\n",
    "    sys_c = ctl.feedback(L_c)\n",
    "    #print(sys)\n",
    "    Tv, y_c = ctl.step_response(sys_c, tvec)\n",
    "    \n",
    "    # discretize the plant using bilinear transformation. Comment out\n",
    "    #P_d = (T*(z+1)/(2*(z-1)))*(T*z+T)/((20+0.1*T)*z - 20 + 0.1*T)\n",
    "    P_d = ctl.c2d(P,T) # discretize P from 1.1\n",
    "\n",
    "    # forward difference method\n",
    "    C_fd = kp + ki*T/(z-1) + kd*N*(z-1)/(z-1+N*T)\n",
    "    L_fd = C_fd*P_d\n",
    "    sys_fd = ctl.feedback(L_fd)\n",
    "    Tv, y_fd = ctl.step_response(sys_fd, tvec)\n",
    "    # backward difference method    \n",
    "    C_bd = kp + ki*T*z/(z-1) + kd*N*(z-1)/((1+N*T)*z-1)\n",
    "    L_bd = C_bd*P_d\n",
    "    sys_bd = ctl.feedback(L_bd)\n",
    "    Tv, y_bd = ctl.step_response(sys_bd, tvec)\n",
    "    # bilinear transformation difference method    \n",
    "    C_bt = kp + ki*T*(z+1)/(2*(z-1)) + kd*N*(z-1)/((1+0.5*N*T)*z+0.5*N*T -1)\n",
    "    L_bt = C_bt*P_d\n",
    "    sys_bt = ctl.feedback(L_bt)\n",
    "    Tv, y_bt = ctl.step_response(sys_bt, tvec)\n",
    "    r = np.ones(tvec.shape)\n",
    "    plt.figure()\n",
    "    plt.plot(Tv,r,'b',Tv,y_c,'r-', Tv, y_fd,'b-',Tv, y_bd,'g-',Tv, y_bt,'m-')\n",
    "    plt.grid('True')\n",
    "    plt.xlabel('time (sec)')\n",
    "    plt.ylabel('output')\n",
    "    plt.legend(['step ref.','y (continuous)','y (forward difference)', \n",
    "                'y (backward difference)', 'y (bilinear transform)'])\n",
    "    plt.show()\n",
    "    return y_c, y_fd, y_bd, y_bt"
   ]
  },
  {
   "cell_type": "code",
   "execution_count": 11,
   "metadata": {},
   "outputs": [
    {
     "data": {
      "image/png": "[encoded data removed]",
      "text/plain": [
       "<Figure size 432x288 with 1 Axes>"
      ]
     },
     "metadata": {
      "needs_background": "light"
     },
     "output_type": "display_data"
    }
   ],
   "source": [
    "# Perform the simulation with some given parameters and time vector\n",
    "kp = 0.4\n",
    "ki = 0.4\n",
    "kd = 0.0\n",
    "T = 0.01\n",
    "N = 100\n",
    "tvec = np.arange(0,50, T)\n",
    "_,_,_,_ = pid_compare(kp, ki, kd, N, T, tvec)"
   ]
  },
  {
   "cell_type": "markdown",
   "metadata": {},
   "source": [
    "**หมายเหตุ :** จากโจทย์ข้อนี้จะพบว่าไม่สามารถปรับค่าของ PID ให้มีผลตอบสนองขั้นบันไดได้ตามข้อกำหนดที่โจทย์ต้องการได้ ดังนั้นเพียงปรับจนได้ผลตอบสนองที่เสถียรก็จะได้คะแนน"
   ]
  },
  {
   "cell_type": "markdown",
   "metadata": {},
   "source": [
    "**P2.2** จากการจำลองในข้อ **P2.1** หาค่าของพารามิเตอร์ที่การแปลงแบบผลต่างข้างหน้า (Forward difference) \n",
    "ทำให้ผลตอบสนองไม่เสถียร ส่วนการแปลงอีก 2 แบบยังคงเสถียรอยู่ อธิบายเหตุผลที่ทำให้เกิดเหตุการณ์นี้ (5 คะแนน)\n",
    "\n",
    "### Solution"
   ]
  },
  {
   "cell_type": "markdown",
   "metadata": {},
   "source": [
    "จากการทดสอบได้ค่าพารามิเตอร์ที่ทำให้การแปลงแบบผลต่างข้างหน้าได้ระบบป้อนกลับที่ไม่เสถียรดังนี้"
   ]
  },
  {
   "cell_type": "code",
   "execution_count": 24,
   "metadata": {},
   "outputs": [
    {
     "data": {
      "image/png": "[encoded data removed]",
      "text/plain": [
       "<Figure size 432x288 with 1 Axes>"
      ]
     },
     "metadata": {
      "needs_background": "light"
     },
     "output_type": "display_data"
    }
   ],
   "source": [
    "kp1 = 0.4\n",
    "ki1 = 0.4\n",
    "kd1 = 0.06\n",
    "N1 = 82\n",
    "T_s1 = 0.025\n",
    "tvec2 = np.arange(0,5, T_s1)\n",
    "_,_,_,_ = pid_compare(kp1, ki1, kd1, N1, T_s1, tvec2)"
   ]
  },
  {
   "cell_type": "markdown",
   "metadata": {},
   "source": [
    "อธิบายได้จากภาพการส่งพื้นที่เสถียรภาพจากระบบเวลาต่อเนื่องไปยังระบบเวลาวิยุตโดยวิธีการ 3 แบบ \n",
    "จะเห็นว่าพื้นที่เสถียรภาพที่ถูกส่งโดยวิธีการ forward difference จะเป็นพื้นที่ทางด้านซ้ายของเส้นแนวดิ่ง $1+ jy, \\;\\; y \\in (-\\infty,\\infty)$ \n",
    "ดังนั้นจึงมีโอกาสที่โพลของตัวควบคุมเวลาวิยุตมีตำแหน่งอยู่นอกวงกลมหนึ่งหน่วยศูนย์กลางที่จุดกำเนิด ซึ่งเป็นตำแหน่งโพลที่ไม่เสถียรของระบบเวลาวิยุต"
   ]
  },
  {
   "cell_type": "markdown",
   "metadata": {},
   "source": [
    "***\n",
    "<a id=\"p3\"></a>\n",
    "### P3 (20 คะแนน)\n",
    "\n",
    "ในโจทย์ข้อนี้ต้องการใช้อัลกอริทึมหาเอกลักษณ์ระบบโดยวิธีกำลังสองน้อยสุด (LSID : Least-square system identification) \n",
    "เพื่อหาโมเดลของพลานต์จากโจทย์ข้อ $P1.1$ ตามแผนภาพบล็อกในรูปที่ 3 \n",
    "\n",
    "<p align=\"center\">\n",
    "<img src=\"https://drive.google.com/uc?id=1vLD5x1eEnRFRnyu-Xr_ns_72X5244qRm\" width=600 alt=\"Figure 3\" />\n",
    "</p>\n",
    "<div align=\"center\"><b>รูปที่ 3  แผนภาพบล็อกสำหรับการจำลอง LSID</b></div>\n",
    "\n",
    "**หมายเหตุ :** อ่านรายละเอียดเพิ่มเติมได้จากสมุดบันทึก Least Square System Identification ที่โพสต์ให้บน course github\n",
    "\n",
    "ฟังก์ชันสำหรับบล็อก PRBS generator \n",
    "\n",
    "<code>\n",
    "def PRBS_generator(amplitude=1000,N=8091):\n",
    "\tbvec = np.array([0, 1, 1, 0, 0, 0, 1, 1, 0, 0, 1, 0, 1])\n",
    "\tu_out = np.zeros(N)\n",
    "\tfor i in range(N):\n",
    "\t\tfeedin = bvec[0] ^ (bvec[2]^(bvec[3]^ bvec[12]))\n",
    "\t\tfor j in range(12,1,-1):  #13:-1:2\n",
    "\t\t\tbvec[j] = bvec[j-1]\n",
    "\t\tbvec[1] = feedin\n",
    "\t\tu_out[i] = amplitude*(2*bvec[12] - 1)\n",
    "\treturn u_out\n",
    "</code>\n",
    "\n",
    "**P3.1 (5 คะแนน)**\n",
    "\n",
    "จำลองผลตอบสนองของพลานต์จากข้อ $P1.1$ เมื่อป้อนอินพุตเป็น PRBS ขนาดความแรง $y*1000$ และเซนเซอร์ที่ใช้วัดมีความคลาดเคลื่อนเป็นแบบสุ่มในช่วง\n",
    "$\\pm 5*x$ เปอร์เซนต์ (**ระวัง :** ฟังก์ชัน rand() ให้ค่าอยู่ในช่วง $[0,1]$ ต้องปรับให้เป็นค่า $\\pm$)\n",
    "\n",
    "### Solution "
   ]
  },
  {
   "cell_type": "code",
   "execution_count": 16,
   "metadata": {},
   "outputs": [],
   "source": [
    "def PRBS_generator(amplitude=1000,N=8091):\n",
    "\tbvec = np.array([0, 1, 1, 0, 0, 0, 1, 1, 0, 0, 1, 0, 1])\n",
    "\tu_out = np.zeros(N)\n",
    "\tfor i in range(N):\n",
    "\t\tfeedin = bvec[0] ^ (bvec[2]^(bvec[3]^ bvec[12]))\n",
    "\t\tfor j in range(12,1,-1):  #13:-1:2\n",
    "\t\t\tbvec[j] = bvec[j-1]\n",
    "\t\tbvec[1] = feedin\n",
    "\t\tu_out[i] = amplitude*(2*bvec[12] - 1)\n",
    "\treturn u_out\n"
   ]
  },
  {
   "cell_type": "code",
   "execution_count": 18,
   "metadata": {},
   "outputs": [
    {
     "data": {
      "image/png": "[encoded data removed]",
      "text/plain": [
       "<Figure size 576x576 with 2 Axes>"
      ]
     },
     "metadata": {
      "needs_background": "light"
     },
     "output_type": "display_data"
    }
   ],
   "source": [
    "noise_level = 0.05*x\n",
    "Ts = 0.01\n",
    "t_sim = np.arange(0,5,Ts)\n",
    "num_samples = t_sim.shape[0]\n",
    "u_data = PRBS_generator(5000,num_samples) # generate PRBS with spedified amplitude\n",
    "t_data, y_data = ctl.forced_response(P, t_sim, u_data)\n",
    "ym_data = y_data + 2*noise_level*(np.random.rand(num_samples)-0.5) # add noise to output\n",
    "fig, (ax1, ax2) = plt.subplots(2, figsize=(8,8))\n",
    "ax1.plot(t_data,u_data,'r-')\n",
    "ax1.grid(True)\n",
    "ax1.set_ylabel('u(t)')\n",
    "ax1.legend([\"PRBS input\"])\n",
    "\n",
    "ax2.plot(t_data,ym_data,'m-')\n",
    "ax2.grid(True)\n",
    "ax2.set_ylabel('y(t)')\n",
    "ax2.set_xlabel('time (sec)')\n",
    "ax1.legend([\"Plant output\"])\n",
    "\n",
    "plt.show()    "
   ]
  },
  {
   "cell_type": "markdown",
   "metadata": {},
   "source": [
    "**P3.2 (10 คะแนน)** หาโมเดลระบบเวลาวิยุดของพลานต์โดยวิธีการ LSID โมเดลที่ได้จะอยู่ในรูป\n",
    "\n",
    "$$\n",
    "P(z) = \\frac{b_1z^{k-1} + b_2z^{k-2} + \\ldots + b_{k-1}z+b_k}{z^k + a_1z^{k-1}+\\ldots+a_{k-1}z+a_k} \n",
    "$$\n",
    "\n",
    "โดย $k$ เป็นเลขจำนวนเต็มมีค่า $k = x + z$ [กรณีปกติ] และตามเงื่อนไขเพิ่มเติมคือ\n",
    "1. ถ้า $k < 3$ ใช้ค่า $k = 3$ [กรณี 1]\n",
    "2. ถ้า $k > 9$ ใช่ค่า $k = 9$ [กรณี 2]\n",
    "3. ถ้า $k = 7$ ให้พิจารณาจากค่า $y$ ตามแต่ละกรณีดังนี้: [กรณี 3.1] ถ้า $y$ หารด้วย 3 ลงตัว ใช้ค่า $k = 9$, [กรณี 3.2] ถ้า $y$ หารด้วย 3 เหลือเศษ 1 ใช้ค่า $k = 8$, [กรณี 3.3] ถ้า $y$ หารด้วย 3 เหลือเศษ 2 ใช้ค่า $k = 6$\n",
    "\n",
    "**สำคัญ :** ให้แน่ใจว่ากำหนดค่า $k$ ถูกต้อง หากกำหนดผิดจะไม่ได้คะแนนในข้อนี้\n",
    "\n",
    "\tตัวอย่าง : \n",
    "\tx = 1, y = 2, z = 4 : x+z = 5 --> k = 5 [กรณีปกติ]\n",
    "\tx = 1, y = 5, z = 1 : x+z = 2 --> k = 3 [กรณี 1]\n",
    "\tx = 2, y = 5, z = 8 : x+z = 10 --> k = 9 [กรณี 2]\n",
    "\tx = 2, y = 6, z = 5 : x+z = 7, y/3 ลงตัว --> k = 9 [กรณี 3.1]\n",
    "\tx = 1, y = 1, z = 6 : x+z = 7, y/3 เหลือเศษ 1 --> k = 8 [กรณี 3.2]\n",
    "\tx = 3, y = 5, z = 4 : x+z = 7, y/3 เหลือเศษ 2 --> k = 6 [กรณี 3.3]\n",
    "\t\n",
    "\n",
    "### Solution"
   ]
  },
  {
   "cell_type": "code",
   "execution_count": 19,
   "metadata": {},
   "outputs": [
    {
     "data": {
      "text/plain": [
       "10"
      ]
     },
     "execution_count": 19,
     "metadata": {},
     "output_type": "execute_result"
    }
   ],
   "source": [
    "x+z"
   ]
  },
  {
   "cell_type": "markdown",
   "metadata": {},
   "source": [
    "อันดับของโมเดลคือ 9"
   ]
  },
  {
   "cell_type": "code",
   "execution_count": 22,
   "metadata": {},
   "outputs": [],
   "source": [
    "data_pts = 500\n",
    "m_order = 9\n",
    "Y = ym_data[m_order:data_pts]\n",
    "X = np.zeros((data_pts-m_order,2*m_order))\n",
    "for j in range(data_pts - m_order):\n",
    "    \tX[j,:] = np.array([ -y_data[j+8], -y_data[j+7], -y_data[j+6], -y_data[j+5], -y_data[j+4], -y_data[j+3], -y_data[j+2], -y_data[j+1], -y_data[j], u_data[j+8], u_data[j+7], u_data[j+6], u_data[j+5], u_data[j+4], u_data[j+3], u_data[j+2], u_data[j+1], u_data[j]])"
   ]
  },
  {
   "cell_type": "markdown",
   "metadata": {},
   "source": [
    "หาค่าสัมประสิทธิ์ของโมเดลจาก LSID"
   ]
  },
  {
   "cell_type": "code",
   "execution_count": 25,
   "metadata": {},
   "outputs": [
    {
     "data": {
      "text/plain": [
       "array([-2.24040648e+00,  7.28433042e-01,  1.06609131e+00,  1.34970088e-01,\n",
       "       -6.99418807e-01, -6.16857763e-01,  2.73748625e-01,  8.82301793e-01,\n",
       "       -5.28867250e-01,  9.61485626e-07,  1.04217788e-05,  2.78068645e-05,\n",
       "        3.85404002e-05,  3.54298133e-05,  2.09814150e-05,  6.26602884e-06,\n",
       "        1.80166961e-06, -5.20113483e-08])"
      ]
     },
     "execution_count": 25,
     "metadata": {},
     "output_type": "execute_result"
    }
   ],
   "source": [
    "theta_LS = np.linalg.pinv(X)@Y\n",
    "theta_LS"
   ]
  },
  {
   "cell_type": "code",
   "execution_count": 26,
   "metadata": {},
   "outputs": [],
   "source": [
    "a_n = theta_LS[:9]\n",
    "b_n = theta_LS[9:18]"
   ]
  },
  {
   "cell_type": "markdown",
   "metadata": {},
   "source": [
    "ได้โมเดลจาก LSID ดังนี้"
   ]
  },
  {
   "cell_type": "code",
   "execution_count": 27,
   "metadata": {},
   "outputs": [
    {
     "data": {
      "text/latex": [
       "$$\\frac{9.615 \\times 10^{-7} z^8 + 1.042 \\times 10^{-5} z^7 + 2.781 \\times 10^{-5} z^6 + 3.854 \\times 10^{-5} z^5 + 3.543 \\times 10^{-5} z^4 + 2.098 \\times 10^{-5} z^3 + 6.266 \\times 10^{-6} z^2 + 1.802 \\times 10^{-6} z - 5.201 \\times 10^{-8}}{z^9 - 2.24 z^8 + 0.7284 z^7 + 1.066 z^6 + 0.135 z^5 - 0.6994 z^4 - 0.6169 z^3 + 0.2737 z^2 + 0.8823 z - 0.5289}$$"
      ],
      "text/plain": [
       "TransferFunction(array([ 9.61485626e-07,  1.04217788e-05,  2.78068645e-05,  3.85404002e-05,\n",
       "        3.54298133e-05,  2.09814150e-05,  6.26602884e-06,  1.80166961e-06,\n",
       "       -5.20113483e-08]), array([ 1.        , -2.24040648,  0.72843304,  1.06609131,  0.13497009,\n",
       "       -0.69941881, -0.61685776,  0.27374862,  0.88230179, -0.52886725]), True)"
      ]
     },
     "execution_count": 27,
     "metadata": {},
     "output_type": "execute_result"
    }
   ],
   "source": [
    "z = ctl.tf(\"z\")\n",
    "numz = b_n[0]*z**8 + b_n[1]*z**7 + b_n[2]*z**6 + b_n[3]*z**5 + b_n[4]*z**4 + b_n[5]*z**3 + b_n[6]*z**2 + b_n[7]*z + b_n[8]\n",
    "denz = z**9 + a_n[0]*z**8 + a_n[1]*z**7 + a_n[2]*z**6 + a_n[3]*z**5 + a_n[4]*z**4 + a_n[5]*z**3 + a_n[6]*z**2 +a_n[7]*z + a_n[8]\n",
    "Pz_lsid = numz/denz\n",
    "Pz_lsid"
   ]
  },
  {
   "cell_type": "markdown",
   "metadata": {},
   "source": [
    "**P3.3 (5 คะแนน)** เปรียบเทียบแผนภาพโบเดระหว่างพลานต์จริงจากข้อ **P1.1** และโมเดลที่ได้จาก LISD ในข้อ **P3.2** ในย่านความถี่ 0.01 - 100 rad/s\n",
    "\n",
    "**หมายเหตู :** เปรียบเทียบโดยใช้ฟังก์ชันถ่ายโอนในโดเมนเวลาต่อเนื่องหรือเวลาวิยุตก็ได้\n",
    "\n",
    "### Solution"
   ]
  },
  {
   "cell_type": "code",
   "execution_count": 29,
   "metadata": {},
   "outputs": [],
   "source": [
    "fz = -(s*Ts+2)\n",
    "gz = (s*Ts-2)\n",
    "\n",
    "nj=8\n",
    "nums_id = b_n[nj]*gz**(nj+1)\n",
    "dens_id = fz**(nj+1) + a_n[nj]*gz**(nj+1)\n",
    "\n",
    "for j in range(nj):\n",
    "    nums_id = nums_id + b_n[j]*(fz**(nj-j))*(gz**(j+1))\n",
    "    dens_id = dens_id + a_n[j]*(fz**(nj-j))*(gz**(j+1))\n"
   ]
  },
  {
   "cell_type": "code",
   "execution_count": 30,
   "metadata": {},
   "outputs": [
    {
     "data": {
      "text/latex": [
       "$$\\frac{-1.333 \\times 10^{-24} s^9 + 1.753 \\times 10^{-21} s^8 - 1.579 \\times 10^{-18} s^7 - 1.015 \\times 10^{-16} s^6 - 3.16 \\times 10^{-14} s^5 + 1.613 \\times 10^{-11} s^4 + 5.517 \\times 10^{-9} s^3 + 1.395 \\times 10^{-6} s^2 - 9.972 \\times 10^{-5} s - 0.07278}{-4.258 \\times 10^{-18} s^9 - 3.369 \\times 10^{-15} s^8 - 4.712 \\times 10^{-12} s^7 - 6.676 \\times 10^{-10} s^6 - 3.921 \\times 10^{-7} s^5 - 6.476 \\times 10^{-6} s^4 - 0.001548 s^3 - 0.0009463 s^2 - 0.1472 s + 0.002784}$$"
      ],
      "text/plain": [
       "TransferFunction(array([-1.33308273e-24,  1.75315506e-21, -1.57918962e-18, -1.01504653e-16,\n",
       "       -3.16027595e-14,  1.61302270e-11,  5.51693712e-09,  1.39504252e-06,\n",
       "       -9.97183995e-05, -7.27846116e-02]), array([-4.25769976e-18, -3.36913730e-15, -4.71173225e-12, -6.67629963e-10,\n",
       "       -3.92149816e-07, -6.47571968e-06, -1.54802363e-03, -9.46349314e-04,\n",
       "       -1.47214253e-01,  2.78354375e-03]))"
      ]
     },
     "execution_count": 30,
     "metadata": {},
     "output_type": "execute_result"
    }
   ],
   "source": [
    "P_id = nums_id/dens_id\n",
    "P_id"
   ]
  },
  {
   "cell_type": "code",
   "execution_count": 31,
   "metadata": {},
   "outputs": [
    {
     "data": {
      "image/png": "[encoded data removed]",
      "text/plain": [
       "<Figure size 432x288 with 2 Axes>"
      ]
     },
     "metadata": {
      "needs_background": "light"
     },
     "output_type": "display_data"
    }
   ],
   "source": [
    "_,_,_ = ctl.bode_plot([P, P_id],dB=True, omega_limits=(0.01,100))"
   ]
  },
  {
   "cell_type": "markdown",
   "metadata": {},
   "source": [
    "***\n",
    "<a id=\"p4\"></a>\n",
    "### P4 (15 คะแนน)\n",
    "\n",
    "จากค่า $x,y,z$ ในรหัสนิสิต พิจารณาระบบไม่เป็นเชิงเส้น\n",
    "\n",
    "$$\n",
    "\\dot{v}_1 = f_1(v_1,v_2) = yv_2 - zv_1(v_1^2+yv_2^2) \n",
    "$$\n",
    "$$\n",
    "\\dot{v}_2 = f_2(v_1,v_2) = -zv_1 - yv_2(zv_1^2+v_2^2)\n",
    "$$\n",
    "\n",
    "จุดกำเนิด $v_1 = 0, v_2 = 0$ คือจุดสมดุลของระบบนี้\n",
    "\n",
    "**P4.1** ตัดสินเสถียรภาพของระบบโดยวิธีทำให้เป็นเชิงเส้น (linearlization) (5 คะแนน)\n",
    "\n",
    "### Solution"
   ]
  },
  {
   "cell_type": "markdown",
   "metadata": {},
   "source": [
    "แทนค่า $x = 2, y = 5, z = 8$ และแปลงเป็นเชิงเส้น\n",
    "\n",
    "$$\n",
    "A = \\begin{bmatrix} \n",
    "\\frac{\\partial f_1}{\\partial v_1} & \\frac{\\partial f_1}{\\partial v_2} \\\\\n",
    "\\frac{\\partial f_2}{\\partial v_1} & \\frac{\\partial f_2}{\\partial v_2} \n",
    "\\end{bmatrix}_{v_1 = v_2 = 0}\n",
    "= \\begin{bmatrix} \n",
    "-24v_1^2-40v_2^2 &  5 -80v_1v_2\\\\\n",
    "-8 - 80v_1v_2 & -40v_1^2 - 15v_2^2\n",
    "\\end{bmatrix}_{v_1 = v_2 = 0} \n",
    "= \\begin{bmatrix} \n",
    "0 &  5 \\\\\n",
    "-8 & 0\n",
    "\\end{bmatrix} \n",
    "$$\n",
    "\n",
    "ตรวจสอบค่าลักษณะเฉพาะ"
   ]
  },
  {
   "cell_type": "code",
   "execution_count": 33,
   "metadata": {},
   "outputs": [
    {
     "data": {
      "text/plain": [
       "(array([0.+6.32455532j, 0.-6.32455532j]),\n",
       " array([[0.        -0.62017367j, 0.        +0.62017367j],\n",
       "        [0.78446454+0.j        , 0.78446454-0.j        ]]))"
      ]
     },
     "execution_count": 33,
     "metadata": {},
     "output_type": "execute_result"
    }
   ],
   "source": [
    "A = np.array([[0,5],[-8,0]])\n",
    "np.linalg.eig(A)"
   ]
  },
  {
   "cell_type": "markdown",
   "metadata": {},
   "source": [
    "จะเห็นว่าอยู่บนแกนจินตภาพ ดังนั้นไม่สามารถสรุปเสถียรภาพได้จากวิธีการนี้"
   ]
  },
  {
   "cell_type": "markdown",
   "metadata": {},
   "source": [
    "**P4.2** ตัดสินเสถียรภาพโดยวิธีของเลียพูนอฟ (Lyapunov direct method) (5 คะแนน)\n",
    "\n",
    "**Hint :** พิจารณาฟังก์ชัน  $L(v) = zv_1^2 + yv_2^2,$ \n",
    "\n",
    "### Solution"
   ]
  },
  {
   "cell_type": "markdown",
   "metadata": {},
   "source": [
    "สังเกตว่า $L(v)$ เป็นฟังก์ชันบวกแน่นอน ดังนั้นสามารถเป็น Lyapunov candidate ได้\n",
    "\n",
    "หาอนุพันธ์ $\\dot{L}(v)$ ตามแนววิถีระบบ\n",
    "\n",
    "$$\n",
    "\\dot{L}(v) = 2zv_1\\dot{v_1} + 2yv_2\\dot{v_2} =2zv_1(yv_2-zv_1(v_1^2+yv_2^2)) + 2yv_2(-zv_1 -yv_2(zv_1^2+v_2^2))\n",
    "$$\n",
    "\n",
    "$$\n",
    "= 2yzv_1v_2  - 2z^2v_1^2(v_1^2+yv_2^2) -2yzv_1v_2 -2y^2v_2^2(zv_1^2 + v_2^2)\n",
    "$$\n",
    "\n",
    "$$\n",
    " = - 2z^2v_1^2(v_1^2+yv_2^2) -2y^2v_2^2(zv_1^2 + v_2^2) < 0\n",
    "$$\n",
    "\n",
    "จะเห็นว่า $\\dot{L}(v)$ เป็นลบแน่นอน ดังนั้นสรุปได้ว่าระบบไม่เป็นเชิงเส้นนี้เสถียรเชิงเส้นกำกับ"
   ]
  },
  {
   "cell_type": "markdown",
   "metadata": {},
   "source": [
    "**P4.3** ใช้ค่า $x,y,z$ จากรหัสนิสิต ตัดสินว่าฟังก์ชัน \n",
    "\n",
    "$$\n",
    "f(v) = xv_1^2 + (y+2z)v_1v_2 +(2y-z)v_1v_3 + xv_2v_3 +yv_2^2 +zv_3^2\n",
    "$$\n",
    "\n",
    "เป็นบวกแน่นอน (positive definite) หรือไม่? (5 คะแนน)\n",
    "\n",
    "### Solution\n"
   ]
  },
  {
   "cell_type": "code",
   "execution_count": 39,
   "metadata": {},
   "outputs": [],
   "source": [
    "x = 2\n",
    "y = 5\n",
    "z = 8 "
   ]
  },
  {
   "cell_type": "code",
   "execution_count": 40,
   "metadata": {},
   "outputs": [],
   "source": [
    "def f(V):\n",
    "    return x*V[0]**2+(y+2*z)*V[0]*V[1] + (2*y-z)*V[0]*V[2] + x*V[1]*V[2] +y*V[1]**2 + z*V[2]**2"
   ]
  },
  {
   "cell_type": "markdown",
   "metadata": {},
   "source": [
    "จากโจทย์สามารถเขียนในรูปแบบกำลังสอง (quadratic form) ดังนี้\n",
    "$$\n",
    "V^TAV = \n",
    "\\begin{bmatrix}\n",
    "v_1 & v_2 &v_3\n",
    "\\end{bmatrix}\n",
    "\\begin{bmatrix}\n",
    "x & y &-z \\\\\n",
    "2z & y &-x \\\\\n",
    "2y & 2x & z \n",
    "\\end{bmatrix}\n",
    "\\begin{bmatrix}\n",
    "v_1 \\\\\n",
    "v_2 \\\\\n",
    "v_3\n",
    "\\end{bmatrix}\n",
    "$$\n",
    "\n",
    "ตรวจสอบความเป็นบวกแน่นอนได้จากค่าลักษณะเฉพาะ (eigenvalues) ของ $A$"
   ]
  },
  {
   "cell_type": "code",
   "execution_count": 41,
   "metadata": {},
   "outputs": [],
   "source": [
    "A = np.array([[x, y, -z],[2*z, y, -x],[2*y, 2*x, z]])\n"
   ]
  },
  {
   "cell_type": "markdown",
   "metadata": {},
   "source": [
    "ตรวจสอบว่า $V^TAV$ เท่ากับฟังก์ชันที่โจทย์กำหนด"
   ]
  },
  {
   "cell_type": "code",
   "execution_count": 42,
   "metadata": {},
   "outputs": [
    {
     "data": {
      "text/plain": [
       "14.237248661143894"
      ]
     },
     "execution_count": 42,
     "metadata": {},
     "output_type": "execute_result"
    }
   ],
   "source": [
    "V = np.random.rand(3)\n",
    "f(V)"
   ]
  },
  {
   "cell_type": "code",
   "execution_count": 43,
   "metadata": {},
   "outputs": [
    {
     "data": {
      "text/plain": [
       "14.237248661143896"
      ]
     },
     "execution_count": 43,
     "metadata": {},
     "output_type": "execute_result"
    }
   ],
   "source": [
    "V.T@A@V"
   ]
  },
  {
   "cell_type": "code",
   "execution_count": 44,
   "metadata": {},
   "outputs": [
    {
     "data": {
      "text/plain": [
       "(array([-4.60313532+0.j        ,  9.80156766+8.25621923j,\n",
       "         9.80156766-8.25621923j]),\n",
       " array([[ 0.49921769+0.j        ,  0.04424087-0.36105395j,\n",
       "          0.04424087+0.36105395j],\n",
       "        [-0.85756813+0.j        , -0.41455187-0.49030491j,\n",
       "         -0.41455187+0.49030491j],\n",
       "        [-0.12392983+0.j        , -0.67485601+0.j        ,\n",
       "         -0.67485601-0.j        ]]))"
      ]
     },
     "execution_count": 44,
     "metadata": {},
     "output_type": "execute_result"
    }
   ],
   "source": [
    "np.linalg.eig(A)"
   ]
  },
  {
   "cell_type": "markdown",
   "metadata": {},
   "source": [
    "หากฟังก์ชัน $f(v)$ เป็นบวกแน่นอน ค่าลักษณะเฉพาะต้องเป็นบวกทั้งหมด ในกรณีนี้จึงไม่เป็นแบบบวกแน่นอนเพราะมีค่าลักษณะเฉพาะที่เป็นลบ"
   ]
  },
  {
   "cell_type": "markdown",
   "metadata": {},
   "source": [
    "***\n",
    "<a id=\"p5\"></a>\n",
    "\n",
    "### P5 (15 คะแนน)\n",
    "\n",
    "**P5.1 (5 คะแนน)** อธิบายความแตกต่างของการควบคุมโดยภาพ 2 ประเภทที่แสดงในรูปที่ 4 \n",
    "\n",
    "![\"fig 4\"](https://drive.google.com/uc?id=1vD4QQSqrXWDgo9e84UxsYNOG-4PcwIIZ)\n",
    "\n",
    "รูปที่ 4  แผนภาพบล็อกการควบคุมโดยภาพ\n",
    "\n",
    "### Solution"
   ]
  },
  {
   "cell_type": "markdown",
   "metadata": {},
   "source": [
    "ปัญหาการควบคุมโดยพื้นฐานภาพแบ่งออกเป็น 2 แนวทางหลัก ตามลักษณะการใช้ข้อมูลที่ได้จากกล้องเพื่อป้อนกลับให้ตัวควบคุม โดยสามารถรวมทั้ง 2 แนวทางเข้าด้วยกันเป็นแผนการควบคุมแบบแบ่งส่วน รูปที่ 4 แสดงแผนการควบคุมสองแนวทาง เรียกว่าแบบ PBVS (Position-Based Visual Servo) และแบบ IBVS (Image-Based Visual Servo) ในการอธิบายต่อไปจะอ้างถึงโดยใช้ตัวอักษรย่อภาษาอังกฤษ\n",
    "\n",
    "สำหรับแนวทางแรกในรูปที่ 4 (a) คือแบบ PBVS นั้น ข้อมูลลักษะเด่นของภาพจะถูกนำมาสร้างตัวแทนสามมิติในเฟรมโลกเรียกว่า โพส  ซึ่งโพสที่สร้างได้เป็นเพียงการประมาณค่าส่วนที่สำคัญของโพสที่ติดตั้งกับวัตถุจริงบนโลก และเปรียบเทียบกับโพสอ้างอิงซึ่งเป็นเป้าหมายการเคลื่อนที่หุ่นยนต์ ค่าแตกต่างจะเป็นอินพุตของตัวควบคุม PBVS ที่เป็นเหมือนวงนอกในการสร้างแนววิถีให้กับตัวควบคุมข้อต่อทำหน้าที่ขับเคลื่อนหุ่นยนต์เข้าสู่ตำแหน่งและทิศทางของโพสอ้างอิง ถึงแม้ว่าแนวคิดนี้สามารถเข้าใจได้ง่าย ในทางปฏิบัติจะประสบปัญหาเนื่องจากความยากในการประมาณตัวแทนโพสใน 3 มิติแบบทันที นอกจากนั้นวิธีการ PBVS จะไม่มีการควบคุมภาพโดยตรง ดังนั้นปัญหาที่เกิดขึ้นเสมอคือการเคลื่อนที่ของกล้องทำให้วัตถุเป้าหมายหลุดออกนอกกรอบการมองเห็นของกล้อง\n",
    "\n",
    "แนวทางที่สองในรูปที่ 4 (b) คือวิธี IBVS จะแตกต่างจากวิธี PBVS คือใช้ข้อมูลลักษณะเด่นของภาพในการควบคุมหุ่นยนต์โดยตรง โดยค่าความแตกต่างเป็นฟังก์ชันของจำนวนที่สามารถวัดได้ในภาพ และกฎการควบคุมจะคำนวณการเคลื่อนที่ของหุ่นยนต์จากค่าแตกต่างนี้ วิธีการที่นิยมใช้ในปัจจุบันคือกำหนดจุดที่สังเกตได้ง่ายบนภาพวัตถุเป็นจุดลักษณะเด่น และฟังก์ชันค่าแตกต่างคือเวกเตอร์ระหว่างตำแหน่งที่ต้องการกับตำแหน่งที่จับภาพได้ ณ เวลานั้น และมักใช้กฎการควบคุมที่ค่อนข้างง่ายเพื่อให้สามารถคำนวณได้แบบทันที \n",
    "\n",
    "**หมายเหตุ :** จากหนังสือ \"การวิเคราะห์และควบคุมหุ่นยนต์อุตสาหกรรม\" \n"
   ]
  },
  {
   "cell_type": "markdown",
   "metadata": {},
   "source": [
    "**P5.2 (10 คะแนน)** ความสัมพันธ์ระหว่างความเร็วจุดลักษณะเด่นบนระนาบภาพกับความเร็วของกล้องบรรยายได้โดย\n",
    "\n",
    "$$\n",
    "\\dot{x} = J_p(s,q)\\xi\n",
    "$$\n",
    "\n",
    "โดย $J_p$ เรียกว่าเมทริกซ์จาโคเบียนภาพ (image Jacobian matrix) พิจารณากรณีเวกเตอร์ลักษณะเด่นประกอบด้วยพิกัดจุดในภาพ $n$ จุด โดยจุดลักษณะเด่นที่ ith มีความลึก $z_i$ และนิยามเวกเตอร์ลักษณะเด่น $s$ และเวกเตอร์ค่าความลึก $z$ เป็น\n",
    "\n",
    "$$\n",
    "s = \\begin{bmatrix}\n",
    "u_1 \\\\\n",
    "v_1 \\\\\n",
    "\\vdots \\\\\n",
    "u_n \\\\\n",
    "v_n \n",
    "\\end{bmatrix}, \\;\\;\\;\n",
    "z = \\begin{bmatrix}\n",
    "z_1 \\\\\n",
    "\\vdots \\\\\n",
    "z_n\n",
    "\\end{bmatrix}\n",
    "$$\n",
    "\n",
    "เมทริกซ์จาโคเบียนภาพสามารถเขียนบรรยายได้ดังนี้\n",
    "\n",
    "$$\n",
    "J_p(s,z) = \\begin{bmatrix}\n",
    "-\\frac{\\lambda}{z_1} & 0 & \\frac{u_1}{z_1} & \\frac{u_1v_1}{\\lambda} & -\\frac{\\lambda^2+u_1^2}{\\lambda} & v_1 \\\\\n",
    "0 & -\\frac{\\lambda}{z_1} & \\frac{v_1}{z_1} & -\\frac{\\lambda^2+v_1^2}{\\lambda} & -\\frac{u_1v_1}{\\lambda} & -u_1 \\\\\n",
    "\\vdots & \\vdots & \\vdots & \\vdots & \\vdots & \\vdots \\\\\n",
    "-\\frac{\\lambda}{z_n} & 0 & \\frac{u_n}{z_n} & \\frac{u_nv_n}{\\lambda} & -\\frac{\\lambda^2+u_n^2}{\\lambda} & v_n \\\\\n",
    "0 & -\\frac{\\lambda}{z_n} & \\frac{v_n}{z_n} & -\\frac{\\lambda^2+v_n^2}{\\lambda} & -\\frac{u_nv_n}{\\lambda} & -u_n \n",
    "\\end{bmatrix} \n",
    "$$\n",
    "\n",
    "สร้างฟังก์ชัน visjac() โดยภาษาไพธอนหรือจูเลียเพื่อคำนวณ $J_p(s,z)$ สำหรับจุดลักษณะเด่น 3 จุดคือ $(10x,2y),\\;(5x,40y),\\;\\;(75x,15y)$ โดยมีค่าความลึกแต่ละจุดเท่ากันคือ $z$ กำหนด $\\lambda = 3$ \n",
    "\n",
    "\n",
    "#### Solution"
   ]
  },
  {
   "cell_type": "code",
   "execution_count": 49,
   "metadata": {},
   "outputs": [],
   "source": [
    "def visjac(u, v, z):\n",
    "    lamda = 3\n",
    "    J = np.array([[-lamda/z, 0, u[0]/z, u[0]*v[0]/lamda, -(lamda**2+u[0]**2)/lamda, v[0]],\n",
    "        [0, -lamda/z, v[0]/z, -(lamda**2+v[0]**2)/lamda, -u[0]*v[0]/lamda, -u[0]],\n",
    "        [-lamda/z, 0, u[1]/z, u[1]*v[1]/lamda, -(lamda**2+u[1]**2)/lamda, v[1]],\n",
    "        [0, -lamda/z, v[1]/z, -(lamda**2+v[1]**2)/lamda, -u[1]*v[1]/lamda, -u[1]],\n",
    "        [-lamda/z, 0, u[2]/z, u[2]*v[2]/lamda, -(lamda**2+u[2]**2)/lamda, v[2]],\n",
    "        [0, -lamda/z, v[2]/z, -(lamda^2+v[2]**2)/lamda, -u[2]*v[2]/lamda, -u[2]]])\n",
    "    return J\n"
   ]
  },
  {
   "cell_type": "code",
   "execution_count": 50,
   "metadata": {},
   "outputs": [],
   "source": [
    "uvec = np.array([10*x, 5*x, 75*x])\n",
    "vvec = np.array([2*y, 40*y, 15*y])"
   ]
  },
  {
   "cell_type": "code",
   "execution_count": 51,
   "metadata": {},
   "outputs": [
    {
     "data": {
      "text/plain": [
       "array([[-3.75000000e-01,  0.00000000e+00,  2.50000000e+00,\n",
       "         6.66666667e+01, -1.36333333e+02,  1.00000000e+01],\n",
       "       [ 0.00000000e+00, -3.75000000e-01,  1.25000000e+00,\n",
       "        -3.63333333e+01, -6.66666667e+01, -2.00000000e+01],\n",
       "       [-3.75000000e-01,  0.00000000e+00,  1.25000000e+00,\n",
       "         6.66666667e+02, -3.63333333e+01,  2.00000000e+02],\n",
       "       [ 0.00000000e+00, -3.75000000e-01,  2.50000000e+01,\n",
       "        -1.33363333e+04, -6.66666667e+02, -1.00000000e+01],\n",
       "       [-3.75000000e-01,  0.00000000e+00,  1.87500000e+01,\n",
       "         3.75000000e+03, -7.50300000e+03,  7.50000000e+01],\n",
       "       [ 0.00000000e+00, -3.75000000e-01,  9.37500000e+00,\n",
       "        -1.87466667e+03, -3.75000000e+03, -1.50000000e+02]])"
      ]
     },
     "execution_count": 51,
     "metadata": {},
     "output_type": "execute_result"
    }
   ],
   "source": [
    "visjac(uvec,vvec,z)"
   ]
  },
  {
   "cell_type": "markdown",
   "metadata": {},
   "source": [
    "***\n",
    "<a id=\"p6\"></a>\n",
    "### P6 (15 คะแนน)\n",
    "\n",
    "**P6.1 (5 คะแนน)** อธิบายข้อได้เปรียบของการใช้โครงข่ายประสาทเทียมเชิงสังวัตนาการ (Convolutional Neural Network : CNN) ที่เหนือกว่าเพอร์เซปตรอนหลายชั้น (Multi Layer Perceptron : MLP) ในงานจำแนกภาพ\n",
    "\n",
    "### คำตอบ"
   ]
  },
  {
   "cell_type": "markdown",
   "metadata": {},
   "source": [
    "ในแต่ละภาพจะประกอบด้วยพิกเซลซึ่งมีข้อมูลเชิงพื้นที่ (spatial) การเรียนรู้โดย MLP ไม่ได้ใช้ประโยชน์ตรงส่วนนี้ ทดสอบได้ง่ายๆ โดยสลับพิกเซลในภาพหนึ่งแบบสุ่ม จะพบว่าได้ผลจากการฝึกไม่ต่างกัน แตกต่างจากการดำเนินการสังวัตนาการซึ่งปกติใช้ในการประมวลผลภาพโดยคอมพิวเตอร์ เช่นการตรวจจับขอบ ทำภาพให้ชัดหรือเบลอ เมื่อนำมาเป็นชั้นของโครงข่ายประสาทเทียมใน CNN จะสามารถช่วยในการเรียนรู้องค์ประกอบของภาพได้ดีขึ้น เช่นตรวจจับส่วนตา จมูก ปาก หู ของภาพใบหน้า "
   ]
  },
  {
   "cell_type": "markdown",
   "metadata": {},
   "source": [
    "**P6.2 (5 คะแนน)** ให้เหตุผล 2 ข้อว่าทำไมต้องมีฟังก์ชันกระตุ้นแบบไม่เป็นเชิงเส้น (nonlinear activation function) ที่เอาต์พุตแต่ละชั้นของโครงข่ายประสาทเทียมเชิงลึก\n",
    "\n",
    "### คำตอบ"
   ]
  },
  {
   "cell_type": "markdown",
   "metadata": {},
   "source": [
    "1. หากไม่มีฟังก์ชันกระตุ้นแบบไม่เป็นเชิงเส้น จะสามารถยุบชั้นแฝงของโครงข่ายเหลือเพียงชั้นอินพุตและเอาต์พุต ทำให้ไม่จำเป็นต้องใช้โครงข่ายประสาทเทียมเชิงลึก\n",
    "2. ฟังก์ชันไม่เป็นเชิงเส้นช่วยในการจำแนกประเภทที่มีความซับซ้อนมากขึ้น ยกตัวอย่างในสองมิติ การจำแนกโดยฟังก์ชันเชิงเส้นจะทำได้เพียงแบ่งพื้นที่ออกโดยเส้นตรงเท่านั้น ซึ่งอาจไม่ได้ผลดีในกรณีทั่วไปที่ข้อมูลมีการคาบเกี่ยวกัน"
   ]
  },
  {
   "cell_type": "markdown",
   "metadata": {},
   "source": [
    "**P6.3 (5 คะแนน)** หลักการหนึ่งในการเรียนรู้แบบเสริมกำลัง หุ่นยนต์จะเคลื่อนที่ตามเส้นทางที่ให้ผลตอบแทน (reward) สูงสุด โดยจะมีตัวประกอบการลดราคา (discount factor) $\\gamma \\in [0,1]$ ที่เป็นตัวให้ค่าน้ำหนักกับผลตอบแทนตามเวลา อธิบายเหตุผลว่าทำไมในการใช้งานจริงมักกำหนดให้ค่า $\\gamma \\lt 1$ (อาจเป็นเหตุผลทางคณิตศาสตร์หรือเปรียบเทียบกับรางวัลในชีวิตมนุษย์)\n",
    "\n",
    "### คำตอบ"
   ]
  },
  {
   "cell_type": "markdown",
   "metadata": {},
   "source": [
    "ในการเรียนรู้เสริมกำลังแบบเวลาวิยุด นิยามผลตอบแทนรางวัล ณ เวลา $t$ ได้เป็น\n",
    "\n",
    "$$\n",
    "R_t = \\sum_{i=t}^{\\infty} \\gamma_ir_i = \\gamma^tr_t + \\gamma^{t+1}r_{t+1} + \\ldots + \\gamma^{t+n}r_{t+n} + \\ldots \n",
    "$$\n",
    "สมมุติว่า $t$ คือเวลาปัจจุบัน การกำหนด $\\gamma<1$ หมายความว่าต้องการให้ค่าน้ำหนักของรางวัลในปัจจุบันมากกว่าในอนาคตซึ่งมีความไม่แน่นอน\n",
    "ถ้าเปรียบเทียบง่ายๆ เป็นเงินรางวัล $\\gamma$ ก็คือค่าของเงิน เราย่อมอยากได้เงิน 100 บาทในเวลานี้มากกว่าในอีก 1 ปีข้างหน้า ซึ่งเงิน 100 บาทจะมีค่าลดลง\n",
    "\n",
    "ในทางคณิตศาสตร์ การกำหนด $\\gamma<1$ ช่วยจำกัดค่าของฟังก์ชัน $R_t$ มิให้เข้าสู่อนันต์"
   ]
  },
  {
   "cell_type": "code",
   "execution_count": null,
   "metadata": {},
   "outputs": [],
   "source": []
  },
  {
   "cell_type": "markdown",
   "metadata": {},
   "source": [
    "***\n",
    "<div align=\"right\">Last update : 23 ตุลาคม 2564</div>"
   ]
  }
 ],
 "metadata": {
  "kernelspec": {
   "display_name": "Python 3.7 (controlenv)",
   "language": "python",
   "name": "controlennv"
  },
  "language_info": {
   "codemirror_mode": {
    "name": "ipython",
    "version": 3
   },
   "file_extension": ".py",
   "mimetype": "text/x-python",
   "name": "python",
   "nbconvert_exporter": "python",
   "pygments_lexer": "ipython3",
   "version": "3.7.9"
  }
 },
 "nbformat": 4,
 "nbformat_minor": 4
}
