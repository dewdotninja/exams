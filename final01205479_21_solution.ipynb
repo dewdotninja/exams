{
 "cells": [
  {
   "cell_type": "markdown",
   "metadata": {},
   "source": [
    "<a href=\"https://colab.research.google.com/github/dewdotninja/exams/blob/master/final01205479_21_solution.ipynb\" target=\"_parent\"><img src=\"https://colab.research.google.com/assets/colab-badge.svg\" alt=\"Open In Colab\"/></a>"
   ]
  },
  {
   "cell_type": "code",
   "execution_count": null,
   "metadata": {},
   "outputs": [],
   "source": [
    "<p align=\"left\">\n",
    "<img src=\"https://raw.githubusercontent.com/dewdotninja/exams/main/feng_heading_en.png\" width=400 alt=\"Feng heading\"/>\n",
    "</p>\n",
    "\n",
    "#### Final Exam, Second Semester, Academic Year 2021\n",
    "<br>01205479 Internet of Things for Electrial Engineering\n",
    "<br>Friday May 6, 2022 13.00 - 16.00\n",
    "<br>This exam is administered online via Google classroom only.\n",
    "\n",
    "Type student name - surname and ID in the cell below.\n"
   ]
  },
  {
   "cell_type": "code",
   "execution_count": null,
   "metadata": {},
   "outputs": [],
   "source": [
    "Final Solution 6310055032"
   ]
  },
  {
   "cell_type": "markdown",
   "metadata": {},
   "source": [
    "**Important :** Type or copy the following statement to the cell below.\n",
    "\n",
    "*I vow that I do this exam solely by myself.*"
   ]
  },
  {
   "cell_type": "code",
   "execution_count": null,
   "metadata": {},
   "outputs": [],
   "source": [
    "I vow that I do this exam solely by myself."
   ]
  },
  {
   "cell_type": "markdown",
   "metadata": {},
   "source": [
    "### Instructions\n",
    "\n",
    "1. You can use Colab environment or install Jupyter notebook on your local machine. \n",
    "Type your work solely on this notebook. You can add as many cells as you want. \n",
    "Formatting is not necessary as long as your texts/equations are understandable and \n",
    "answer the question clearly.\n",
    "2. Open books, notes and online resources.\n",
    "3. Explain clearly. Show details of your computation to receive full credits. For any problem \n",
    "that requires programming, your program should executer without error and give the correct \n",
    "result.\n",
    "4. Do not change any problem. \n",
    "5. Some parameters in the problem set may be a function of your student ID. You must make sure \n",
    "to substitute the right value for such parameters.\n",
    "6. In case you are totally hopeless with Python, the only other softwares that are allowed are MATLAB \n",
    "and Scilab. Students must provide complete MATLAB/Scilab scripts and also capture the \n",
    "output/graph images to the notebook by using the image tag with image files in a public URL.\n",
    "If some relevant information is missing, you may receive only partial credit. Since this is a \n",
    "time-consuming process and may be problematic, doing all your work with Python in Jupyter notebook\n",
    "is strongly recommended.\n",
    "7. The difficulty of each problem is indicated by level (1 = basic, 2 = intermediate, 3 = advanced). Normally, you\n",
    "should attempt to start with easy ones.\n",
    "8. <b>Important : </b>Students must submit your notebook promptly, in Google classroom only,\n",
    "when the 3-hour exam period expires. Resubmission is acceptable only within the exam period. \n",
    "After 10 minutes passed the deadline, late penalty is -1 per min starting from -10. \n",
    "<br><em>Anyone who submits/resubmits later than 30 minutes after the exam period, as indicated in the \n",
    "recorded history of Google classroom, may be considered cheating and may fail this exam.</em>\n",
    "\n"
   ]
  },
  {
   "cell_type": "markdown",
   "metadata": {},
   "source": [
    "***\n",
    "<div align=\"left\">\n",
    "<b>Assoc. Prof. Peerayuth Charnsethikul</b>  &emsp;      Head of Examination Committee\n",
    "<br><b>Asst. Prof. Nithiphat Teerakawanich</b>  &emsp;     Examination Committee\n",
    "<br><b>Dr. Varodom Toochinda</b>    &emsp;    Examination Committee\n",
    "</div>\n"
   ]
  },
  {
   "cell_type": "markdown",
   "metadata": {},
   "source": [
    "#### Further explantion about exam problem that may depend on the last 3 digits of your student ID\n",
    "\n",
    "------- x_id, y_id, z_id (other digits are disregarded)\n",
    "\n",
    "In case any digit in the last 3 are 0, it must be replaced by 5. Do not use simple x, y, z as variable names \n",
    "because they may have conflict with other variables in your program.\n",
    "\n",
    "#### Examples\n",
    "    \n",
    "Student A's ID - 6010555853 results in x_id = 8, y_id = 5, z_id = 3\n",
    "\n",
    "Student B 's ID - 6010546104 results in x_id = 1, y_id = 5, z_id = 4\n",
    "\n",
    "Student C 's ID - 6310055032 results in x_id = 5, y_id = 3, z_id = 2\n",
    "    \n",
    "These valuess are used for all the problems in the exam where x_id,y_id,and/or z_id appear. In this \n",
    "sense, the results from each student should be different even computed using the same methods.\n",
    "\n",
    "Operations that may be applied to the variables.\n",
    "\n",
    "$+$ addition\n",
    "\n",
    " $-$  subtraction\n",
    "\n",
    " $*$  multiplication \n",
    "\n",
    " $/$ division\n",
    "\n",
    "$**$ raise to the power \n",
    "\n",
    "including math opertions such as $\\exp(x\\_id)$, $\\sin(z\\_id*t)$\n",
    "\n",
    "If a variable is embedded in some digit of a value without any operation symbol, \n",
    "just replace that digit. \n",
    "<br>For example,  z_id=8 y_id = 3 $\\Rightarrow$ 12z_id7 = 1287, 4.3y_id5 = 4.335\n",
    "\n",
    "Conditional statement may be used, such as\n",
    "if x_id<5 do task A, otherwise do task B\n",
    "\n",
    "<em>Example: </em> Let $R1 = 1000*x\\_id \\,\\Omega, C1 = 10*y\\_id \\,\\mu F$\n",
    "\n",
    "<ul>\n",
    "<li />Student A (x_id=8, y_id=5) does this problem with R1 = 8000 $\\Omega$, C1 = 50 $\\mu$F\n",
    "<li />Student B (x_id=1, y_id=5) does this problem with R1 = 1000 $\\Omega$, C1 = 50 $\\mu$F\n",
    "<li />Student C (x_id=5, y_id=3) does this problem with R1 = 5000 $\\Omega$, C1 = 30 $\\mu$F\n",
    "</ul>\n",
    "\n",
    "If any exam problem is not clear enough, write in a cell how you interpret it. If several \n",
    "students get confused on that problem, the grader may decide to give full credit to all.\n",
    "\n"
   ]
  },
  {
   "cell_type": "code",
   "execution_count": null,
   "metadata": {},
   "outputs": [],
   "source": [
    "# You need to install these libraries in the Colab environment\n",
    "!pip install slycot\n",
    "!pip install control"
   ]
  },
  {
   "cell_type": "code",
   "execution_count": 1,
   "metadata": {},
   "outputs": [],
   "source": [
    "# import libraries you want to use\n",
    "import numpy as np\n",
    "import matplotlib.pyplot as plt\n",
    "import control as ctl"
   ]
  },
  {
   "cell_type": "code",
   "execution_count": 4,
   "metadata": {},
   "outputs": [],
   "source": [
    "# This solution assumes that student ID is 6310055032\n",
    "x_id = 5\n",
    "y_id = 3\n",
    "z_id = 2"
   ]
  },
  {
   "cell_type": "markdown",
   "metadata": {},
   "source": [
    "***\n",
    "### List of exam problems (100 points)\n",
    "\n",
    "* [P1. (30 points)](#p1)\n",
    "* [P2. (40 points)](#p2)\n",
    "* [P3. (30 points)](#p3)\n"
   ]
  },
  {
   "cell_type": "markdown",
   "metadata": {},
   "source": [
    "***\n",
    "<a id=\"p1\"></a>\n",
    "#### P1. (30 points)\n",
    "\n",
    "1a) Describe how to create an IoT device (ESP8266 or ESP32) using NETPIE2020 cloud platform. (5 points)"
   ]
  },
  {
   "cell_type": "code",
   "execution_count": null,
   "metadata": {},
   "outputs": [],
   "source": [
    "Assuming you already have a NETPIE account\n",
    "    1. Create a new project \n",
    "    2. Create a new device\n",
    "    3. In ESP program, use mqtt library such as PubSubClient\n",
    "    3. Copy the Client-ID, token, secret information from NETPIE account to your ESP program\n",
    "    4. Send the data you want to write to NETPIE shadow in specified JSON format.\n",
    "    5. If you want to have a panel with display/control widgets, create a Freeboard, datasource, and widgets\n",
    "   "
   ]
  },
  {
   "cell_type": "markdown",
   "metadata": {},
   "source": [
    "1b) What command would you use in the ONSTOP ACTION field in a slider widget of NETPIE Freeboard? (5 points)"
   ]
  },
  {
   "cell_type": "code",
   "execution_count": null,
   "metadata": {},
   "outputs": [],
   "source": [
    "Use NETPIE publish() command to send a command string to the device, with slider position as numerical parameter."
   ]
  },
  {
   "cell_type": "markdown",
   "metadata": {},
   "source": [
    "1c) Is it possible to use the same client ID, username, password information in NETPIE 2020 with ESP32 and node-red? \n",
    "If not, suggest a solution. (5 points)"
   ]
  },
  {
   "cell_type": "code",
   "execution_count": null,
   "metadata": {},
   "outputs": [],
   "source": [
    "Client ID, username, and password cannot be shared between ESP32 and node-red. A solution is to create two devices in \n",
    "NETPIE, for ESP32 and node-red, then group them together. Devices on the same group can communicate with each other."
   ]
  },
  {
   "cell_type": "markdown",
   "metadata": {},
   "source": [
    "1d) What is the computer language used in Node.js? (4 points)"
   ]
  },
  {
   "cell_type": "code",
   "execution_count": null,
   "metadata": {},
   "outputs": [],
   "source": [
    "JavaScript."
   ]
  },
  {
   "cell_type": "markdown",
   "metadata": {},
   "source": [
    "1e) Start from a command prompt in terminal/command window, list the steps you need to implement a successful \n",
    "node-red flow (5 points)"
   ]
  },
  {
   "cell_type": "code",
   "execution_count": null,
   "metadata": {},
   "outputs": [],
   "source": [
    "1. type node-red at command prompt.\n",
    "2. From the screen output, find the message that contains the URL : Server now running at http://127.0.0.1:1880/\n",
    "3. Copy the URL and paste to a browser. \n",
    "4. In the flow area, drag deired nodes and connect them to form a flow.\n",
    "5. Click Deploy. \n",
    "6. Observe output from debug or display window."
   ]
  },
  {
   "cell_type": "markdown",
   "metadata": {},
   "source": [
    "1f) Describe the funcitons of the following nodes. (2 points each, total of 6 points)\n",
    "<ul>\n",
    "<li />split\n",
    "<li />switch\n",
    "<li />template\n"
   ]
  },
  {
   "cell_type": "code",
   "execution_count": null,
   "metadata": {},
   "outputs": [],
   "source": [
    "1. split : seperate input string to substrings at some specified character(s).\n",
    "2. switch : place after split node to output multiple substrings \n",
    "3. template : append specified text to the input string\n",
    "    "
   ]
  },
  {
   "cell_type": "code",
   "execution_count": null,
   "metadata": {},
   "outputs": [],
   "source": [
    "1g) Compare some advantage/disadvantage of using micropython instead of C++ in an IoT device  (5 points)"
   ]
  },
  {
   "cell_type": "code",
   "execution_count": null,
   "metadata": {},
   "outputs": [],
   "source": [
    "Python is considered a higher level language than C++. So, a micropython program should be shorter, \n",
    "and can be written and managed easily. Disadvantages are more overhead, lack of library support for some hardware. \n",
    "C++ program might be more efficient for low-level interfacing.\n"
   ]
  },
  {
   "cell_type": "markdown",
   "metadata": {},
   "source": [
    "<a id=\"p2\"></a>\n",
    "#### P2. (40 points)\n",
    "2a) Figure 2 shows step-response comparison between simulated and experimental plant outputs. Suggest how you could\n",
    "make a better match beween the responses. (5 points)\n",
    "<p align=\"center\">\n",
    "<img src=\"https://drive.google.com/uc?id=1THP4eHQ6_eHai4agAKrv648CHLl14uSa\" width=550 alt=\"Figure 2a\"/>\n",
    "</p>\n",
    "<div align=\"center\"><b>Figure 2a Step response comparison between simulated and experimental closed-loop systems</b></div>"
   ]
  },
  {
   "cell_type": "code",
   "execution_count": null,
   "metadata": {},
   "outputs": [],
   "source": [
    "The step response degradation is caused by saturation effect. If we look at the controller output, \n",
    "the initial part (about 0-1.5 sec) shows saturation at 3.3 volts due to the maximum of DAC. This \n",
    "results in slower rise time than pure linear system (simulated plant output). A straightforward way to reduce\n",
    "saturation is to lower the controller gains. This would result in slower response."
   ]
  },
  {
   "cell_type": "code",
   "execution_count": null,
   "metadata": {},
   "outputs": [],
   "source": []
  },
  {
   "cell_type": "markdown",
   "metadata": {},
   "source": [
    "2b) In Figure 2b, suppose the value of R1 is changed to $z\\_id*10 K\\Omega$. The ADC of ESP32 is set to $8+y\\_id$ bit \n",
    "resolution. What is the resulting value read by analogRead() command? Show how you compute it. (10 points)\n",
    "\n",
    "<p align=\"center\">\n",
    "<img src=\"https://drive.google.com/uc?id=15r1Lii5l7qqMbg5dQqjURLkweXVAe22-\" width=650 alt=\"Figure 2b\"/>\n",
    "</p>\n",
    "<div align=\"center\"><b>Figure 2b) Use a voltage-divider circuit for step output disturbance  </b></div>"
   ]
  },
  {
   "cell_type": "code",
   "execution_count": 8,
   "metadata": {},
   "outputs": [
    {
     "name": "stdout",
     "output_type": "stream",
     "text": [
      "ADC input = 682 \n"
     ]
    }
   ],
   "source": [
    "R1 = z_id*10000\n",
    "R2 = 10000\n",
    "ADC_max = 2**(8+y_id) - 1\n",
    "ADC_in = int((R2/(R1+R2))*ADC_max)\n",
    "print(\"ADC input = {} \".format(ADC_in))"
   ]
  },
  {
   "cell_type": "code",
   "execution_count": null,
   "metadata": {},
   "outputs": [],
   "source": []
  },
  {
   "cell_type": "code",
   "execution_count": null,
   "metadata": {},
   "outputs": [],
   "source": []
  },
  {
   "cell_type": "markdown",
   "metadata": {},
   "source": [
    "2c) Using the FreeRTOS structure shown in Figure 2c consisting of 4 tasks, you want to implement a preventive maintenance \n",
    "IoT device. This device is attached to a motor on some machine. It has sensors to measure vibration in time-domain and convert \n",
    "to frequency domain using FFT algorithm, and also has temperature sensor. \n",
    "Consider the following 4 tasks that must be accomplished by the device.\n",
    "<ul>\n",
    "<li />A. Sample the time-domain signal to be used for FFT computation.\n",
    "<li />B. Every 5 seconds, send data to an IoT cloud platform for monitoring\n",
    "<li />C. Measure machine temperature every 10 seconds. If the temperature is above 50 degrees, alert the operator.\n",
    "<li />D. Compute FFT algorithm when sampled data is ready.\n",
    "\n",
    "</ul>\n",
    "Pair the A - D tasks to Task1 - Task4 in Figure 2c. Explain your selection for each task. (10 points)\n",
    "\n",
    "<p align=\"center\">\n",
    "<img src=\"https://drive.google.com/uc?id=1gPar6BHtSE7lYVk6y9HoHIxMqupX3U7K\" width=550 alt=\"Figure 2c\"/>\n",
    "</p>\n",
    "<div align=\"center\"><b>Figure 2c) FreeRTOS structure example for 4 tasks </b></div>\n"
   ]
  },
  {
   "cell_type": "code",
   "execution_count": null,
   "metadata": {},
   "outputs": [],
   "source": [
    "Facts:\n",
    "- Task A is demanding and cannot be disturbed during the sampling process.\n",
    "- Task D has to wait for task A. \n",
    "- Task B and C executes at much lower rate.\n",
    "Hence, A and D must be scheduled in sequence on the same core.\n",
    "B and C must execute on another core.\n",
    "We can then choose, for eample\n",
    "Core 0:\n",
    "    Task 1 : A\n",
    "    Task 3 : D\n",
    "Core 1:\n",
    "    Task 2 : B\n",
    "    Task 4 : C"
   ]
  },
  {
   "cell_type": "code",
   "execution_count": null,
   "metadata": {},
   "outputs": [],
   "source": []
  },
  {
   "cell_type": "markdown",
   "metadata": {},
   "source": [
    "2d) Here is an example string that is sent from NETPIE2020 shadow \n",
    "\n",
    "<code>\n",
    "\"{\"deviceid\":\"7a2e9e2-26c9-46d2-8d8f-9d42a0b4bc\",\n",
    "\"data\":{\"humidity\":46,\"temperature\":33.7,\"light\":224,\"place\":\"Farm 1\"},\"rev\":37714,\"modified\":1585814814409}\"\n",
    "</code>\n",
    "\n",
    "Use the flow in Figure 2d) and put this string in the inject node on the left. What characters/substrings would you use \n",
    "in Split1, Split2, and Split3 nodes to get the output shown in the debug window on the right? Explain. (10 points)\n",
    "\n",
    "<p align=\"center\">\n",
    "<img src=\"https://drive.google.com/uc?id=1HX0nJJwGgzYuAqzzj0y6uMFOfV9AxHVP\" width=800 alt=\"Figure 2d\"/>\n",
    "</p>\n",
    "<div align=\"center\"><b>Figure 2d) A flow to extract deviceid data</b></div>"
   ]
  },
  {
   "cell_type": "code",
   "execution_count": null,
   "metadata": {},
   "outputs": [],
   "source": [
    "The substrings used to split the desired output are :\n",
    "    Split1 : {\"\n",
    "    Split2 : \":\"\n",
    "    Split3 : \"\n",
    "\n",
    "Split1 node strips the leading \"{\", leaving the deviceid as leading word in the second substring of Switch1\n",
    "Split2 node split the word deviceid out of the rest substring\n",
    "Split3 node gets the 7a2e9e2-26c9-46d2-8d8f-9d42a0b4bc part. The rest is ignored."
   ]
  },
  {
   "cell_type": "markdown",
   "metadata": {},
   "source": [
    "2e) From the same example string in problem 2d), suppose I want to get the modified data \"modified\":1585814814409 at the \n",
    "end of string, I could split the string with substring \"rev\":37714,\" and get to the end of substring immediately. The only job \n",
    "left is to trim the }\" at the end and I'm all set. Explain why this does not work in a real application. (5 points)"
   ]
  },
  {
   "cell_type": "code",
   "execution_count": null,
   "metadata": {},
   "outputs": [],
   "source": [
    "You cannot use the fix number 37714 as split string, because when you deploy this scheme, the number after \"rev\": is \n",
    "subject to change, and makes the split fail. "
   ]
  },
  {
   "cell_type": "code",
   "execution_count": null,
   "metadata": {},
   "outputs": [],
   "source": []
  },
  {
   "cell_type": "markdown",
   "metadata": {},
   "source": [
    "<a id=\"p3\"></a>\n",
    "#### P3. (30 points)\n",
    "\n",
    "3a) (10 points)From video \"An example on how to convert a PI controller to code,\" we study the discretization steps \n",
    "of the PI controller\n",
    "$$\n",
    "C(s) = k_p + \\frac{k_i}{s}\n",
    "$$\n",
    "\n",
    "In the cell below, partial Python code is given to you. Complete the code to perform \n",
    "discrete simulation of this controller with the plant as in Figure 3a) (6 points)\n",
    "$$\n",
    "P(s) = \\frac{1}{(s+x\\_id)(s+y\\_id)(s+z\\_id)}\n",
    "$$\n",
    "\n",
    "<p align=\"center\">\n",
    "<img src=\"https://drive.google.com/uc?id=13vpNO1nXd_NJsa2KDa9Lgmlci75KNWVb\" width=500 alt=\"Figure 3a\"/>\n",
    "</p>\n",
    "<div align=\"center\"><b>Figure 3a) PI feedback control </b></div>\n",
    "\n",
    "You should get a stable step response with zero steady-state error like shown in Figure 3a.1) below.\n",
    "Adjust kp, ki, to achieve good tracking and tvec to show rise-time and overshoot clearly. \n",
    "Measure rise-time $t_r$ and percent overshoot $M_p$ from the response. (4 point)\n",
    "<p align=\"center\">\n",
    "<img src=\"https://drive.google.com/uc?id=1VTM-7BBy4EjxIFGeceA1lf_TmoqdEsz_\" width=400 alt=\"Figure 3a1\"/>\n",
    "</p>\n",
    "<div align=\"center\"><b>Figure 3a.1) Expected step response result </b></div>"
   ]
  },
  {
   "cell_type": "code",
   "execution_count": 9,
   "metadata": {},
   "outputs": [
    {
     "name": "stdout",
     "output_type": "stream",
     "text": [
      "Discrete-time plant\n",
      "\n",
      "1.207e-07 z^3 + 3.622e-07 z^2 + 3.622e-07 z + 1.207e-07\n",
      "-------------------------------------------------------\n",
      "          z^3 - 2.931 z^2 + 2.863 z - 0.9324\n",
      "\n",
      "dt = 0.01\n",
      "\n"
     ]
    },
    {
     "data": {
      "image/png": "[encoded data removed]",
      "text/plain": [
       "<Figure size 432x288 with 1 Axes>"
      ]
     },
     "metadata": {
      "needs_background": "light"
     },
     "output_type": "display_data"
    },
    {
     "data": {
      "image/png": "[encoded data removed]",
      "text/plain": [
       "<Figure size 432x288 with 1 Axes>"
      ]
     },
     "metadata": {
      "needs_background": "light"
     },
     "output_type": "display_data"
    }
   ],
   "source": [
    "pnum = 1\n",
    "lag1 = [1,z_id]   # (s+z_id)\n",
    "lag2 = [1,y_id]\n",
    "lag3 = [1,x_id]\n",
    "pden = np.convolve(lag1, lag2)  # (s+z_id)(s+y_id)\n",
    "pden = np.convolve(pden, lag1)  # (s+x_id)(s+y_id)(s+z_id)\n",
    "P = ctl.tf(pnum,pden)\n",
    "\n",
    "Ts = 0.01\n",
    "\n",
    "Pd = ctl.sample_system(P, Ts, method='tustin') # convert to discrete-time\n",
    "print(\"Discrete-time plant\")\n",
    "print(Pd)\n",
    "Pdnum, Pdden = ctl.tfdata(Pd)  # extract numerator and denominator of Pd\n",
    "#print(Pdnum)\n",
    "#print(Pdden)\n",
    "\n",
    "# --- code for discrete-time simulation of the plant ---\n",
    "pdnum = np.squeeze(np.array(Pdnum))\n",
    "pdden = np.squeeze(np.array(Pdden))\n",
    "\n",
    "tvec = np.arange(0,15,Ts)  # change time scale to suit\n",
    "yvec = np.zeros(tvec.shape)\n",
    "uvec = np.zeros(tvec.shape)\n",
    "rvec = np.ones(tvec.shape) # step command vector\n",
    "numorder = len(pdnum)  # 4 for this example\n",
    "denorder = len(pdden)  # 4\n",
    "y_prev = np.zeros((denorder,1)) \n",
    "u_prev = np.zeros((numorder,1))\n",
    "# -------------------------------------------------\n",
    "\n",
    "# ----define PI control variables -------\n",
    "\n",
    "e1 = 0   # past error input\n",
    "e0 = 0   # current error input\n",
    "ui1 = 0   # past integral-term output \n",
    "ui0 = 0   # current integral-term output\n",
    "up = 0    # proportional term output\n",
    "\n",
    "# you must adjust kp, ki to give stable step response with acceptable tracking performance\n",
    "kp = 20   # proportional gain. \n",
    "ki = 14   # integral gain\n",
    "\n",
    "# ------------------------\n",
    "\n",
    "i = 0\n",
    "# perform discrete-time simulation \n",
    "for i in range(len(tvec)):\n",
    "\n",
    "    for k in range(numorder-1):\n",
    "        u_prev[k] = u_prev[k+1]\n",
    "    for k in range(denorder-1):\n",
    "        y_prev[k] = y_prev[k+1]\n",
    "        \n",
    "\n",
    "#  ----- put your PI controller simulation here -----\n",
    "    e1 = e0    # keep previous loop error\n",
    "    ui1 = ui0   # keep previous loop integral output\n",
    "    e0 = rvec[i] - y_prev[denorder-1] # compute new error\n",
    "    up = kp*e0  # proportional-term output\n",
    "    ui0 = ui1 + 0.5*ki*Ts*(e0+e1)  # integral-term output \n",
    "    uvec[i] = up + ui0 \n",
    "# -------------------------------------------------------    \n",
    "        \n",
    "    u_prev[numorder-1] = uvec[i]        \n",
    "    yvec[i] = pdnum[0]*uvec[i]\n",
    "    for k in range(denorder-1):\n",
    "        yvec[i] = yvec[i]+pdnum[k+1]*u_prev[numorder-2-k] - pdden[k+1]*y_prev[denorder-2-k]\n",
    "        #print(pdnum[k+1])\n",
    "        #print(pdden[k+1])\n",
    "        #print()\n",
    "    y_prev[denorder-1] = yvec[i]\n",
    "    \n",
    "# plot the result\n",
    "\n",
    "plt.figure()\n",
    "plt.plot(tvec, rvec,'m-',tvec, yvec,'b-')\n",
    "plt.grid('True')\n",
    "plt.xlabel('time (sec)')\n",
    "plt.ylabel('y(k)')\n",
    "plt.legend([\"Ref. cmd\",\"Plant output\"])\n",
    "\n",
    "plt.title(\"Step response\")\n",
    "\n",
    "plt.figure()\n",
    "plt.plot(tvec,uvec,'r-')\n",
    "plt.grid('True')\n",
    "plt.xlabel('time (sec)')\n",
    "plt.ylabel('u(k)')\n",
    "plt.title(\"controller output\")\n",
    "\n",
    "\n",
    "\n",
    "plt.show()"
   ]
  },
  {
   "cell_type": "code",
   "execution_count": null,
   "metadata": {},
   "outputs": [],
   "source": []
  },
  {
   "cell_type": "markdown",
   "metadata": {},
   "source": [
    "3b) (10 points) One way to reduce high-frequency random noise is to use exponentially-weighted averages (EWA) method. \n",
    "The function gen_data() below creates some 160-points synthesis data consisting trend and noise. "
   ]
  },
  {
   "cell_type": "code",
   "execution_count": 10,
   "metadata": {},
   "outputs": [],
   "source": [
    "def gen_data():\n",
    "    t_vec = np.arange(-0.8,0.8,0.01)\n",
    "    t_vec = t_vec[:,np.newaxis]\n",
    "    numpts = t_vec.shape[0]\n",
    "    y_vec = 1.5*t_vec**3 - t_vec + 0.7/(3 + 40*t_vec**2) + 0.3*np.random.rand(numpts,1)\n",
    "    k_vec = np.arange(0,numpts)\n",
    "    k_vec = k_vec[:,np.newaxis]\n",
    "    return k_vec, y_vec"
   ]
  },
  {
   "cell_type": "code",
   "execution_count": 11,
   "metadata": {},
   "outputs": [],
   "source": [
    "k_vec, y_vec = gen_data()"
   ]
  },
  {
   "cell_type": "markdown",
   "metadata": {},
   "source": [
    "The data can be plotted by the following commands."
   ]
  },
  {
   "cell_type": "code",
   "execution_count": 12,
   "metadata": {},
   "outputs": [
    {
     "data": {
      "image/png": "[encoded data removed]",
      "text/plain": [
       "<Figure size 432x288 with 1 Axes>"
      ]
     },
     "metadata": {
      "needs_background": "light"
     },
     "output_type": "display_data"
    }
   ],
   "source": [
    "plt.figure()\n",
    "plt.plot(k_vec,y_vec,'bo')\n",
    "plt.xlabel(\"t\")\n",
    "plt.ylabel(\"y(k)\")\n",
    "plt.show()"
   ]
  },
  {
   "cell_type": "markdown",
   "metadata": {},
   "source": [
    "Observe the noisy data. THe EWA method can be implementd by assigning $v_k, \\;\\;k = 0,1, \\ldots$\n",
    "initialized to zero \n",
    "$$\n",
    "v_0 = 0 \\tag{1}\n",
    "$$\n",
    "and the subsequent indices are computed using this formula\n",
    "$$\n",
    "v_k = \\beta v_{k-1} + (1-\\beta)y_k \\tag{2}\n",
    "$$\n",
    "\n",
    "It can be estimated that $v_k$ is some average value of $1/(1-\\beta)$ data points. \n",
    "For eaxmple, $\\beta = 0.5,0.9,0.98$ correspond to the averages of 2,10,50 data points, respective.y.\n",
    "\n",
    "From equation (1),(2), write a function ewa() (6 points)."
   ]
  },
  {
   "cell_type": "code",
   "execution_count": 13,
   "metadata": {},
   "outputs": [],
   "source": [
    "def ewa(y, beta):\n",
    "    v_size = y.shape[0]\n",
    "    v = np.zeros((v_size,1))\n",
    "    for k in range(1,v_size):\n",
    "        v[k,0] = beta*v[k-1,0] + (1-beta)*y[k,0]\n",
    "    return v\n",
    "        "
   ]
  },
  {
   "cell_type": "markdown",
   "metadata": {},
   "source": [
    "Plot the outputs of ewa() compared to the original data, using $\\beta = 0.5,0.9,0.98$. What is your observation as\n",
    "the value of $\\beta$ varies? (4 points)."
   ]
  },
  {
   "cell_type": "code",
   "execution_count": 14,
   "metadata": {},
   "outputs": [
    {
     "data": {
      "image/png": "[encoded data removed]",
      "text/plain": [
       "<Figure size 432x288 with 1 Axes>"
      ]
     },
     "metadata": {
      "needs_background": "light"
     },
     "output_type": "display_data"
    }
   ],
   "source": [
    "v_1 = ewa(y_vec,0.5)\n",
    "v_2 = ewa(y_vec,0.9)\n",
    "v_3 = ewa(y_vec,0.98)\n",
    "plt.figure()\n",
    "plt.plot(k_vec,y_vec,'bo',k_vec,v_1,'r-',k_vec,v_2,'g-.',k_vec,v_3,'m:')\n",
    "plt.xlabel(\"t\")\n",
    "plt.ylabel(\"y(k),v(k)\")\n",
    "plt.legend([\"original data\",\"beta=0.5\",\"beta=0.9\",\"beta=0.98\"])\n",
    "plt.show()"
   ]
  },
  {
   "cell_type": "code",
   "execution_count": null,
   "metadata": {},
   "outputs": [],
   "source": [
    "The noise is reduced as $\\beta increases. However, the graph shifts to the right just like it's delayed."
   ]
  },
  {
   "cell_type": "markdown",
   "metadata": {},
   "source": [
    "3c (10 points)\n",
    "\n",
    "A problem with standard EWA method is that at the beginning, the averaged graph tends to be too small compared to the \n",
    "original data. One way to fix this is called \"bias correction,\" which can be implemented as follows. After computing \n",
    "value of $v_k$ as in (2), scale it by using this equation.\n",
    "$$\n",
    "\\tilde{v}_k = \\frac{v_k}{1-\\beta^k}  \\tag{3}\n",
    "$$\n",
    "\n",
    "Write a function for EWA with bias correction, and compare the averages with the original data for $\\beta = 0.5,0.9,0.98$ \n"
   ]
  },
  {
   "cell_type": "code",
   "execution_count": 15,
   "metadata": {},
   "outputs": [],
   "source": [
    "def ewa_bc(y, beta):\n",
    "    v_size = y.shape[0]\n",
    "    v = np.zeros((v_size,1))\n",
    "    v_tmp=0\n",
    "    for k in range(1,v_size):\n",
    "        v_tmp = beta*v_tmp + (1-beta)*y[k,0]\n",
    "        v[k,0] = v_tmp/(1-beta**k)\n",
    "    return v     "
   ]
  },
  {
   "cell_type": "code",
   "execution_count": 16,
   "metadata": {},
   "outputs": [
    {
     "data": {
      "image/png": "[encoded data removed]",
      "text/plain": [
       "<Figure size 432x288 with 1 Axes>"
      ]
     },
     "metadata": {
      "needs_background": "light"
     },
     "output_type": "display_data"
    }
   ],
   "source": [
    "v_1_bc = ewa_bc(y_vec,0.5)\n",
    "v_2_bc = ewa_bc(y_vec,0.9)\n",
    "v_3_bc = ewa_bc(y_vec,0.98)\n",
    "plt.figure()\n",
    "plt.plot(k_vec,y_vec,'bo',k_vec,v_1_bc,'r-',k_vec,v_2_bc,'g-.',k_vec,v_3_bc,'m:')\n",
    "plt.xlabel(\"t\")\n",
    "plt.ylabel(\"y(k),v(k)\")\n",
    "plt.legend([\"original data\",\"beta=0.5\",\"beta=0.9\",\"beta=0.98\"])\n",
    "plt.show()"
   ]
  },
  {
   "cell_type": "markdown",
   "metadata": {},
   "source": [
    "<div align=right>Revision B : May 2,2022</div>"
   ]
  },
  {
   "cell_type": "code",
   "execution_count": null,
   "metadata": {},
   "outputs": [],
   "source": []
  }
 ],
 "metadata": {
  "kernelspec": {
   "display_name": "Python 3.7 (controlenv)",
   "language": "python",
   "name": "controlenv"
  },
  "language_info": {
   "codemirror_mode": {
    "name": "ipython",
    "version": 3
   },
   "file_extension": ".py",
   "mimetype": "text/x-python",
   "name": "python",
   "nbconvert_exporter": "python",
   "pygments_lexer": "ipython3",
   "version": "3.7.9"
  }
 },
 "nbformat": 4,
 "nbformat_minor": 4
}
