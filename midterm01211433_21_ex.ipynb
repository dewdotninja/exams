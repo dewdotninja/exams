{
 "cells": [
  {
   "cell_type": "markdown",
   "metadata": {},
   "source": [
    "<a href=\"https://colab.research.google.com/github/dewdotninja/exams/blob/master/midterm01211433_21_ex.ipynb\" target=\"_parent\"><img src=\"https://colab.research.google.com/assets/colab-badge.svg\" alt=\"Open In Colab\"/></a>"
   ]
  },
  {
   "cell_type": "markdown",
   "metadata": {},
   "source": [
    "<p align=\"left\">\n",
    "<img src=\"https://raw.githubusercontent.com/dewdotninja/exams/main/feng_heading.png\" width=400 alt=\"Feng heading\"/>\n",
    "</p>\n",
    "\n",
    "#### ข้อสอบกลางภาคออนไลน์ 2564\n",
    "<br>ภาควิชาวิศวกรรมเครื่องกล \n",
    "<br>วิชา 01211433 Vision and Control of Industrial Robots \n",
    "<br>วันเสาร์ที่ 21 สิงหาคม 2564 16.00-19.00 ทางออนไลน์\n",
    "\n",
    "ให้นิสิตพิมพ์ ชื่อ นามสกุล รหัสนิสิต หมู่เรียน ในเซลด้านล่างนี้ "
   ]
  },
  {
   "cell_type": "code",
   "execution_count": null,
   "metadata": {},
   "outputs": [],
   "source": []
  },
  {
   "cell_type": "markdown",
   "metadata": {},
   "source": [
    "พิมพ์หรือคัดลอกข้อความต่อไปนี้ลงในเซลด้านล่าง (สำคัญ!)\n",
    "<br>\"ข้าพเจ้าขอสาบานว่าได้ทำข้อสอบนี้ด้วยตัวเองโดยไม่ได้รับความช่วยเหลือจากผู้ใด\""
   ]
  },
  {
   "cell_type": "code",
   "execution_count": null,
   "metadata": {},
   "outputs": [],
   "source": []
  },
  {
   "cell_type": "markdown",
   "metadata": {},
   "source": [
    "### คำสั่ง\n",
    "\n",
    "1. ข้อสอบจะถูกแจกเป็นลิงก์บน Google classroom เท่านั้น มีให้เลือกเป็นแบบ Jupyter notebook \n",
    "(Python) หรือ Pluto notebook (Julia) ให้เลือกทำและส่งไฟล์เพียงชนิดเดียวเท่านั้น \n",
    "(หากส่งมาทั้งสองชนิดผู้ตรวจจะเลือกแบบสุ่ม) โดยทำข้อสอบในไฟล์ notebook ที่ได้รับทั้งหมด \n",
    "สามารถเพิ่มเซลได้ตามต้องการ \n",
    "2. ข้อสอบเป็นแบบเปิดตำรา ใช้คอมพิวเตอร์ หนังสือหรือข้อมูลออนไลน์ได้ไม่จำกัด\n",
    "3. อธิบายและแสดงการคำนวณให้ชัดเจน สำหรับโจทย์ที่ต้องเขียนโปรแกรมแก้ปัญหา โปรแกรมต้อง\n",
    "ประมวลผลได้โดยไม่มีข้อผิดพลาดและให้คำตอบถูกต้องจึงได้คะแนนเต็ม\n",
    "4. ห้ามแก้ไขโจทย์โดยเด็ดขาด ผู้ที่แก้โจทย์จะได้คะแนนข้อนั้นเป็นศูนย์\n",
    "5. พารามิเตอร์ในโจทย์บางข้อขึ้นกับตัวเลข 3 หลักสุดท้ายของรหัสนิสิตของผู้ทำข้อสอบ \n",
    "ซึ่งจะต้องแทนค่าอย่างถูกต้องเท่านั้นจึงจะได้คะแนน (ดูคำอธิบายเพิ่มเติมด้านล่าง) \n",
    "6. ทำข้อสอบด้วยตนเอง ห้ามปรึกษาหรือขอความช่วยเหลือจากบุคคลอื่นในทุกกรณ๊ ข้อย่อยใดที่คำตอบผิด\n",
    "และมีข้อความหรือค่าคำตอบเหมือนกันมากกว่าหนึ่งคนจะได้คะแนนข้อย่อยนั้นเป็นศูนย์\n",
    "7. เวลาทำข้อสอบ 3 ชั่วโมง เมื่อหมดเวลาจะต้องส่งข้อสอบทุกคน การส่งซ้ำจะนับเวลาที่ส่งครั้งสุดท้าย \n",
    "ซึ่งบันทึกโดย Google classroom ผู้ที่ส่งหลังหมดเวลา 10 นาทีจะถูกหัก -1 คะแนนต่อนาที เริ่มจาก -10 คะแนน \n",
    "ผู้ที่ส่งหลัง 30 นาทีอาจถูกปฏิเสธข้อสอบและได้คะแนนสอบครั้งนี้เป็นศูนย์\n"
   ]
  },
  {
   "cell_type": "markdown",
   "metadata": {},
   "source": [
    "<div align=\"center\">\n",
    "<b>รศ.ดร.พีรยุทธ์ ชาญเศรษฐิกุล</b>\t\t\tประธานกรรมการอำนวยการสอบ\n",
    "<br><b>ผศ.ดร.ประพจน์ ขุนทอง</b>\t\t\t\tกรรมการออกข้อสอบ\n",
    "<br><b>ดร.วโรดม ตู้จินดา</b>\t\t\t\t\tกรรมการออกข้อสอบ\n",
    "</div>\n"
   ]
  },
  {
   "cell_type": "markdown",
   "metadata": {},
   "source": [
    "<b>หมายเหตุ :</b> ข้อสอบด้านล่างนี้สำหรับเป็นตัวอย่างหรือใช้ฝึกหัดทำข้อสอบเท่านั้น \n",
    "ไม่ใช่ข้อสอบจริงของวิชานี้\n",
    "    \n",
    "***\n",
    "### คะแนนของโจทย์ข้อสอบแต่ละข้อ (รวม 100 คะแนน)\n",
    "\n",
    "| โจทย์ข้อสอบ | คะแนน |\n",
    "| --- | --- |\n",
    "| [1 ](#p1) | (15 คะแนน) |\n",
    "| [2 ](#p2) | (20 คะแนน) |\n",
    "| [3 ](#p3) | (30 คะแนน) |\n",
    "| [4 ](#p4) | (20 คะแนน) |\n",
    "| [5 ](#p5) | (15 คะแนน) |\n"
   ]
  },
  {
   "cell_type": "markdown",
   "metadata": {},
   "source": [
    "### อธิบายเพิ่มเติมเกี่ยวกับค่าในโจทย์ข้อสอบ ที่ขึ้นกับตัวเลข 3 ตัวสุดท้ายของรหัสนิสิต คือ\n",
    "\n",
    "-------xyz  (ไม่สนใจเลขหลักอื่น )\n",
    "\n",
    "ถ้าตัวเลขตัวใดใน 3 หลักสุดท้ายเป็น 0 ให้แทนด้วยเลข 5 \n",
    "\n",
    "ตัวอย่างรหัสนิสิต\n",
    "\n",
    "นิสิต A : 6010552893  ได้ค่า x = 8, y = 9, z = 3\n",
    "\n",
    "นิสิต B : 6010502977  ได้ค่า x = 9, y = 7, z = 7\n",
    "\n",
    "นิสิต C : 6010503001 ได้ค่า x = 5, y = 5, z = 1\n",
    "\n",
    "ใช้ค่านี้กับโจทย์ทุกข้อในข้อสอบ\n",
    "\n",
    "เครื่องหมายที่ใช้ดำเนินการกับค่าตัวแปร\n",
    "\n",
    " $+$ บวก\n",
    "\n",
    " $-$  ลบ\n",
    "\n",
    " $*$  คูณ \n",
    "\n",
    " $/$ หาร\n",
    "\n",
    "$**$, $^$ ยกกำลัง\n",
    "\n",
    "รวมถึงฟังก์ชันทางคณิตศาสตร์ เช่น $\\exp(x)$, $\\sin(z*t)$\n",
    "\n",
    "หากตัวแปรฝังอยู่ในหลักหนึ่งของตัวเลข ให้แทนหลักนั้นด้วยค่าตัวแปรเลย เช่น y = 8 z = 3, 12y7 = 1287, 4.3z5 = 4.335\n",
    "\n",
    "โจทย์อาจจำหนดเงื่อนไขขึ้นกับ x, y, z เช่น ถ้า x<5 ทำเงื่อนไข A นอกนั้นทำเงื่อนไข B \n",
    "\n",
    "ตัวอย่างโจทย์บอกว่า กำหนดให้ $R1 = 1000*x \\,\\Omega, C1 = 10*y \\,\\mu F$\n",
    "\n",
    "นิสิต A ทำโจทย์ด้วยค่า R1 = 8000 $\\Omega$, C1 = 90 $\\mu$F\n",
    "\n",
    "นิสิต B ทำโจทย์ด้วยค่า R1 = 9000 $\\Omega$, C1 = 70 $\\mu$F\n",
    "\n",
    "นิสิต C ทำโจทย์ด้วยค่า R1 = 1000 $\\Omega$, C1 = 10 $\\mu$F\n",
    "\n",
    "ถ้ามีตรงส่วนใดที่ไม่ชัดเจนในข้อสอบ ให้เขียนอธิบายว่าเข้าใจโจทย์อย่างไร หากผู้ตรวจเห็นว่าโจทย์เป็นเหตุทำให้เข้าใจผิดได้ จะให้คะแนนในส่วนนั้น"
   ]
  },
  {
   "cell_type": "code",
   "execution_count": null,
   "metadata": {},
   "outputs": [],
   "source": [
    "#หากใช้ Colab ทำข้อสอบ ต้องติดตั้งไลบรารีเพิ่ม\n",
    "!pip install slycot\n",
    "!pip install control"
   ]
  },
  {
   "cell_type": "code",
   "execution_count": 1,
   "metadata": {},
   "outputs": [],
   "source": [
    "# นำเข้าไลบรารีที่ต้องการใช้ (สามารถนำเข้าในเซลอื่นๆได้ตามต้องการ)\n",
    "import numpy as np\n",
    "import matplotlib.pyplot as plt\n",
    "import control as ctl"
   ]
  },
  {
   "cell_type": "markdown",
   "metadata": {},
   "source": [
    "***\n",
    "<a id=\"p1\"></a>\n",
    "#### P1 (15 คะแนน) \n",
    "\n",
    "กำเนิดแนววิถีดังแสดงในรูปที่ 1 โดยวิธี cubic polynomial \n",
    "\n",
    "<b>Hint : </b>ใช้โค้ดจาก HW1 เปลี่ยนฟังก์ชัน qpoly() เป็น cpoly() โดยศึกษาจาก cpoly.sci ในเครื่องมือ RTSX บน Scilab \n",
    "\n",
    "<p align=\"center\">\n",
    "<img src=\"https://drive.google.com/uc?id=1iRrPU8tFWpN6aD7mY9YkuPRzkxEVKJ5t\" width=550 alt=\"Figure 1\"/>\n",
    "</p>\n",
    "<div align=\"center\"><b>รูปที่ 1 แนววิถี 3 ส่วนย่อยสำหรับโจทย์ข้อ P1</b></div>"
   ]
  },
  {
   "cell_type": "code",
   "execution_count": null,
   "metadata": {},
   "outputs": [],
   "source": []
  },
  {
   "cell_type": "code",
   "execution_count": null,
   "metadata": {},
   "outputs": [],
   "source": []
  },
  {
   "cell_type": "code",
   "execution_count": null,
   "metadata": {},
   "outputs": [],
   "source": []
  },
  {
   "cell_type": "markdown",
   "metadata": {},
   "source": [
    "***\n",
    "<a id=\"p2\"></a>\n",
    "#### P2 (20 คะแนน)\n",
    "\n",
    "ออกแบบตัวควบคุมสำหรับข้อต่อหุ่นยนต์ขับเคลื่อนโดยดีซีมอเตอร์ มีฟังก์ชันถ่ายโอนเท่ากับ\n",
    "\n",
    "\\begin{equation} \n",
    "P(s) = \\frac{1}{zs^2 + 0.01s}\n",
    "\\end{equation}\n",
    "\n",
    "โดยมีข้อกำหนดที่ต้องการดังนี้\n",
    "<ol>\n",
    "<li> ค่าผิดพลาดในสถานะนิ่งเป็นศูนย์ </li>\n",
    "<li> การรบกวนในย่านความถี่ต่ำถูกลดทอนลง $0.00y$ หรือน้อยกว่า ในย่านความถี่ต่ำกว่า 0.1 rad/s </li>\n",
    "<li> สัญญาณรบกวนในย่านความถี่สูงถูกลดทอนลง $0.0z$ หรือน้อยกว่า ในย่านความถี่สูงกว่า 80 rad/s </li>\n",
    "<li> ระบบป้อนกลับเสถียร โดยมีค่าความเผื่อเฟสอย่างน้อย 30 องศา</li>\n",
    "</ol>\n",
    "\n",
    "ใช้โค้ดจากการบ้าน HW2 เกณฑ์การให้คะแนนคือ\n",
    "<ul>\n",
    "<li />ผลตอบสนองความถี่ของ $L(s)$ ได้ตามข้อกำหนด (10 คะแนน)\n",
    "<li />จำลองการทำงาน (tracking, disturbance & noise attenuation) ให้เห็นว่าได้ตามข้อกำหนด (10 คะแนน)\n",
    "</ul>"
   ]
  },
  {
   "cell_type": "code",
   "execution_count": null,
   "metadata": {},
   "outputs": [],
   "source": []
  },
  {
   "cell_type": "code",
   "execution_count": null,
   "metadata": {},
   "outputs": [],
   "source": []
  },
  {
   "cell_type": "code",
   "execution_count": null,
   "metadata": {},
   "outputs": [],
   "source": []
  },
  {
   "cell_type": "markdown",
   "metadata": {},
   "source": [
    "***\n",
    "<a id=\"p3\"></a>\n",
    "#### P3 (30 คะแนน)\n",
    "\n",
    "3a) จากรูปจงแสดงให้เห็นว่า เมื่อกราฟของ $L(j\\omega)$ อยู่ในวงกลม (พื้นที่แรเงา) จะสัมพันธ์กับ $|S(j\\omega)| \\gt 1$ (10 คะแนน)\n",
    "\n",
    "<b>Hint : </b>เริ่มต้นจากนิยามของ $S(s)$ \n",
    "<p align=\"center\">\n",
    "<img src=\"https://drive.google.com/uc?id=1FQokr7qFAbr5gWJWSn3mQRRQKKG7a0Y2\" width=350 alt=\"Figure 3a\"/>\n",
    "</p>\n",
    "<div align=\"center\"><b>รูปที่ 3a) ความสัมพันธ์ระหว่าง $L(j\\omega)$ และ $S(j\\omega)$</b></div>\n"
   ]
  },
  {
   "cell_type": "code",
   "execution_count": null,
   "metadata": {},
   "outputs": [],
   "source": []
  },
  {
   "cell_type": "markdown",
   "metadata": {},
   "source": [
    "3b) อธิบายว่าทำไมตัวควบคุมป้อนกลับสัดส่วนเพียงอย่างเดียว (proportional control) จึงใช้งานได้ไม่ดีสำหรับการควบคุมข้อต่อหุ่นยนต์ (5 คะแนน)"
   ]
  },
  {
   "cell_type": "code",
   "execution_count": null,
   "metadata": {},
   "outputs": [],
   "source": []
  },
  {
   "cell_type": "markdown",
   "metadata": {},
   "source": [
    "3c) อธิบายผลกระทบจากการอิ่มตัว (saturation) ในระบบป้อนกลับที่ใช้ตัวควบคุม PID และวิธีการแก้ไข (5 คะแนน)"
   ]
  },
  {
   "cell_type": "code",
   "execution_count": null,
   "metadata": {},
   "outputs": [],
   "source": []
  },
  {
   "cell_type": "markdown",
   "metadata": {},
   "source": [
    "3d) จากพลานต์และตัวควบคุมที่ออกแบบได้ในข้อ 2) สร้างตัวควบคุมป้อนข้างหน้า (feedforward control)ดังแสดงในรูป 3d.1) โดยสมมุติว่าสามารถประมาณค่าของพารามิเตอร์ \n",
    "$J$ และ $B$ ของพลานต์ได้โดยมีค่าผิดพลาดไม่เกิน 10% \n",
    "\n",
    "<p align=\"center\">\n",
    "<img src=\"https://drive.google.com/uc?id=10ylI-hNRPkNaH6DnH4WPcKOboJfeIlX1\" width=550 alt=\"Figure 3d\"/>\n",
    "</p>\n",
    "<div align=\"center\"><b>รูปที่ 3d.1) แผนภาพของการใช้ตัวควบคุมป้อนกลับร่วมกับตัวควบคุมป้อนข้างหน้า</b></div>\n",
    "\n",
    "จำลองผลการตามรอยโดยใช้แนววิถีที่กำเนิดจากข้อ P1 โดยเปรียบเทียบระหว่างผลตอบสนองที่มี\n",
    "การใช้ตัวป้อนข้างหน้าซึ่งจะแสดงให้เห็นการปรับปรุงสมรรถนะการตามรอยดังในรูปที่ 3d.2)\n",
    "\n",
    "(10 คะแนน)\n",
    "\n",
    "<p align=\"center\">\n",
    "<img src=\"https://drive.google.com/uc?id=12Uq8xi-GFkeO1md54IERUqzzs_KypNyX\" width=550 alt=\"Figure 3d\"/>\n",
    "</p>\n",
    "<div align=\"center\"><b>รูปที่ 3d.2) เปรียบเทียบผลตอบสนองที่แสดงการปรับปรุงสมรรถนะการตามรอยเมื่อใช้ตัวควบคุมป้อนข้างหน้า</b></div>\n",
    "\n"
   ]
  },
  {
   "cell_type": "code",
   "execution_count": null,
   "metadata": {},
   "outputs": [],
   "source": []
  },
  {
   "cell_type": "code",
   "execution_count": null,
   "metadata": {},
   "outputs": [],
   "source": []
  },
  {
   "cell_type": "code",
   "execution_count": null,
   "metadata": {},
   "outputs": [],
   "source": []
  },
  {
   "cell_type": "markdown",
   "metadata": {},
   "source": [
    "***\n",
    "<a id=\"p4\"></a>\n",
    "#### P4 (20 คะแนน)\n",
    "\n",
    "จากพลานต์ข้อต่อหุ่นยนต์ในข้อ P2 \n",
    "\n",
    "\\begin{equation} \n",
    "P(s) = \\frac{1}{zs^2 + 0.01s}\n",
    "\\end{equation}\n",
    "\n",
    "ออกแบบตัวควบคุมป้อนกลับสเตตและตัวอินทิกรัล (state feedback + integrator control) ให้ได้ตามข้อกำหนดดังนี้\n",
    "1. การพุ่งเกิน < 15%\n",
    "2. ช่วงเวลาขาขึ้น (rise time) < 0.2 วินาที\n",
    "\n",
    "จำลองผลตอบสนองขั้นบันไดให้เห็นว่าได้ตามข้อกำหนด (หรือใกล้เคียงที่สุดพร้อมอธิบายเหตุผลหากทำไม่ได้)\n",
    "\n",
    "<b>Hint : </b> ใช้โค้ดจาก module 5 ใน <a href=\"https://github.com/dewdotninja/control_python\">control_python</a> github\n"
   ]
  },
  {
   "cell_type": "code",
   "execution_count": null,
   "metadata": {},
   "outputs": [],
   "source": []
  },
  {
   "cell_type": "code",
   "execution_count": null,
   "metadata": {},
   "outputs": [],
   "source": []
  },
  {
   "cell_type": "code",
   "execution_count": null,
   "metadata": {},
   "outputs": [],
   "source": []
  },
  {
   "cell_type": "markdown",
   "metadata": {},
   "source": [
    "<a id=\"p5\"></a>\n",
    "#### P5. (15 คะแนน)\n",
    "\n",
    "จากฟังก์ชันถ่ายโอนของตัวควบคุม PID\n",
    "$$\n",
    "C(s) = k_p + \\frac{k_i}{s} + \\frac{Nk_ds}{s+N}\n",
    "$$\n",
    "\n",
    "จำลองผลตอบสนองขั้นบันไดของระบบป้อนกลับโดยใช้พลานต์จากข้อ P2\n",
    "\n",
    "\\begin{equation} \n",
    "P(s) = \\frac{1}{zs^2 + 0.01s}\n",
    "\\end{equation}\n",
    "\n",
    "ปรับค่าของ kp, ki,kd ให้ระบบป้อนกลับเสถียรและได้ผลการตามรอยที่มีค่าแตกต่างสถานะนิ่ง \n",
    "(steady state error) เป็นศูนย์ และเวลาเข้าสู่สถานะนิ่ง (settling time) ไม่เกิน 1 วินาที \n"
   ]
  },
  {
   "cell_type": "code",
   "execution_count": null,
   "metadata": {},
   "outputs": [],
   "source": []
  },
  {
   "cell_type": "code",
   "execution_count": null,
   "metadata": {},
   "outputs": [],
   "source": []
  },
  {
   "cell_type": "code",
   "execution_count": null,
   "metadata": {},
   "outputs": [],
   "source": []
  },
  {
   "cell_type": "markdown",
   "metadata": {},
   "source": [
    "***\n",
    "<div align=\"right\">Last update : 5 สิงหาคม 2564</div>"
   ]
  },
  {
   "cell_type": "code",
   "execution_count": null,
   "metadata": {},
   "outputs": [],
   "source": []
  }
 ],
 "metadata": {
  "kernelspec": {
   "display_name": "Python 3.7 (controlenv)",
   "language": "python",
   "name": "controlenv"
  },
  "language_info": {
   "codemirror_mode": {
    "name": "ipython",
    "version": 3
   },
   "file_extension": ".py",
   "mimetype": "text/x-python",
   "name": "python",
   "nbconvert_exporter": "python",
   "pygments_lexer": "ipython3",
   "version": "3.7.9"
  }
 },
 "nbformat": 4,
 "nbformat_minor": 4
}
