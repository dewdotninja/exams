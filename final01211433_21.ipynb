{
 "cells": [
  {
   "cell_type": "markdown",
   "metadata": {},
   "source": [
    "<a href=\"https://colab.research.google.com/github/dewdotninja/exams/blob/master/final01211433_21.ipynb\" target=\"_parent\"><img src=\"https://colab.research.google.com/assets/colab-badge.svg\" alt=\"Open In Colab\"/></a>"
   ]
  },
  {
   "cell_type": "markdown",
   "metadata": {},
   "source": [
    "<p align=\"left\">\n",
    "<img src=\"https://raw.githubusercontent.com/dewdotninja/exams/main/feng_heading.png\" width=400 alt=\"Feng heading\"/>\n",
    "</p>\n",
    "\n",
    "#### ข้อสอบปลายภาคออนไลน์ 2564\n",
    "<br>ภาควิชาวิศวกรรมเครื่องกล \n",
    "<br>วิชา 01211433 Vision and Control of Industrial Robots \n",
    "<br>วันอังคารที่ 2 พฤศจิกายน 2564 13.00-18.00 ทางออนไลน์\n",
    "\n",
    "ให้นิสิตพิมพ์ ชื่อ นามสกุล รหัสนิสิต หมู่เรียน ในเซลด้านล่างนี้ "
   ]
  },
  {
   "cell_type": "code",
   "execution_count": null,
   "metadata": {},
   "outputs": [],
   "source": []
  },
  {
   "cell_type": "markdown",
   "metadata": {},
   "source": [
    "พิมพ์หรือคัดลอกข้อความต่อไปนี้ลงในเซลด้านล่าง (สำคัญ!)\n",
    "<br>\"ข้าพเจ้าขอให้คำสัตย์ว่าได้ทำข้อสอบนี้ด้วยตัวเองโดยไม่ได้รับความช่วยเหลือจากผู้ใด\""
   ]
  },
  {
   "cell_type": "code",
   "execution_count": null,
   "metadata": {},
   "outputs": [],
   "source": []
  },
  {
   "cell_type": "markdown",
   "metadata": {},
   "source": [
    "### คำสั่ง\n",
    "\n",
    "1. ข้อสอบจะถูกแจกเป็นลิงก์บน Google classroom เท่านั้น มีให้เลือกเป็นแบบ Jupyter notebook \n",
    "(Python) หรือ Pluto notebook (Julia) ให้เลือกทำและส่งไฟล์เพียงชนิดเดียวเท่านั้น \n",
    "(หากส่งมาทั้งสองชนิดผู้ตรวจจะเลือกแบบสุ่ม) โดยทำข้อสอบในไฟล์ notebook ที่ได้รับทั้งหมด \n",
    "สามารถเพิ่มเซลได้ตามต้องการ \n",
    "2. ข้อสอบเป็นแบบเปิดตำรา ใช้คอมพิวเตอร์ หนังสือหรือข้อมูลออนไลน์ได้ไม่จำกัด\n",
    "3. อธิบายและแสดงการคำนวณให้ชัดเจน สำหรับโจทย์ที่ต้องเขียนโปรแกรมแก้ปัญหา โปรแกรมต้อง\n",
    "ประมวลผลได้โดยไม่มีข้อผิดพลาดและให้คำตอบถูกต้องจึงได้คะแนนเต็ม\n",
    "4. ห้ามแก้ไขโจทย์โดยเด็ดขาด ผู้ที่แก้โจทย์จะได้คะแนนข้อนั้นเป็นศูนย์\n",
    "5. พารามิเตอร์ในโจทย์บางข้อขึ้นกับตัวเลข 3 หลักสุดท้ายของรหัสนิสิตของผู้ทำข้อสอบ \n",
    "ซึ่งจะต้องแทนค่าอย่างถูกต้องเท่านั้นจึงจะได้คะแนน (ดูคำอธิบายเพิ่มเติมด้านล่าง) \n",
    "6. ทำข้อสอบด้วยตนเอง ห้ามปรึกษาหรือขอความช่วยเหลือจากบุคคลอื่นในทุกกรณี ข้อย่อยใดที่คำตอบผิด\n",
    "และมีข้อความหรือค่าคำตอบเหมือนกันอย่างมีนัยสำคัญมากกว่าหนึ่งคนอาจจะได้คะแนนข้อย่อยนั้นเป็นศูนย์\n",
    "7. เวลาทำข้อสอบ 5 ชั่วโมง เมื่อหมดเวลาจะต้องส่งข้อสอบทุกคน การส่งซ้ำจะนับเวลาที่ส่งครั้งสุดท้าย \n",
    "ซึ่งบันทึกโดย Google classroom ผู้ที่ส่งหลังหมดเวลา 10 นาทีจะถูกหัก -1 คะแนนต่อนาที เริ่มจาก -10 คะแนน \n",
    "ผู้ที่ส่งหลัง 30 นาทีอาจถูกปฏิเสธข้อสอบและได้คะแนนสอบครั้งนี้เป็นศูนย์\n"
   ]
  },
  {
   "cell_type": "markdown",
   "metadata": {},
   "source": [
    "<div align=\"center\">\n",
    "<b>รศ.ดร.พีรยุทธ์ ชาญเศรษฐิกุล</b>\t\t\tประธานกรรมการอำนวยการสอบ\n",
    "<br><b>ผศ.ดร.ประพจน์ ขุนทอง</b>\t\t\t\tกรรมการออกข้อสอบ\n",
    "<br><b>ดร.วโรดม ตู้จินดา</b>\t\t\t\t\tกรรมการออกข้อสอบ\n",
    "</div>\n"
   ]
  },
  {
   "cell_type": "markdown",
   "metadata": {},
   "source": [
    "    \n",
    "***\n",
    "### คะแนนของโจทย์ข้อสอบแต่ละข้อ (รวม 100 คะแนน)\n",
    "\n",
    "| โจทย์ข้อสอบ | คะแนน |\n",
    "| --- | --- |\n",
    "| [1 ](#p1) | (20 คะแนน) |\n",
    "| [2 ](#p2) | (20 คะแนน) |\n",
    "| [3 ](#p3) | (15 คะแนน) |\n",
    "| [4 ](#p4) | (15 คะแนน) |\n",
    "| [5 ](#p5) | (15 คะแนน) |\n",
    "| [6 ](#p6) | (15 คะแนน) |"
   ]
  },
  {
   "cell_type": "markdown",
   "metadata": {},
   "source": [
    "### อธิบายเพิ่มเติมเกี่ยวกับค่าในโจทย์ข้อสอบ ที่ขึ้นกับตัวเลข 3 ตัวสุดท้ายของรหัสนิสิต คือ\n",
    "\n",
    "-------xyz  (ไม่สนใจเลขหลักอื่น )\n",
    "\n",
    "ถ้าตัวเลขตัวใดใน 3 หลักสุดท้ายเป็น 0 ให้แทนด้วยเลข 5 \n",
    "\n",
    "ตัวอย่างรหัสนิสิต\n",
    "\n",
    "นิสิต A : 6010552893  ได้ค่า x = 8, y = 9, z = 3\n",
    "\n",
    "นิสิต B : 6010502977  ได้ค่า x = 9, y = 7, z = 7\n",
    "\n",
    "นิสิต C : 6010503001 ได้ค่า x = 5, y = 5, z = 1\n",
    "\n",
    "ใช้ค่านี้กับโจทย์ทุกข้อในข้อสอบ\n",
    "\n",
    "เครื่องหมายที่ใช้ดำเนินการกับค่าตัวแปร\n",
    "\n",
    " $+$ บวก\n",
    "\n",
    " $-$  ลบ\n",
    "\n",
    " $*$  คูณ \n",
    "\n",
    " $/$ หาร\n",
    "\n",
    "$**$, $^$ ยกกำลัง\n",
    "\n",
    "รวมถึงฟังก์ชันทางคณิตศาสตร์ เช่น $\\exp(x)$, $\\sin(z*t)$\n",
    "\n",
    "หากตัวแปรฝังอยู่ในหลักหนึ่งของตัวเลข ให้แทนหลักนั้นด้วยค่าตัวแปรเลย เช่น y = 8 z = 3, 12y7 = 1287, 4.3z5 = 4.335\n",
    "\n",
    "โจทย์อาจจำหนดเงื่อนไขขึ้นกับ x, y, z เช่น ถ้า x<5 ทำเงื่อนไข A นอกนั้นทำเงื่อนไข B \n",
    "\n",
    "ตัวอย่างโจทย์บอกว่า กำหนดให้ $R1 = 1000*x \\,\\Omega, C1 = 10*y \\,\\mu F$\n",
    "\n",
    "นิสิต A ทำโจทย์ด้วยค่า R1 = 8000 $\\Omega$, C1 = 90 $\\mu$F\n",
    "\n",
    "นิสิต B ทำโจทย์ด้วยค่า R1 = 9000 $\\Omega$, C1 = 70 $\\mu$F\n",
    "\n",
    "นิสิต C ทำโจทย์ด้วยค่า R1 = 1000 $\\Omega$, C1 = 10 $\\mu$F\n",
    "\n",
    "ถ้ามีตรงส่วนใดที่ไม่ชัดเจนในข้อสอบ ให้เขียนอธิบายว่าเข้าใจโจทย์อย่างไร หากผู้ตรวจเห็นว่าโจทย์เป็นเหตุทำให้เข้าใจผิดได้ จะให้คะแนนในส่วนนั้น"
   ]
  },
  {
   "cell_type": "code",
   "execution_count": null,
   "metadata": {},
   "outputs": [],
   "source": [
    "#หากใช้ Colab ทำข้อสอบ ต้องติดตั้งไลบรารีเพิ่ม\n",
    "!pip install slycot\n",
    "!pip install control"
   ]
  },
  {
   "cell_type": "code",
   "execution_count": 1,
   "metadata": {},
   "outputs": [],
   "source": [
    "# นำเข้าไลบรารีที่ต้องการใช้ (สามารถนำเข้าในเซลอื่นๆได้ตามต้องการ)\n",
    "import numpy as np\n",
    "import matplotlib.pyplot as plt\n",
    "import control as ctl"
   ]
  },
  {
   "cell_type": "code",
   "execution_count": null,
   "metadata": {},
   "outputs": [],
   "source": []
  },
  {
   "cell_type": "markdown",
   "metadata": {},
   "source": [
    "***\n",
    "<a id=\"p1\"></a>\n",
    "#### P1 (20 คะแนน)\n",
    "\n",
    "อุปกรณ์ชนิดหนึ่งที่นิยมใช้ในเครื่องจักรอุตสากรรมที่มีการเคลื่อนที่แบบหมุนเช่นข้อต่อหุ่นยนต์ เรียกว่า ตัวขับฮาร์มอนิก \n",
    "(Harmonic Drive) จากบริษัทในกลุ่ม Harmonic Drive LLC โดยใช้ต่อร่วมกับเพลาของมอเตอร์ \n",
    "ต่อไปเพื่อความสะดวกในการเขียนจะเรียกโดยย่อว่าระบบ HDM \n",
    "\n",
    "รูปที่ 1 แสดงโครงสร้างของกลไก HDM ประกอบด้วย 3 ส่วนคือ แหวนกลม (circular spline) แหวนยืดหยุ่น \n",
    "(flexspline) และตัวกำเนิดคลื่น (wave generator) รูปวงรี โดยตัวกำเนิดคลื่นจะเชื่อมต่อกับเพลาของมอเตอร์\n",
    "ซึ่งหมุนด้วยความเร็วสูง แหวนกลมจะมีฟันอยู่ด้านใน ระหว่างทั้งสองจะคั่นด้วยแหวนยืดหยุ่นที่มีฟันอยู่ด้านนอก \n",
    "เมื่อตัวกำเนิดคลื่นหมุนจะทำให้แหวนยืดหยุ่นแปรรูปและทำให้ฟันไปขบกับฟันของแหวนกลม ดังนั้น \n",
    "เพลาด้านเอาต์พุตของ HDM จะหมุนด้วยความเร็วต่ำกว่าความเร็วเพลามอเตอร์ โดยอัตราทดจะขึ้นกับความแตกต่างระหว่าง\n",
    "จำนวนฟันของแหวนยืดหยุ่นกับแหวนกลม\n",
    "\n",
    "<p align=\"center\">\n",
    "<img src=\"https://drive.google.com/uc?id=1PtcGtTJ2iv81nLHz5Gb5mNnGeM_d5i4c\" width=300 alt=\"Figure 1\"/>\n",
    "</p>\n",
    "<div align=\"center\"><b>รูปที่ 1 โครงสร้างของ HDM (https://www.harmonicdrive.net/)</b></div>\n",
    "\n",
    "เมื่อเขียนแผนภาพของอุปกรณ์ HDM ต่อกับดีซีมอเตอร์จะได้เป็นดังรูปที่ 2 โดยด้านซ้ายเป็นระบบไฟฟ้าเชิงกลของมอเตอร์ และด้านขวาคือระบบเชิงกลของตัวขับฮาร์มอนิกซึ่งแทนโดยระบบเกียร์ผ่านเพลาอ่อนตัวที่มีค่าความแข็งเท่ากับ k \n",
    "\n",
    "<p align=\"center\">\n",
    "<img src=\"https://drive.google.com/uc?id=1OP3LsMAgsHQ5uYdmVLQFHQLq55J-kYd7\" width=550 alt=\"Figure 2\"/>\n",
    "</p>\n",
    "<div align=\"center\"><b>รูปที่ 2 แผนภาพของระบบ HDM</b></div>\n",
    "\n",
    "เมื่อนิยาม \n",
    "$$\n",
    "p_l(s) = J_ls^2 + B_ls + k \\tag{1}\n",
    "$$\n",
    "$$\n",
    "p_m(s) = J_ms^2 + B_ms + k \\tag{2}\n",
    "$$\n",
    "\n",
    "สามารถแสดงได้ว่าฟังก์ชันถ่ายโอนรวมของ HDM เขียนได้เป็นดังนี้\n",
    "$$\n",
    "P(s) = \\frac{\\theta_l(s)}{V(s)} = \\frac{k_mk}{p_m(s)p_l(s)(Ls+R)-k^2(Ls+R)+rk_mk_bsp_l(s)} \\tag{3}\n",
    "$$\n",
    "\n",
    "เมื่อกำหนดค่าพารามิตอร์ (แทนค่า x,y,z จากรหัสนิสิตของตนเอง)\n",
    "<code>\n",
    "\tkm = (y+z)*100  # torque constant\n",
    "\tkb = 1  # back EMF constant\n",
    "\tk = 1000 # torsional stiffness of harmonic drive\n",
    "\tr = x   # gear ratio\n",
    "\tR = 1  # armature resistance\n",
    "\tL = 0.1 # armature inductance\n",
    "\tJm = (x+y)  #  motor inertia\n",
    "\tBm = 0.0y  # motor shaft friction\n",
    "\tJl = (x+z)  # load inertia\n",
    "\tBl = 0.0z  # load friction\n",
    "</code>\n",
    "\n",
    "<b>P1.1</b> สร้างฟังก์ชันถ่ายโอนของพลานต์ข้อต่อหุ่นยนต์ขับเคลื่อนโดย HDM ตามสมการ (3) \n",
    "และพล็อตแผนภาพโบเด (Bode plot) ที่แสดงขนาดและเฟสของพลานต์ในย่านความถี่ 0.01 - 1000 rad/s \n",
    "(5 คะแนน)\n",
    "\n",
    "### Solution"
   ]
  },
  {
   "cell_type": "code",
   "execution_count": null,
   "metadata": {},
   "outputs": [],
   "source": []
  },
  {
   "cell_type": "code",
   "execution_count": null,
   "metadata": {},
   "outputs": [],
   "source": []
  },
  {
   "cell_type": "markdown",
   "metadata": {},
   "source": [
    "**P1.2** แปลงฟังก์ชันถ่ายโอนจากข้อ P1.1 เป็นระบบเวลาวิยุต (discrete-time) \n",
    "โดยมีคาบเวลาการสุ่ม $Ts$ เท่ากับ 0.1 ของคาบเวลามากที่สุดที่ทำให้ไม่เกิดปัญหาการแฝง \n",
    "(aliasing problem) (5 คะแนน)\n",
    "\n",
    "### Solution"
   ]
  },
  {
   "cell_type": "code",
   "execution_count": null,
   "metadata": {},
   "outputs": [],
   "source": []
  },
  {
   "cell_type": "code",
   "execution_count": null,
   "metadata": {},
   "outputs": [],
   "source": []
  },
  {
   "cell_type": "markdown",
   "metadata": {},
   "source": [
    "**P1.3** ใช้พลานต์ระบบเวลาวิยุตจากข้อ **P1.2** และตัวควบคุมแบบสัดส่วน \n",
    "(proportional control) $C(s) = K$ โดยมีค่าอัตราขยาย $K = 0.01*(x+y)$ \n",
    "สร้างระบบป้อนกลับและพิจารณาเสถียรภาพในโดเมนเวลาวิยุต (5 คะแนน)\n",
    "\n",
    "### Solution"
   ]
  },
  {
   "cell_type": "code",
   "execution_count": null,
   "metadata": {},
   "outputs": [],
   "source": []
  },
  {
   "cell_type": "code",
   "execution_count": null,
   "metadata": {},
   "outputs": [],
   "source": []
  },
  {
   "cell_type": "markdown",
   "metadata": {},
   "source": [
    "**P1.4** จำลองผลตอบสนองขั้นบันไดของระบบป้อนกลับเวลาวิยุตในโจทย์ข้อ **P1.3** \n",
    "เปรียบเทียบกับผลตอบสนองขั้นบันไดของระบบป้อนกลับเวลาต่อเนื่อง \n",
    "ขยายเวลาการจำลองให้เห็นผลตอบสนองเข้าสู่สถานะนิ่ง (steady-state) \n",
    "หากระบบเสถียร หรือการที่เอาต์พุตมีขนาดใหญ่ขึ้น หากระบบไม่เสถียร (5 คะแนน)\n",
    "\n",
    "### Solution"
   ]
  },
  {
   "cell_type": "code",
   "execution_count": null,
   "metadata": {},
   "outputs": [],
   "source": []
  },
  {
   "cell_type": "code",
   "execution_count": null,
   "metadata": {},
   "outputs": [],
   "source": []
  },
  {
   "cell_type": "markdown",
   "metadata": {},
   "source": [
    "***\n",
    "<a id=\"p2\"></a>\n",
    "### P2 (15 คะแนน)\n",
    "\n",
    "**P2.1** (10 คะแนน)\n",
    "\n",
    "ที่แสดงในเซลล์นี้คือฟังก์ชัน pid_compare() จาก **Module 7 : Continuous to Discrete Conversion Methods** \n",
    "สำหรับเปรียบเทียบผลจากการแปลงตัวควบคุม PID โดยวิธีการประมาณค่า 3 แบบ ให้ดัดแปลงฟังก์ชันนี้เพื่อใช้พลานต์ HDM จากข้อ P1 \n",
    "\n",
    "ปรับค่าพารามิเตอร์ PID เพื่อให้ได้ผลตอบสนองขั้นบันไดที่เสถียร มีช่วงเวลาขาขึ้น $t_r$ น้อยกว่า 0.2 เปอร์เซนต์การพุ่งเกินน้อยกว่า 20% \n",
    "\n",
    "<code>\n",
    "def pid_compare(kp, ki, kd, N, T, tvec):\n",
    "    s = ctl.tf('s')\n",
    "    z = ctl.tf('z')\n",
    "    # continuous-time plant\n",
    "    pnum = 1\n",
    "    pden = [10, 0.1, 0]\n",
    "    P = ctl.tf(pnum,pden)\n",
    "    # continuous-time PID\n",
    "    C_c = kp + ki/s + s*N*kd/(s+N)\n",
    "    L_c = C_c*P\n",
    "    sys_c = ctl.feedback(L_c)\n",
    "    #print(sys)\n",
    "    Tv, y_c = ctl.step_response(sys_c, tvec)\n",
    "    # discretize the plant using bilinear transformation\n",
    "    P_d = (T*(z+1)/(2*(z-1)))*(T*z+T)/((20+0.1*T)*z - 20 + 0.1*T)\n",
    "    # forward difference method\n",
    "    C_fd = kp + ki*T/(z-1) + kd*N*(z-1)/(z-1+N*T)\n",
    "    L_fd = C_fd*P_d\n",
    "    sys_fd = ctl.feedback(L_fd)\n",
    "    Tv, y_fd = ctl.step_response(sys_fd, tvec)\n",
    "    # backward difference method    \n",
    "    C_bd = kp + ki*T*z/(z-1) + kd*N*(z-1)/((1+N*T)*z-1)\n",
    "    L_bd = C_bd*P_d\n",
    "    sys_bd = ctl.feedback(L_bd)\n",
    "    Tv, y_bd = ctl.step_response(sys_bd, tvec)\n",
    "    # bilinear transformation difference method    \n",
    "    C_bt = kp + ki*T*(z+1)/(2*(z-1)) + kd*N*(z-1)/((1+0.5*N*T)*z+0.5*N*T -1)\n",
    "    L_bt = C_bt*P_d\n",
    "    sys_bt = ctl.feedback(L_bt)\n",
    "    Tv, y_bt = ctl.step_response(sys_bt, tvec)\n",
    "    r = np.ones(tvec.shape)\n",
    "    plt.figure()\n",
    "    plt.plot(Tv,r,'b',Tv,y_c,'r-', Tv, y_fd,'b-',Tv, y_bd,'g-',Tv, y_bt,'m-')\n",
    "    plt.grid('True')\n",
    "    plt.xlabel('time (sec)')\n",
    "    plt.ylabel('output')\n",
    "    plt.legend(['step ref.','y (continuous)','y (forward difference)', \n",
    "                'y (backward difference)', 'y (bilinear transform)'])\n",
    "    plt.show()\n",
    "    return y_c, y_fd, y_bd, y_bt\n",
    "</code>\n",
    "\n",
    "### Solution"
   ]
  },
  {
   "cell_type": "code",
   "execution_count": null,
   "metadata": {},
   "outputs": [],
   "source": []
  },
  {
   "cell_type": "code",
   "execution_count": null,
   "metadata": {},
   "outputs": [],
   "source": []
  },
  {
   "cell_type": "markdown",
   "metadata": {},
   "source": [
    "**P2.2** จากการจำลองในข้อ **P2.1** หาค่าของพารามิเตอร์ที่การแปลงแบบผลต่างข้างหน้า (Forward difference) \n",
    "ทำให้ผลตอบสนองไม่เสถียร ส่วนการแปลงอีก 2 แบบยังคงเสถียรอยู่ อธิบายเหตุผลที่ทำให้เกิดเหตุการณ์นี้ (5 คะแนน)\n",
    "\n",
    "### Solution"
   ]
  },
  {
   "cell_type": "code",
   "execution_count": null,
   "metadata": {},
   "outputs": [],
   "source": []
  },
  {
   "cell_type": "code",
   "execution_count": null,
   "metadata": {},
   "outputs": [],
   "source": []
  },
  {
   "cell_type": "markdown",
   "metadata": {},
   "source": [
    "***\n",
    "<a id=\"p3\"></a>\n",
    "### P3 (20 คะแนน)\n",
    "\n",
    "ในโจทย์ข้อนี้ต้องการใช้อัลกอริทึมหาเอกลักษณ์ระบบโดยวิธีกำลังสองน้อยสุด (LSID : Least-square system identification) \n",
    "เพื่อหาโมเดลของพลานต์จากโจทย์ข้อ $P1.1$ ตามแผนภาพบล็อกในรูปที่ 3 \n",
    "\n",
    "<p align=\"center\">\n",
    "<img src=\"https://drive.google.com/uc?id=1vLD5x1eEnRFRnyu-Xr_ns_72X5244qRm\" width=600 alt=\"Figure 3\" />\n",
    "</p>\n",
    "<div align=\"center\"><b>รูปที่ 3  แผนภาพบล็อกสำหรับการจำลอง LSID</b></div>\n",
    "\n",
    "**หมายเหตุ :** อ่านรายละเอียดเพิ่มเติมได้จากสมุดบันทึก Least Square System Identification ที่โพสต์ให้บน course github\n",
    "\n",
    "ฟังก์ชันสำหรับบล็อก PRBS generator \n",
    "\n",
    "<code>\n",
    "def PRBS_generator(amplitude=1000,N=8091):\n",
    "\tbvec = np.array([0, 1, 1, 0, 0, 0, 1, 1, 0, 0, 1, 0, 1])\n",
    "\tu_out = np.zeros(N)\n",
    "\tfor i in range(N):\n",
    "\t\tfeedin = bvec[0] ^ (bvec[2]^(bvec[3]^ bvec[12]))\n",
    "\t\tfor j in range(12,1,-1):  #13:-1:2\n",
    "\t\t\tbvec[j] = bvec[j-1]\n",
    "\t\tbvec[1] = feedin\n",
    "\t\tu_out[i] = amplitude*(2*bvec[12] - 1)\n",
    "\treturn u_out\n",
    "</code>\n",
    "\n",
    "**P3.1 (5 คะแนน)**\n",
    "\n",
    "จำลองผลตอบสนองของพลานต์จากข้อ $P1.1$ เมื่อป้อนอินพุตเป็น PRBS ขนาดความแรง $y*1000$ และเซนเซอร์ที่ใช้วัดมีความคลาดเคลื่อนเป็นแบบสุ่มในช่วง\n",
    "$\\pm 5*x$ เปอร์เซนต์ (**ระวัง :** ฟังก์ชัน rand() ให้ค่าอยู่ในช่วง $[0,1]$ ต้องปรับให้เป็นค่า $\\pm$)\n",
    "\n",
    "### Solution "
   ]
  },
  {
   "cell_type": "code",
   "execution_count": null,
   "metadata": {},
   "outputs": [],
   "source": []
  },
  {
   "cell_type": "code",
   "execution_count": null,
   "metadata": {},
   "outputs": [],
   "source": []
  },
  {
   "cell_type": "markdown",
   "metadata": {},
   "source": [
    "**P3.2 (10 คะแนน)** หาโมเดลระบบเวลาวิยุดของพลานต์โดยวิธีการ LSID โมเดลที่ได้จะอยู่ในรูป\n",
    "\n",
    "$$\n",
    "P(z) = \\frac{b_1z^{k-1} + b_2z^{k-2} + \\ldots + b_{k-1}z+b_k}{z^k + a_1z^{k-1}+\\ldots+a_{k-1}z+a_k} \n",
    "$$\n",
    "\n",
    "โดย $k$ เป็นเลขจำนวนเต็มมีค่า $k = x + z$ [กรณีปกติ] และตามเงื่อนไขเพิ่มเติมคือ\n",
    "1. ถ้า $k < 3$ ใช้ค่า $k = 3$ [กรณี 1]\n",
    "2. ถ้า $k > 9$ ใช่ค่า $k = 9$ [กรณี 2]\n",
    "3. ถ้า $k = 7$ ให้พิจารณาจากค่า $y$ ตามแต่ละกรณีดังนี้: [กรณี 3.1] ถ้า $y$ หารด้วย 3 ลงตัว ใช้ค่า $k = 9$, [กรณี 3.2] ถ้า $y$ หารด้วย 3 เหลือเศษ 1 ใช้ค่า $k = 8$, [กรณี 3.3] ถ้า $y$ หารด้วย 3 เหลือเศษ 2 ใช้ค่า $k = 6$\n",
    "\n",
    "**สำคัญ :** ให้แน่ใจว่ากำหนดค่า $k$ ถูกต้อง หากกำหนดผิดจะไม่ได้คะแนนในข้อนี้\n",
    "\n",
    "\tตัวอย่าง : \n",
    "\tx = 1, y = 2, z = 4 : x+z = 5 --> k = 5 [กรณีปกติ]\n",
    "\tx = 1, y = 5, z = 1 : x+z = 2 --> k = 3 [กรณี 1]\n",
    "\tx = 2, y = 5, z = 8 : x+z = 10 --> k = 9 [กรณี 2]\n",
    "\tx = 2, y = 6, z = 5 : x+z = 7, y/3 ลงตัว --> k = 9 [กรณี 3.1]\n",
    "\tx = 1, y = 1, z = 6 : x+z = 7, y/3 เหลือเศษ 1 --> k = 8 [กรณี 3.2]\n",
    "\tx = 3, y = 5, z = 4 : x+z = 7, y/3 เหลือเศษ 2 --> k = 6 [กรณี 3.3]\n",
    "\t\n",
    "\n",
    "### Solution"
   ]
  },
  {
   "cell_type": "code",
   "execution_count": null,
   "metadata": {},
   "outputs": [],
   "source": []
  },
  {
   "cell_type": "code",
   "execution_count": null,
   "metadata": {},
   "outputs": [],
   "source": []
  },
  {
   "cell_type": "markdown",
   "metadata": {},
   "source": [
    "**P3.3 (5 คะแนน)** เปรียบเทียบแผนภาพโบเดระหว่างพลานต์จริงจากข้อ **P1.1** และโมเดลที่ได้จาก LISD ในข้อ **P3.2** ในย่านความถี่ 0.01 - 100 rad/s\n",
    "\n",
    "**หมายเหตู :** เปรียบเทียบโดยใช้ฟังก์ชันถ่ายโอนในโดเมนเวลาต่อเนื่องหรือเวลาวิยุตก็ได้\n",
    "\n",
    "### Solution"
   ]
  },
  {
   "cell_type": "code",
   "execution_count": null,
   "metadata": {},
   "outputs": [],
   "source": []
  },
  {
   "cell_type": "code",
   "execution_count": null,
   "metadata": {},
   "outputs": [],
   "source": []
  },
  {
   "cell_type": "markdown",
   "metadata": {},
   "source": [
    "***\n",
    "<a id=\"p4\"></a>\n",
    "### P4 (15 คะแนน)\n",
    "\n",
    "จากค่า $x,y,z$ ในรหัสนิสิต พิจารณาระบบไม่เป็นเชิงเส้น\n",
    "\n",
    "$$\n",
    "\\dot{v}_1 = f_1(v_1,v_2) = yv_2 - zv_1(v_1^2+yv_2^2) \n",
    "$$\n",
    "$$\n",
    "\\dot{v}_2 = f_2(v_1,v_2) = -zv_1 - yv_2(zv_1^2+v_2^2)\n",
    "$$\n",
    "\n",
    "จุดกำเนิด $v_1 = 0, v_2 = 0$ คือจุดสมดุลของระบบนี้\n",
    "\n",
    "**P4.1** ตัดสินเสถียรภาพของระบบโดยวิธีทำให้เป็นเชิงเส้น (linearlization) (5 คะแนน)\n",
    "\n",
    "### Solution"
   ]
  },
  {
   "cell_type": "code",
   "execution_count": null,
   "metadata": {},
   "outputs": [],
   "source": []
  },
  {
   "cell_type": "code",
   "execution_count": null,
   "metadata": {},
   "outputs": [],
   "source": []
  },
  {
   "cell_type": "markdown",
   "metadata": {},
   "source": [
    "**P4.2** ตัดสินเสถียรภาพโดยวิธีของเลียพูนอฟ (Lyapunov direct method) (5 คะแนน)\n",
    "\n",
    "**Hint :** พิจารณาฟังก์ชัน  $L(v) = zv_1^2 + yv_2^2,$ \n",
    "\n",
    "### Solution"
   ]
  },
  {
   "cell_type": "code",
   "execution_count": null,
   "metadata": {},
   "outputs": [],
   "source": []
  },
  {
   "cell_type": "code",
   "execution_count": null,
   "metadata": {},
   "outputs": [],
   "source": []
  },
  {
   "cell_type": "markdown",
   "metadata": {},
   "source": [
    "**P4.3** ใช้ค่า $x,y,z$ จากรหัสนิสิต ตัดสินว่าฟังก์ชัน \n",
    "\n",
    "$$\n",
    "f(v) = xv_1^2 + (y+2z)v_1v_2 +(2y-z)v_1v_3 + xv_2v_3 +yv_2^2 +zv_3^2\n",
    "$$\n",
    "\n",
    "เป็นบวกแน่นอน (positive definite) หรือไม่? (5 คะแนน)\n",
    "\n",
    "### Solution\n"
   ]
  },
  {
   "cell_type": "code",
   "execution_count": null,
   "metadata": {},
   "outputs": [],
   "source": []
  },
  {
   "cell_type": "code",
   "execution_count": null,
   "metadata": {},
   "outputs": [],
   "source": []
  },
  {
   "cell_type": "markdown",
   "metadata": {},
   "source": [
    "***\n",
    "<a id=\"p5\"></a>\n",
    "\n",
    "### P5 (15 คะแนน)\n",
    "\n",
    "**P5.1 (5 คะแนน)** อธิบายความแตกต่างของการควบคุมโดยภาพ 2 ประเภทที่แสดงในรูปที่ 4 \n",
    "\n",
    "![\"fig 4\"](https://drive.google.com/uc?id=1vD4QQSqrXWDgo9e84UxsYNOG-4PcwIIZ)\n",
    "\n",
    "รูปที่ 4  แผนภาพบล็อกการควบคุมโดยภาพ\n",
    "\n",
    "### Solution"
   ]
  },
  {
   "cell_type": "code",
   "execution_count": null,
   "metadata": {},
   "outputs": [],
   "source": []
  },
  {
   "cell_type": "code",
   "execution_count": null,
   "metadata": {},
   "outputs": [],
   "source": []
  },
  {
   "cell_type": "markdown",
   "metadata": {},
   "source": [
    "**P5.2 (10 คะแนน)** ความสัมพันธ์ระหว่างความเร็วจุดลักษณะเด่นบนระนาบภาพกับความเร็วของกล้องบรรยายได้โดย\n",
    "\n",
    "$$\n",
    "\\dot{x} = J_p(s,q)\\xi\n",
    "$$\n",
    "\n",
    "โดย $J_p$ เรียกว่าเมทริกซ์จาโคเบียนภาพ (image Jacobian matrix) พิจารณากรณีเวกเตอร์ลักษณะเด่นประกอบด้วยพิกัดจุดในภาพ $n$ จุด โดยจุดลักษณะเด่นที่ ith มีความลึก $z_i$ และนิยามเวกเตอร์ลักษณะเด่น $s$ และเวกเตอร์ค่าความลึก $z$ เป็น\n",
    "\n",
    "$$\n",
    "s = \\begin{bmatrix}\n",
    "u_1 \\\\\n",
    "v_1 \\\\\n",
    "\\vdots \\\\\n",
    "u_n \\\\\n",
    "v_n \n",
    "\\end{bmatrix}, \\;\\;\\;\n",
    "z = \\begin{bmatrix}\n",
    "z_1 \\\\\n",
    "\\vdots \\\\\n",
    "z_n\n",
    "\\end{bmatrix}\n",
    "$$\n",
    "\n",
    "เมทริกซ์จาโคเบียนภาพสามารถเขียนบรรยายได้ดังนี้\n",
    "\n",
    "$$\n",
    "J_p(s,z) = \\begin{bmatrix}\n",
    "-\\frac{\\lambda}{z_1} & 0 & \\frac{u_1}{z_1} & \\frac{u_1v_1}{\\lambda} & -\\frac{\\lambda^2+u_1^2}{\\lambda} & v_1 \\\\\n",
    "0 & -\\frac{\\lambda}{z_1} & \\frac{v_1}{z_1} & -\\frac{\\lambda^2+v_1^2}{\\lambda} & -\\frac{u_1v_1}{\\lambda} & -u_1 \\\\\n",
    "\\vdots & \\vdots & \\vdots & \\vdots & \\vdots & \\vdots \\\\\n",
    "-\\frac{\\lambda}{z_n} & 0 & \\frac{u_n}{z_n} & \\frac{u_nv_n}{\\lambda} & -\\frac{\\lambda^2+u_n^2}{\\lambda} & v_n \\\\\n",
    "0 & -\\frac{\\lambda}{z_n} & \\frac{v_n}{z_n} & -\\frac{\\lambda^2+v_n^2}{\\lambda} & -\\frac{u_nv_n}{\\lambda} & -u_n \n",
    "\\end{bmatrix} \n",
    "$$\n",
    "\n",
    "สร้างฟังก์ชัน visjac() โดยภาษาไพธอนหรือจูเลียเพื่อคำนวณ $J_p(s,z)$ สำหรับจุดลักษณะเด่น 3 จุดคือ $(10x,2y),\\;(5x,40y),\\;\\;(75x,15y)$ โดยมีค่าความลึกแต่ละจุดเท่ากันคือ $z$ กำหนด $\\lambda = 3$ \n",
    "\n",
    "\n",
    "### Solution"
   ]
  },
  {
   "cell_type": "code",
   "execution_count": null,
   "metadata": {},
   "outputs": [],
   "source": []
  },
  {
   "cell_type": "code",
   "execution_count": null,
   "metadata": {},
   "outputs": [],
   "source": []
  },
  {
   "cell_type": "markdown",
   "metadata": {},
   "source": [
    "***\n",
    "<a id=\"p6\"></a>\n",
    "### P6 (15 คะแนน)\n",
    "\n",
    "**P6.1 (5 คะแนน)** อธิบายข้อได้เปรียบของการใช้โครงข่ายประสาทเทียมเชิงสังวัตนาการ (Convolutional Neural Network : CNN) ที่เหนือกว่าเพอร์เซปตรอนหลายชั้น (Multi Layer Perceptron : MLP) ในงานจำแนกภาพ\n",
    "\n",
    "### คำตอบ"
   ]
  },
  {
   "cell_type": "code",
   "execution_count": null,
   "metadata": {},
   "outputs": [],
   "source": []
  },
  {
   "cell_type": "code",
   "execution_count": null,
   "metadata": {},
   "outputs": [],
   "source": []
  },
  {
   "cell_type": "markdown",
   "metadata": {},
   "source": [
    "**P6.2 (5 คะแนน)** ให้เหตุผล 2 ข้อว่าทำไมต้องมีฟังก์ชันกระตุ้นแบบไม่เป็นเชิงเส้น (nonlinear activation function) ที่เอาต์พุตแต่ละชั้นของโครงข่ายประสาทเทียมเชิงลึก\n",
    "\n",
    "### คำตอบ"
   ]
  },
  {
   "cell_type": "code",
   "execution_count": null,
   "metadata": {},
   "outputs": [],
   "source": []
  },
  {
   "cell_type": "code",
   "execution_count": null,
   "metadata": {},
   "outputs": [],
   "source": []
  },
  {
   "cell_type": "markdown",
   "metadata": {},
   "source": [
    "**P6.3 (5 คะแนน)** หลักการหนึ่งในการเรียนรู้แบบเสริมกำลัง หุ่นยนต์จะเคลื่อนที่ตามเส้นทางที่ให้ผลตอบแทน (reward) สูงสุด โดยจะมีตัวประกอบการลดราคา (discount factor) $\\gamma \\in [0,1]$ ที่เป็นตัวให้ค่าน้ำหนักกับผลตอบแทนตามเวลา อธิบายเหตุผลว่าทำไมในการใช้งานจริงมักกำหนดให้ค่า $\\gamma \\lt 1$ (อาจเป็นเหตุผลทางคณิตศาสตร์หรือเปรียบเทียบกับรางวัลในชีวิตมนุษย์)\n",
    "\n",
    "### คำตอบ"
   ]
  },
  {
   "cell_type": "code",
   "execution_count": null,
   "metadata": {},
   "outputs": [],
   "source": []
  },
  {
   "cell_type": "code",
   "execution_count": null,
   "metadata": {},
   "outputs": [],
   "source": []
  },
  {
   "cell_type": "markdown",
   "metadata": {},
   "source": [
    "***\n",
    "<div align=\"right\">Last update : 23 ตุลาคม 2564</div>"
   ]
  }
 ],
 "metadata": {
  "kernelspec": {
   "display_name": "Python 3.7 (controlenv)",
   "language": "python",
   "name": "controlennv"
  },
  "language_info": {
   "codemirror_mode": {
    "name": "ipython",
    "version": 3
   },
   "file_extension": ".py",
   "mimetype": "text/x-python",
   "name": "python",
   "nbconvert_exporter": "python",
   "pygments_lexer": "ipython3",
   "version": "3.7.9"
  }
 },
 "nbformat": 4,
 "nbformat_minor": 4
}
