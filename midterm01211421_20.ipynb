{
 "cells": [
  {
   "cell_type": "markdown",
   "metadata": {},
   "source": [
    "<a href=\"https://colab.research.google.com/github/dewdotninja/exams/blob/master/midterm01211421_20.ipynb\" target=\"_parent\"><img src=\"https://colab.research.google.com/assets/colab-badge.svg\" alt=\"Open In Colab\"/></a>"
   ]
  },
  {
   "cell_type": "markdown",
   "metadata": {},
   "source": [
    "<p align=\"left\">\n",
    "<img src=\"https://raw.githubusercontent.com/dewdotninja/exams/main/feng_heading.png\" width=400 alt=\"Feng heading\"/>\n",
    "</p>\n",
    "\n",
    "#### ข้อสอบกลางภาค ประจำภาคปลาย ปีการศึกษา 2563\n",
    "<br>สาขาวิศวกรรมไฟฟ้าเครื่องกลการผลิต\n",
    "<br>วิชา 01211421 Embedded systems for industrial control หมู่เรียน 1, 250\n",
    "<br>วันอาทิตย์ที่ 24 มกราคม 2564 16.00 - 19.00 ทางออนไลน์\n",
    "\n",
    "ให้นิสิตพิมพ์ ชื่อ นามสกุล รหัสนิสิต หมู่เรียน ในเซลด้านล่างนี้ "
   ]
  },
  {
   "cell_type": "code",
   "execution_count": null,
   "metadata": {},
   "outputs": [],
   "source": []
  },
  {
   "cell_type": "markdown",
   "metadata": {},
   "source": [
    "### คำสั่ง\n",
    "\n",
    "1. ข้อสอบมี  ข้อ ให้ทำในไฟล์ notebook นี้ทั้งหมด โดยสามารถเพิ่มเซลได้ตามต้องการ \n",
    "2. เป็นแบบเปิดตำรา ใช้หนังสือหรือข้อมูลออนไลน์ได้ไม่จำกัด\n",
    "3. อธิบายและแสดงการคำนวณให้ชัดเจน สำหรับโจทย์ที่ต้องเขียนโปรแกรมแก้ปัญหา โปรแกรมต้องประมวลผลได้โดยไม่มีข้อผิดพลาดและให้คำตอบถูกต้องจึงได้คะแนนเต็ม\n",
    "4. ห้ามแก้ไขโจทย์โดยเด็ดขาด ผู้ที่แก้โจทย์จะได้คะแนนข้อนั้นเป็นศูนย์\n",
    "5. พารามิเตอร์ในโจทย์บางข้อขึ้นกับตัวเลข 3 หลักสุดท้ายของรหัสนิสิตของผู้ทำข้อสอบ ซึ่งจะต้องแทนค่าอย่างถูกต้องเท่านั้น (ดูคำอธิบายเพิ่มเติมด้านล่าง) \n",
    "6. สำหรับข้อที่โจทย์ให้เขียนโปรแกรม ถ้าจะใช้ซอฟต์แวร์อื่น อนุญาตเฉพาะ Scilab หรือ MATLAB เท่านั้น และจะต้องนำโค้ดที่สมบูรณ์มาใส่ในเซลเพื่อผู้ตรวจ\n",
    "สามารถตรวจสอบได้โดยง่าย <b>พร้อม capture ภาพที่แสดงคำตอบหรือกราฟมาวางโดยใช้ img tag โดยภาพอยู่ในลิงก์ URL สาธารณะ </b> ทั้งนี้เนื่องจาก\n",
    "เป็นกรรมวิธีที่ยุ่งยากและเสียเวลาขอแนะนำให้เขียนโค้ดทั้งหมดโดยใช้ภาษา Python บน Jupyter notebook\n"
   ]
  },
  {
   "cell_type": "markdown",
   "metadata": {},
   "source": [
    "<div align=\"center\">\n",
    "<b>รศ.ดร.พีรยุทธ์ ชาญเศรษฐิกุล</b>\t\t\tประธานกรรมการอำนวยการสอบ\n",
    "<br><b>ผศ.ดร.ประพจน์ ขุนทอง</b>\t\t\t\tกรรมการออกข้อสอบ\n",
    "<br><b>ดร.วโรดม ตู้จินดา</b>\t\t\t\t\tกรรมการออกข้อสอบ\n",
    "</div>\n"
   ]
  },
  {
   "cell_type": "markdown",
   "metadata": {},
   "source": [
    "***\n",
    "### สำหรับอาจารย์ผู้สอน\n",
    "\n",
    "| โจทย์ข้อสอบ | คะแนน |\n",
    "| --- | --- |\n",
    "| [1 (15 คะแนน)](#p1) |  |\n",
    "| [2 (15 คะแนน)](#p2) |  |\n",
    "| [3 (20 คะแนน)](#p3) |  |\n",
    "| [4 (20 คะแนน)](#p4) |  |\n",
    "| [5 (15 คะแนน)](#p5) |  |\n",
    "| [6 (15 คะแนน)](#p6) |  |"
   ]
  },
  {
   "cell_type": "markdown",
   "metadata": {},
   "source": [
    "### อธิบายเพิ่มเติมเกี่ยวกับค่าในโจทย์ข้อสอบ ที่ขึ้นกับตัวเลข 3 ตัวสุดท้ายของรหัสนิสิต คือ\n",
    "\n",
    "-------xyz  (ไม่สนใจเลขหลักอื่น )\n",
    "\n",
    "ถ้าตัวเลขตัวใดใน 3 หลักสุดท้ายเป็น 0 ให้แทนด้วยเลข 1 \n",
    "\n",
    "ตัวอย่างรหัสนิสิต\n",
    "\n",
    "นิสิต A : 6010552893  ได้ค่า x = 8, y = 9, z = 3\n",
    "\n",
    "นิสิต B : 6010502977  ได้ค่า x = 9, y = 7, z = 7\n",
    "\n",
    "นิสิต C : 6010503001 ได้ค่า x = 1, y = 1, z = 1\n",
    "\n",
    "ใช้ค่านี้กับโจทย์ทุกข้อในข้อสอบ\n",
    "\n",
    "เครื่องหมายที่ใช้ดำเนินการกับค่าตัวแปร\n",
    "\n",
    " $+$ บวก\n",
    "\n",
    " $-$  ลบ\n",
    "\n",
    " $*$  คูณ \n",
    "\n",
    " $/$ หาร\n",
    "\n",
    "$^$ ยกกำลัง\n",
    "\n",
    "รวมถึงฟังก์ชันทางคณิตศาสตร์ เช่น $\\exp(x)$, $\\sin(z*t)$\n",
    "\n",
    "หากตัวแปรฝังอยู่ในหลักหนึ่งของตัวเลข ให้แทนหลักนั้นด้วยค่าตัวแปรเลย เช่น x=8 y = 3, 12x7 = 1287, 4.3y5 = 4.335\n",
    "\n",
    "โจทย์อาจจำหนดเงื่อนไขขึ้นกับ x, y, z เช่น ถ้า x<5 ทำเงื่อนไข A นอกนั้นทำเงื่อนไข B \n",
    "\n",
    "ตัวอย่างโจทย์บอกว่า กำหนดให้ $R1 = 1000*x \\,\\Omega, C1 = 10*y \\,\\mu F$\n",
    "\n",
    "นิสิต A ทำโจทย์ด้วยค่า R1 = 8000 $\\Omega$, C1 = 90 $\\mu$F\n",
    "\n",
    "นิสิต B ทำโจทย์ด้วยค่า R1 = 9000 $\\Omega$, C1 = 70 $\\mu$F\n",
    "\n",
    "นิสิต C ทำโจทย์ด้วยค่า R1 = 1000 $\\Omega$, C1 = 10 $\\mu$F\n",
    "\n",
    "ถ้ามีตรงส่วนใดที่ไม่ชัดเจนในข้อสอบ ให้เขียนอธิบายว่าเข้าใจโจทย์อย่างไร หากผู้ตรวจเห็นว่าโจทย์เป็นเหตุทำให้เข้าใจผิดได้ จะให้คะแนนในส่วนนั้น"
   ]
  },
  {
   "cell_type": "code",
   "execution_count": null,
   "metadata": {},
   "outputs": [],
   "source": [
    "#หากใช้ Colab ทำข้อสอบ ต้องติดตั้งไลบรารีเพิ่ม\n",
    "!pip install slycot\n",
    "!pip install control"
   ]
  },
  {
   "cell_type": "code",
   "execution_count": null,
   "metadata": {},
   "outputs": [],
   "source": [
    "# นำเข้าไลบรารีที่ต้องการใช้ (สามารถนำเข้าในเซลอื่นๆได้ตามต้องการ)\n",
    "import numpy as np\n",
    "import matplotlib.pyplot as plt\n",
    "import control as ctl"
   ]
  },
  {
   "cell_type": "markdown",
   "metadata": {},
   "source": [
    "***\n",
    "<a id=\"p1\"></a>\n",
    "P1. <b>(15 คะแนน)</b> รูปที่ 1 แสดงการต่อบัสร่วมระหว่าง MCU A ใช้ไฟเลี้ยง 5 โวลต์ และ MCU B ใช้ไฟเลี้ยง 3.3 โวลต์ โดยมี $R_L$ เป็นโหลดและ $R_A$, $R_B$ คือ\n",
    "ตัวต้านทาน pull-up ภายใน โดยข้อกำหนดทางไฟฟ้า อินพุตของ MCU B ไม่สามารถทนแรงดันที่สูงกว่าไฟเลี้ยง + 0.2  คือ 3.5 โวลต์ได้\n",
    "<p align=\"center\">\n",
    "<img src=\"https://drive.google.com/uc?id=1NZlcpxCjzBfSo3gksXRDrsyp51PL3Ffl\" width=500 alt=\"Figure 1\"/>\n",
    "</p>\n",
    "<div align=\"center\"><b>รูปที่ 1 บัสร่วมระหว่าง MCU ที่ใช้ไฟเลี้ยงต่างกัน</b></div>\n",
    "\n",
    "กำหนดให้ $R_A = R_B = 10*y \\,K\\Omega$ และ $R_L = 500*z \\,K\\Omega$ ให้วิเคราะห์วงจรดังนี้\n",
    "1. ในกรณีที่ไม่ต่อ $R_X$ แรงดัน $V_L$ บนบัสมีค่าเท่าไร? <b>(5 คะแนน)</b>\n",
    "2. หากพบว่าแรงดันในข้อ 1. มากกว่า 3.5 โวลต์ จะต้องใช้ตัวต้านทาน pull-up ภายนอกคือ $R_X$ ขั้นแรกเลือก $V_{CC}$ ระหว่าง 2 ตัวเลือกคือ 3.3 \n",
    "โวลต์ หรือ 5 โวลต์ <b>(5 คะแนน)</b>\n",
    "3. จาก $V_{CC}$ ที่เลือกในข้อ 2 ให้พล็อตกราฟแสดงความสัมพันธ์ของค่า $R_X$ กับค่า $V_L$ และจากกราฟพิจารณาค่าของ $R_X$ ที่ทำให้ได้ $V_X$\n",
    "น้อยกว่า 3.5 โวลต์ <b>(5 คะแนน)</b>\n",
    "\n",
    "#### คำตอบ"
   ]
  },
  {
   "cell_type": "code",
   "execution_count": null,
   "metadata": {},
   "outputs": [],
   "source": []
  },
  {
   "cell_type": "code",
   "execution_count": null,
   "metadata": {},
   "outputs": [],
   "source": []
  },
  {
   "cell_type": "code",
   "execution_count": null,
   "metadata": {},
   "outputs": [],
   "source": []
  },
  {
   "cell_type": "markdown",
   "metadata": {},
   "source": [
    "***\n",
    "<a id=\"p2\"></a>\n",
    "P2. <b>(15 คะแนน)</b> ใช้วิธีการเส้นโหลดหรือวิธีเชิงเลขก็ได้ เพื่อหากระแสที่ไหลผ่านลูปและแรงดันตกคร่อมตัวต้านทาน $V_R$\n",
    "<p align=\"center\">\n",
    "<img src=\"https://drive.google.com/uc?id=1sTkEtsFQZed2GOiFPK2wgw1q8qfzjXIh\" width=250 alt=\"Figure 2\"/>\n",
    "</p>\n",
    "<div align=\"center\"><b>รูปที่ 2 วงจรไดโอดกับตัวต้านทาน</b></div>\n",
    "\n",
    "กำหนดค่าต่างๆ ดังนี้ $V_B = (5 + z)$ volts, $R_L = (10*y) \\,\\,\\Omega$.\n",
    "\n",
    "<br>ความสัมพันธ์ของกระแสและแรงดันที่ตัวไดโอด\n",
    "\n",
    "$$i_D = I_{SAT}\\Bigg(exp\\Bigg(\\frac{v_D}{kT/q}\\Bigg)-1\\Bigg)$$\n",
    "\n",
    "ที่อุณหภูมิห้อง $I_{SAT} = 10^{-12} A, \\frac{kT}{q} = 0.0259\\; V$\n",
    "\n",
    "#### คำตอบ"
   ]
  },
  {
   "cell_type": "code",
   "execution_count": null,
   "metadata": {},
   "outputs": [],
   "source": []
  },
  {
   "cell_type": "code",
   "execution_count": null,
   "metadata": {},
   "outputs": [],
   "source": []
  },
  {
   "cell_type": "code",
   "execution_count": null,
   "metadata": {},
   "outputs": [],
   "source": []
  },
  {
   "cell_type": "markdown",
   "metadata": {},
   "source": [
    "***\n",
    "<a id=\"p3\"></a>\n",
    "P3. <b>(20 คะแนน)</b> เราสามารถใช้วงจร wheatstone bridge เพื่อแปลงแรงกดบน stain guage เป็นแรงดันไฟฟ้าได้ แต่แรงดันที่ได้จะมีขนาดเล็กไม่เหมาะสมกับการนำไปเข้าขา A/D\n",
    "ของ MCU ทั่วไป รูปที่ 3 แสดงการต่อ wheatstone bridge ร่วมกับวงจร level shifter เพื่อปรับแรงดันจากเซนเซอร์ให้แกว่งอยู่ในช่วง 0 - 3.3 โวลต์\n",
    "<p align=\"center\">\n",
    "<img src=\"https://drive.google.com/uc?id=13ZdIA3wXjD_CToeBNkrKHDZg9P6t7n20\" width=750 alt=\"Figure 3\"/>\n",
    "</p>\n",
    "<div align=\"center\"><b>รูปที่ 3 การใช้งาน wheatstone bridge ร่วมกับวงจร level shifter</b></div>\n",
    "<ol>\n",
    "<li /> กำหนด $V_S = y$ โวลต์ $R_W = (100*x) \\,\\,\\Omega$ และ $R_X$ แปรผันในช่วง $R_W \\pm (10*z)\\, \\%$ จงออกแบบวงจร level shifter ที่แปลงแรงกัน $V_{ab}$ เป็นแรงดัน\n",
    "ที่แกว่งอยู่ในช่วง 0 - 3.3 โวลต์ (หากตัวต้านทานตัวใดไม่ต้องใช้ สามารตัดทิ้งไปได้) <b>(10 คะแนน)</b>\n",
    "<li /> พล็อตกราฟเพื่อแสดงว่าวงจร level shifter ที่ออกแบบทำงานได้ตามวัตถุประสงค์ โดยป้อนอินพุตเป็น sine wave \n",
    "ที่แทนการเปลี่ยนแปลงค่าความต้านทานของ $R_X$ ในช่วง $R_W \\pm (10*z)\\, \\%$ จะต้องได้เอาต์พุตของออปแอมป์แกว่งในช่วง 0 - 3.3 โวลต์ <b>(10 คะแนน)</b>\n",
    "</ol>\n",
    "\n",
    "#### คำตอบ"
   ]
  },
  {
   "cell_type": "code",
   "execution_count": null,
   "metadata": {},
   "outputs": [],
   "source": []
  },
  {
   "cell_type": "code",
   "execution_count": null,
   "metadata": {},
   "outputs": [],
   "source": []
  },
  {
   "cell_type": "code",
   "execution_count": null,
   "metadata": {},
   "outputs": [],
   "source": []
  },
  {
   "cell_type": "markdown",
   "metadata": {},
   "source": [
    "***\n",
    "<a id=\"p4\"></a>\n",
    "P.4 <b>(20 คะแนน)</b>ออกแบบ passive Low-Pass Filter (LPF) โดยใช้วงจร RC ในรูปที่ 4\n",
    "<p align=\"center\">\n",
    "<img src=\"https://drive.google.com/uc?id=1mW_6IREpdA-AWzwoKimafdWf-RYNm9Iq\" alt=\"Figure 4\"/>\n",
    "</p>\n",
    "<div align=\"center\"><b>รูปที่ 4 วงจร RC-LPF</b></div>\n",
    "\n",
    "<ol>\n",
    "<li />เลือกค่า R และ C เพื่อให้ได้ความถี่คัทออฟเท่ากับ $z$ Hz <b>(5 คะแนน)</b>\n",
    "<li />พล็อตแผนภาพโบเดเพื่อแสดงว่าความถี่คัทออฟได้ตามที่โจทย์กำหนด <b>(5 คะแนน)</b>\n",
    "<li />จำลองการทำงานของ LPFโดยกำหนดความถี่ของสัญญาณหลักรูปคลื่นไซน์ (ที่ LPF ยอมให้ผ่าน) เท่ากับ $0.1*z$ Hz และความถี่สัญญาณรบกวนรูปคลื่นไซน์\n",
    "เท่ากับ $10*z$ Hz พล็อตรูปสัญญาณอินพุตและเอาต์พุตของ LPF เปรียบเทียบกันจะเห็นการลดทอนสัญญาณรบกวนโดย LPF (ดูตัวอย่างรูปได้จาก Figure X.2 ด้านล่าง \n",
    "ของโมดูล <a href=\"https://github.com/dewdotninja/control_python/blob/main/ceb_m1.ipynb\">ceb_m1.ipynb</a>) <b>(10 คะแนน)</b>\n",
    "</ol>\n",
    "\n",
    "#### คำตอบ\n"
   ]
  },
  {
   "cell_type": "code",
   "execution_count": null,
   "metadata": {},
   "outputs": [],
   "source": []
  },
  {
   "cell_type": "code",
   "execution_count": null,
   "metadata": {},
   "outputs": [],
   "source": []
  },
  {
   "cell_type": "code",
   "execution_count": null,
   "metadata": {},
   "outputs": [],
   "source": []
  },
  {
   "cell_type": "code",
   "execution_count": null,
   "metadata": {},
   "outputs": [],
   "source": []
  },
  {
   "cell_type": "markdown",
   "metadata": {},
   "source": [
    "***\n",
    "<a id=\"p5\"></a>\n",
    "P5. <b>(15 คะแนน)</b> จำลองผลตอบสนองขึ้นบันใด (step response) ของระบบป้อนกลับ PID ในรูปที่ 5\n",
    "<p align=\"center\">\n",
    "<img src=\"https://drive.google.com/uc?id=1RuV0fXW4lkJQiRx5PxPX1P7t7U8gZMz5\" width=600 alt=\"Figure 5\"/>\n",
    "</p>\n",
    "<div align=\"center\"><b>รูปที่ 5 ระบบป้อนกลับ PID</b></div>\n",
    "\n",
    "โดยกำหนด \n",
    "$$\n",
    "P(s) = \\frac{y}{(s+x)^3}\n",
    "$$\n",
    "\n",
    "ใช้สมการ PID \n",
    "$$\n",
    "C(s) = K_p + \\frac{K_i}{s} + K_ds\n",
    "$$\n",
    "\n",
    "<ol>\n",
    "<li />ปรับค่าพารามิเตอร์ PID ให้ระบบเสถียรและพล็อตผลตอบสนองขั้นบันไดที่ดีสุดเท่าที่ทำได้ ในคำตอบต้องแสดงค่า $K_p, K_i, K_d$ ที่ใช้ <b>(10 คะแนน)</b>\n",
    "<li />จากพล็อตของผลตอบสนองขั้นบันใด ให้หาค่าต่อไปนี้ <b>(5 คะแนน)</b>\n",
    "<ul>\n",
    "<li />ช่วงเวลาขาขึ้น (rise time) $t_r$\n",
    "<li />เปอร์เซนต์การพุ่งเกิน (% overshoot) $M_p$\n",
    "<li />ช่วงเวลาการเข้าสู่สถานะนิ่ง (settling time) $t_s$ \n",
    "</ul>\n",
    "<b>hint: </b>ดู Figure 2 ของ <a href=\"https://github.com/dewdotninja/control_python/blob/main/ceb_m2.ipynb\">module 2</a> สำหรับนิยามค่าเหล่านี้ \n",
    "</ol>\n",
    "\n",
    "สำหรับ PID simulation code สามารถใช้โค้ดจาก example 1 ของ \n",
    "<a href=\"https://github.com/dewdotninja/control_python/blob/main/ceb_m4.ipynb\">module 4</a> โดยเปลี่ยน $P(s)$ ให้ตรงกับที่โจทย์กำหนด\n",
    "\n",
    "#### คำตอบ"
   ]
  },
  {
   "cell_type": "code",
   "execution_count": null,
   "metadata": {},
   "outputs": [],
   "source": []
  },
  {
   "cell_type": "code",
   "execution_count": null,
   "metadata": {},
   "outputs": [],
   "source": []
  },
  {
   "cell_type": "code",
   "execution_count": null,
   "metadata": {},
   "outputs": [],
   "source": []
  },
  {
   "cell_type": "code",
   "execution_count": null,
   "metadata": {},
   "outputs": [],
   "source": []
  },
  {
   "cell_type": "code",
   "execution_count": null,
   "metadata": {},
   "outputs": [],
   "source": []
  },
  {
   "cell_type": "markdown",
   "metadata": {},
   "source": [
    "***\n",
    "<a id=\"p6\"></a>\n",
    "P6. <b>(15 คะแนน)</b> ต่อเนื่องจากโจทย์ข้อ P5 ในกรณีที่ต้องการปรับแต่งตัวควบคุม PID โดยวิธีการทางความถี่ของ Zieler Nichols แต่ไม่ต้องการให้ระบบเสียเสภียรภาพ สามารถใช้\n",
    "วิธีการที่เรียกว่า automatic tuning โดยใช้รีเลย์ต่อแทนตัวควบคุมในระบบป้อนกลับดังในรูปที่ 6 ซึ่งสามารถศึกษาได้จาก \n",
    "<a href=\"https://github.com/dewdotninja/control_python/blob/main/autotuning.ipynb\">automatic tuning notebook </a> นี้\n",
    "<p align=\"center\">\n",
    "<img src=\"https://drive.google.com/uc?id=1kjQYk9mjzkWV7YNa5MyysGT8AzVCp21o\" width=600 alt=\"Figure 6\"/>\n",
    "</p>\n",
    "<div align=\"center\"><b>รูปที่ 6 การทำให้ระบบออสซิลเลทโดยต่อรีเลย์ในระบบป้อนกลับ</b></div>\n",
    "\n",
    "<p />ใน notebook ที่อ้างอิงนี้ยังได้ให้โค้ดที่สามารถคัดลอกมาแล้วทำมาแก้ไขให้ข้อมูล $P(s)$ ตรงกับโจทย์ของเรา \n",
    "<ol>\n",
    "<li />ใช้โค้ดจาก <a href=\"https://github.com/dewdotninja/control_python/blob/main/autotuning.ipynb\">automatic tuning notebook </a>\n",
    "ตามลิงก์ที่ให้ นำมาแปะในเซลด้านล่าง แก้ไขโค้ดส่วน $P(s)$ ให้ตรงกับโจทย์ของเรา แล้วรันเซลเพื่อจำลอง\n",
    "การออสซิลเลทของระบบป้อนกลับรีเลย์ <b>(5 คะแนน)</b>\n",
    "<li />จากเอาต์พุตที่ได้ คำนวณหาค่า $K_u$ และวัดค่าคาบเวลาการออสซิลเลท $T_u$ <b>(5 คะแนน)</b>\n",
    "<li />นำค่าที่ได้ไปปรับแต่งค่าพารามิเตอร์ PID โดยวิธีการ Ziegler Nicholes (ดูจากตาราง 2 ของ \n",
    "<a href=\"https://github.com/dewdotninja/control_python/blob/main/ceb_m4.ipynb\">module 4</a>) <b>(3 ขั้นตอนหลังรวมกัน 5 คะแนน)</b>\n",
    "<li />คัดลอกโค้ดจากข้อ P5 มาจำลองผลตอบสนองขั้นบันไดจากพารามิเตอร์ PID ที่ผ่านการปรับแต่ง\n",
    "<li />วิจารณ์ผลตอบสนองเปรียบเทียบกับผลในข้อ P.5 (ค่า $t_r, M_p, t_s$ ตัวใดดีกว่าเดิมหรือแย่กว่าเดิม ให้เหตุผล)\n",
    "</ol>\n",
    "\n",
    "#### คำตอบ"
   ]
  },
  {
   "cell_type": "code",
   "execution_count": null,
   "metadata": {},
   "outputs": [],
   "source": []
  },
  {
   "cell_type": "code",
   "execution_count": null,
   "metadata": {},
   "outputs": [],
   "source": []
  },
  {
   "cell_type": "code",
   "execution_count": null,
   "metadata": {},
   "outputs": [],
   "source": []
  },
  {
   "cell_type": "code",
   "execution_count": null,
   "metadata": {},
   "outputs": [],
   "source": []
  },
  {
   "cell_type": "markdown",
   "metadata": {},
   "source": [
    "***\n",
    "<div align=\"right\">Last update : 24 มกราคม 2564</div>"
   ]
  }
 ],
 "metadata": {
  "kernelspec": {
   "display_name": "Python 3.7 (controlenv)",
   "language": "python",
   "name": "controlennv"
  },
  "language_info": {
   "codemirror_mode": {
    "name": "ipython",
    "version": 3
   },
   "file_extension": ".py",
   "mimetype": "text/x-python",
   "name": "python",
   "nbconvert_exporter": "python",
   "pygments_lexer": "ipython3",
   "version": "3.7.9"
  }
 },
 "nbformat": 4,
 "nbformat_minor": 4
}
