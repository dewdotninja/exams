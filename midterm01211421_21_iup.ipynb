{
 "cells": [
  {
   "cell_type": "markdown",
   "metadata": {},
   "source": [
    "<a href=\"https://colab.research.google.com/github/dewdotninja/exams/blob/master/midterm01211421_21_iup.ipynb\" target=\"_parent\"><img src=\"https://colab.research.google.com/assets/colab-badge.svg\" alt=\"Open In Colab\"/></a>"
   ]
  },
  {
   "cell_type": "markdown",
   "metadata": {},
   "source": [
    "<p align=\"left\">\n",
    "<img src=\"https://raw.githubusercontent.com/dewdotninja/exams/main/feng_heading_en.png\" width=400 alt=\"Feng heading\"/>\n",
    "</p>\n",
    "\n",
    "#### Midterm Exam, Second Semester, Academic Year 2021\n",
    "<br>01211421 Embedded Systems for Industrial Control\n",
    "<br>Wednesday March 2, 2022 09.00 - 12.00\n",
    "<br>This exam is administered online via Google classroom only.\n",
    "\n",
    "Type student name - surname and ID in the cell below.\n"
   ]
  },
  {
   "cell_type": "code",
   "execution_count": null,
   "metadata": {},
   "outputs": [],
   "source": []
  },
  {
   "cell_type": "markdown",
   "metadata": {},
   "source": [
    "### Instructions\n",
    "\n",
    "1. You can use Colab environment or install Jupyter notebook on your local machine. \n",
    "Type your work solely on this notebook. You can add as many cells as you want. \n",
    "Formatting is not necessary as long as your texts/equations are understandable and \n",
    "answer the question clearly.\n",
    "2. Open books, notes and online resources.\n",
    "3. Explain clearly. Show details of your computation to receive full credits. For any problem \n",
    "that requires programming, your program should execute without error and give the correct \n",
    "result.\n",
    "4. Do not change any problem. \n",
    "5. Some parameters in the problem set may be a function of your student ID. You must make sure \n",
    "to substitute the right value for such parameters.\n",
    "6. In case you are totally hopeless with Python, the only other softwares that are allowed are MATLAB \n",
    "and Scilab. Students must provide complete MATLAB/Scilab scripts and also capture the \n",
    "output/graph images to the notebook by using the image tag with image files in a public URL.\n",
    "If some relevant information is missing, you may receive only partial credit. Since this is a \n",
    "time-consuming process and may be problematic, doing all your work with Python in Jupyter notebook\n",
    "is strongly recommended.\n",
    "7. The difficulty of each problem is indicated by level (1 = basic, 2 = intermediate, 3 = advanced). Normally, you\n",
    "should attempt to start with easy ones.\n",
    "8. <b>Important : </b>Students must submit your notebook promptly, in Google classroom only,\n",
    "when the 3-hour exam period expires. Resubmission is acceptable only within the exam period. \n",
    "<br><em>Anyone who submits/resubmits later than 10 minutes after the exam period, as indicated in the \n",
    "recorded history of Google classroom, may be considered cheating and may fail this exam.</em>\n",
    "\n"
   ]
  },
  {
   "cell_type": "markdown",
   "metadata": {},
   "source": [
    "***\n",
    "<div align=\"left\">\n",
    "<b>Assoc. Prof. Peerayuth Charnsethikul</b>  &emsp;      Head of Examination Committee\n",
    "<br><b>Asst. Prof. Prapot Kunthong</b>  &emsp;     Examination Committee\n",
    "<br><b>Dr. Varodom Toochinda</b>    &emsp;    Examination Committee\n",
    "</div>\n"
   ]
  },
  {
   "cell_type": "markdown",
   "metadata": {},
   "source": [
    "#### Further explantion about exam problem that may depend on the last 3 digits of your student ID\n",
    "\n",
    "-------xyz (other digits are disregarded)\n",
    "\n",
    "In case any digit in the last 3 are 0, it must be replaced by 5.\n",
    "\n",
    "#### Examples\n",
    "    \n",
    "Student A's ID - 6010555853 results in x = 8, y = 5, z = 3\n",
    "\n",
    "Student B 's ID - 6010546104 results in x = 1, y = 5, z = 4\n",
    "\n",
    "Student C 's ID - 6310055032 results in x = 5, y = 3, z = 2\n",
    "    \n",
    "These valuess are used for all the problems in the exam where x,y,and/or z appear. In this \n",
    "sense, the results from each student should be different even computed using the same methods.\n",
    "\n",
    "Operations that may be applied to the variables.\n",
    "\n",
    "$+$ addition\n",
    "\n",
    " $-$  subtraction\n",
    "\n",
    " $*$  multiplication \n",
    "\n",
    " $/$ division\n",
    "\n",
    "$**$ raise to the power (For example, x**z means $x^z$)\n",
    "\n",
    "including math opertions such as $\\exp(x)$, $\\sin(z*t)$\n",
    "\n",
    "If a variable is embedded in some digit of a value without any operation symbol, \n",
    "just replace that digit. \n",
    "<br>For example,  z=8 y = 3 $\\Rightarrow$ 12z7 = 1287, 4.3y5 = 4.335\n",
    "\n",
    "Conditional statement may be used, such as\n",
    "if x<5 do task A, otherwise do task B\n",
    "\n",
    "<em>Example: </em> Let $R1 = 1000*x \\,\\Omega, C1 = 10*y \\,\\mu F$\n",
    "\n",
    "<ul>\n",
    "<li />Student A (x=8, y=5) does this problem with R1 = 8000 $\\Omega$, C1 = 50 $\\mu$F\n",
    "<li />Student B (x=1, y=5) does this problem with R1 = 1000 $\\Omega$, C1 = 50 $\\mu$F\n",
    "<li />Student C (x=5, y=3) does this problem with R1 = 5000 $\\Omega$, C1 = 30 $\\mu$F\n",
    "</ul>\n",
    "\n",
    "If any exam problem is not clear enough, write in a cell how you interpret it. If several \n",
    "students get confused on that problem, the grader may decide to give full credit to all.\n",
    "\n"
   ]
  },
  {
   "cell_type": "code",
   "execution_count": null,
   "metadata": {},
   "outputs": [],
   "source": [
    "# You need to install these libraries in the Colab environment\n",
    "!pip install slycot\n",
    "!pip install control"
   ]
  },
  {
   "cell_type": "code",
   "execution_count": 2,
   "metadata": {},
   "outputs": [],
   "source": [
    "# import libraries you want to use\n",
    "import numpy as np\n",
    "import matplotlib.pyplot as plt\n",
    "import control as ctl"
   ]
  },
  {
   "cell_type": "markdown",
   "metadata": {},
   "source": [
    "***\n",
    "### List of exam problems (100 points)\n",
    "\n",
    "* [P1. (10 points)(level 1)](#p1)\n",
    "* [P2. (10 points)(level 2)](#p2)\n",
    "* [P3. (10 points)(level 1)](#p3)\n",
    "* [P4. (15 points)(level 3)](#p4)\n",
    "* [P5. (20 points)(level 1)](#p5)\n",
    "* [P6. (15 points)(level 1)](#p6)\n",
    "* [P7. (20 points)(level 2)](#p7)"
   ]
  },
  {
   "cell_type": "markdown",
   "metadata": {},
   "source": [
    "***\n",
    "<a id=\"p1\"></a>\n",
    "#### P1. (10 points)(level 1)\n",
    "<br>Choose values of $R_S$ and $R_L$ to reduce the voltage from $V_S = z*10$ volts to $V_L = y$ volts. \n",
    "<p align=\"center\">\n",
    "<img src=\"https://raw.githubusercontent.com/dewdotninja/exams/main/example_prob.png\" width=200 alt=\"Figure 1\"/>\n",
    "</p>\n",
    "<div align=\"center\"><b>Figure 1 voltage divider circuit</b></div>\n"
   ]
  },
  {
   "cell_type": "code",
   "execution_count": null,
   "metadata": {},
   "outputs": [],
   "source": []
  },
  {
   "cell_type": "markdown",
   "metadata": {},
   "source": [
    "<a id=\"p2\"></a>\n",
    "#### P2. (10 points)(level 2)\n",
    "Figure 2 shows two MCUs with different supply voltages share a common input. Let the internal pull-up resistor for\n",
    "MCU A equal $1000*y \\,\\Omega$, and MCU B equal $1000*z \\,\\Omega$\n",
    "<p align=\"center\">\n",
    "<img src=\"https://drive.google.com/uc?id=1LOk7DQItga8zAJYe-9cfVRJlyGLuxmTd\" width=550 alt=\"Figure 2\"/>\n",
    "</p>\n",
    "<div align=\"center\"><b>Figure 2 Two MCUs share a common input</b></div>\n",
    "<ol>\n",
    "<li />First assume no external pull-up resistor $R_X$. With SW1 open, compute the voltage $V_L$. (5 points) \n",
    "<li />Suppose that the maximum input voltage MCU B can tolerate is 3.5 volts. Depending on the values of your $R_A, R_B$, \n",
    "ths voltage $V_L$ may or may not exceed this limit. If it does not, you get 5 points for free for this subproblem. But,\n",
    "if it exeeds 3.5 volts, choose $V_{CC}$ from either +5 or +3.3 volts to be used as pull-up voltage for $R_X$ and then \n",
    "compute $R_X$ to achieve $V_L = 3.5$ volts. (5 points)\n",
    "</ol>"
   ]
  },
  {
   "cell_type": "code",
   "execution_count": null,
   "metadata": {},
   "outputs": [],
   "source": []
  },
  {
   "cell_type": "markdown",
   "metadata": {},
   "source": [
    "<a id=\"p3\"></a>\n",
    "#### P3. (10 points)(level 1)\n",
    "Explain what the C program below does.\n",
    "\n",
    "\n"
   ]
  },
  {
   "cell_type": "code",
   "execution_count": null,
   "metadata": {},
   "outputs": [],
   "source": [
    "#define INTERVAL1 1000\n",
    "#define INTERVAL2 100\n",
    "#define LED1 D5\n",
    "#define LED2 D6\n",
    "\n",
    "int ledState = LOW;\n",
    "unsigned long previousMillis1 = 0, previousMillis2 = 0;\n",
    "\n",
    "void setup() {\n",
    "  pinMode(LED1, OUTPUT);\n",
    "  pinMode(LED2, OUTPUT);\n",
    "}\n",
    "\n",
    "void loop() {\n",
    "  unsigned long currentMillis = millis();\n",
    "  \n",
    "  if(currentMillis - previousMillis1 > INTERVAL1) {\n",
    "    previousMillis1 = currentMillis;  \n",
    "     \n",
    "    if (ledState == LOW)\n",
    "      ledState = HIGH;\n",
    "    else\n",
    "      ledState = LOW;\n",
    "      \n",
    "    digitalWrite(LED1, ledState);\n",
    "  }\n",
    "  if(currentMillis - previousMillis2 > INTERVAL2) {\n",
    "    previousMillis2 = currentMillis;  \n",
    "\n",
    "    digitalWrite(LED2, !digitalRead(LED2);\n",
    "  }  \n",
    "}\n"
   ]
  },
  {
   "cell_type": "code",
   "execution_count": null,
   "metadata": {},
   "outputs": [],
   "source": []
  },
  {
   "cell_type": "markdown",
   "metadata": {},
   "source": [
    "<a id=\"p4\"></a>\n",
    "#### P4. (15 points)(level 3)\n",
    "We can simulate a linear system with electrical circuit. For example, a system with transfer function\n",
    "$$\n",
    "P(s) = \\frac{100*x}{(s+y)(s+z)}\n",
    "$$\n",
    "can be simulated using two-stage op-amps with R,C components as in Figure 4.\n",
    "\n",
    "<p align=\"center\">\n",
    "<img src=\"https://drive.google.com/uc?id=1mmsuzap4jjn7EFDFQI-kiYzrFZoC8xTC\" width=650 \n",
    "alt=\"Figure 4\"/>\n",
    "</p>\n",
    "<div align=\"center\"><b>Figure 4 Two-stage active LPF</b></div>\n",
    "\n",
    "<ol>\n",
    "<li />Choose value of all resistors and capacitors to yield the transfer function $P(s)$ above.\n",
    "(10 point)\n",
    "<li />Plot Bode frequency response of $P(s)$. (5 points)"
   ]
  },
  {
   "cell_type": "code",
   "execution_count": null,
   "metadata": {},
   "outputs": [],
   "source": []
  },
  {
   "cell_type": "code",
   "execution_count": null,
   "metadata": {},
   "outputs": [],
   "source": []
  },
  {
   "cell_type": "markdown",
   "metadata": {},
   "source": [
    "<a id=\"p5\"></a>\n",
    "#### P5. (20 points)(level 1)\n",
    "5a) Why MQTT protocol is preferred for real-time IoT communication, in contrast to, say, http? (3 points)"
   ]
  },
  {
   "cell_type": "code",
   "execution_count": null,
   "metadata": {},
   "outputs": [],
   "source": []
  },
  {
   "cell_type": "markdown",
   "metadata": {},
   "source": [
    "5b) Explain what setup() and loop() functions do in an Arduino program. (3 points)"
   ]
  },
  {
   "cell_type": "code",
   "execution_count": null,
   "metadata": {},
   "outputs": [],
   "source": []
  },
  {
   "cell_type": "markdown",
   "metadata": {},
   "source": [
    "5c) Explain how to use wildcard # to subscribe to a topic. (4 points)"
   ]
  },
  {
   "cell_type": "code",
   "execution_count": null,
   "metadata": {},
   "outputs": [],
   "source": []
  },
  {
   "cell_type": "markdown",
   "metadata": {},
   "source": [
    "5d) List 2 advantages of ESP8266 module over Arduino UNO. (4 points)"
   ]
  },
  {
   "cell_type": "code",
   "execution_count": null,
   "metadata": {},
   "outputs": [],
   "source": []
  },
  {
   "cell_type": "markdown",
   "metadata": {},
   "source": [
    "5e) ESP8266 can output only a PWM signal in place of true analog signal. How can you convert it to a \n",
    "continuous signal (say, a sine wave) for audio application? (4 points)"
   ]
  },
  {
   "cell_type": "code",
   "execution_count": null,
   "metadata": {},
   "outputs": [],
   "source": []
  },
  {
   "cell_type": "markdown",
   "metadata": {},
   "source": [
    "5f) Which product can provide true multitasking capability, ESP8266 or ESP32? Why? (3 points)"
   ]
  },
  {
   "cell_type": "code",
   "execution_count": null,
   "metadata": {},
   "outputs": [],
   "source": []
  },
  {
   "cell_type": "markdown",
   "metadata": {},
   "source": [
    "<a id=\"p6\"></a>\n",
    "#### P6. (15 points)(level 1)\n",
    "\n",
    "<ol>\n",
    "<li />Design a passive LPF with cutoff frequency = $z$ Hz using RC circuit as in Figure 6. (5 points)\n",
    "<li />Plot frequency response (Bode plot) to verify the cutoff frequency. (5 points)\n",
    "<li />Perform time-domain simulation with signal frequency $0.5*z$ Hz plus noise frequency = $5*z$ Hz. The output \n",
    "must be a cleaner signal than the input, with noise attenuated. (5 points)\n",
    "</ol>\n",
    "<p align=\"center\">\n",
    "<img src=\"https://drive.google.com/uc?id=1mW_6IREpdA-AWzwoKimafdWf-RYNm9Iq\" alt=\"Figure 2.1\"/>\n",
    "</p>\n",
    "<div align=\"center\"><b>Figure 6 a passive LPF using RC circuit</b></div>"
   ]
  },
  {
   "cell_type": "code",
   "execution_count": null,
   "metadata": {},
   "outputs": [],
   "source": []
  },
  {
   "cell_type": "code",
   "execution_count": null,
   "metadata": {},
   "outputs": [],
   "source": []
  },
  {
   "cell_type": "markdown",
   "metadata": {},
   "source": [
    "<a id=\"p7\"></a>\n",
    "#### P7. (20 points)(level 2)\n",
    "\n",
    "<p align=\"center\">\n",
    "<img src=\"https://drive.google.com/uc?id=1ri4tU7T_pV8G18XHX-rCkYQwMWdFZUf-\" width=700 alt=\"Figure 7\"/>\n",
    "</p>\n",
    "</p>\n",
    "<div align=\"center\"><b>Figure 7 level shifter circuit</b></div>\n",
    "<ol>\n",
    "<li />Design a level shifter circuit that accepts sensor signal in the range of $\\pm z$ volts and convert to range \n",
    "$0 - 3$ volts at output. (10 points)\n",
    "<li />Verify the design by generating a $\\pm z$ volts sinusoid wave input. The output should swing within \n",
    "$0 - 3$ volts. Plot both input and output waveforms.\n",
    "</ol>"
   ]
  },
  {
   "cell_type": "code",
   "execution_count": null,
   "metadata": {},
   "outputs": [],
   "source": []
  },
  {
   "cell_type": "code",
   "execution_count": null,
   "metadata": {},
   "outputs": [],
   "source": []
  },
  {
   "cell_type": "code",
   "execution_count": null,
   "metadata": {},
   "outputs": [],
   "source": []
  },
  {
   "cell_type": "markdown",
   "metadata": {},
   "source": [
    "<div align=right>Revision A : Feb 26,2021</div>"
   ]
  }
 ],
 "metadata": {
  "kernelspec": {
   "display_name": "Python 3.7 (controlenv)",
   "language": "python",
   "name": "controlenv"
  },
  "language_info": {
   "codemirror_mode": {
    "name": "ipython",
    "version": 3
   },
   "file_extension": ".py",
   "mimetype": "text/x-python",
   "name": "python",
   "nbconvert_exporter": "python",
   "pygments_lexer": "ipython3",
   "version": "3.7.9"
  }
 },
 "nbformat": 4,
 "nbformat_minor": 4
}
