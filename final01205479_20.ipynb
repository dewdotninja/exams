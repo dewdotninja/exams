{
 "cells": [
  {
   "cell_type": "markdown",
   "metadata": {},
   "source": [
    "<a href=\"https://colab.research.google.com/github/dewdotninja/exams/blob/master/final01205479_20.ipynb\" target=\"_parent\"><img src=\"https://colab.research.google.com/assets/colab-badge.svg\" alt=\"Open In Colab\"/></a>"
   ]
  },
  {
   "cell_type": "markdown",
   "metadata": {},
   "source": [
    "<p align=\"left\">\n",
    "<img src=\"https://raw.githubusercontent.com/dewdotninja/exams/main/feng_heading_en.png\" width=400 alt=\"Feng heading\"/>\n",
    "</p>\n",
    "\n",
    "#### Final Exam, Second Semester, Academic Year 2020\n",
    "<br>01205479 Internet of Things for Electrial Engineering\n",
    "<br>Tuesday May 4, 2021 13.00 - 16.00\n",
    "<br>This exam is administered online via Google classroom only.\n",
    "\n",
    "Type student name - surname and ID in the cell below.\n"
   ]
  },
  {
   "cell_type": "code",
   "execution_count": null,
   "metadata": {},
   "outputs": [],
   "source": []
  },
  {
   "cell_type": "markdown",
   "metadata": {},
   "source": [
    "### Instructions\n",
    "\n",
    "1. You can use Colab environment or install Jupyter notebook on your local machine. \n",
    "Type your work solely on this notebook. You can add as many cells as you want. \n",
    "Formatting is not necessary as long as your texts/equations are understandable and \n",
    "answer the question clearly.\n",
    "2. Open books, notes and online resources.\n",
    "3. Explain clearly. Show details of your computation to receive full credits. For any problem \n",
    "that requires programming, your program should executer without error and give the correct \n",
    "result.\n",
    "4. Do not change any problem. \n",
    "5. Some parameters in the problem set may be a function of your student ID. You must make sure \n",
    "to substitute the right value for such parameters.\n",
    "6. In case you are totally hopeless with Python, the only other softwares that are allowed are MATLAB \n",
    "and Scilab. Students must provide complete MATLAB/Scilab scripts and also capture the \n",
    "output/graph images to the notebook by using the image tag with image files in a public URL.\n",
    "If some relevant information is missing, you may receive only partial credit. Since this is a \n",
    "time-consuming process and may be problematic, doing all your work with Python in Jupyter notebook\n",
    "is strongly recommended.\n",
    "7. The difficulty of each problem is indicated by level (1 = basic, 2 = intermediate, 3 = advanced). Normally, you\n",
    "should attempt to start with easy ones.\n",
    "8. <b>Important : </b>Students must submit your notebook promptly, in Google classroom only,\n",
    "when the 3-hour exam period expires. Resubmission is acceptable only within the exam period. \n",
    "<br><em>Anyone who submits/resubmits later than 10 minutes after the exam period, as indicated in the \n",
    "recorded history of Google classroom, may be considered cheating and may fail this exam.</em>\n",
    "\n"
   ]
  },
  {
   "cell_type": "markdown",
   "metadata": {},
   "source": [
    "***\n",
    "<div align=\"left\">\n",
    "<b>Assoc. Prof. Peerayuth Charnsethikul</b>  &emsp;      Head of Examination Committee\n",
    "<br><b>Asst. Prof. Nithiphat Teerakawanich</b>  &emsp;     Examination Committee\n",
    "<br><b>Dr. Varodom Toochinda</b>    &emsp;    Examination Committee\n",
    "</div>\n"
   ]
  },
  {
   "cell_type": "markdown",
   "metadata": {},
   "source": [
    "#### Further explantion about exam problem that may depend on the last 3 digits of your student ID\n",
    "\n",
    "-------xyz (other digits are disregarded)\n",
    "\n",
    "In case any digit in the last 3 are 0, it must be replaced by 5.\n",
    "\n",
    "#### Examples\n",
    "    \n",
    "Student A's ID - 6010555853 results in x = 8, y = 5, z = 3\n",
    "\n",
    "Student B 's ID - 6010546104 results in x = 1, y = 5, z = 4\n",
    "\n",
    "Student C 's ID - 6310055032 results in x = 5, y = 3, z = 2\n",
    "    \n",
    "These valuess are used for all the problems in the exam where x,y,and/or z appear. In this \n",
    "sense, the results from each student should be different even computed using the same methods.\n",
    "\n",
    "Operations that may be applied to the variables.\n",
    "\n",
    "$+$ addition\n",
    "\n",
    " $-$  subtraction\n",
    "\n",
    " $*$  multiplication \n",
    "\n",
    " $/$ division\n",
    "\n",
    "$**$ raise to the power (For example, x**z means $x^z$)\n",
    "\n",
    "including math opertions such as $\\exp(x)$, $\\sin(z*t)$\n",
    "\n",
    "If a variable is embedded in some digit of a value without any operation symbol, \n",
    "just replace that digit. \n",
    "<br>For example,  z=8 y = 3 $\\Rightarrow$ 12z7 = 1287, 4.3y5 = 4.335\n",
    "\n",
    "Conditional statement may be used, such as\n",
    "if x<5 do task A, otherwise do task B\n",
    "\n",
    "<em>Example: </em> Let $R1 = 1000*x \\,\\Omega, C1 = 10*y \\,\\mu F$\n",
    "\n",
    "<ul>\n",
    "<li />Student A (x=8, y=5) does this problem with R1 = 8000 $\\Omega$, C1 = 50 $\\mu$F\n",
    "<li />Student B (x=1, y=5) does this problem with R1 = 1000 $\\Omega$, C1 = 50 $\\mu$F\n",
    "<li />Student C (x=5, y=3) does this problem with R1 = 5000 $\\Omega$, C1 = 30 $\\mu$F\n",
    "</ul>\n",
    "\n",
    "If any exam problem is not clear enough, write in a cell how you interpret it. If several \n",
    "students get confused on that problem, the grader may decide to give full credit to all.\n",
    "\n"
   ]
  },
  {
   "cell_type": "code",
   "execution_count": null,
   "metadata": {},
   "outputs": [],
   "source": [
    "# You need to install these libraries in the Colab environment\n",
    "!pip install slycot\n",
    "!pip install control"
   ]
  },
  {
   "cell_type": "code",
   "execution_count": 1,
   "metadata": {},
   "outputs": [],
   "source": [
    "# import libraries you want to use\n",
    "import numpy as np\n",
    "import matplotlib.pyplot as plt\n",
    "import control as ctl"
   ]
  },
  {
   "cell_type": "markdown",
   "metadata": {},
   "source": [
    "***\n",
    "### List of exam problems (100 points)\n",
    "\n",
    "* [P1. (30 points)](#p1)\n",
    "* [P2. (40 points)](#p2)\n",
    "* [P3. (30 points)](#p3)\n"
   ]
  },
  {
   "cell_type": "markdown",
   "metadata": {},
   "source": [
    "***\n",
    "<a id=\"p1\"></a>\n",
    "#### P1. (30 points)\n",
    "\n",
    "1a) Describe how to create an IoT device (ESP8266 or ESP32) using NETPIE2020 cloud platform. (5 points)"
   ]
  },
  {
   "cell_type": "code",
   "execution_count": null,
   "metadata": {},
   "outputs": [],
   "source": []
  },
  {
   "cell_type": "markdown",
   "metadata": {},
   "source": [
    "1b) What is the main purpose of AUTO UPDATED VALUE in a slider widget of NETPIE Freeboard? (5 points)"
   ]
  },
  {
   "cell_type": "code",
   "execution_count": null,
   "metadata": {},
   "outputs": [],
   "source": []
  },
  {
   "cell_type": "markdown",
   "metadata": {},
   "source": [
    "1c) Is it possible to use the same client ID, username, password information in NETPIE 2020 with ESP32 and node-red? \n",
    "If not, suggest a solution. (5 points)"
   ]
  },
  {
   "cell_type": "code",
   "execution_count": null,
   "metadata": {},
   "outputs": [],
   "source": []
  },
  {
   "cell_type": "markdown",
   "metadata": {},
   "source": [
    "1d) Name the software you need to install before using node-red. (4 points)"
   ]
  },
  {
   "cell_type": "code",
   "execution_count": null,
   "metadata": {},
   "outputs": [],
   "source": []
  },
  {
   "cell_type": "markdown",
   "metadata": {},
   "source": [
    "1e) Start from a command prompt in terminal/command window, list the steps you need to implement a successful \n",
    "node-red flow (5 points)"
   ]
  },
  {
   "cell_type": "code",
   "execution_count": null,
   "metadata": {},
   "outputs": [],
   "source": []
  },
  {
   "cell_type": "markdown",
   "metadata": {},
   "source": [
    "1f) Describe the funcitons of the following nodes. (2 points each, total of 6 points)\n",
    "<ul>\n",
    "<li />debug\n",
    "<li />mqtt in\n",
    "<li />dropdown (in node-red-dashboard)\n"
   ]
  },
  {
   "cell_type": "code",
   "execution_count": null,
   "metadata": {},
   "outputs": [],
   "source": []
  },
  {
   "cell_type": "markdown",
   "metadata": {},
   "source": [
    "1g) Write a set of Arduino functions to generate a PWM signal out of pin GPIO2 with 10% duty cycle, 10-bit resolution\n",
    " and 2 KHz PWM frequency. (5 points)"
   ]
  },
  {
   "cell_type": "code",
   "execution_count": null,
   "metadata": {},
   "outputs": [],
   "source": []
  },
  {
   "cell_type": "markdown",
   "metadata": {},
   "source": [
    "<a id=\"p2\"></a>\n",
    "#### P2. (40 points)\n",
    "2a) Explain why the experimental plant output in Figure 2 is worse than the simulated plant output. (5 points)\n",
    "<p align=\"center\">\n",
    "<img src=\"https://drive.google.com/uc?id=1THP4eHQ6_eHai4agAKrv648CHLl14uSa\" width=550 alt=\"Figure 2a\"/>\n",
    "</p>\n",
    "<div align=\"center\"><b>Figure 2a Step response comparison between simulated and experimental closed-loop systems</b></div>"
   ]
  },
  {
   "cell_type": "code",
   "execution_count": null,
   "metadata": {},
   "outputs": [],
   "source": []
  },
  {
   "cell_type": "code",
   "execution_count": null,
   "metadata": {},
   "outputs": [],
   "source": []
  },
  {
   "cell_type": "markdown",
   "metadata": {},
   "source": [
    "2b) In Figure 2b, suppose we want the output level to drop to 0.z of the original value when the switch is pressed, \n",
    "choose the value of the resistors in the voltage divider. Verify your answer (10 points)\n",
    "\n",
    "<p align=\"center\">\n",
    "<img src=\"https://drive.google.com/uc?id=15r1Lii5l7qqMbg5dQqjURLkweXVAe22-\" width=650 alt=\"Figure 2b\"/>\n",
    "</p>\n",
    "<div align=\"center\"><b>Figure 2b) Use a voltage-divider circuit for step output disturbance  </b></div>"
   ]
  },
  {
   "cell_type": "code",
   "execution_count": null,
   "metadata": {},
   "outputs": [],
   "source": []
  },
  {
   "cell_type": "code",
   "execution_count": null,
   "metadata": {},
   "outputs": [],
   "source": []
  },
  {
   "cell_type": "markdown",
   "metadata": {},
   "source": [
    "2c) Using the FreeRTOS structure shown in Figure 2c consisting of 4 tasks, you want to implement a preventive maintenance \n",
    "IoT device. This device is attached to a motor on some machine. It has sensors to measure vibration in time-domain and convert \n",
    "to frequency domain using FFT algorithm, and also has temperature sensor. \n",
    "Consider the following 4 tasks that must be accomplished by the device.\n",
    "<ul>\n",
    "<li />A. Measure machine temperature every 10 seconds. If the temperature is above 50 degrees, alert the operator.\n",
    "<li />B. Every 5 seconds, send data to an IoT cloud platform for monitoring\n",
    "<li />C. Sample the time-domain signal to be used for FFT computation.\n",
    "<li />D. Compute FFT algorithm when sampled data is ready.\n",
    "</ul>\n",
    "Pair the A - D tasks to Task1 - Task4 in Figure 2c. Explain your selection for each task. (10 points)\n",
    "\n",
    "<p align=\"center\">\n",
    "<img src=\"https://drive.google.com/uc?id=1gPar6BHtSE7lYVk6y9HoHIxMqupX3U7K\" width=550 alt=\"Figure 2c\"/>\n",
    "</p>\n",
    "<div align=\"center\"><b>Figure 2c) FreeRTOS structure example for 4 tasks </b></div>\n"
   ]
  },
  {
   "cell_type": "code",
   "execution_count": null,
   "metadata": {},
   "outputs": [],
   "source": []
  },
  {
   "cell_type": "code",
   "execution_count": null,
   "metadata": {},
   "outputs": [],
   "source": []
  },
  {
   "cell_type": "markdown",
   "metadata": {},
   "source": [
    "2d) Here is an example string that is sent from NETPIE2020 shadow \n",
    "\n",
    "<code>\n",
    "\"{\"deviceid\":\"7a2e9e2-26c9-46d2-8d8f-9d42a0b4bc\",\n",
    "\"data\":{\"humidity\":46,\"temperature\":33.7,\"light\":224,\"place\":\"Farm 1\"},\"rev\":37714,\"modified\":1585814814409}\"\n",
    "</code>\n",
    "\n",
    "Use the flow in Figure 2d) and put this string in the inject node on the left. What characters/substrings would you use \n",
    "in Split1, Split2, and Split3 nodes to get the output shown in the debug window on the right? Explain. (10 points)\n",
    "\n",
    "<p align=\"center\">\n",
    "<img src=\"https://drive.google.com/uc?id=1HX0nJJwGgzYuAqzzj0y6uMFOfV9AxHVP\" width=800 alt=\"Figure 2d\"/>\n",
    "</p>\n",
    "<div align=\"center\"><b>Figure 2d) A flow to extract deviceid data</b></div>"
   ]
  },
  {
   "cell_type": "code",
   "execution_count": null,
   "metadata": {},
   "outputs": [],
   "source": []
  },
  {
   "cell_type": "markdown",
   "metadata": {},
   "source": [
    "2e) From the same example string in problem 2d), suppose I want to get the modified data \"modified\":1585814814409 at the \n",
    "end of string, I could split the string with substring \"rev\":37714,\" and get to the end of substring immediately. The only job \n",
    "left is to trim the }\" at the end and I'm all set. Explain why this does not work in a real application. (5 points)"
   ]
  },
  {
   "cell_type": "code",
   "execution_count": null,
   "metadata": {},
   "outputs": [],
   "source": []
  },
  {
   "cell_type": "code",
   "execution_count": null,
   "metadata": {},
   "outputs": [],
   "source": []
  },
  {
   "cell_type": "markdown",
   "metadata": {},
   "source": [
    "<a id=\"p3\"></a>\n",
    "#### P3. (30 points)\n",
    "\n",
    "3a) (10 points)From video \"An example on how to convert a PI controller to code,\" we study the discretization steps \n",
    "of the PI controller\n",
    "$$\n",
    "C(s) = k_p + \\frac{k_i}{s}\n",
    "$$\n",
    "\n",
    "In the cell below, partial Python code is given to you. Complete the code to perform \n",
    "discrete simulation of this controller with the plant as in Figure 3a)\n",
    "$$\n",
    "P(s) = \\frac{1}{(s+z)^3}\n",
    "$$\n",
    "\n",
    "<p align=\"center\">\n",
    "<img src=\"https://drive.google.com/uc?id=13vpNO1nXd_NJsa2KDa9Lgmlci75KNWVb\" width=500 alt=\"Figure 3a\"/>\n",
    "</p>\n",
    "<div align=\"center\"><b>Figure 3a) PI feedback control </b></div>\n",
    "\n",
    "You should get a stable step response with zero steady-state error like shown in Figure 3a.1) below.\n",
    "Adjust kp, ki, to achieve good tracking and tvec to show rise-time and overshoot clearly.\n",
    "<p align=\"center\">\n",
    "<img src=\"https://drive.google.com/uc?id=1VTM-7BBy4EjxIFGeceA1lf_TmoqdEsz_\" width=400 alt=\"Figure 3a1\"/>\n",
    "</p>\n",
    "<div align=\"center\"><b>Figure 3a.1) Expected step response result </b></div>"
   ]
  },
  {
   "cell_type": "code",
   "execution_count": null,
   "metadata": {},
   "outputs": [],
   "source": [
    "pnum = 1\n",
    "lag1 = [1,?]   # (s+z)\n",
    "pden = np.convolve(lag1, lag1)  # (s+z)^2\n",
    "pden = np.convolve(pden, lag1)  # (S+z)^3\n",
    "P = ctl.tf(pnum,pden)\n",
    "\n",
    "Ts = 0.01  # sampling period\n",
    "\n",
    "Pd = ctl.sample_system(P, Ts, method='tustin') # convert to discrete-time\n",
    "print(\"Discrete-time plant\")\n",
    "print(Pd)\n",
    "Pdnum, Pdden = ctl.tfdata(Pd)  # extract numerator and denominator of Pd\n",
    "#print(Pdnum)\n",
    "#print(Pdden)\n",
    "\n",
    "# --- code for discrete-time simulation of the plant ---\n",
    "pdnum = np.squeeze(np.array(Pdnum))\n",
    "pdden = np.squeeze(np.array(Pdden))\n",
    "\n",
    "tvec = np.arange(0,30,Ts)  # change time scale to suit\n",
    "yvec = np.zeros(tvec.shape)\n",
    "uvec = np.zeros(tvec.shape)\n",
    "rvec = np.ones(tvec.shape) # step command vector\n",
    "numorder = len(pdnum)  # 4 for this example\n",
    "denorder = len(pdden)  # 4\n",
    "y_prev = np.zeros((denorder,1)) \n",
    "u_prev = np.zeros((numorder,1))\n",
    "# -------------------------------------------------\n",
    "\n",
    "# ----define PI control variables -------\n",
    "\n",
    "e1 = 0   # past error input\n",
    "e0 = 0   # current error input\n",
    "ui1 = 0   # past integral-term output \n",
    "ui0 = 0   # current integral-term output\n",
    "up = 0    # proportional term output\n",
    "\n",
    "# you must adjust kp, ki to give stable step response with acceptable tracking performance\n",
    "kp = ?   # proportional gain. \n",
    "ki = ?   # integral gain\n",
    "\n",
    "# ------------------------\n",
    "\n",
    "i = 0\n",
    "# perform discrete-time simulation \n",
    "for i in range(len(tvec)):\n",
    "\n",
    "    for k in range(numorder-1):\n",
    "        u_prev[k] = u_prev[k+1]\n",
    "    for k in range(denorder-1):\n",
    "        y_prev[k] = y_prev[k+1]\n",
    "        \n",
    "\n",
    "#  ----- put your PI controller simulation here -----\n",
    "\n",
    "\n",
    "\n",
    "\n",
    "# -------------------------------------------------------    \n",
    "        \n",
    "    u_prev[numorder-1] = uvec[i]        \n",
    "    yvec[i] = pdnum[0]*uvec[i]\n",
    "    for k in range(denorder-1):\n",
    "        yvec[i] = yvec[i]+pdnum[k+1]*u_prev[numorder-2-k] - pdden[k+1]*y_prev[denorder-2-k]\n",
    "        #print(pdnum[k+1])\n",
    "        #print(pdden[k+1])\n",
    "        #print()\n",
    "    y_prev[denorder-1] = yvec[i]\n",
    "    \n",
    "# plot the result\n",
    "\n",
    "plt.figure()\n",
    "plt.plot(tvec, rvec,'m-',tvec, yvec,'b-')\n",
    "plt.grid('True')\n",
    "plt.xlabel('time (sec)')\n",
    "plt.ylabel('y(k)')\n",
    "plt.legend([\"Ref. cmd\",\"Plant output\"])\n",
    "\n",
    "plt.title(\"Step response\")\n",
    "\n",
    "plt.figure()\n",
    "plt.plot(tvec,uvec,'r-')\n",
    "plt.grid('True')\n",
    "plt.xlabel('time (sec)')\n",
    "plt.ylabel('u(k)')\n",
    "plt.title(\"controller output\")\n",
    "\n",
    "plt.show()"
   ]
  },
  {
   "cell_type": "code",
   "execution_count": null,
   "metadata": {},
   "outputs": [],
   "source": []
  },
  {
   "cell_type": "markdown",
   "metadata": {},
   "source": [
    "3b) (10 points) A simple way to reduce high-frequency random noise is to use \"moving-average\" method.\n",
    "We implement that function with adma command in workshop 2. When adma=on, the analog input from ADC pin\n",
    "is averaged with the previous 3 samples and the result is used as input to PID algorithm.\n",
    "\n",
    "This problem asks you to demonstrate that a moving average scheme can reduce random noise. \n",
    "Create a sin wave signal that is contaminated by high-frequency random noise and pass it to a \n",
    "(n)-point moving average function, where integer n is selected according to the following condition\n",
    "\n",
    "if $z \\le 5$ choose $n = z + 2$\n",
    "\n",
    "else choose n = z\n",
    "\n",
    "\n",
    "Compare the input and output. You should get the plot similar to Fig 3b) \n",
    "\n",
    "<b>Hint : </b> See P7. of midterm solution on how to create a sin wave contaminated by random noise.\n",
    "\n",
    "<p align=\"center\">\n",
    "<img src=\"https://drive.google.com/uc?id=1JZY8bRoLKb30qDJRdCGHqk2SaVK1UBZk\" width=550 \n",
    "alt=\"Figure 3b\"/>\n",
    "</p>\n",
    "<div align=\"center\"><b>Figure 3b) Expected plot for Problem 3b)</b></div>\n"
   ]
  },
  {
   "cell_type": "code",
   "execution_count": null,
   "metadata": {},
   "outputs": [],
   "source": []
  },
  {
   "cell_type": "code",
   "execution_count": null,
   "metadata": {},
   "outputs": [],
   "source": []
  },
  {
   "cell_type": "markdown",
   "metadata": {},
   "source": [
    "3c) (10 points) Explain the node-red flow for signal generator control and FFT display in Figure 3c). The rubric \n",
    "for grading that you must address clearly is\n",
    "<ul>\n",
    "<li />Which nodes receive input messages from NETPIE?\n",
    "<li />Which node send output message to NETPIE?\n",
    "<li />Explain the difference between message topics that start with @shadow/# and @msg/#. Where do \n",
    "they come from? Which one is easier to split the data string?\n",
    "<li />What is the purpose of using template nodes in the command flow?\n",
    "</ul>\n",
    "\n",
    "<p align=\"center\">\n",
    "<img src=\"https://drive.google.com/uc?id=1UPIMi_5IoWu4I6Ko-7t91sicQwUAg--P\" width=700 \n",
    "alt=\"Figure 3c\"/>\n",
    "</p>\n",
    "<div align=\"center\"><b>Figure 3c)complete node-red flow for signal generator + FFT</b></div>\n",
    "\n"
   ]
  },
  {
   "cell_type": "code",
   "execution_count": null,
   "metadata": {},
   "outputs": [],
   "source": []
  },
  {
   "cell_type": "code",
   "execution_count": null,
   "metadata": {},
   "outputs": [],
   "source": []
  },
  {
   "cell_type": "markdown",
   "metadata": {},
   "source": [
    "<div align=right>Revision A : May 2,2021</div>"
   ]
  }
 ],
 "metadata": {
  "kernelspec": {
   "display_name": "Python 3.8 (controlenv)",
   "language": "python",
   "name": "controlenv"
  },
  "language_info": {
   "codemirror_mode": {
    "name": "ipython",
    "version": 3
   },
   "file_extension": ".py",
   "mimetype": "text/x-python",
   "name": "python",
   "nbconvert_exporter": "python",
   "pygments_lexer": "ipython3",
   "version": "3.8.5"
  }
 },
 "nbformat": 4,
 "nbformat_minor": 4
}
